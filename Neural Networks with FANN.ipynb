{
 "metadata": {
  "name": "",
  "signature": "sha256:227735ed9e9a5bec54471c02bade45e19f35ac234f6738a0eea8e7b986abc1e2"
 },
 "nbformat": 3,
 "nbformat_minor": 0,
 "worksheets": [
  {
   "cells": [
    {
     "cell_type": "code",
     "collapsed": false,
     "input": [
      "import sys\n",
      "sys.path.append('/Users/jeremiah/python/lib')\n",
      "import module_x\n",
      "sys.path.append('/usr/local/python/lib')\n",
      "import foo"
     ],
     "language": "python",
     "metadata": {},
     "outputs": []
    },
    {
     "cell_type": "code",
     "collapsed": false,
     "input": [],
     "language": "python",
     "metadata": {},
     "outputs": [],
     "prompt_number": 1
    },
    {
     "cell_type": "code",
     "collapsed": false,
     "input": [
      "import os\n",
      "import sys\n",
      "from fann2 import libfann\n",
      "\n",
      "def print_callback(epochs, error):\n",
      "    print \"Epochs     %8d. Current MSE-Error: %.10f\\n\" % (epochs, error)\n",
      "    return 0\n",
      "\n",
      "# initialize network parameters\n",
      "connection_rate = 1\n",
      "learning_rate = 0.7\n",
      "num_neurons_hidden = 32\n",
      "desired_error = 0.000001\n",
      "max_iterations = 300\n",
      "iterations_between_reports = 1\n",
      "\n",
      "# create training data, and ann object\n",
      "print \"Creating network...\"\n",
      "train_data = libfann.training_data()\n",
      "train_data.read_train_from_file(\"../FANN-2.2.0-Source/datasets/parity13.train\")\n",
      "ann = libfann.neural_net()\n",
      "ann.create_sparse_array(connection_rate, (len(train_data.get_input()[0]), num_neurons_hidden, len(train_data.get_output()[0])))\n",
      "ann.set_learning_rate(learning_rate)\n",
      "\n",
      "\n",
      "# start training the network\n",
      "print \"Training network...\"\n",
      "ann.set_activation_function_hidden(libfann.SIGMOID_SYMMETRIC_STEPWISE)\n",
      "ann.set_activation_function_output(libfann.SIGMOID_STEPWISE)\n",
      "ann.set_training_algorithm(libfann.TRAIN_INCREMENTAL)\n",
      "\n",
      "ann.train_on_data(train_data, max_iterations, iterations_between_reports, desired_error)\n",
      "\n",
      "# test outcome\n",
      "print \"Testing network...\"\n",
      "test_data = libfann.training_data()\n",
      "test_data.read_train_from_file(\"../FANN-2.2.0-Source/datasets/parity13.test\")\n",
      "\n",
      "ann.reset_MSE()\n",
      "ann.test_data(test_data)\n",
      "print \"MSE error on test data: %f\" % ann.get_MSE()\n",
      "\n",
      "print \"Testing network again\"\n",
      "ann.reset_MSE()\n",
      "input=test_data.get_input()\n",
      "output=test_data.get_output()\n",
      "for i in range(len(input)):\n",
      "    ann.test(input[i], output[i])\n",
      "print \"MSE error on test data: %f\" % ann.get_MSE()"
     ],
     "language": "python",
     "metadata": {},
     "outputs": [
      {
       "output_type": "stream",
       "stream": "stdout",
       "text": [
        "Creating network...\n",
        "Training network..."
       ]
      },
      {
       "output_type": "stream",
       "stream": "stdout",
       "text": [
        "\n",
        "Testing network..."
       ]
      },
      {
       "output_type": "stream",
       "stream": "stdout",
       "text": [
        "\n",
        "MSE error on test data: 0.264668\n",
        "Testing network again\n",
        "MSE error on test data: 0.264668"
       ]
      },
      {
       "output_type": "stream",
       "stream": "stdout",
       "text": [
        "\n"
       ]
      }
     ],
     "prompt_number": 18
    },
    {
     "cell_type": "code",
     "collapsed": false,
     "input": [
      "num_neurons_hidden = 4\n",
      "num_output = 1\n",
      "\n",
      "desired_error = 0.0001\n",
      "max_neurons = 40\n",
      "neurons_between_reports = 1\n",
      "steepnesses = [0.1,0.2,0.4,0.5,0.6,0.7,0.8,0.9,1.0,1.1]\n",
      "\n",
      "train_data = libfann.training_data()\n",
      "train_data.read_train_from_file(\"../FANN-2.2.0-Source/datasets/two-spiral.train\")\n",
      "test_data = libfann.training_data()\n",
      "test_data.read_train_from_file(\"../FANN-2.2.0-Source/datasets/two-spiral.test\")\n",
      "\n",
      "train_data.scale_train_data(0, 1)\n",
      "test_data.scale_train_data(0, 1)\n",
      "\n",
      "ann = libfann.neural_net()\n",
      "ann.create_shortcut_array([len(train_data.get_input()[0]), len(train_data.get_output()[0])])\n",
      "\n",
      "ann.set_training_algorithm(libfann.TRAIN_RPROP);\n",
      "\n",
      "\n",
      "\n",
      "ann.set_activation_function_hidden(libfann.SIGMOID_SYMMETRIC);\n",
      "ann.set_activation_function_output(libfann.LINEAR_PIECE);\n",
      "ann.set_activation_steepness_hidden(0.5);\n",
      "ann.set_activation_steepness_output(0.5);\n",
      "\n",
      "ann.set_train_error_function(libfann.ERRORFUNC_LINEAR);\n",
      "\n",
      "ann.set_rprop_increase_factor(1.2);\n",
      "ann.set_rprop_decrease_factor(0.5);\n",
      "ann.set_rprop_delta_min(0.0);\n",
      "ann.set_rprop_delta_max(50.0);\n",
      "\n",
      "ann.set_cascade_output_change_fraction(0.01);\n",
      "ann.set_cascade_output_stagnation_epochs(12);\n",
      "ann.set_cascade_candidate_change_fraction(0.01);\n",
      "ann.set_cascade_candidate_stagnation_epochs(12);\n",
      "ann.set_cascade_weight_multiplier(0.4);\n",
      "ann.set_cascade_candidate_limit(1000.0);\n",
      "ann.set_cascade_max_out_epochs(150);\n",
      "ann.set_cascade_max_cand_epochs(150);\n",
      "ann.set_cascade_activation_steepnesses(steepnesses);\n",
      "ann.set_cascade_num_candidate_groups(1);\n",
      "\n",
      "\n",
      "ann.print_parameters();\n",
      "\n",
      "\n",
      "ann.cascadetrain_on_data(train_data, max_neurons, neurons_between_reports, desired_error);\n",
      "\n",
      "ann.print_connections();\n",
      "\n",
      "print \"\\nTrain error: %f, Test error: %f\\n\\n\" %( ann.test_data(train_data),ann.test_data(test_data))"
     ],
     "language": "python",
     "metadata": {},
     "outputs": [
      {
       "output_type": "stream",
       "stream": "stdout",
       "text": [
        "\n",
        "Train error: 0.000000, Test error: 0.396359\n",
        "\n",
        "\n"
       ]
      }
     ],
     "prompt_number": 11
    },
    {
     "cell_type": "code",
     "collapsed": false,
     "input": [
      "train_data"
     ],
     "language": "python",
     "metadata": {},
     "outputs": [
      {
       "metadata": {},
       "output_type": "pyout",
       "prompt_number": 19,
       "text": [
        "<fann2.libfann.training_data; proxy of <Swig Object of type 'FANN::Training_data *' at 0x105c54ba0> >"
       ]
      }
     ],
     "prompt_number": 19
    },
    {
     "cell_type": "code",
     "collapsed": false,
     "input": [
      "connection_rate = 1\n",
      "learning_rate = 0.7\n",
      "num_input = 2\n",
      "num_neurons_hidden = 4\n",
      "num_output = 1\n",
      "\n",
      "desired_error = 0.0001\n",
      "max_iterations = 100000\n",
      "iterations_between_reports = 1000\n",
      "\n",
      "ann = libfann.neural_net()\n",
      "ann.create_sparse_array(connection_rate, (num_input, num_neurons_hidden, num_output))\n",
      "ann.set_learning_rate(learning_rate)\n",
      "ann.set_activation_function_output(libfann.SIGMOID_SYMMETRIC_STEPWISE)\n",
      "\n",
      "ann.train_on_file(\"../FANN-2.2.0-Source/datasets/xor.data\", max_iterations, iterations_between_reports, desired_error)"
     ],
     "language": "python",
     "metadata": {},
     "outputs": [],
     "prompt_number": 13
    },
    {
     "cell_type": "code",
     "collapsed": false,
     "input": [
      "import neurolab as nl\n",
      "import numpy as np\n",
      "\n",
      "# Create train samples\n",
      "x = np.linspace(-7, 7, 20)\n",
      "y = np.sin(x) * 0.5\n",
      "\n",
      "size = len(x)\n",
      "\n",
      "inp = x.reshape(size,1)\n",
      "tar = y.reshape(size,1)\n",
      "\n",
      "# Create network with 2 layers and random initialized\n",
      "net = nl.net.newff([[-7, 7]],[5, 1])\n",
      "\n",
      "# Train network\n",
      "error = net.train(inp, tar, epochs=500, show=100, goal=0.02)\n",
      "\n",
      "# Simulate network\n",
      "out = net.sim(inp)\n",
      "\n",
      "# Plot result\n",
      "import pylab as pl\n",
      "pl.subplot(211)\n",
      "pl.plot(error)\n",
      "pl.xlabel('Epoch number')\n",
      "pl.ylabel('error (default SSE)')\n",
      "\n",
      "x2 = np.linspace(-6.0,6.0,150)\n",
      "y2 = net.sim(x2.reshape(x2.size,1)).reshape(x2.size)\n",
      "\n",
      "y3 = out.reshape(size)\n",
      "\n",
      "pl.subplot(212)\n",
      "pl.plot(x2, y2, '-',x , y, '.', x, y3, 'p')\n",
      "pl.legend(['train target', 'net output'])\n",
      "pl.show()"
     ],
     "language": "python",
     "metadata": {},
     "outputs": []
    },
    {
     "cell_type": "code",
     "collapsed": false,
     "input": [
      "np.linspace(-7, 7, 20)"
     ],
     "language": "python",
     "metadata": {},
     "outputs": []
    },
    {
     "cell_type": "code",
     "collapsed": false,
     "input": [],
     "language": "python",
     "metadata": {},
     "outputs": []
    }
   ],
   "metadata": {}
  }
 ]
}