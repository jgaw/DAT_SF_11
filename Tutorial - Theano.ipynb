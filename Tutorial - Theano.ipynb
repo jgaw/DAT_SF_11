{
 "metadata": {
  "name": "",
  "signature": "sha256:61867d2f1052c3acd9f6c0d6260496173952f2417ca0cb6f5526cebd06c8f848"
 },
 "nbformat": 3,
 "nbformat_minor": 0,
 "worksheets": [
  {
   "cells": [
    {
     "cell_type": "code",
     "collapsed": false,
     "input": [
      "%matplotlib inline\n",
      "import matplotlib.pyplot as plt\n",
      "import numpy as np\n",
      "import theano\n",
      "import theano.tensor as T\n"
     ],
     "language": "python",
     "metadata": {},
     "outputs": [],
     "prompt_number": 3
    },
    {
     "cell_type": "code",
     "collapsed": false,
     "input": [
      "foo = T.scalar('foo')\n",
      "bar = foo**2\n",
      "print type(bar)\n",
      "print bar.type\n",
      "print theano.pp(bar)"
     ],
     "language": "python",
     "metadata": {},
     "outputs": [
      {
       "output_type": "stream",
       "stream": "stdout",
       "text": [
        "<class 'theano.tensor.var.TensorVariable'>\n",
        "TensorType(float64, scalar)\n",
        "(foo ** TensorConstant{2})\n"
       ]
      }
     ],
     "prompt_number": 6
    },
    {
     "cell_type": "code",
     "collapsed": false,
     "input": [
      "f = theano.function([foo],bar)\n",
      "print f(3)\n",
      "print bar.eval({foo: 3})"
     ],
     "language": "python",
     "metadata": {},
     "outputs": [
      {
       "output_type": "stream",
       "stream": "stdout",
       "text": [
        "9.0\n",
        "9.0\n"
       ]
      }
     ],
     "prompt_number": 10
    },
    {
     "cell_type": "code",
     "collapsed": false,
     "input": [
      "def square(x):\n",
      "    return x**2\n",
      "bar = square(foo)\n",
      "print bar.eval({foo: 3})"
     ],
     "language": "python",
     "metadata": {},
     "outputs": [
      {
       "output_type": "stream",
       "stream": "stdout",
       "text": [
        "9.0\n"
       ]
      }
     ],
     "prompt_number": 11
    },
    {
     "cell_type": "code",
     "collapsed": false,
     "input": [
      "A = T.matrix('A')\n",
      "x = T.vector('x')\n",
      "b = T.vector('b')\n",
      "y = T.dot(A, x) + b\n",
      "z = T.sum(A**2)\n",
      "\n",
      "linear_mix = theano.function([A, x, theano.Param(b, default = np.array([0,0]))], \n",
      "                             [y,z])\n",
      "\n",
      "#input values for A, x, b\n",
      "print linear_mix(np.array([[1,2,3],\n",
      "                    [4,5,6]], dtype=theano.config.floatX),#A\n",
      "          np.array([1,2,3], dtype=theano.config.floatX), #x\n",
      "          np.array([4,5], dtype=theano.config.floatX)) #b\n",
      "\n",
      "#input values for A,x; use default value for b\n",
      "print linear_mix(np.array([[1,2,3],#A\n",
      "                           [4,5,6]]),\n",
      "                 np.array([1,2,3])) #x"
     ],
     "language": "python",
     "metadata": {},
     "outputs": [
      {
       "output_type": "stream",
       "stream": "stdout",
       "text": [
        "[array([ 18.,  37.]), array(91.0)]\n",
        "[array([ 14.,  32.]), array(91.0)]\n"
       ]
      }
     ],
     "prompt_number": 24
    },
    {
     "cell_type": "code",
     "collapsed": false,
     "input": [],
     "language": "python",
     "metadata": {},
     "outputs": []
    }
   ],
   "metadata": {}
  }
 ]
}