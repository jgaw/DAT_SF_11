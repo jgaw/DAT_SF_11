{
 "metadata": {
  "name": "",
  "signature": "sha256:64c7fabfca4378727f1709f741769ec71b47da4316846c6e92b987d6f0a736e1"
 },
 "nbformat": 3,
 "nbformat_minor": 0,
 "worksheets": [
  {
   "cells": [
    {
     "cell_type": "code",
     "collapsed": false,
     "input": [
      "import numpy as np\n",
      "import matplotlib.pyplot as plt\n",
      "import pandas as pd\n",
      "\n",
      "%matplotlib inline"
     ],
     "language": "python",
     "metadata": {},
     "outputs": [],
     "prompt_number": 1
    },
    {
     "cell_type": "code",
     "collapsed": false,
     "input": [
      "# If this gives error, go to command line and run \"conda install nltk\"\n",
      "import nltk"
     ],
     "language": "python",
     "metadata": {},
     "outputs": [],
     "prompt_number": 2
    },
    {
     "cell_type": "code",
     "collapsed": false,
     "input": [
      "# NLTK comes with its own set of corpus data that we can use to learn about NLTK\n",
      "nltk.download()"
     ],
     "language": "python",
     "metadata": {},
     "outputs": [
      {
       "output_type": "stream",
       "stream": "stdout",
       "text": [
        "showing info http://nltk.github.com/nltk_data/\n"
       ]
      },
      {
       "metadata": {},
       "output_type": "pyout",
       "prompt_number": 14,
       "text": [
        "True"
       ]
      }
     ],
     "prompt_number": 14
    },
    {
     "cell_type": "markdown",
     "metadata": {},
     "source": [
      "### Corpus\n",
      "\n",
      "* \"corpus\" = collection of documents\n",
      "* \"corpora\" = plural form of corpus"
     ]
    },
    {
     "cell_type": "code",
     "collapsed": false,
     "input": [
      "from nltk.corpus import inaugural"
     ],
     "language": "python",
     "metadata": {},
     "outputs": [],
     "prompt_number": 3
    },
    {
     "cell_type": "code",
     "collapsed": false,
     "input": [
      "inaugural.fileids()"
     ],
     "language": "python",
     "metadata": {},
     "outputs": [
      {
       "metadata": {},
       "output_type": "pyout",
       "prompt_number": 4,
       "text": [
        "[u'1789-Washington.txt',\n",
        " u'1793-Washington.txt',\n",
        " u'1797-Adams.txt',\n",
        " u'1801-Jefferson.txt',\n",
        " u'1805-Jefferson.txt',\n",
        " u'1809-Madison.txt',\n",
        " u'1813-Madison.txt',\n",
        " u'1817-Monroe.txt',\n",
        " u'1821-Monroe.txt',\n",
        " u'1825-Adams.txt',\n",
        " u'1829-Jackson.txt',\n",
        " u'1833-Jackson.txt',\n",
        " u'1837-VanBuren.txt',\n",
        " u'1841-Harrison.txt',\n",
        " u'1845-Polk.txt',\n",
        " u'1849-Taylor.txt',\n",
        " u'1853-Pierce.txt',\n",
        " u'1857-Buchanan.txt',\n",
        " u'1861-Lincoln.txt',\n",
        " u'1865-Lincoln.txt',\n",
        " u'1869-Grant.txt',\n",
        " u'1873-Grant.txt',\n",
        " u'1877-Hayes.txt',\n",
        " u'1881-Garfield.txt',\n",
        " u'1885-Cleveland.txt',\n",
        " u'1889-Harrison.txt',\n",
        " u'1893-Cleveland.txt',\n",
        " u'1897-McKinley.txt',\n",
        " u'1901-McKinley.txt',\n",
        " u'1905-Roosevelt.txt',\n",
        " u'1909-Taft.txt',\n",
        " u'1913-Wilson.txt',\n",
        " u'1917-Wilson.txt',\n",
        " u'1921-Harding.txt',\n",
        " u'1925-Coolidge.txt',\n",
        " u'1929-Hoover.txt',\n",
        " u'1933-Roosevelt.txt',\n",
        " u'1937-Roosevelt.txt',\n",
        " u'1941-Roosevelt.txt',\n",
        " u'1945-Roosevelt.txt',\n",
        " u'1949-Truman.txt',\n",
        " u'1953-Eisenhower.txt',\n",
        " u'1957-Eisenhower.txt',\n",
        " u'1961-Kennedy.txt',\n",
        " u'1965-Johnson.txt',\n",
        " u'1969-Nixon.txt',\n",
        " u'1973-Nixon.txt',\n",
        " u'1977-Carter.txt',\n",
        " u'1981-Reagan.txt',\n",
        " u'1985-Reagan.txt',\n",
        " u'1989-Bush.txt',\n",
        " u'1993-Clinton.txt',\n",
        " u'1997-Clinton.txt',\n",
        " u'2001-Bush.txt',\n",
        " u'2005-Bush.txt',\n",
        " u'2009-Obama.txt']"
       ]
      }
     ],
     "prompt_number": 4
    },
    {
     "cell_type": "markdown",
     "metadata": {},
     "source": [
      "### Reading Wine Reviews"
     ]
    },
    {
     "cell_type": "code",
     "collapsed": false,
     "input": [
      "from nltk.corpus import webtext\n",
      "webtext.fileids()"
     ],
     "language": "python",
     "metadata": {},
     "outputs": [
      {
       "metadata": {},
       "output_type": "pyout",
       "prompt_number": 5,
       "text": [
        "[u'firefox.txt',\n",
        " u'grail.txt',\n",
        " u'overheard.txt',\n",
        " u'pirates.txt',\n",
        " u'singles.txt',\n",
        " u'wine.txt']"
       ]
      }
     ],
     "prompt_number": 5
    },
    {
     "cell_type": "code",
     "collapsed": false,
     "input": [
      "# wine reviews corpus\n",
      "text = webtext.raw('wine.txt')\n",
      "print text[:500]"
     ],
     "language": "python",
     "metadata": {},
     "outputs": [
      {
       "output_type": "stream",
       "stream": "stdout",
       "text": [
        "Lovely delicate, fragrant Rhone wine. Polished leather and strawberries. Perhaps a bit dilute, but good for drinking now. ***\n",
        "Liquorice, cherry fruit. Simple and coarse at the finish. **\n",
        "Thin and completely uninspiring. *\n",
        "Rough. No Stars\n",
        "Big, fat, textured Chardonnay - nuts and butterscotch. A slightly odd metallic/cardboard finish, but probably ***\n",
        "A blind tasting, other than the fizz, which included five vintages of Cote Rotie Brune et Blonde from Guigal.\n",
        "Surprisingly young feeling and drinkin\n"
       ]
      }
     ],
     "prompt_number": 6
    },
    {
     "cell_type": "markdown",
     "metadata": {},
     "source": [
      "### Tokenization\n",
      "\n",
      "What:  Separate text into units such as sentences or words\n",
      "\n",
      "Why:   Gives structure to previously unstructured text\n",
      "\n",
      "Notes: \n",
      "* Relatively easy with English language text, not easy with some languages"
     ]
    },
    {
     "cell_type": "code",
     "collapsed": false,
     "input": [
      "from nltk import tokenize"
     ],
     "language": "python",
     "metadata": {},
     "outputs": [],
     "prompt_number": 7
    },
    {
     "cell_type": "code",
     "collapsed": false,
     "input": [
      "# Explore the different tokenizers\n",
      "\n",
      "tokenize.sent_tokenize"
     ],
     "language": "python",
     "metadata": {},
     "outputs": [
      {
       "metadata": {},
       "output_type": "pyout",
       "prompt_number": 12,
       "text": [
        "<function nltk.tokenize.sent_tokenize>"
       ]
      }
     ],
     "prompt_number": 12
    },
    {
     "cell_type": "code",
     "collapsed": false,
     "input": [
      "# tokenize into sentences\n",
      "sentences = [sent for sent in tokenize.sent_tokenize(text)]\n",
      "sentences[:10]"
     ],
     "language": "python",
     "metadata": {},
     "outputs": [
      {
       "metadata": {},
       "output_type": "pyout",
       "prompt_number": 15,
       "text": [
        "[u'Lovely delicate, fragrant Rhone wine.',\n",
        " u'Polished leather and strawberries.',\n",
        " u'Perhaps a bit dilute, but good for drinking now.',\n",
        " u'***\\nLiquorice, cherry fruit.',\n",
        " u'Simple and coarse at the finish.',\n",
        " u'**\\nThin and completely uninspiring.',\n",
        " u'*\\nRough.',\n",
        " u'No Stars\\nBig, fat, textured Chardonnay - nuts and butterscotch.',\n",
        " u'A slightly odd metallic/cardboard finish, but probably ***\\nA blind tasting, other than the fizz, which included five vintages of Cote Rotie Brune et Blonde from Guigal.',\n",
        " u'Surprisingly young feeling and drinking well, but without any great complexity.']"
       ]
      }
     ],
     "prompt_number": 15
    },
    {
     "cell_type": "code",
     "collapsed": false,
     "input": [
      "# tokenize into words\n",
      "tokens = [word for word in tokenize.word_tokenize(text)]\n",
      "tokens[:10]"
     ],
     "language": "python",
     "metadata": {},
     "outputs": [
      {
       "metadata": {},
       "output_type": "pyout",
       "prompt_number": 16,
       "text": [
        "[u'Lovely',\n",
        " u'delicate',\n",
        " u',',\n",
        " u'fragrant',\n",
        " u'Rhone',\n",
        " u'wine',\n",
        " u'.',\n",
        " u'Polished',\n",
        " u'leather',\n",
        " u'and']"
       ]
      }
     ],
     "prompt_number": 16
    },
    {
     "cell_type": "code",
     "collapsed": false,
     "input": [
      "# only keep tokens that start with a letter (using regular expressions)\n",
      "import re\n",
      "clean_tokens = [token for token in tokens if re.search(r'^[a-zA-Z]+', token)]\n",
      "clean_tokens[:10]"
     ],
     "language": "python",
     "metadata": {},
     "outputs": [
      {
       "metadata": {},
       "output_type": "pyout",
       "prompt_number": 17,
       "text": [
        "[u'Lovely',\n",
        " u'delicate',\n",
        " u'fragrant',\n",
        " u'Rhone',\n",
        " u'wine',\n",
        " u'Polished',\n",
        " u'leather',\n",
        " u'and',\n",
        " u'strawberries',\n",
        " u'Perhaps']"
       ]
      }
     ],
     "prompt_number": 17
    },
    {
     "cell_type": "code",
     "collapsed": false,
     "input": [
      "# Let's look at word frequency\n",
      "from collections import Counter\n",
      "\n",
      "c = Counter(clean_tokens)\n",
      "c.most_common(25)       \n",
      "\n",
      "# You will see a mixed case words, stop words?, singular, plurals?"
     ],
     "language": "python",
     "metadata": {},
     "outputs": [
      {
       "metadata": {},
       "output_type": "pyout",
       "prompt_number": 18,
       "text": [
        "[(u'a', 821),\n",
        " (u'and', 786),\n",
        " (u'the', 706),\n",
        " (u'of', 482),\n",
        " (u'but', 474),\n",
        " (u'I', 390),\n",
        " (u'it', 318),\n",
        " (u'to', 306),\n",
        " (u'fruit', 291),\n",
        " (u'with', 259),\n",
        " (u'good', 250),\n",
        " (u'A', 230),\n",
        " (u'this', 227),\n",
        " (u'wine', 226),\n",
        " (u'bit', 217),\n",
        " (u'in', 212),\n",
        " (u'Very', 211),\n",
        " (u'quite', 204),\n",
        " (u'is', 189),\n",
        " (u'Top', 182),\n",
        " (u'very', 169),\n",
        " (u'that', 152),\n",
        " (u'nose', 150),\n",
        " (u'touch', 146),\n",
        " (u'for', 145)]"
       ]
      }
     ],
     "prompt_number": 18
    },
    {
     "cell_type": "markdown",
     "metadata": {},
     "source": [
      "### Stemming\n",
      "\n",
      "What:  Reduce a word to its base/stem/root form\n",
      "\n",
      "Why:   Often makes sense to treat multiple word forms the same way\n",
      "\n",
      "Notes: \n",
      "* Uses a \"simple\" and fast rule-based approach\n",
      "* Output can be undesirable for irregular words\n",
      "* Stemmed words are usually not shown to users (used for analysis/indexing)\n",
      "* Some search engines treat words with the same stem as synonyms"
     ]
    },
    {
     "cell_type": "code",
     "collapsed": false,
     "input": [
      "from nltk import stem"
     ],
     "language": "python",
     "metadata": {},
     "outputs": [],
     "prompt_number": 19
    },
    {
     "cell_type": "code",
     "collapsed": false,
     "input": [
      "stemmer = stem.SnowballStemmer('english')\n",
      "\n",
      "# example stemming\n",
      "print stemmer.stem('charge')\n",
      "print stemmer.stem('charging')\n",
      "print stemmer.stem('charged')"
     ],
     "language": "python",
     "metadata": {},
     "outputs": [
      {
       "output_type": "stream",
       "stream": "stdout",
       "text": [
        "charg\n",
        "charg\n",
        "charg\n"
       ]
      }
     ],
     "prompt_number": 20
    },
    {
     "cell_type": "code",
     "collapsed": false,
     "input": [
      "# stem the tokens\n",
      "stemmed_tokens = [stemmer.stem(t) for t in clean_tokens]\n",
      "stemmed_tokens[:10]"
     ],
     "language": "python",
     "metadata": {},
     "outputs": [
      {
       "metadata": {},
       "output_type": "pyout",
       "prompt_number": 21,
       "text": [
        "[u'love',\n",
        " u'delic',\n",
        " u'fragrant',\n",
        " u'rhone',\n",
        " u'wine',\n",
        " u'polish',\n",
        " u'leather',\n",
        " u'and',\n",
        " u'strawberri',\n",
        " u'perhap']"
       ]
      }
     ],
     "prompt_number": 21
    },
    {
     "cell_type": "markdown",
     "metadata": {},
     "source": [
      "### Lemmatization\n",
      "\n",
      "What:  Derive the canonical form ('lemma') of a word\n",
      "\n",
      "Why:   Can be better than stemming\n",
      "\n",
      "Notes: Uses a dictionary-based approach (slower than stemming)\n"
     ]
    },
    {
     "cell_type": "code",
     "collapsed": false,
     "input": [
      "lemmatizer = stem.WordNetLemmatizer()\n",
      "\n",
      "# example stemming\n",
      "print lemmatizer.lemmatize('charges')\n",
      "print lemmatizer.lemmatize('charging')\n",
      "print lemmatizer.lemmatize('charged')"
     ],
     "language": "python",
     "metadata": {},
     "outputs": [
      {
       "output_type": "stream",
       "stream": "stdout",
       "text": [
        "charge\n",
        "charging\n",
        "charged\n"
       ]
      }
     ],
     "prompt_number": 29
    },
    {
     "cell_type": "code",
     "collapsed": false,
     "input": [
      "stem.WordNetLemmatizer?"
     ],
     "language": "python",
     "metadata": {},
     "outputs": [],
     "prompt_number": 32
    },
    {
     "cell_type": "code",
     "collapsed": false,
     "input": [
      "# stem the tokens\n",
      "stemmed_tokens = [lemmatizer.lemmatize(t) for t in clean_tokens]\n",
      "stemmed_tokens[:10]"
     ],
     "language": "python",
     "metadata": {},
     "outputs": [
      {
       "metadata": {},
       "output_type": "pyout",
       "prompt_number": 23,
       "text": [
        "[u'Lovely',\n",
        " u'delicate',\n",
        " u'fragrant',\n",
        " u'Rhone',\n",
        " u'wine',\n",
        " u'Polished',\n",
        " u'leather',\n",
        " u'and',\n",
        " u'strawberry',\n",
        " u'Perhaps']"
       ]
      }
     ],
     "prompt_number": 23
    },
    {
     "cell_type": "markdown",
     "metadata": {},
     "source": [
      "### Stopword Removal\n",
      "\n",
      "What:  Remove common words that will likely appear in any text\n",
      "\n",
      "Why:   They don't tell you much about your text"
     ]
    },
    {
     "cell_type": "code",
     "collapsed": false,
     "input": [
      "# view the list of stopwords\n",
      "stopwords = nltk.corpus.stopwords.words('english')\n",
      "sorted(stopwords)[:10]"
     ],
     "language": "python",
     "metadata": {},
     "outputs": [
      {
       "metadata": {},
       "output_type": "pyout",
       "prompt_number": 24,
       "text": [
        "[u'a',\n",
        " u'about',\n",
        " u'above',\n",
        " u'after',\n",
        " u'again',\n",
        " u'against',\n",
        " u'all',\n",
        " u'am',\n",
        " u'an',\n",
        " u'and']"
       ]
      }
     ],
     "prompt_number": 24
    },
    {
     "cell_type": "code",
     "collapsed": false,
     "input": [
      "# stem the stopwords\n",
      "stemmed_stops = [stemmer.stem(t) for t in stopwords]"
     ],
     "language": "python",
     "metadata": {},
     "outputs": [],
     "prompt_number": 30
    },
    {
     "cell_type": "code",
     "collapsed": false,
     "input": [
      "# remove stopwords from stemmed tokens\n",
      "stemmed_tokens_no_stop = [stemmer.stem(t) for t in stemmed_tokens if stemmer.stem(t) not in stopwords]"
     ],
     "language": "python",
     "metadata": {},
     "outputs": [],
     "prompt_number": 31
    },
    {
     "cell_type": "code",
     "collapsed": false,
     "input": [
      "# Let's look at word frequency\n",
      "from collections import Counter\n",
      "\n",
      "c = Counter(stemmed_tokens_no_stop)\n",
      "c.most_common(25) "
     ],
     "language": "python",
     "metadata": {},
     "outputs": [
      {
       "metadata": {},
       "output_type": "pyout",
       "prompt_number": 33,
       "text": [
        "[(u'veri', 380),\n",
        " (u'good', 363),\n",
        " (u'fruit', 306),\n",
        " (u'quit', 303),\n",
        " (u'wine', 286),\n",
        " (u'bit', 217),\n",
        " (u'top', 215),\n",
        " (u'nice', 211),\n",
        " (u'love', 168),\n",
        " (u'touch', 163),\n",
        " (u'nose', 151),\n",
        " (u'dri', 147),\n",
        " (u'drink', 144),\n",
        " (u'bare', 141),\n",
        " (u'rather', 133),\n",
        " (u'balanc', 120),\n",
        " (u'palat', 115),\n",
        " (u'rich', 114),\n",
        " (u'fine', 106),\n",
        " (u'seem', 100),\n",
        " (u'still', 92),\n",
        " (u'complex', 90),\n",
        " (u'perhap', 88),\n",
        " (u\"n't\", 87),\n",
        " (u'bottl', 87)]"
       ]
      }
     ],
     "prompt_number": 33
    },
    {
     "cell_type": "code",
     "collapsed": false,
     "input": [
      "def zipf_plot(text):\n",
      "    '''Creates a log-log plot of word frequency vs word rank.\n",
      "    \"a function to process a large text and plot word frequency against word rank using pylab.plot\"\n",
      "\n",
      "    Precondition: 'text' contains a list of words.\n",
      "    '''\n",
      "    fdist = nltk.FreqDist(text)\n",
      "    \n",
      "    # figured out pylab.plot syntax, sadly, from random googling\n",
      "    plt.plot(\n",
      "            range(1, fdist.B() + 1),      # x-axis: word rank\n",
      "            fdist.values()                # y-axis: word count\n",
      "            )   \n",
      "    plt.xscale('log')\n",
      "    plt.yscale('log')"
     ],
     "language": "python",
     "metadata": {},
     "outputs": [],
     "prompt_number": 34
    },
    {
     "cell_type": "code",
     "collapsed": false,
     "input": [
      "nltk.FreqDist(stemmed_tokens_no_stop)"
     ],
     "language": "python",
     "metadata": {},
     "outputs": [
      {
       "metadata": {},
       "output_type": "pyout",
       "prompt_number": 35,
       "text": [
        "FreqDist({u'veri': 380, u'good': 363, u'fruit': 306, u'quit': 303, u'wine': 286, u'bit': 217, u'top': 215, u'nice': 211, u'love': 168, u'touch': 163, ...})"
       ]
      }
     ],
     "prompt_number": 35
    },
    {
     "cell_type": "code",
     "collapsed": false,
     "input": [
      "zipf_plot(stemmed_tokens_no_stop)"
     ],
     "language": "python",
     "metadata": {},
     "outputs": [
      {
       "metadata": {},
       "output_type": "display_data",
       "png": "[encoded data removed]",
       "text": [
        "<matplotlib.figure.Figure at 0x109ff41d0>"
       ]
      }
     ],
     "prompt_number": 36
    },
    {
     "cell_type": "markdown",
     "metadata": {},
     "source": [
      "## Classify Names as Male or Female"
     ]
    },
    {
     "cell_type": "code",
     "collapsed": false,
     "input": [
      "from nltk.corpus import names\n",
      "import random"
     ],
     "language": "python",
     "metadata": {},
     "outputs": [],
     "prompt_number": 37
    },
    {
     "cell_type": "code",
     "collapsed": false,
     "input": [
      "names.fileids()"
     ],
     "language": "python",
     "metadata": {},
     "outputs": [
      {
       "metadata": {},
       "output_type": "pyout",
       "prompt_number": 38,
       "text": [
        "[u'female.txt', u'male.txt']"
       ]
      }
     ],
     "prompt_number": 38
    },
    {
     "cell_type": "code",
     "collapsed": false,
     "input": [
      "names.words('male.txt')[:10]"
     ],
     "language": "python",
     "metadata": {},
     "outputs": [
      {
       "metadata": {},
       "output_type": "pyout",
       "prompt_number": 39,
       "text": [
        "[u'Aamir',\n",
        " u'Aaron',\n",
        " u'Abbey',\n",
        " u'Abbie',\n",
        " u'Abbot',\n",
        " u'Abbott',\n",
        " u'Abby',\n",
        " u'Abdel',\n",
        " u'Abdul',\n",
        " u'Abdulkarim']"
       ]
      }
     ],
     "prompt_number": 39
    },
    {
     "cell_type": "code",
     "collapsed": false,
     "input": [
      "names.words('female.txt')[:10]"
     ],
     "language": "python",
     "metadata": {},
     "outputs": [
      {
       "metadata": {},
       "output_type": "pyout",
       "prompt_number": 40,
       "text": [
        "[u'Abagael',\n",
        " u'Abagail',\n",
        " u'Abbe',\n",
        " u'Abbey',\n",
        " u'Abbi',\n",
        " u'Abbie',\n",
        " u'Abby',\n",
        " u'Abigael',\n",
        " u'Abigail',\n",
        " u'Abigale']"
       ]
      }
     ],
     "prompt_number": 40
    },
    {
     "cell_type": "code",
     "collapsed": false,
     "input": [
      "names_data = [(name, 'male') for name in names.words('male.txt')] + [(name, 'female') for name in names.words('female.txt')] "
     ],
     "language": "python",
     "metadata": {},
     "outputs": [],
     "prompt_number": 41
    },
    {
     "cell_type": "code",
     "collapsed": false,
     "input": [
      "random.shuffle(names_data)"
     ],
     "language": "python",
     "metadata": {},
     "outputs": [],
     "prompt_number": 42
    },
    {
     "cell_type": "code",
     "collapsed": false,
     "input": [
      "names_data[:10]"
     ],
     "language": "python",
     "metadata": {},
     "outputs": [
      {
       "metadata": {},
       "output_type": "pyout",
       "prompt_number": 43,
       "text": [
        "[(u'Rakel', 'female'),\n",
        " (u'Frederica', 'female'),\n",
        " (u'Yetty', 'female'),\n",
        " (u'Aurelia', 'female'),\n",
        " (u'Dennis', 'male'),\n",
        " (u'Jae', 'male'),\n",
        " (u'Carly', 'female'),\n",
        " (u'Colleen', 'female'),\n",
        " (u'Benedikta', 'female'),\n",
        " (u'Gav', 'male')]"
       ]
      }
     ],
     "prompt_number": 43
    },
    {
     "cell_type": "code",
     "collapsed": false,
     "input": [
      "def gender_features(word):\n",
      "    features = {}\n",
      "    features['last_letter'] = word[-1]\n",
      "    features['first_letter'] = word[0]\n",
      "    features['length'] = len(word)\n",
      "    return features"
     ],
     "language": "python",
     "metadata": {},
     "outputs": [],
     "prompt_number": 72
    },
    {
     "cell_type": "code",
     "collapsed": false,
     "input": [
      "gender_features('Ricky')"
     ],
     "language": "python",
     "metadata": {},
     "outputs": [
      {
       "metadata": {},
       "output_type": "pyout",
       "prompt_number": 73,
       "text": [
        "{'first_letter': 'R', 'last_letter': 'y', 'length': 5}"
       ]
      }
     ],
     "prompt_number": 73
    },
    {
     "cell_type": "code",
     "collapsed": false,
     "input": [
      "from nltk.classify import apply_features"
     ],
     "language": "python",
     "metadata": {},
     "outputs": [],
     "prompt_number": 74
    },
    {
     "cell_type": "code",
     "collapsed": false,
     "input": [
      "train_set = apply_features(gender_features, names_data[500:])"
     ],
     "language": "python",
     "metadata": {},
     "outputs": [],
     "prompt_number": 75
    },
    {
     "cell_type": "code",
     "collapsed": false,
     "input": [
      "test_set = apply_features(gender_features, names_data[:500])"
     ],
     "language": "python",
     "metadata": {},
     "outputs": [],
     "prompt_number": 76
    },
    {
     "cell_type": "code",
     "collapsed": false,
     "input": [
      "train_set"
     ],
     "language": "python",
     "metadata": {},
     "outputs": [
      {
       "metadata": {},
       "output_type": "pyout",
       "prompt_number": 77,
       "text": [
        "[({'first_letter': u'L', 'length': 7, 'last_letter': u'n'}, 'female'), ({'first_letter': u'J', 'length': 6, 'last_letter': u'e'}, 'female'), ...]"
       ]
      }
     ],
     "prompt_number": 77
    },
    {
     "cell_type": "code",
     "collapsed": false,
     "input": [
      "clf = nltk.NaiveBayesClassifier.train(train_set)"
     ],
     "language": "python",
     "metadata": {},
     "outputs": [],
     "prompt_number": 78
    },
    {
     "cell_type": "code",
     "collapsed": false,
     "input": [
      "# Score the Accuracy of the names classifier we built\n",
      "nltk.classify.accuracy(clf, test_set)"
     ],
     "language": "python",
     "metadata": {},
     "outputs": [
      {
       "metadata": {},
       "output_type": "pyout",
       "prompt_number": 79,
       "text": [
        "0.772"
       ]
      }
     ],
     "prompt_number": 79
    },
    {
     "cell_type": "code",
     "collapsed": false,
     "input": [
      "clf.show_most_informative_features(20)"
     ],
     "language": "python",
     "metadata": {},
     "outputs": [
      {
       "output_type": "stream",
       "stream": "stdout",
       "text": [
        "Most Informative Features\n",
        "             last_letter = u'a'           female : male   =     37.1 : 1.0\n",
        "             last_letter = u'k'             male : female =     33.0 : 1.0\n",
        "             last_letter = u'f'             male : female =     16.5 : 1.0\n",
        "             last_letter = u'p'             male : female =     16.3 : 1.0\n",
        "             last_letter = u'v'             male : female =     10.4 : 1.0\n",
        "             last_letter = u'd'             male : female =      9.6 : 1.0\n",
        "             last_letter = u'o'             male : female =      8.4 : 1.0\n",
        "             last_letter = u'm'             male : female =      7.9 : 1.0\n",
        "             last_letter = u'r'             male : female =      6.7 : 1.0\n",
        "             last_letter = u'g'             male : female =      5.4 : 1.0\n",
        "             last_letter = u'w'             male : female =      4.7 : 1.0\n",
        "            first_letter = u'W'             male : female =      4.5 : 1.0\n",
        "             last_letter = u't'             male : female =      4.3 : 1.0\n",
        "             last_letter = u's'             male : female =      4.2 : 1.0\n",
        "             last_letter = u'j'             male : female =      3.9 : 1.0\n",
        "             last_letter = u'z'             male : female =      3.9 : 1.0\n",
        "             last_letter = u'i'           female : male   =      3.8 : 1.0\n",
        "             last_letter = u'b'             male : female =      3.7 : 1.0\n",
        "            first_letter = u'Q'             male : female =      3.1 : 1.0\n",
        "            first_letter = u'X'             male : female =      2.8 : 1.0\n"
       ]
      }
     ],
     "prompt_number": 80
    },
    {
     "cell_type": "markdown",
     "metadata": {},
     "source": [
      "## Movie Reviews"
     ]
    },
    {
     "cell_type": "code",
     "collapsed": false,
     "input": [
      "!ls"
     ],
     "language": "python",
     "metadata": {},
     "outputs": [
      {
       "output_type": "stream",
       "stream": "stdout",
       "text": [
        "nltk-lab.ipynb\r\n"
       ]
      }
     ],
     "prompt_number": 53
    },
    {
     "cell_type": "code",
     "collapsed": false,
     "input": [
      "# Let's classify Movie Reviews\n",
      "df = pd.read_csv('../data/movie-reviews-dataset.tsv', sep='\\t', names=['rating', 'review'])"
     ],
     "language": "python",
     "metadata": {},
     "outputs": [],
     "prompt_number": 54
    },
    {
     "cell_type": "code",
     "collapsed": false,
     "input": [
      "df.head()"
     ],
     "language": "python",
     "metadata": {},
     "outputs": [
      {
       "html": [
        "<div style=\"max-height:1000px;max-width:1500px;overflow:auto;\">\n",
        "<table border=\"1\" class=\"dataframe\">\n",
        "  <thead>\n",
        "    <tr style=\"text-align: right;\">\n",
        "      <th></th>\n",
        "      <th>rating</th>\n",
        "      <th>review</th>\n",
        "    </tr>\n",
        "  </thead>\n",
        "  <tbody>\n",
        "    <tr>\n",
        "      <th>0</th>\n",
        "      <td> negative</td>\n",
        "      <td>                 simplistic , silly and tedious . </td>\n",
        "    </tr>\n",
        "    <tr>\n",
        "      <th>1</th>\n",
        "      <td> negative</td>\n",
        "      <td> it's so laddish and juvenile , only teenage bo...</td>\n",
        "    </tr>\n",
        "    <tr>\n",
        "      <th>2</th>\n",
        "      <td> negative</td>\n",
        "      <td>       a sentimental mess that never rings true . </td>\n",
        "    </tr>\n",
        "    <tr>\n",
        "      <th>3</th>\n",
        "      <td> negative</td>\n",
        "      <td> completely awful iranian drama . . . as much f...</td>\n",
        "    </tr>\n",
        "    <tr>\n",
        "      <th>4</th>\n",
        "      <td> negative</td>\n",
        "      <td>  \" analyze that \" is one of those crass , cont...</td>\n",
        "    </tr>\n",
        "  </tbody>\n",
        "</table>\n",
        "</div>"
       ],
       "metadata": {},
       "output_type": "pyout",
       "prompt_number": 55,
       "text": [
        "     rating                                             review\n",
        "0  negative                  simplistic , silly and tedious . \n",
        "1  negative  it's so laddish and juvenile , only teenage bo...\n",
        "2  negative        a sentimental mess that never rings true . \n",
        "3  negative  completely awful iranian drama . . . as much f...\n",
        "4  negative   \" analyze that \" is one of those crass , cont..."
       ]
      }
     ],
     "prompt_number": 55
    },
    {
     "cell_type": "code",
     "collapsed": false,
     "input": [
      "df.values[0][0]"
     ],
     "language": "python",
     "metadata": {},
     "outputs": [
      {
       "metadata": {},
       "output_type": "pyout",
       "prompt_number": 56,
       "text": [
        "'negative'"
       ]
      }
     ],
     "prompt_number": 56
    },
    {
     "cell_type": "code",
     "collapsed": false,
     "input": [
      "import re\n",
      "\n",
      "def stem_review(category, text):\n",
      "    # Let's use Porter Stemmer, but you can use Snowball Stemmer or Lammatizer\n",
      "    stemmer = stem.PorterStemmer()\n",
      "    stopwords = nltk.corpus.stopwords.words('english')\n",
      "\n",
      "    # Tokenize the words\n",
      "    words = tokenize.word_tokenize(text)\n",
      "    words = [token for token in words if re.search(r'^[a-zA-Z]+', token)]\n",
      "    \n",
      "    # Stem the words\n",
      "    #stem_words = [stemmer.stem(word) for word in words if word not in stopwords]\n",
      "    return (words, category)"
     ],
     "language": "python",
     "metadata": {},
     "outputs": [],
     "prompt_number": 147
    },
    {
     "cell_type": "code",
     "collapsed": false,
     "input": [
      "documents = []\n",
      "for cat, review in df.values:\n",
      "    review = unicode(review, 'utf8')\n",
      "    review.encode('utf8','ignore')\n",
      "    documents.append(stem_review(cat, review))"
     ],
     "language": "python",
     "metadata": {},
     "outputs": [],
     "prompt_number": 148
    },
    {
     "cell_type": "code",
     "collapsed": false,
     "input": [
      "documents[0:4]"
     ],
     "language": "python",
     "metadata": {},
     "outputs": [
      {
       "metadata": {},
       "output_type": "pyout",
       "prompt_number": 149,
       "text": [
        "[([u'Go',\n",
        "   u'until',\n",
        "   u'jurong',\n",
        "   u'point',\n",
        "   u'crazy..',\n",
        "   u'Available',\n",
        "   u'only',\n",
        "   u'in',\n",
        "   u'bugis',\n",
        "   u'n',\n",
        "   u'great',\n",
        "   u'world',\n",
        "   u'la',\n",
        "   u'e',\n",
        "   u'buffet',\n",
        "   u'Cine',\n",
        "   u'there',\n",
        "   u'got',\n",
        "   u'amore',\n",
        "   u'wat'],\n",
        "  'ham'),\n",
        " ([u'Ok', u'lar', u'Joking', u'wif', u'u', u'oni'], 'ham'),\n",
        " ([u'Free',\n",
        "   u'entry',\n",
        "   u'in',\n",
        "   u'a',\n",
        "   u'wkly',\n",
        "   u'comp',\n",
        "   u'to',\n",
        "   u'win',\n",
        "   u'FA',\n",
        "   u'Cup',\n",
        "   u'final',\n",
        "   u'tkts',\n",
        "   u'May',\n",
        "   u'Text',\n",
        "   u'FA',\n",
        "   u'to',\n",
        "   u'to',\n",
        "   u'receive',\n",
        "   u'entry',\n",
        "   u'question',\n",
        "   u'std',\n",
        "   u'txt',\n",
        "   u'rate',\n",
        "   u'T',\n",
        "   u'C',\n",
        "   u'apply'],\n",
        "  'spam'),\n",
        " ([u'U',\n",
        "   u'dun',\n",
        "   u'say',\n",
        "   u'so',\n",
        "   u'early',\n",
        "   u'hor',\n",
        "   u'U',\n",
        "   u'c',\n",
        "   u'already',\n",
        "   u'then',\n",
        "   u'say'],\n",
        "  'ham')]"
       ]
      }
     ],
     "prompt_number": 149
    },
    {
     "cell_type": "code",
     "collapsed": false,
     "input": [
      "# Number of Reviews\n",
      "len(documents)"
     ],
     "language": "python",
     "metadata": {},
     "outputs": [
      {
       "metadata": {},
       "output_type": "pyout",
       "prompt_number": 150,
       "text": [
        "5572"
       ]
      }
     ],
     "prompt_number": 150
    },
    {
     "cell_type": "code",
     "collapsed": false,
     "input": [
      "# Function to convert document words into \"Feature\" Dictionary required by NLTK Classifier\n",
      "def document_features(document_words): # [_document-classify-extractor]\n",
      "    features = {}\n",
      "    for word in document_words:\n",
      "        features[word] = True\n",
      "    return features"
     ],
     "language": "python",
     "metadata": {},
     "outputs": [],
     "prompt_number": 151
    },
    {
     "cell_type": "code",
     "collapsed": false,
     "input": [
      "document_features([u'simplistic', u'tedious'])"
     ],
     "language": "python",
     "metadata": {},
     "outputs": [
      {
       "metadata": {},
       "output_type": "pyout",
       "prompt_number": 152,
       "text": [
        "{u'simplistic': True, u'tedious': True}"
       ]
      }
     ],
     "prompt_number": 152
    },
    {
     "cell_type": "code",
     "collapsed": false,
     "input": [
      "featuresets = [(document_features(d), c) for (d,c) in documents]"
     ],
     "language": "python",
     "metadata": {},
     "outputs": [],
     "prompt_number": 153
    },
    {
     "cell_type": "code",
     "collapsed": false,
     "input": [
      "featuresets[0]"
     ],
     "language": "python",
     "metadata": {},
     "outputs": [
      {
       "metadata": {},
       "output_type": "pyout",
       "prompt_number": 154,
       "text": [
        "({u'Available': True,\n",
        "  u'Cine': True,\n",
        "  u'Go': True,\n",
        "  u'amore': True,\n",
        "  u'buffet': True,\n",
        "  u'bugis': True,\n",
        "  u'crazy..': True,\n",
        "  u'e': True,\n",
        "  u'got': True,\n",
        "  u'great': True,\n",
        "  u'in': True,\n",
        "  u'jurong': True,\n",
        "  u'la': True,\n",
        "  u'n': True,\n",
        "  u'only': True,\n",
        "  u'point': True,\n",
        "  u'there': True,\n",
        "  u'until': True,\n",
        "  u'wat': True,\n",
        "  u'world': True},\n",
        " 'ham')"
       ]
      }
     ],
     "prompt_number": 154
    },
    {
     "cell_type": "code",
     "collapsed": false,
     "input": [
      "# Shuffle the data before doing the training\n",
      "random.shuffle(featuresets)\n",
      "\n",
      "train_set, test_set = featuresets[:5572/2], featuresets[5572/2:]\n",
      "\n",
      "# Build the NaiveBayes Classifier\n",
      "classifier = nltk.NaiveBayesClassifier.train(train_set)"
     ],
     "language": "python",
     "metadata": {},
     "outputs": [],
     "prompt_number": 155
    },
    {
     "cell_type": "code",
     "collapsed": false,
     "input": [
      "nltk.classify.accuracy(classifier, test_set)"
     ],
     "language": "python",
     "metadata": {},
     "outputs": [
      {
       "metadata": {},
       "output_type": "pyout",
       "prompt_number": 156,
       "text": [
        "0.9296482412060302"
       ]
      }
     ],
     "prompt_number": 156
    },
    {
     "cell_type": "code",
     "collapsed": false,
     "input": [
      "print nltk.classify.accuracy(classifier, test_set) \n",
      "classifier.show_most_informative_features(20)"
     ],
     "language": "python",
     "metadata": {},
     "outputs": [
      {
       "output_type": "stream",
       "stream": "stdout",
       "text": [
        "0.929648241206\n",
        "Most Informative Features\n",
        "                    FREE = True             spam : ham    =    214.6 : 1.0"
       ]
      },
      {
       "output_type": "stream",
       "stream": "stdout",
       "text": [
        "\n",
        "                     Txt = True             spam : ham    =    165.5 : 1.0\n",
        "                  mobile = True             spam : ham    =     93.7 : 1.0\n",
        "                      To = True             spam : ham    =     92.0 : 1.0\n",
        "                    STOP = True             spam : ham    =     87.9 : 1.0\n",
        "                    Text = True             spam : ham    =     87.9 : 1.0\n",
        "                landline = True             spam : ham    =     75.6 : 1.0\n",
        "                   Reply = True             spam : ham    =     62.5 : 1.0\n",
        "                 service = True             spam : ham    =     62.5 : 1.0\n",
        "                   apply = True             spam : ham    =     59.3 : 1.0\n",
        "                     txt = True             spam : ham    =     53.8 : 1.0\n",
        "                 receive = True             spam : ham    =     51.1 : 1.0\n",
        "                   video = True             spam : ham    =     47.0 : 1.0\n",
        "                   award = True             spam : ham    =     47.0 : 1.0\n",
        "                    draw = True             spam : ham    =     41.2 : 1.0\n",
        "                   shows = True             spam : ham    =     40.5 : 1.0\n",
        "                    Call = True             spam : ham    =     40.0 : 1.0\n",
        "                    line = True             spam : ham    =     37.7 : 1.0\n",
        "                  latest = True             spam : ham    =     35.6 : 1.0\n",
        "                  pounds = True             spam : ham    =     34.7 : 1.0\n"
       ]
      }
     ],
     "prompt_number": 157
    },
    {
     "cell_type": "markdown",
     "metadata": {},
     "source": [
      "### Term Frequency - Inverse Document Frequency (TF-IDF)\n",
      "\n",
      "What:  Computes \"relative frequency\" that a word appears in a document compared to its frequency across all documents\n",
      "\n",
      "Why:   More useful than \"term frequency\" for identifying \"important\" words in each document (high frequency in that document, low frequency in other documents)\n",
      "\n",
      "Notes: Used for search engine scoring, text summarization, document clustering\n"
     ]
    },
    {
     "cell_type": "code",
     "collapsed": false,
     "input": [
      "categories = []\n",
      "reviews = []\n",
      "for words, cat in documents:\n",
      "    reviews.append(' '.join(words))\n",
      "    categories.append(cat)"
     ],
     "language": "python",
     "metadata": {},
     "outputs": [],
     "prompt_number": 67
    },
    {
     "cell_type": "code",
     "collapsed": false,
     "input": [
      "from sklearn.feature_extraction.text import TfidfVectorizer, CountVectorizer\n",
      "from sklearn.preprocessing import LabelEncoder\n",
      "\n",
      "tfidf = TfidfVectorizer()\n",
      "X = tfidf.fit_transform(reviews).toarray()\n",
      "lbl = LabelEncoder()\n",
      "y = lbl.fit_transform(categories)\n",
      "tfidf.get_feature_names()[-10:]"
     ],
     "language": "python",
     "metadata": {},
     "outputs": [
      {
       "metadata": {},
       "output_type": "pyout",
       "prompt_number": 68,
       "text": [
        "[u'ziyi',\n",
        " u'zoe',\n",
        " u'zombi',\n",
        " u'zombie',\n",
        " u'zone',\n",
        " u'zooland',\n",
        " u'zoom',\n",
        " u'zucker',\n",
        " u'zwick',\n",
        " u'zzzzzzzzz']"
       ]
      }
     ],
     "prompt_number": 68
    },
    {
     "cell_type": "code",
     "collapsed": false,
     "input": [
      "from sklearn.naive_bayes import GaussianNB\n",
      "from sklearn.cross_validation import train_test_split\n",
      "\n",
      "X_train, X_test, y_train, y_test = train_test_split(X, y)\n",
      "\n",
      "sk_clf = GaussianNB()\n",
      "sk_clf.fit(X_train, y_train)"
     ],
     "language": "python",
     "metadata": {},
     "outputs": [
      {
       "metadata": {},
       "output_type": "pyout",
       "prompt_number": 69,
       "text": [
        "GaussianNB()"
       ]
      }
     ],
     "prompt_number": 69
    },
    {
     "cell_type": "code",
     "collapsed": false,
     "input": [
      "sk_clf.score(X_test, y_test)"
     ],
     "language": "python",
     "metadata": {},
     "outputs": [
      {
       "metadata": {},
       "output_type": "pyout",
       "prompt_number": 70,
       "text": [
        "0.64966241560390092"
       ]
      }
     ],
     "prompt_number": 70
    },
    {
     "cell_type": "markdown",
     "metadata": {},
     "source": [
      "## Your Turn - Build a Classifier to identify Spam from Ham\n",
      "\n",
      "* Use Dataset in labs/data/SpamCollection.tsv"
     ]
    },
    {
     "cell_type": "code",
     "collapsed": false,
     "input": [
      "# Let's classify emails\n",
      "df = pd.read_csv('../data/SpamCollection.tsv', sep='\\t', names=['mail_type', 'text'])"
     ],
     "language": "python",
     "metadata": {},
     "outputs": [],
     "prompt_number": 158
    },
    {
     "cell_type": "code",
     "collapsed": false,
     "input": [
      "df.head()"
     ],
     "language": "python",
     "metadata": {},
     "outputs": [
      {
       "html": [
        "<div style=\"max-height:1000px;max-width:1500px;overflow:auto;\">\n",
        "<table border=\"1\" class=\"dataframe\">\n",
        "  <thead>\n",
        "    <tr style=\"text-align: right;\">\n",
        "      <th></th>\n",
        "      <th>mail_type</th>\n",
        "      <th>text</th>\n",
        "    </tr>\n",
        "  </thead>\n",
        "  <tbody>\n",
        "    <tr>\n",
        "      <th>0</th>\n",
        "      <td>  ham</td>\n",
        "      <td> Go until jurong point, crazy.. Available only ...</td>\n",
        "    </tr>\n",
        "    <tr>\n",
        "      <th>1</th>\n",
        "      <td>  ham</td>\n",
        "      <td>                     Ok lar... Joking wif u oni...</td>\n",
        "    </tr>\n",
        "    <tr>\n",
        "      <th>2</th>\n",
        "      <td> spam</td>\n",
        "      <td> Free entry in 2 a wkly comp to win FA Cup fina...</td>\n",
        "    </tr>\n",
        "    <tr>\n",
        "      <th>3</th>\n",
        "      <td>  ham</td>\n",
        "      <td> U dun say so early hor... U c already then say...</td>\n",
        "    </tr>\n",
        "    <tr>\n",
        "      <th>4</th>\n",
        "      <td>  ham</td>\n",
        "      <td> Nah I don't think he goes to usf, he lives aro...</td>\n",
        "    </tr>\n",
        "  </tbody>\n",
        "</table>\n",
        "</div>"
       ],
       "metadata": {},
       "output_type": "pyout",
       "prompt_number": 161,
       "text": [
        "  mail_type                                               text\n",
        "0       ham  Go until jurong point, crazy.. Available only ...\n",
        "1       ham                      Ok lar... Joking wif u oni...\n",
        "2      spam  Free entry in 2 a wkly comp to win FA Cup fina...\n",
        "3       ham  U dun say so early hor... U c already then say...\n",
        "4       ham  Nah I don't think he goes to usf, he lives aro..."
       ]
      }
     ],
     "prompt_number": 161
    },
    {
     "cell_type": "code",
     "collapsed": false,
     "input": [
      "emails = []\n",
      "for cat, review in df.values:\n",
      "    review = unicode(review, 'utf8')\n",
      "    review.encode('utf8','ignore')\n",
      "    emails.append(stem_review(cat, review))\n",
      "    \n"
     ],
     "language": "python",
     "metadata": {},
     "outputs": [],
     "prompt_number": 175
    },
    {
     "cell_type": "code",
     "collapsed": false,
     "input": [
      "import numpy as np\n",
      "from nltk.probability import FreqDist\n",
      "from nltk.classify import SklearnClassifier\n",
      "from sklearn.feature_extraction.text import TfidfTransformer\n",
      "from sklearn.feature_selection import SelectKBest, chi2\n",
      "from sklearn.naive_bayes import MultinomialNB\n",
      "from sklearn.pipeline import Pipeline\n",
      "\n",
      "pipeline = Pipeline([('tfidf', TfidfTransformer()),\n",
      "                     ('chi2', SelectKBest(chi2, k=1000)),\n",
      "                     ('nb', MultinomialNB())])\n",
      "clf = SklearnClassifier(pipeline)\n",
      "\n"
     ],
     "language": "python",
     "metadata": {},
     "outputs": [
      {
       "ename": "AttributeError",
       "evalue": "'str' object has no attribute 'iteritems'",
       "output_type": "pyerr",
       "traceback": [
        "\u001b[0;31m---------------------------------------------------------------------------\u001b[0m\n\u001b[0;31mAttributeError\u001b[0m                            Traceback (most recent call last)",
        "\u001b[0;32m<ipython-input-183-376e2c5d58c4>\u001b[0m in \u001b[0;36m<module>\u001b[0;34m()\u001b[0m\n\u001b[1;32m     16\u001b[0m \u001b[0mneg\u001b[0m \u001b[0;34m=\u001b[0m \u001b[0mdf\u001b[0m\u001b[0;34m.\u001b[0m\u001b[0mtext\u001b[0m\u001b[0;34m[\u001b[0m\u001b[0mdf\u001b[0m\u001b[0;34m.\u001b[0m\u001b[0mmail_type\u001b[0m\u001b[0;34m==\u001b[0m\u001b[0;34m'spam'\u001b[0m\u001b[0;34m]\u001b[0m\u001b[0;34m\u001b[0m\u001b[0m\n\u001b[1;32m     17\u001b[0m \u001b[0madd_label\u001b[0m \u001b[0;34m=\u001b[0m \u001b[0;32mlambda\u001b[0m \u001b[0mlst\u001b[0m\u001b[0;34m,\u001b[0m \u001b[0mlab\u001b[0m\u001b[0;34m:\u001b[0m \u001b[0;34m[\u001b[0m\u001b[0;34m(\u001b[0m\u001b[0mx\u001b[0m\u001b[0;34m,\u001b[0m \u001b[0mlab\u001b[0m\u001b[0;34m)\u001b[0m \u001b[0;32mfor\u001b[0m \u001b[0mx\u001b[0m \u001b[0;32min\u001b[0m \u001b[0mlst\u001b[0m\u001b[0;34m]\u001b[0m\u001b[0;34m\u001b[0m\u001b[0m\n\u001b[0;32m---> 18\u001b[0;31m \u001b[0mclassif\u001b[0m\u001b[0;34m.\u001b[0m\u001b[0mtrain\u001b[0m\u001b[0;34m(\u001b[0m\u001b[0madd_label\u001b[0m\u001b[0;34m(\u001b[0m\u001b[0mpos\u001b[0m\u001b[0;34m[\u001b[0m\u001b[0;34m:\u001b[0m\u001b[0;36m100\u001b[0m\u001b[0;34m]\u001b[0m\u001b[0;34m,\u001b[0m \u001b[0;34m'ham'\u001b[0m\u001b[0;34m)\u001b[0m \u001b[0;34m+\u001b[0m \u001b[0madd_label\u001b[0m\u001b[0;34m(\u001b[0m\u001b[0mneg\u001b[0m\u001b[0;34m[\u001b[0m\u001b[0;34m:\u001b[0m\u001b[0;36m100\u001b[0m\u001b[0;34m]\u001b[0m\u001b[0;34m,\u001b[0m \u001b[0;34m'spam'\u001b[0m\u001b[0;34m)\u001b[0m\u001b[0;34m)\u001b[0m\u001b[0;34m\u001b[0m\u001b[0m\n\u001b[0m\u001b[1;32m     19\u001b[0m \u001b[0;34m\u001b[0m\u001b[0m\n\u001b[1;32m     20\u001b[0m \u001b[0ml_pos\u001b[0m \u001b[0;34m=\u001b[0m \u001b[0mnp\u001b[0m\u001b[0;34m.\u001b[0m\u001b[0marray\u001b[0m\u001b[0;34m(\u001b[0m\u001b[0mclassif\u001b[0m\u001b[0;34m.\u001b[0m\u001b[0mclassify_many\u001b[0m\u001b[0;34m(\u001b[0m\u001b[0mpos\u001b[0m\u001b[0;34m[\u001b[0m\u001b[0;36m100\u001b[0m\u001b[0;34m:\u001b[0m\u001b[0;34m]\u001b[0m\u001b[0;34m)\u001b[0m\u001b[0;34m)\u001b[0m\u001b[0;34m\u001b[0m\u001b[0m\n",
        "\u001b[0;32m/Users/jeremiah/anaconda/lib/python2.7/site-packages/nltk/classify/scikitlearn.pyc\u001b[0m in \u001b[0;36mtrain\u001b[0;34m(self, labeled_featuresets)\u001b[0m\n\u001b[1;32m    114\u001b[0m \u001b[0;34m\u001b[0m\u001b[0m\n\u001b[1;32m    115\u001b[0m         \u001b[0mX\u001b[0m\u001b[0;34m,\u001b[0m \u001b[0my\u001b[0m \u001b[0;34m=\u001b[0m \u001b[0mlist\u001b[0m\u001b[0;34m(\u001b[0m\u001b[0mcompat\u001b[0m\u001b[0;34m.\u001b[0m\u001b[0mizip\u001b[0m\u001b[0;34m(\u001b[0m\u001b[0;34m*\u001b[0m\u001b[0mlabeled_featuresets\u001b[0m\u001b[0;34m)\u001b[0m\u001b[0;34m)\u001b[0m\u001b[0;34m\u001b[0m\u001b[0m\n\u001b[0;32m--> 116\u001b[0;31m         \u001b[0mX\u001b[0m \u001b[0;34m=\u001b[0m \u001b[0mself\u001b[0m\u001b[0;34m.\u001b[0m\u001b[0m_vectorizer\u001b[0m\u001b[0;34m.\u001b[0m\u001b[0mfit_transform\u001b[0m\u001b[0;34m(\u001b[0m\u001b[0mX\u001b[0m\u001b[0;34m)\u001b[0m\u001b[0;34m\u001b[0m\u001b[0m\n\u001b[0m\u001b[1;32m    117\u001b[0m         \u001b[0my\u001b[0m \u001b[0;34m=\u001b[0m \u001b[0mself\u001b[0m\u001b[0;34m.\u001b[0m\u001b[0m_encoder\u001b[0m\u001b[0;34m.\u001b[0m\u001b[0mfit_transform\u001b[0m\u001b[0;34m(\u001b[0m\u001b[0my\u001b[0m\u001b[0;34m)\u001b[0m\u001b[0;34m\u001b[0m\u001b[0m\n\u001b[1;32m    118\u001b[0m         \u001b[0mself\u001b[0m\u001b[0;34m.\u001b[0m\u001b[0m_clf\u001b[0m\u001b[0;34m.\u001b[0m\u001b[0mfit\u001b[0m\u001b[0;34m(\u001b[0m\u001b[0mX\u001b[0m\u001b[0;34m,\u001b[0m \u001b[0my\u001b[0m\u001b[0;34m)\u001b[0m\u001b[0;34m\u001b[0m\u001b[0m\n",
        "\u001b[0;32m/Users/jeremiah/anaconda/lib/python2.7/site-packages/sklearn/feature_extraction/dict_vectorizer.pyc\u001b[0m in \u001b[0;36mfit_transform\u001b[0;34m(self, X, y)\u001b[0m\n\u001b[1;32m    139\u001b[0m         \"\"\"\n\u001b[1;32m    140\u001b[0m         \u001b[0mX\u001b[0m \u001b[0;34m=\u001b[0m \u001b[0m_tosequence\u001b[0m\u001b[0;34m(\u001b[0m\u001b[0mX\u001b[0m\u001b[0;34m)\u001b[0m\u001b[0;34m\u001b[0m\u001b[0m\n\u001b[0;32m--> 141\u001b[0;31m         \u001b[0mself\u001b[0m\u001b[0;34m.\u001b[0m\u001b[0mfit\u001b[0m\u001b[0;34m(\u001b[0m\u001b[0mX\u001b[0m\u001b[0;34m)\u001b[0m\u001b[0;34m\u001b[0m\u001b[0m\n\u001b[0m\u001b[1;32m    142\u001b[0m         \u001b[0;32mreturn\u001b[0m \u001b[0mself\u001b[0m\u001b[0;34m.\u001b[0m\u001b[0mtransform\u001b[0m\u001b[0;34m(\u001b[0m\u001b[0mX\u001b[0m\u001b[0;34m)\u001b[0m\u001b[0;34m\u001b[0m\u001b[0m\n\u001b[1;32m    143\u001b[0m \u001b[0;34m\u001b[0m\u001b[0m\n",
        "\u001b[0;32m/Users/jeremiah/anaconda/lib/python2.7/site-packages/sklearn/feature_extraction/dict_vectorizer.pyc\u001b[0m in \u001b[0;36mfit\u001b[0;34m(self, X, y)\u001b[0m\n\u001b[1;32m    104\u001b[0m         \u001b[0mfeature_names\u001b[0m \u001b[0;34m=\u001b[0m \u001b[0mset\u001b[0m\u001b[0;34m(\u001b[0m\u001b[0;34m)\u001b[0m\u001b[0;34m\u001b[0m\u001b[0m\n\u001b[1;32m    105\u001b[0m         \u001b[0;32mfor\u001b[0m \u001b[0mx\u001b[0m \u001b[0;32min\u001b[0m \u001b[0mX\u001b[0m\u001b[0;34m:\u001b[0m\u001b[0;34m\u001b[0m\u001b[0m\n\u001b[0;32m--> 106\u001b[0;31m             \u001b[0;32mfor\u001b[0m \u001b[0mf\u001b[0m\u001b[0;34m,\u001b[0m \u001b[0mv\u001b[0m \u001b[0;32min\u001b[0m \u001b[0msix\u001b[0m\u001b[0;34m.\u001b[0m\u001b[0miteritems\u001b[0m\u001b[0;34m(\u001b[0m\u001b[0mx\u001b[0m\u001b[0;34m)\u001b[0m\u001b[0;34m:\u001b[0m\u001b[0;34m\u001b[0m\u001b[0m\n\u001b[0m\u001b[1;32m    107\u001b[0m                 \u001b[0;32mif\u001b[0m \u001b[0misinstance\u001b[0m\u001b[0;34m(\u001b[0m\u001b[0mv\u001b[0m\u001b[0;34m,\u001b[0m \u001b[0msix\u001b[0m\u001b[0;34m.\u001b[0m\u001b[0mstring_types\u001b[0m\u001b[0;34m)\u001b[0m\u001b[0;34m:\u001b[0m\u001b[0;34m\u001b[0m\u001b[0m\n\u001b[1;32m    108\u001b[0m                     \u001b[0mf\u001b[0m \u001b[0;34m=\u001b[0m \u001b[0;34m\"%s%s%s\"\u001b[0m \u001b[0;34m%\u001b[0m \u001b[0;34m(\u001b[0m\u001b[0mf\u001b[0m\u001b[0;34m,\u001b[0m \u001b[0mself\u001b[0m\u001b[0;34m.\u001b[0m\u001b[0mseparator\u001b[0m\u001b[0;34m,\u001b[0m \u001b[0mv\u001b[0m\u001b[0;34m)\u001b[0m\u001b[0;34m\u001b[0m\u001b[0m\n",
        "\u001b[0;32m/Users/jeremiah/anaconda/lib/python2.7/site-packages/sklearn/externals/six.pyc\u001b[0m in \u001b[0;36miteritems\u001b[0;34m(d, **kw)\u001b[0m\n\u001b[1;32m    437\u001b[0m \u001b[0;32mdef\u001b[0m \u001b[0miteritems\u001b[0m\u001b[0;34m(\u001b[0m\u001b[0md\u001b[0m\u001b[0;34m,\u001b[0m \u001b[0;34m**\u001b[0m\u001b[0mkw\u001b[0m\u001b[0;34m)\u001b[0m\u001b[0;34m:\u001b[0m\u001b[0;34m\u001b[0m\u001b[0m\n\u001b[1;32m    438\u001b[0m     \u001b[0;34m\"\"\"Return an iterator over the (key, value) pairs of a dictionary.\"\"\"\u001b[0m\u001b[0;34m\u001b[0m\u001b[0m\n\u001b[0;32m--> 439\u001b[0;31m     \u001b[0;32mreturn\u001b[0m \u001b[0miter\u001b[0m\u001b[0;34m(\u001b[0m\u001b[0mgetattr\u001b[0m\u001b[0;34m(\u001b[0m\u001b[0md\u001b[0m\u001b[0;34m,\u001b[0m \u001b[0m_iteritems\u001b[0m\u001b[0;34m)\u001b[0m\u001b[0;34m(\u001b[0m\u001b[0;34m**\u001b[0m\u001b[0mkw\u001b[0m\u001b[0;34m)\u001b[0m\u001b[0;34m)\u001b[0m\u001b[0;34m\u001b[0m\u001b[0m\n\u001b[0m\u001b[1;32m    440\u001b[0m \u001b[0;34m\u001b[0m\u001b[0m\n\u001b[1;32m    441\u001b[0m \u001b[0;32mdef\u001b[0m \u001b[0miterlists\u001b[0m\u001b[0;34m(\u001b[0m\u001b[0md\u001b[0m\u001b[0;34m,\u001b[0m \u001b[0;34m**\u001b[0m\u001b[0mkw\u001b[0m\u001b[0;34m)\u001b[0m\u001b[0;34m:\u001b[0m\u001b[0;34m\u001b[0m\u001b[0m\n",
        "\u001b[0;31mAttributeError\u001b[0m: 'str' object has no attribute 'iteritems'"
       ]
      }
     ],
     "prompt_number": 183
    },
    {
     "cell_type": "code",
     "collapsed": false,
     "input": [],
     "language": "python",
     "metadata": {},
     "outputs": [
      {
       "metadata": {},
       "output_type": "pyout",
       "prompt_number": 181,
       "text": [
        "0     Go until jurong point, crazy.. Available only ...\n",
        "1                         Ok lar... Joking wif u oni...\n",
        "3     U dun say so early hor... U c already then say...\n",
        "4     Nah I don't think he goes to usf, he lives aro...\n",
        "6     Even my brother is not like to speak with me. ...\n",
        "7     As per your request 'Melle Melle (Oru Minnamin...\n",
        "10    I'm gonna be home soon and i don't want to tal...\n",
        "13    I've been searching for the right words to tha...\n",
        "14                  I HAVE A DATE ON SUNDAY WITH WILL!!\n",
        "16                           Oh k...i'm watching here:)\n",
        "17    Eh u remember how 2 spell his name... Yes i di...\n",
        "18    Fine if that\u0092s the way u feel. That\u0092s the way ...\n",
        "20            Is that seriously how you spell his name?\n",
        "21      I\u2018m going to try for 2 months ha ha only joking\n",
        "22    So \u00fc pay first lar... Then when is da stock co...\n",
        "...\n",
        "5555    Yeh. Indians was nice. Tho it did kane me off ...\n",
        "5556    Yes i have. So that's why u texted. Pshew...mi...\n",
        "5557    No. I meant the calculation is the same. That ...\n",
        "5558                               Sorry, I'll call later\n",
        "5559    if you aren't here in the next  &lt;#&gt;  hou...\n",
        "5560                    Anything lor. Juz both of us lor.\n",
        "5561    Get me out of this dump heap. My mom decided t...\n",
        "5562    Ok lor... Sony ericsson salesman... I ask shuh...\n",
        "5563                                  Ard 6 like dat lor.\n",
        "5564    Why don't you wait 'til at least wednesday to ...\n",
        "5565                                         Huh y lei...\n",
        "5568                 Will \u00fc b going to esplanade fr home?\n",
        "5569    Pity, * was in mood for that. So...any other s...\n",
        "5570    The guy did some bitching but I acted like i'd...\n",
        "5571                           Rofl. Its true to its name\n",
        "Name: text, Length: 4825, dtype: object"
       ]
      }
     ],
     "prompt_number": 181
    },
    {
     "cell_type": "code",
     "collapsed": false,
     "input": [],
     "language": "python",
     "metadata": {},
     "outputs": []
    }
   ],
   "metadata": {}
  }
 ]
}