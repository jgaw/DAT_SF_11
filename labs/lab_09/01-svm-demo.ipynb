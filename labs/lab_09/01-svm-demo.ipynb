{
 "metadata": {
  "name": "",
  "signature": "sha256:932a1811979d41e288253569c85f7118b94f6b12129a6f0b0b71415d14bb0f28"
 },
 "nbformat": 3,
 "nbformat_minor": 0,
 "worksheets": [
  {
   "cells": [
    {
     "cell_type": "markdown",
     "metadata": {},
     "source": [
      "<small><i>This example was adapted from from a tutorial give by [Jake Vanderplas](http://www.vanderplas.com) at PyCon 2014.</i></small>"
     ]
    },
    {
     "cell_type": "markdown",
     "metadata": {},
     "source": [
      "## SVM Demo App"
     ]
    },
    {
     "cell_type": "code",
     "collapsed": false,
     "input": [
      "!python svm_gui.py"
     ],
     "language": "python",
     "metadata": {},
     "outputs": [
      {
       "output_type": "stream",
       "stream": "stdout",
       "text": [
        "\r\n",
        "==========\r\n",
        "Libsvm GUI\r\n",
        "==========\r\n",
        "\r\n",
        "A simple graphical frontend for Libsvm mainly intended for didactic\r\n",
        "purposes. You can create data points by point and click and visualize\r\n",
        "the decision region induced by different kernels and parameter settings.\r\n",
        "\r\n",
        "To create positive examples click the left mouse button; to create\r\n",
        "negative examples click the right button.\r\n",
        "\r\n",
        "If all examples are from the same class, it uses a one-class SVM.\r\n",
        "\r\n",
        "\r\n"
       ]
      },
      {
       "output_type": "stream",
       "stream": "stdout",
       "text": [
        "fit the model\r\n"
       ]
      },
      {
       "output_type": "stream",
       "stream": "stdout",
       "text": [
        "fit the model\r\n"
       ]
      },
      {
       "output_type": "stream",
       "stream": "stdout",
       "text": [
        "fit the model\r\n"
       ]
      },
      {
       "output_type": "stream",
       "stream": "stdout",
       "text": [
        "fit the model\r\n"
       ]
      },
      {
       "output_type": "stream",
       "stream": "stdout",
       "text": [
        "fit the model\r\n"
       ]
      },
      {
       "output_type": "stream",
       "stream": "stdout",
       "text": [
        "fit the model\r\n"
       ]
      },
      {
       "output_type": "stream",
       "stream": "stdout",
       "text": [
        "fit the model\r\n"
       ]
      }
     ]
    },
    {
     "cell_type": "code",
     "collapsed": false,
     "input": [],
     "language": "python",
     "metadata": {},
     "outputs": []
    }
   ],
   "metadata": {}
  }
 ]
}