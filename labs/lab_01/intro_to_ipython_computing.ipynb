{
 "metadata": {
  "name": "",
  "signature": "sha256:98d698bc45122dc3166f8991652817244ebfd8424e162d6cc1baf49890723312"
 },
 "nbformat": 3,
 "nbformat_minor": 0,
 "worksheets": [
  {
   "cells": [
    {
     "cell_type": "markdown",
     "metadata": {},
     "source": [
      "GA Data Science - Introduction to Python and computing in the Interactive Python environment\n",
      "======="
     ]
    },
    {
     "cell_type": "markdown",
     "metadata": {},
     "source": [
      "#What is IPython?\n",
      "###Interactive Computing Environment...\n",
      "to execute a cell hit shift+enter"
     ]
    },
    {
     "cell_type": "code",
     "collapsed": false,
     "input": [
      "1+1"
     ],
     "language": "python",
     "metadata": {},
     "outputs": []
    },
    {
     "cell_type": "code",
     "collapsed": false,
     "input": [
      "print 'hello world'"
     ],
     "language": "python",
     "metadata": {},
     "outputs": []
    },
    {
     "cell_type": "markdown",
     "metadata": {},
     "source": [
      "###but so much more..."
     ]
    },
    {
     "cell_type": "code",
     "collapsed": false,
     "input": [
      "from IPython.core.display import HTML\n",
      "HTML(\"<iframe src=http://www.ipython.org width=1000 height=800></iframe>\")"
     ],
     "language": "python",
     "metadata": {},
     "outputs": []
    },
    {
     "cell_type": "code",
     "collapsed": false,
     "input": [
      "%matplotlib inline\n",
      "import matplotlib.pyplot as plt\n",
      "import numpy as np\n",
      "from IPython.core.pylabtools import figsize\n",
      "figsize(12,5)\n",
      "plt.style.use('fivethirtyeight')\n",
      "\n",
      "x = np.linspace(0, 2*np.pi, 42)\n",
      "f1 = 5 * np.sin(x)\n",
      "f2 = 2 * np.sin(2*x)\n",
      "f3 = 1 * np.sin(3*x)\n",
      "plt.plot(x, f1)\n",
      "plt.plot(x, f2, 'ro')\n",
      "plt.plot(x, f3, 'g--')\n",
      "plt.title('Hello Plot')"
     ],
     "language": "python",
     "metadata": {},
     "outputs": []
    },
    {
     "cell_type": "markdown",
     "metadata": {},
     "source": [
      "_NOTE:_ Looks like Anaconda distribution is out-of-date with the latest matplotlib, if you get an error running the above cell try<br> \n",
      "`$ conda update matplotlib`<br>\n",
      "to get custom syle-sheets working do:<br>"
     ]
    },
    {
     "cell_type": "code",
     "collapsed": false,
     "input": [
      "from IPython.html.widgets import interact\n",
      "import numpy as np\n",
      "def plot_powers(y_power=1):\n",
      "    x = np.arange(10)\n",
      "    y_true = np.arange(10) ** 2  # Assume true model is Y = X ** 2\n",
      "    plt.scatter(x, y_true)  # Plot the true values as a scatter plot\n",
      "    # Now try out the model with various powers\n",
      "    y_model = np.arange(10) ** y_power\n",
      "    plt.plot(x, y_model, 'r-')  # Plot the model\n",
      "_ = interact(plot_powers, x_power=(1, 5), y_power=(1, 5))"
     ],
     "language": "python",
     "metadata": {},
     "outputs": []
    },
    {
     "cell_type": "markdown",
     "metadata": {},
     "source": [
      "###In fact it's magic...\n",
      "IPython provides a suite of command tools to do useful stuff, here are a few:<br>\n",
      "`!` submits a UNIX shell command"
     ]
    },
    {
     "cell_type": "code",
     "collapsed": false,
     "input": [
      "!ls -la"
     ],
     "language": "python",
     "metadata": {},
     "outputs": []
    },
    {
     "cell_type": "markdown",
     "metadata": {},
     "source": [
      "`%%time` will calculate how long a cell took to execute"
     ]
    },
    {
     "cell_type": "code",
     "collapsed": false,
     "input": [
      "%%time\n",
      "a = [x for x in range(1000000)]\n",
      "del a"
     ],
     "language": "python",
     "metadata": {},
     "outputs": []
    },
    {
     "cell_type": "code",
     "collapsed": false,
     "input": [
      "%lsmagic"
     ],
     "language": "python",
     "metadata": {},
     "outputs": []
    },
    {
     "cell_type": "code",
     "collapsed": false,
     "input": [
      "?str.upper()"
     ],
     "language": "python",
     "metadata": {},
     "outputs": []
    },
    {
     "cell_type": "markdown",
     "metadata": {},
     "source": [
      "#Programming in Python\n",
      "What do we already know?\n",
      "* variables?\n",
      "* `for` loop?\n",
      "* arrays? lists?\n",
      "* hash table? dictionary?\n",
      "* functions? classes?\n",
      "* decorators? generators?"
     ]
    },
    {
     "cell_type": "markdown",
     "metadata": {},
     "source": [
      "##00 - Basic Python execution"
     ]
    },
    {
     "cell_type": "code",
     "collapsed": false,
     "input": [
      "a = 1\n",
      "b = 2\n",
      "a+b"
     ],
     "language": "python",
     "metadata": {},
     "outputs": []
    },
    {
     "cell_type": "code",
     "collapsed": false,
     "input": [
      "1/2"
     ],
     "language": "python",
     "metadata": {},
     "outputs": []
    },
    {
     "cell_type": "markdown",
     "metadata": {},
     "source": [
      "Wuuuhhh? BEWARE OF INTEGER DIVISION!"
     ]
    },
    {
     "cell_type": "code",
     "collapsed": false,
     "input": [
      "1.0/2"
     ],
     "language": "python",
     "metadata": {},
     "outputs": []
    },
    {
     "cell_type": "markdown",
     "metadata": {},
     "source": [
      "That feels better"
     ]
    },
    {
     "cell_type": "code",
     "collapsed": false,
     "input": [
      "name = 'chad'\n",
      "print name"
     ],
     "language": "python",
     "metadata": {},
     "outputs": []
    },
    {
     "cell_type": "markdown",
     "metadata": {},
     "source": [
      "Sting Concatenation with `+`"
     ]
    },
    {
     "cell_type": "code",
     "collapsed": false,
     "input": [
      "truth = name + ' is a pretty ok guy'\n",
      "print truth"
     ],
     "language": "python",
     "metadata": {},
     "outputs": []
    },
    {
     "cell_type": "code",
     "collapsed": false,
     "input": [
      "zeal = (truth+'! ')*10\n",
      "print zeal"
     ],
     "language": "python",
     "metadata": {},
     "outputs": []
    },
    {
     "cell_type": "code",
     "collapsed": false,
     "input": [
      "emphatic_zeal = zeal.upper()\n",
      "print emphatic_zeal"
     ],
     "language": "python",
     "metadata": {},
     "outputs": []
    },
    {
     "cell_type": "markdown",
     "metadata": {},
     "source": [
      "and so much more..."
     ]
    },
    {
     "cell_type": "code",
     "collapsed": false,
     "input": [
      "dir(emphatic_zeal)"
     ],
     "language": "python",
     "metadata": {},
     "outputs": []
    },
    {
     "cell_type": "markdown",
     "metadata": {},
     "source": [
      "##01 - Data Structures\n",
      "*Lists*<br>\n",
      "Python Lists can contain an arbitary list of objects.  It can be ints, strings, dictionaries, objects, and even functions.\n",
      "\n",
      "*Tuple*<br>\n",
      "Tuple is unique to Python and is not present in other languages.  Tuples are like lists, but cannot be appended or deleted after initialization.  You can create new Tuples, but cannot add more elements to existing tuple. Tuple is more efficient than Lists and has a subset of API that List has.\n",
      "\n",
      "*Sets*<br>\n",
      "Dicts are like lists, but the values are unique in the list.  You have additional functions to do Set unions, intersections etc.\n",
      "\n",
      "*Dictionaries*<br>\n",
      "Dictionaries (hashmap in other languages) creates a Key-Value container.  Just like lists, Values can be of any type - ints, strings, lists, functions and even another dict.\n",
      "\n",
      "The Key of dictionary must be \"immutable\" - int, string, tuple\n",
      "\n",
      "These classes can also be used as Iterable to access the elements.  Iterable is an object that can be iterated over (in a for loop for instance).  Just think of it as a sequence.  It would be clear once we do some examples.\n",
      "\n",
      "Below are examples of some of these data structures\n",
      "###01.1 - Lists"
     ]
    },
    {
     "cell_type": "code",
     "collapsed": false,
     "input": [
      "[1,2,3,10,9,8,100,32,13,13,13]"
     ],
     "language": "python",
     "metadata": {},
     "outputs": []
    },
    {
     "cell_type": "code",
     "collapsed": false,
     "input": [
      "a = [1,2,3,10,9,8,100,32,13,13,13]"
     ],
     "language": "python",
     "metadata": {},
     "outputs": [],
     "prompt_number": 2
    },
    {
     "cell_type": "markdown",
     "metadata": {},
     "source": [
      "####01.1.1 - Indexing"
     ]
    },
    {
     "cell_type": "code",
     "collapsed": false,
     "input": [
      "a[0]"
     ],
     "language": "python",
     "metadata": {},
     "outputs": []
    },
    {
     "cell_type": "markdown",
     "metadata": {},
     "source": [
      "####01.1.2 - Slicing"
     ]
    },
    {
     "cell_type": "code",
     "collapsed": false,
     "input": [
      "a[1:8]"
     ],
     "language": "python",
     "metadata": {},
     "outputs": []
    },
    {
     "cell_type": "code",
     "collapsed": false,
     "input": [
      "a[1:8:2]"
     ],
     "language": "python",
     "metadata": {},
     "outputs": [
      {
       "metadata": {},
       "output_type": "pyout",
       "prompt_number": 4,
       "text": [
        "[2, 10, 8, 32]"
       ]
      }
     ],
     "prompt_number": 4
    },
    {
     "cell_type": "code",
     "collapsed": false,
     "input": [
      "a[-1]"
     ],
     "language": "python",
     "metadata": {},
     "outputs": []
    },
    {
     "cell_type": "markdown",
     "metadata": {},
     "source": [
      "####01.1.3 - Slice/Transform"
     ]
    },
    {
     "cell_type": "code",
     "collapsed": false,
     "input": [
      "a[::-1]"
     ],
     "language": "python",
     "metadata": {},
     "outputs": [
      {
       "metadata": {},
       "output_type": "pyout",
       "prompt_number": 6,
       "text": [
        "[13, 13, 13, 32, 100, 8, 9, 10, 3, 2, 1]"
       ]
      }
     ],
     "prompt_number": 6
    },
    {
     "cell_type": "code",
     "collapsed": false,
     "input": [
      "a.reverse()\n",
      "a"
     ],
     "language": "python",
     "metadata": {},
     "outputs": [
      {
       "metadata": {},
       "output_type": "pyout",
       "prompt_number": 7,
       "text": [
        "[13, 13, 13, 32, 100, 8, 9, 10, 3, 2, 1]"
       ]
      }
     ],
     "prompt_number": 7
    },
    {
     "cell_type": "markdown",
     "metadata": {},
     "source": [
      "What is the difference between these methods?"
     ]
    },
    {
     "cell_type": "code",
     "collapsed": false,
     "input": [
      "a."
     ],
     "language": "python",
     "metadata": {},
     "outputs": []
    },
    {
     "cell_type": "markdown",
     "metadata": {},
     "source": [
      "Lists can be any collection of objects:<br>\n",
      "Remember `truth`?"
     ]
    },
    {
     "cell_type": "code",
     "collapsed": false,
     "input": [
      "truth.split()"
     ],
     "language": "python",
     "metadata": {},
     "outputs": []
    },
    {
     "cell_type": "code",
     "collapsed": false,
     "input": [
      "truth_list = truth.split()\n",
      "truth_list[0]"
     ],
     "language": "python",
     "metadata": {},
     "outputs": []
    },
    {
     "cell_type": "markdown",
     "metadata": {},
     "source": [
      "###01.2 - Dictionaries\n",
      "Dictionaries are unordered sets of key : value pairs. That is, they not only store the value, but also what the value represents. "
     ]
    },
    {
     "cell_type": "code",
     "collapsed": false,
     "input": [
      "chad = {'favorite_number':2,\n",
      "        'favorite_color':'green',\n",
      "        'favorite_foods':['apples','ramen','baby seals']}\n",
      "chad"
     ],
     "language": "python",
     "metadata": {},
     "outputs": []
    },
    {
     "cell_type": "code",
     "collapsed": false,
     "input": [
      "print chad.keys()\n",
      "print chad.values()"
     ],
     "language": "python",
     "metadata": {},
     "outputs": []
    },
    {
     "cell_type": "markdown",
     "metadata": {},
     "source": [
      "Update (dictionary keys must be unique)"
     ]
    },
    {
     "cell_type": "code",
     "collapsed": false,
     "input": [
      "chad['favorite_number'] = chad['favorite_number']*2\n",
      "chad['favorite_number']"
     ],
     "language": "python",
     "metadata": {},
     "outputs": []
    },
    {
     "cell_type": "markdown",
     "metadata": {},
     "source": [
      "You can nest dictionaries in dictionaries, to show complex relationships between objects"
     ]
    },
    {
     "cell_type": "code",
     "collapsed": false,
     "input": [
      "chad['family'] = {'wife':'shannon','children':['vye','jude','maeve']}\n",
      "chad"
     ],
     "language": "python",
     "metadata": {},
     "outputs": []
    },
    {
     "cell_type": "code",
     "collapsed": false,
     "input": [
      "chad['family']['children'][1]"
     ],
     "language": "python",
     "metadata": {},
     "outputs": []
    },
    {
     "cell_type": "markdown",
     "metadata": {},
     "source": [
      "The better way to create a dict in Python"
     ]
    },
    {
     "cell_type": "code",
     "collapsed": false,
     "input": [
      "travel = dict()\n",
      "travel['start'] = \"SFO\"\n",
      "travel['dest'] = \"NYC\"\n",
      "travel['miles'] = 2600\n",
      "travel['options'] = [\"United\", \"JetBlue\", \"SouthWest\"]"
     ],
     "language": "python",
     "metadata": {},
     "outputs": []
    },
    {
     "cell_type": "code",
     "collapsed": false,
     "input": [
      "travel"
     ],
     "language": "python",
     "metadata": {},
     "outputs": []
    },
    {
     "cell_type": "markdown",
     "metadata": {},
     "source": [
      "###01.3 - Tuples"
     ]
    },
    {
     "cell_type": "code",
     "collapsed": false,
     "input": [
      "a = ('dog','cat','orange')"
     ],
     "language": "python",
     "metadata": {},
     "outputs": []
    },
    {
     "cell_type": "code",
     "collapsed": false,
     "input": [
      "a[1]"
     ],
     "language": "python",
     "metadata": {},
     "outputs": []
    },
    {
     "cell_type": "code",
     "collapsed": false,
     "input": [
      "a[1]='apple'"
     ],
     "language": "python",
     "metadata": {},
     "outputs": []
    },
    {
     "cell_type": "markdown",
     "metadata": {},
     "source": [
      "tuples are immutable"
     ]
    },
    {
     "cell_type": "markdown",
     "metadata": {},
     "source": [
      "##02 - Functions and Flows\n",
      "The basics of functions in Python are a definition (function name and input name[s]) and a return (output)."
     ]
    },
    {
     "cell_type": "code",
     "collapsed": false,
     "input": [
      "def put_a_bird_on_it(almost_anything):\n",
      "    return almost_anything+'??? put a bird on it!'"
     ],
     "language": "python",
     "metadata": {},
     "outputs": []
    },
    {
     "cell_type": "code",
     "collapsed": false,
     "input": [
      "put_a_bird_on_it('decorative plates')"
     ],
     "language": "python",
     "metadata": {},
     "outputs": []
    },
    {
     "cell_type": "code",
     "collapsed": false,
     "input": [
      "put_a_bird_on_it(4)"
     ],
     "language": "python",
     "metadata": {},
     "outputs": []
    },
    {
     "cell_type": "markdown",
     "metadata": {},
     "source": [
      "####02.1 - Iteration, how to do something to a lot of things...\n",
      "Put a bird on all these things"
     ]
    },
    {
     "cell_type": "code",
     "collapsed": false,
     "input": [
      "things = ['lamp shades','football helmets','brussel sprouts','dodge stratus']"
     ],
     "language": "python",
     "metadata": {},
     "outputs": []
    },
    {
     "cell_type": "markdown",
     "metadata": {},
     "source": [
      "The ugly way:"
     ]
    },
    {
     "cell_type": "code",
     "collapsed": false,
     "input": [
      "list_of_bird_things = []\n",
      "num_items = len(things)\n",
      "for i in range(num_items):\n",
      "    bird_thing = put_a_bird_on_it(things[i])\n",
      "    list_of_bird_things.append(bird_thing)\n",
      "list_of_bird_things"
     ],
     "language": "python",
     "metadata": {},
     "outputs": []
    },
    {
     "cell_type": "markdown",
     "metadata": {},
     "source": [
      "But python knows what lists are for....iterating:"
     ]
    },
    {
     "cell_type": "code",
     "collapsed": false,
     "input": [
      "list_of_bird_things = []\n",
      "for item in things:\n",
      "    list_of_bird_things.append(put_a_bird_on_it(item))\n",
      "list_of_bird_things"
     ],
     "language": "python",
     "metadata": {},
     "outputs": []
    },
    {
     "cell_type": "markdown",
     "metadata": {},
     "source": [
      "Pythonic Tangent - the above pattern of creating a list by iterating over another list is so common that Python has elevated the pattern to syntax called a List Comprehension. So we can express the same statement above as:"
     ]
    },
    {
     "cell_type": "code",
     "collapsed": false,
     "input": [
      "list_of_bird_things = [put_a_bird_on_it(item) for item in things]\n",
      "list_of_bird_things"
     ],
     "language": "python",
     "metadata": {},
     "outputs": []
    },
    {
     "cell_type": "markdown",
     "metadata": {},
     "source": [
      "Functional Tangent - feel free to ignore this :)"
     ]
    },
    {
     "cell_type": "code",
     "collapsed": false,
     "input": [
      "map(put_a_bird_on_it,things)"
     ],
     "language": "python",
     "metadata": {},
     "outputs": []
    },
    {
     "cell_type": "markdown",
     "metadata": {},
     "source": [
      "####02.2 - Control Flow"
     ]
    },
    {
     "cell_type": "code",
     "collapsed": false,
     "input": [
      "if True:\n",
      "    print 'hello'"
     ],
     "language": "python",
     "metadata": {},
     "outputs": []
    },
    {
     "cell_type": "code",
     "collapsed": false,
     "input": [
      "if 'abc'=='Abc':\n",
      "    print 'hello'\n",
      "else: \n",
      "    print 'goodbye'"
     ],
     "language": "python",
     "metadata": {},
     "outputs": []
    },
    {
     "cell_type": "code",
     "collapsed": false,
     "input": [
      "lst = [23,32,2,3]\n",
      "for item in lst:\n",
      "    if item%2==0: #modulus operator\n",
      "        print 'even'\n",
      "    elif item%2!=0:\n",
      "        print 'odd'"
     ],
     "language": "python",
     "metadata": {},
     "outputs": []
    },
    {
     "cell_type": "markdown",
     "metadata": {},
     "source": [
      "##LAB EXERCISE 1: Functions, Data Structures, and flow controls\n",
      "####Given some data:"
     ]
    },
    {
     "cell_type": "code",
     "collapsed": false,
     "input": [
      "data = [ 5,  9,  6,  1, 10,  7,  5,  0,  2,  4,  4,  6, 10,  8, 14,  0, 11,\n",
      "       12,  0,  7, 14,  1,  3,  7,  8, 14,  9,  2,  8, 14, 11,  6,  6,  6,\n",
      "        0,  3, 10,  2, 14,  6,  7,  7,  3, 13,  0,  4, 12,  4, 10,  8,  8,\n",
      "        6,  8,  8,  7,  2, 14, 13,  0,  7, 10,  2,  4, 12,  6, 12,  1,  3,\n",
      "        2,  0,  1,  8,  8,  4,  1, 10,  2, 13,  3,  4,  8,  7,  6, 10, 11,\n",
      "        6, 10,  8,  5,  9,  7,  7,  8, 13,  3, 14,  7,  9, 11,  8]"
     ],
     "language": "python",
     "metadata": {},
     "outputs": []
    },
    {
     "cell_type": "markdown",
     "metadata": {},
     "source": [
      "####Write a function that will take a list of integers and return a dictionary where the keys are the unique integers in the list and values are the number of times they occur in the list.\n",
      "e.g. `[ 1 , 2 , 1 , 1 , 2 , 12 ] -> { 1:3 , 2:2 , 12:1 }`"
     ]
    },
    {
     "cell_type": "code",
     "collapsed": false,
     "input": [
      "def make_hist(some_data):\n",
      "    hist = {}\n",
      "    for d in some_data:\n",
      "        if d in hist:\n",
      "            hist[d]+=1\n",
      "        else:\n",
      "            hist[d] = 1\n",
      "    return hist\n",
      "make_hist(data)"
     ],
     "language": "python",
     "metadata": {},
     "outputs": []
    },
    {
     "cell_type": "code",
     "collapsed": false,
     "input": [
      "data_counts = set(data)"
     ],
     "language": "python",
     "metadata": {},
     "outputs": []
    },
    {
     "cell_type": "code",
     "collapsed": false,
     "input": [
      "def make_hist(some_data):\n",
      "    hist = {}\n",
      "    for d in some_data:\n",
      "        if d in hist:\n",
      "            hist[d] += 1\n",
      "        else:\n",
      "            hist[d]= 1\n",
      "    return hist\n",
      "make_hist(data)\n",
      "        "
     ],
     "language": "python",
     "metadata": {},
     "outputs": []
    },
    {
     "cell_type": "markdown",
     "metadata": {},
     "source": [
      "####If you're done, try exploring some of the built-in list functions"
     ]
    },
    {
     "cell_type": "code",
     "collapsed": false,
     "input": [
      "?list.__init__\n"
     ],
     "language": "python",
     "metadata": {},
     "outputs": []
    },
    {
     "cell_type": "code",
     "collapsed": false,
     "input": [
      "dir(list)"
     ],
     "language": "python",
     "metadata": {},
     "outputs": []
    },
    {
     "cell_type": "code",
     "collapsed": false,
     "input": [
      "?remove"
     ],
     "language": "python",
     "metadata": {},
     "outputs": []
    },
    {
     "cell_type": "markdown",
     "metadata": {},
     "source": [
      "##03 - File I/O"
     ]
    },
    {
     "cell_type": "markdown",
     "metadata": {},
     "source": [
      "Sometimes we want to save some data for later use."
     ]
    },
    {
     "cell_type": "markdown",
     "metadata": {},
     "source": [
      "####03.1 - Regular file reading and writing"
     ]
    },
    {
     "cell_type": "code",
     "collapsed": false,
     "input": [
      "line = 'Call me Ishmael.\\n'\n",
      "print line"
     ],
     "language": "python",
     "metadata": {},
     "outputs": []
    },
    {
     "cell_type": "markdown",
     "metadata": {},
     "source": [
      "We can access our machines file storage system with `open` function."
     ]
    },
    {
     "cell_type": "code",
     "collapsed": false,
     "input": [
      "?open"
     ],
     "language": "python",
     "metadata": {},
     "outputs": []
    },
    {
     "cell_type": "markdown",
     "metadata": {},
     "source": [
      "Here we create a file and write our line to that file called `moby_dick.txt`"
     ]
    },
    {
     "cell_type": "code",
     "collapsed": false,
     "input": [
      "file_writer = open('moby_dick.txt','w')\n",
      "file_writer.write(line)\n",
      "file_writer.close()"
     ],
     "language": "python",
     "metadata": {},
     "outputs": []
    },
    {
     "cell_type": "markdown",
     "metadata": {},
     "source": [
      "Using shell magic we can read the file"
     ]
    },
    {
     "cell_type": "code",
     "collapsed": false,
     "input": [
      "!cat moby_dick.txt"
     ],
     "language": "python",
     "metadata": {},
     "outputs": []
    },
    {
     "cell_type": "markdown",
     "metadata": {},
     "source": [
      "If we want to read the contents of the file into memory, again we use the `open`.<br>\n",
      "*Don't forget to `close()` your file pointers*"
     ]
    },
    {
     "cell_type": "code",
     "collapsed": false,
     "input": [
      "file_reader = open('moby_dick.txt')\n",
      "md_txt = file_reader.read()\n",
      "file_reader.close()\n",
      "print md_txt"
     ],
     "language": "python",
     "metadata": {},
     "outputs": []
    },
    {
     "cell_type": "markdown",
     "metadata": {},
     "source": [
      "####03.2 - JSON, a real-world data format"
     ]
    },
    {
     "cell_type": "markdown",
     "metadata": {},
     "source": [
      "Remember our dictionary `chad`?<br>\n",
      "Python dictionaries comply with a data interchange format called <a href=http://tools.ietf.org/html/rfc4627.html>`JSON`</a>, which has become something of a standard in data storage/transfer...So, you're going to see a lot of it."
     ]
    },
    {
     "cell_type": "code",
     "collapsed": false,
     "input": [
      "chad['name'] = 'chad'"
     ],
     "language": "python",
     "metadata": {},
     "outputs": []
    },
    {
     "cell_type": "markdown",
     "metadata": {},
     "source": [
      "Now that we have a complete record, we want to make a list of records."
     ]
    },
    {
     "cell_type": "code",
     "collapsed": false,
     "input": [
      "people = []\n",
      "people.append(chad)"
     ],
     "language": "python",
     "metadata": {},
     "outputs": []
    },
    {
     "cell_type": "code",
     "collapsed": false,
     "input": [
      "tom_brady = {'name':'tom',\n",
      "             'family': {'children': ['john', 'benjamin', 'vivian'], 'wife': 'gisele'},\n",
      "             'favorite_color': 'blue',\n",
      "             'favorite_foods': ['tofu', 'kale', 'tree bark'],\n",
      "             'favorite_number': 12}\n",
      "people.append(tom_brady)\n",
      "people"
     ],
     "language": "python",
     "metadata": {},
     "outputs": []
    },
    {
     "cell_type": "markdown",
     "metadata": {},
     "source": [
      "At this point we could write our data to file using the same pattern as `moby_dick`, but we want to use the data as a dictionary. We would have to read the file, then parse the file to get retrieve this structure. (YUCK)<br> \n",
      "Luckily, Python provides some special tools for encoding and decoding `JSON` from/to dictionaries. "
     ]
    },
    {
     "cell_type": "code",
     "collapsed": false,
     "input": [
      "import json\n",
      "json.dump(people,open('people.json','w'))\n",
      "!cat people.json"
     ],
     "language": "python",
     "metadata": {},
     "outputs": []
    },
    {
     "cell_type": "code",
     "collapsed": false,
     "input": [
      "another_people = json.load(open('people.json'))\n",
      "another_people"
     ],
     "language": "python",
     "metadata": {},
     "outputs": []
    },
    {
     "cell_type": "code",
     "collapsed": false,
     "input": [
      "favorite_numbers = []\n",
      "for record in another_people:\n",
      "    favorite_numbers.append(record['favorite_number'])\n",
      "print favorite_numbers"
     ],
     "language": "python",
     "metadata": {},
     "outputs": []
    },
    {
     "cell_type": "markdown",
     "metadata": {},
     "source": [
      "##LAB EXERCISE 2: File I/O\n",
      "####`claims.json` is a `JSON` file that contains records of pharmaceutical claims processed by an insurance company.\n",
      "make sure you have `claims.json` in your current working directory"
     ]
    },
    {
     "cell_type": "code",
     "collapsed": false,
     "input": [
      "!ls"
     ],
     "language": "python",
     "metadata": {},
     "outputs": []
    },
    {
     "cell_type": "markdown",
     "metadata": {},
     "source": [
      "####Use the `json` module to load these records into a variable"
     ]
    },
    {
     "cell_type": "code",
     "collapsed": false,
     "input": [
      "import json\n",
      "claims = json.load(open('claims.json'))\n"
     ],
     "language": "python",
     "metadata": {},
     "outputs": [],
     "prompt_number": 8
    },
    {
     "cell_type": "markdown",
     "metadata": {},
     "source": [
      "####Now, use indexing and slicing to explore the data"
     ]
    },
    {
     "cell_type": "code",
     "collapsed": false,
     "input": [
      "claims[-20:-1]"
     ],
     "language": "python",
     "metadata": {},
     "outputs": [
      {
       "metadata": {},
       "output_type": "pyout",
       "prompt_number": 9,
       "text": [
        "[{u'birthYear': u'1950',\n",
        "  u'daysSupplyCount': u'30',\n",
        "  u'dispenseQuarter': u'2011Q3',\n",
        "  u'gender': u'F',\n",
        "  u'generic': u'Y',\n",
        "  u'ndc': u'68180-479-02',\n",
        "  u'ndc11Digit': u'68180047902',\n",
        "  u'newRefillCount': u'5',\n",
        "  u'prescSpecialty': u'10301',\n",
        "  u'threeDigitPhmZip': u'921',\n",
        "  u'threeDigitSubsZip': u'919',\n",
        "  u'untsDispensedQuantity': u'30.000'},\n",
        " {u'birthYear': u'1950',\n",
        "  u'daysSupplyCount': u'7',\n",
        "  u'dispenseQuarter': u'2011Q3',\n",
        "  u'gender': u'M',\n",
        "  u'generic': u'Y',\n",
        "  u'ndc': u'0406-0512-01',\n",
        "  u'ndc11Digit': u'00406051201',\n",
        "  u'newRefillCount': u'0',\n",
        "  u'prescSpecialty': u'10201',\n",
        "  u'threeDigitPhmZip': u'077',\n",
        "  u'threeDigitSubsZip': u'077',\n",
        "  u'untsDispensedQuantity': u'30.000'},\n",
        " {u'birthYear': u'1950',\n",
        "  u'daysSupplyCount': u'30',\n",
        "  u'dispenseQuarter': u'2011Q3',\n",
        "  u'gender': u'M',\n",
        "  u'generic': u'Y',\n",
        "  u'ndc': u'68180-502-01',\n",
        "  u'ndc11Digit': u'68180050201',\n",
        "  u'newRefillCount': u'0',\n",
        "  u'prescSpecialty': u'10201',\n",
        "  u'threeDigitPhmZip': u'077',\n",
        "  u'threeDigitSubsZip': u'077',\n",
        "  u'untsDispensedQuantity': u'30.000'},\n",
        " {u'birthYear': u'1950',\n",
        "  u'daysSupplyCount': u'30',\n",
        "  u'dispenseQuarter': u'2011Q3',\n",
        "  u'gender': u'M',\n",
        "  u'generic': u'N',\n",
        "  u'ndc': u'0006-0117-31',\n",
        "  u'ndc11Digit': u'00006011731',\n",
        "  u'newRefillCount': u'11',\n",
        "  u'prescSpecialty': u'10501',\n",
        "  u'threeDigitPhmZip': u'770',\n",
        "  u'threeDigitSubsZip': u'770',\n",
        "  u'untsDispensedQuantity': u'30.000'},\n",
        " {u'birthYear': u'1950',\n",
        "  u'daysSupplyCount': u'30',\n",
        "  u'dispenseQuarter': u'2011Q3',\n",
        "  u'gender': u'M',\n",
        "  u'generic': u'N',\n",
        "  u'ndc': u'0006-0117-31',\n",
        "  u'ndc11Digit': u'00006011731',\n",
        "  u'newRefillCount': u'0',\n",
        "  u'prescSpecialty': u'10501',\n",
        "  u'threeDigitPhmZip': u'770',\n",
        "  u'threeDigitSubsZip': u'770',\n",
        "  u'untsDispensedQuantity': u'30.000'},\n",
        " {u'birthYear': u'1950',\n",
        "  u'daysSupplyCount': u'30',\n",
        "  u'dispenseQuarter': u'2011Q3',\n",
        "  u'gender': u'M',\n",
        "  u'generic': u'N',\n",
        "  u'ndc': u'0085-1288-01',\n",
        "  u'ndc11Digit': u'00085128801',\n",
        "  u'newRefillCount': u'0',\n",
        "  u'prescSpecialty': u'10501',\n",
        "  u'threeDigitPhmZip': u'770',\n",
        "  u'threeDigitSubsZip': u'770',\n",
        "  u'untsDispensedQuantity': u'17.000'},\n",
        " {u'birthYear': u'1950',\n",
        "  u'daysSupplyCount': u'30',\n",
        "  u'dispenseQuarter': u'2011Q3',\n",
        "  u'gender': u'M',\n",
        "  u'generic': u'Y',\n",
        "  u'ndc': u'0781-2355-01',\n",
        "  u'ndc11Digit': u'00781235501',\n",
        "  u'newRefillCount': u'11',\n",
        "  u'prescSpecialty': u'10307',\n",
        "  u'threeDigitPhmZip': u'300',\n",
        "  u'threeDigitSubsZip': u'300',\n",
        "  u'untsDispensedQuantity': u'30.000'},\n",
        " {u'birthYear': u'1950',\n",
        "  u'daysSupplyCount': u'30',\n",
        "  u'dispenseQuarter': u'2011Q3',\n",
        "  u'gender': u'M',\n",
        "  u'generic': u'Y',\n",
        "  u'ndc': u'68382-072-16',\n",
        "  u'ndc11Digit': u'68382007216',\n",
        "  u'newRefillCount': u'0',\n",
        "  u'prescSpecialty': u'10201',\n",
        "  u'threeDigitPhmZip': u'080',\n",
        "  u'threeDigitSubsZip': u'080',\n",
        "  u'untsDispensedQuantity': u'30.000'},\n",
        " {u'birthYear': u'1951',\n",
        "  u'daysSupplyCount': u'30',\n",
        "  u'dispenseQuarter': u'2011Q3',\n",
        "  u'gender': u'M',\n",
        "  u'generic': u'Y',\n",
        "  u'ndc': u'16714-613-06',\n",
        "  u'ndc11Digit': u'16714061306',\n",
        "  u'newRefillCount': u'1',\n",
        "  u'prescSpecialty': u'10201',\n",
        "  u'threeDigitPhmZip': u'752',\n",
        "  u'threeDigitSubsZip': u'752',\n",
        "  u'untsDispensedQuantity': u'30.000'},\n",
        " {u'birthYear': u'1951',\n",
        "  u'daysSupplyCount': u'12',\n",
        "  u'dispenseQuarter': u'2011Q3',\n",
        "  u'gender': u'F',\n",
        "  u'generic': u'Y',\n",
        "  u'ndc': u'0378-0345-05',\n",
        "  u'ndc11Digit': u'00378034505',\n",
        "  u'newRefillCount': u'1',\n",
        "  u'prescSpecialty': u'10301',\n",
        "  u'threeDigitPhmZip': u'926',\n",
        "  u'threeDigitSubsZip': u'926',\n",
        "  u'untsDispensedQuantity': u'24.000'},\n",
        " {u'birthYear': u'1951',\n",
        "  u'daysSupplyCount': u'25',\n",
        "  u'dispenseQuarter': u'2011Q3',\n",
        "  u'gender': u'F',\n",
        "  u'generic': u'N',\n",
        "  u'ndc': u'99073-708-22',\n",
        "  u'ndc11Digit': u'99073070822',\n",
        "  u'newRefillCount': u'3',\n",
        "  u'prescSpecialty': u'10201',\n",
        "  u'threeDigitPhmZip': u'301',\n",
        "  u'threeDigitSubsZip': u'301',\n",
        "  u'untsDispensedQuantity': u'50.000'},\n",
        " {u'birthYear': u'1950',\n",
        "  u'daysSupplyCount': u'30',\n",
        "  u'dispenseQuarter': u'2011Q3',\n",
        "  u'gender': u'F',\n",
        "  u'generic': u'Y',\n",
        "  u'ndc': u'54458-925-10',\n",
        "  u'ndc11Digit': u'54458092510',\n",
        "  u'newRefillCount': u'1',\n",
        "  u'prescSpecialty': u'10201',\n",
        "  u'threeDigitPhmZip': u'300',\n",
        "  u'threeDigitSubsZip': u'300',\n",
        "  u'untsDispensedQuantity': u'60.000'},\n",
        " {u'birthYear': u'1950',\n",
        "  u'daysSupplyCount': u'90',\n",
        "  u'dispenseQuarter': u'2011Q3',\n",
        "  u'gender': u'F',\n",
        "  u'generic': u'Y',\n",
        "  u'ndc': u'68180-515-03',\n",
        "  u'ndc11Digit': u'68180051503',\n",
        "  u'newRefillCount': u'0',\n",
        "  u'prescSpecialty': u'10303',\n",
        "  u'threeDigitPhmZip': u'799',\n",
        "  u'threeDigitSubsZip': u'799',\n",
        "  u'untsDispensedQuantity': u'90.000'},\n",
        " {u'birthYear': u'1950',\n",
        "  u'daysSupplyCount': u'30',\n",
        "  u'dispenseQuarter': u'2011Q3',\n",
        "  u'gender': u'M',\n",
        "  u'generic': u'Y',\n",
        "  u'ndc': u'16714-353-04',\n",
        "  u'ndc11Digit': u'16714035304',\n",
        "  u'newRefillCount': u'1',\n",
        "  u'prescSpecialty': u'11001',\n",
        "  u'threeDigitPhmZip': u'194',\n",
        "  u'threeDigitSubsZip': u'194',\n",
        "  u'untsDispensedQuantity': u'30.000'},\n",
        " {u'birthYear': u'1950',\n",
        "  u'daysSupplyCount': u'30',\n",
        "  u'dispenseQuarter': u'2011Q3',\n",
        "  u'gender': u'M',\n",
        "  u'generic': u'Y',\n",
        "  u'ndc': u'61314-227-05',\n",
        "  u'ndc11Digit': u'61314022705',\n",
        "  u'newRefillCount': u'1',\n",
        "  u'prescSpecialty': u'10201',\n",
        "  u'threeDigitPhmZip': u'191',\n",
        "  u'threeDigitSubsZip': u'191',\n",
        "  u'untsDispensedQuantity': u'5.000'},\n",
        " {u'birthYear': u'1950',\n",
        "  u'daysSupplyCount': u'90',\n",
        "  u'dispenseQuarter': u'2011Q3',\n",
        "  u'gender': u'F',\n",
        "  u'generic': u'N',\n",
        "  u'ndc': u'0085-1288-01',\n",
        "  u'ndc11Digit': u'00085128801',\n",
        "  u'newRefillCount': u'3',\n",
        "  u'prescSpecialty': u'10201',\n",
        "  u'threeDigitPhmZip': u'330',\n",
        "  u'threeDigitSubsZip': u'756',\n",
        "  u'untsDispensedQuantity': u'51.000'},\n",
        " {u'birthYear': u'1950',\n",
        "  u'daysSupplyCount': u'5',\n",
        "  u'dispenseQuarter': u'2011Q3',\n",
        "  u'gender': u'M',\n",
        "  u'generic': u'Y',\n",
        "  u'ndc': u'45802-112-22',\n",
        "  u'ndc11Digit': u'45802011222',\n",
        "  u'newRefillCount': u'0',\n",
        "  u'prescSpecialty': u'30901',\n",
        "  u'threeDigitPhmZip': u'495',\n",
        "  u'threeDigitSubsZip': u'495',\n",
        "  u'untsDispensedQuantity': u'22.000'},\n",
        " {u'birthYear': u'1950',\n",
        "  u'daysSupplyCount': u'5',\n",
        "  u'dispenseQuarter': u'2011Q3',\n",
        "  u'gender': u'F',\n",
        "  u'generic': u'N',\n",
        "  u'ndc': u'0178-8500-20',\n",
        "  u'ndc11Digit': u'00178850020',\n",
        "  u'newRefillCount': u'0',\n",
        "  u'prescSpecialty': u'10307',\n",
        "  u'threeDigitPhmZip': u'327',\n",
        "  u'threeDigitSubsZip': u'770',\n",
        "  u'untsDispensedQuantity': u'10.000'},\n",
        " {u'birthYear': u'1950',\n",
        "  u'daysSupplyCount': u'30',\n",
        "  u'dispenseQuarter': u'2011Q3',\n",
        "  u'gender': u'F',\n",
        "  u'generic': u'Y',\n",
        "  u'ndc': u'0378-3422-01',\n",
        "  u'ndc11Digit': u'00378342201',\n",
        "  u'newRefillCount': u'2',\n",
        "  u'prescSpecialty': u'10301',\n",
        "  u'threeDigitPhmZip': u'342',\n",
        "  u'threeDigitSubsZip': u'342',\n",
        "  u'untsDispensedQuantity': u'30.000'}]"
       ]
      }
     ],
     "prompt_number": 9
    },
    {
     "cell_type": "code",
     "collapsed": false,
     "input": [
      "len(claims)"
     ],
     "language": "python",
     "metadata": {},
     "outputs": []
    },
    {
     "cell_type": "code",
     "collapsed": false,
     "input": [
      "def parse_data(some_dict, d):\n",
      "    data = []\n",
      "    for dat in some_dict:\n",
      "        data.append(dat[d])\n",
      "    return data\n",
      "\n",
      "def make_hist(some_data):\n",
      "    hist = {}\n",
      "    for d in some_data:\n",
      "        if d in hist:\n",
      "            hist[d] += 1\n",
      "        else:\n",
      "            hist[d]= 1\n",
      "    return hist\n"
     ],
     "language": "python",
     "metadata": {},
     "outputs": []
    },
    {
     "cell_type": "markdown",
     "metadata": {},
     "source": [
      "####Analysis: What is the distribution of birthyears? "
     ]
    },
    {
     "cell_type": "code",
     "collapsed": false,
     "input": [
      "years = parse_data(claims, 'birthYear')\n",
      "make_hist(years)"
     ],
     "language": "python",
     "metadata": {},
     "outputs": []
    },
    {
     "cell_type": "markdown",
     "metadata": {},
     "source": [
      "####Analysis: I want to identify drugs that have a generic form but where doctors prescribe the non-generic. Drugs are uniquely identified by the `ndc` code, if it is the generic form the `generic` field will have a value of `'Y'`"
     ]
    },
    {
     "cell_type": "code",
     "collapsed": false,
     "input": [
      "def parse_data(some_list, key1, key2):\n",
      "\tdata = {}\n",
      "\tfor some_dict in some_list:\n",
      "\t\tdata[some_dict[key1]]=some_dict[key2]\n",
      "\treturn data"
     ],
     "language": "python",
     "metadata": {},
     "outputs": []
    },
    {
     "cell_type": "code",
     "collapsed": false,
     "input": [
      "y = parse_data(claims, 'ndc', 'generic')\n"
     ],
     "language": "python",
     "metadata": {},
     "outputs": []
    },
    {
     "cell_type": "code",
     "collapsed": false,
     "input": [
      "gen = {}\n",
      "for ndc in claims:\n",
      "    if ndc['generic'] == 'Y':\n",
      "        if ndc['ndc'] in gen:\n",
      "            gen[ndc['ndc']] += 1\n",
      "        else:\n",
      "            gen[ndc['ndc']] = 1"
     ],
     "language": "python",
     "metadata": {},
     "outputs": []
    },
    {
     "cell_type": "code",
     "collapsed": false,
     "input": [
      "nongen = {}\n",
      "for ndc in claims:\n",
      "    if ndc['generic']!= 'Y':\n",
      "        if ndc['ndc'] in nongen:\n",
      "            nongen[ndc['ndc']] +=1\n",
      "        else:\n",
      "            nongen[ndc['ndc']] = 1"
     ],
     "language": "python",
     "metadata": {},
     "outputs": []
    },
    {
     "cell_type": "code",
     "collapsed": false,
     "input": [
      "print len(nongen)\n",
      "print len(gen)"
     ],
     "language": "python",
     "metadata": {},
     "outputs": []
    },
    {
     "cell_type": "code",
     "collapsed": false,
     "input": [
      "genInNon = {k for k in nongen.iteritems() if k in gen.iteritems()}\n",
      "genInNon\n"
     ],
     "language": "python",
     "metadata": {},
     "outputs": []
    },
    {
     "cell_type": "code",
     "collapsed": false,
     "input": [
      "for k,v in nongen.iteritems():\n",
      "    if k in gen.iteritems():\n",
      "        genInNon[k] = v"
     ],
     "language": "python",
     "metadata": {},
     "outputs": []
    },
    {
     "cell_type": "code",
     "collapsed": false,
     "input": [
      "alldrugs={}\n",
      "for ndc in claims:\n",
      "    if ndc['ndc'] in alldrugs:\n",
      "        alldrugs[ndc['ndc']] += 1\n",
      "    else: alldrugs[ndc['ndc']] = 1"
     ],
     "language": "python",
     "metadata": {},
     "outputs": []
    },
    {
     "cell_type": "code",
     "collapsed": false,
     "input": [
      "len(alldrugs)"
     ],
     "language": "python",
     "metadata": {},
     "outputs": []
    },
    {
     "cell_type": "code",
     "collapsed": false,
     "input": [
      "len(genInNon)"
     ],
     "language": "python",
     "metadata": {},
     "outputs": []
    },
    {
     "cell_type": "code",
     "collapsed": false,
     "input": [
      "def parse_data(some_dict, key1, key2, value):\n",
      "    data = {}\n",
      "    for d in some_dict:\n",
      "        if d[key1] == value:\n",
      "            if d[key2] in data :\n",
      "                data[d[key2]] += 1\n",
      "            else: data[d[key2]] = 1\n",
      "    return data\n",
      "\n",
      "ndrugs = parse_data(claims, 'generic', 'ndc','Y')\n",
      "odrugs = parse_data(claims, 'generic', 'ndc', 'N')\n",
      "ydrugs = parse_data(claims, 'generic', 'ndc', 'O')\n",
      "mdrugs = parse_data(claims, 'generic', 'ndc', 'M')\n"
     ],
     "language": "python",
     "metadata": {},
     "outputs": []
    },
    {
     "cell_type": "code",
     "collapsed": false,
     "input": [
      "print len(ndrugs)\n",
      "print len(odrugs)\n",
      "print len(ydrugs)\n",
      "print len(mdrugs)"
     ],
     "language": "python",
     "metadata": {},
     "outputs": []
    },
    {
     "cell_type": "code",
     "collapsed": false,
     "input": [
      "generic = {}\n",
      "for i in claims:\n",
      "    if i['generic'] in generic:\n",
      "        generic[i['generic']] += 1\n",
      "    else: generic[i['generic']] = 1"
     ],
     "language": "python",
     "metadata": {},
     "outputs": []
    },
    {
     "cell_type": "code",
     "collapsed": false,
     "input": [],
     "language": "python",
     "metadata": {},
     "outputs": []
    },
    {
     "cell_type": "code",
     "collapsed": false,
     "input": [
      "generic"
     ],
     "language": "python",
     "metadata": {},
     "outputs": []
    },
    {
     "cell_type": "code",
     "collapsed": false,
     "input": [],
     "language": "python",
     "metadata": {},
     "outputs": []
    }
   ],
   "metadata": {}
  }
 ]
}