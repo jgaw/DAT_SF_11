{
 "metadata": {
  "name": "",
  "signature": "sha256:1d9d47b4ec7e2b8b47f9bffc1832deb36538ea156f38ec1ddea856ac261ce888"
 },
 "nbformat": 3,
 "nbformat_minor": 0,
 "worksheets": [
  {
   "cells": [
    {
     "cell_type": "markdown",
     "metadata": {},
     "source": [
      "## Homework 4:\n",
      "\n",
      "1. Follow the steps below to:\n",
      "    - Read `wine.csv` in the data folder.\n",
      "    - The First Column contains the Wine Category.  Don't use it in the models below.  We are going to treat it as unsupervized learning and compare the results to the Wine column.\n",
      "2. Try `KMeans` where `n_clusters = 3` and compare the clusters to the `Wine` column.\n",
      "3. Try PCA and see how much can you reduce the variable space.\n",
      "    - How many Components did you need to explain 99% of variance in this dataset?\n",
      "    - Plot the PCA variables to see if it brings out the clusters.\n",
      "5. Try `KMeans` and Hierarchical Clustering using data from PCA and compare again the clusters to the `Wine` column."
     ]
    },
    {
     "cell_type": "markdown",
     "metadata": {},
     "source": [
      "#### Dataset\n",
      "\n",
      "wine.csv is in data folder under homeworks"
     ]
    },
    {
     "cell_type": "code",
     "collapsed": false,
     "input": [
      "import numpy as np\n",
      "import matplotlib.pyplot as plt\n",
      "import pandas as pd\n",
      "\n",
      "%matplotlib inline"
     ],
     "language": "python",
     "metadata": {},
     "outputs": [],
     "prompt_number": 3
    },
    {
     "cell_type": "code",
     "collapsed": false,
     "input": [
      "df = pd.read_csv('../data/wine.csv')"
     ],
     "language": "python",
     "metadata": {},
     "outputs": [],
     "prompt_number": 4
    },
    {
     "cell_type": "code",
     "collapsed": false,
     "input": [
      "df.head()"
     ],
     "language": "python",
     "metadata": {},
     "outputs": [
      {
       "html": [
        "<div style=\"max-height:1000px;max-width:1500px;overflow:auto;\">\n",
        "<table border=\"1\" class=\"dataframe\">\n",
        "  <thead>\n",
        "    <tr style=\"text-align: right;\">\n",
        "      <th></th>\n",
        "      <th>Wine</th>\n",
        "      <th>Alcohol</th>\n",
        "      <th>Malic.acid</th>\n",
        "      <th>Ash</th>\n",
        "      <th>Acl</th>\n",
        "      <th>Mg</th>\n",
        "      <th>Phenols</th>\n",
        "      <th>Flavanoids</th>\n",
        "      <th>Nonflavanoid.phenols</th>\n",
        "      <th>Proanth</th>\n",
        "      <th>Color.int</th>\n",
        "      <th>Hue</th>\n",
        "      <th>OD</th>\n",
        "      <th>Proline</th>\n",
        "    </tr>\n",
        "  </thead>\n",
        "  <tbody>\n",
        "    <tr>\n",
        "      <th>0</th>\n",
        "      <td> 1</td>\n",
        "      <td> 14.23</td>\n",
        "      <td> 1.71</td>\n",
        "      <td> 2.43</td>\n",
        "      <td> 15.6</td>\n",
        "      <td> 127</td>\n",
        "      <td> 2.80</td>\n",
        "      <td> 3.06</td>\n",
        "      <td> 0.28</td>\n",
        "      <td> 2.29</td>\n",
        "      <td> 5.64</td>\n",
        "      <td> 1.04</td>\n",
        "      <td> 3.92</td>\n",
        "      <td> 1065</td>\n",
        "    </tr>\n",
        "    <tr>\n",
        "      <th>1</th>\n",
        "      <td> 1</td>\n",
        "      <td> 13.20</td>\n",
        "      <td> 1.78</td>\n",
        "      <td> 2.14</td>\n",
        "      <td> 11.2</td>\n",
        "      <td> 100</td>\n",
        "      <td> 2.65</td>\n",
        "      <td> 2.76</td>\n",
        "      <td> 0.26</td>\n",
        "      <td> 1.28</td>\n",
        "      <td> 4.38</td>\n",
        "      <td> 1.05</td>\n",
        "      <td> 3.40</td>\n",
        "      <td> 1050</td>\n",
        "    </tr>\n",
        "    <tr>\n",
        "      <th>2</th>\n",
        "      <td> 1</td>\n",
        "      <td> 13.16</td>\n",
        "      <td> 2.36</td>\n",
        "      <td> 2.67</td>\n",
        "      <td> 18.6</td>\n",
        "      <td> 101</td>\n",
        "      <td> 2.80</td>\n",
        "      <td> 3.24</td>\n",
        "      <td> 0.30</td>\n",
        "      <td> 2.81</td>\n",
        "      <td> 5.68</td>\n",
        "      <td> 1.03</td>\n",
        "      <td> 3.17</td>\n",
        "      <td> 1185</td>\n",
        "    </tr>\n",
        "    <tr>\n",
        "      <th>3</th>\n",
        "      <td> 1</td>\n",
        "      <td> 14.37</td>\n",
        "      <td> 1.95</td>\n",
        "      <td> 2.50</td>\n",
        "      <td> 16.8</td>\n",
        "      <td> 113</td>\n",
        "      <td> 3.85</td>\n",
        "      <td> 3.49</td>\n",
        "      <td> 0.24</td>\n",
        "      <td> 2.18</td>\n",
        "      <td> 7.80</td>\n",
        "      <td> 0.86</td>\n",
        "      <td> 3.45</td>\n",
        "      <td> 1480</td>\n",
        "    </tr>\n",
        "    <tr>\n",
        "      <th>4</th>\n",
        "      <td> 1</td>\n",
        "      <td> 13.24</td>\n",
        "      <td> 2.59</td>\n",
        "      <td> 2.87</td>\n",
        "      <td> 21.0</td>\n",
        "      <td> 118</td>\n",
        "      <td> 2.80</td>\n",
        "      <td> 2.69</td>\n",
        "      <td> 0.39</td>\n",
        "      <td> 1.82</td>\n",
        "      <td> 4.32</td>\n",
        "      <td> 1.04</td>\n",
        "      <td> 2.93</td>\n",
        "      <td>  735</td>\n",
        "    </tr>\n",
        "  </tbody>\n",
        "</table>\n",
        "</div>"
       ],
       "metadata": {},
       "output_type": "pyout",
       "prompt_number": 5,
       "text": [
        "   Wine  Alcohol  Malic.acid   Ash   Acl   Mg  Phenols  Flavanoids  \\\n",
        "0     1    14.23        1.71  2.43  15.6  127     2.80        3.06   \n",
        "1     1    13.20        1.78  2.14  11.2  100     2.65        2.76   \n",
        "2     1    13.16        2.36  2.67  18.6  101     2.80        3.24   \n",
        "3     1    14.37        1.95  2.50  16.8  113     3.85        3.49   \n",
        "4     1    13.24        2.59  2.87  21.0  118     2.80        2.69   \n",
        "\n",
        "   Nonflavanoid.phenols  Proanth  Color.int   Hue    OD  Proline  \n",
        "0                  0.28     2.29       5.64  1.04  3.92     1065  \n",
        "1                  0.26     1.28       4.38  1.05  3.40     1050  \n",
        "2                  0.30     2.81       5.68  1.03  3.17     1185  \n",
        "3                  0.24     2.18       7.80  0.86  3.45     1480  \n",
        "4                  0.39     1.82       4.32  1.04  2.93      735  "
       ]
      }
     ],
     "prompt_number": 5
    },
    {
     "cell_type": "code",
     "collapsed": false,
     "input": [
      "feature_cols = [col for col in df.columns if col != 'Wine']"
     ],
     "language": "python",
     "metadata": {},
     "outputs": [],
     "prompt_number": 6
    },
    {
     "cell_type": "code",
     "collapsed": false,
     "input": [
      "X = df[feature_cols]"
     ],
     "language": "python",
     "metadata": {},
     "outputs": [],
     "prompt_number": 7
    },
    {
     "cell_type": "code",
     "collapsed": false,
     "input": [
      "from sklearn.preprocessing import StandardScaler\n",
      "\n",
      "scale = StandardScaler()"
     ],
     "language": "python",
     "metadata": {},
     "outputs": [],
     "prompt_number": 8
    },
    {
     "cell_type": "code",
     "collapsed": false,
     "input": [
      "X_scaled = scale.fit_transform(X)"
     ],
     "language": "python",
     "metadata": {},
     "outputs": [],
     "prompt_number": 9
    },
    {
     "cell_type": "code",
     "collapsed": false,
     "input": [
      "Y_hat_kmeans"
     ],
     "language": "python",
     "metadata": {},
     "outputs": [
      {
       "metadata": {},
       "output_type": "pyout",
       "prompt_number": 11,
       "text": [
        "KMeans(copy_x=True, init='random', max_iter=300, n_clusters=3, n_init=10,\n",
        "    n_jobs=1, precompute_distances=True, random_state=1, tol=0.0001,\n",
        "    verbose=0)"
       ]
      }
     ],
     "prompt_number": 11
    },
    {
     "cell_type": "code",
     "collapsed": false,
     "input": [
      "from sklearn.decomposition import PCA\n",
      "pca = PCA(n_components=10)"
     ],
     "language": "python",
     "metadata": {},
     "outputs": [],
     "prompt_number": 27
    },
    {
     "cell_type": "code",
     "collapsed": false,
     "input": [
      "X_pca = pca.fit_transform(X_scaled)"
     ],
     "language": "python",
     "metadata": {},
     "outputs": [],
     "prompt_number": 28
    },
    {
     "cell_type": "code",
     "collapsed": false,
     "input": [
      "sum(pca.explained_variance_ratio_)"
     ],
     "language": "python",
     "metadata": {},
     "outputs": [
      {
       "metadata": {},
       "output_type": "pyout",
       "prompt_number": 30,
       "text": [
        "0.96169716844506425"
       ]
      }
     ],
     "prompt_number": 30
    },
    {
     "cell_type": "code",
     "collapsed": false,
     "input": [
      "from sklearn.cluster import KMeans\n",
      "\n",
      "kmeans = KMeans(n_clusters=3, init='random', max_iter = 300, random_state=1)\n",
      "Y_hat_kmeans = kmeans.fit(X_pca).labels_"
     ],
     "language": "python",
     "metadata": {},
     "outputs": [],
     "prompt_number": 38
    },
    {
     "cell_type": "code",
     "collapsed": false,
     "input": [
      "# Predicated Clusters\n",
      "Y_hat_kmeans"
     ],
     "language": "python",
     "metadata": {},
     "outputs": [
      {
       "metadata": {},
       "output_type": "pyout",
       "prompt_number": 39,
       "text": [
        "array([1, 1, 1, 1, 1, 1, 1, 1, 1, 1, 1, 1, 1, 1, 1, 1, 1, 1, 1, 1, 1, 1, 1,\n",
        "       1, 1, 1, 1, 1, 1, 1, 1, 1, 1, 1, 1, 1, 1, 1, 1, 1, 1, 1, 1, 1, 1, 1,\n",
        "       1, 1, 1, 1, 1, 1, 1, 1, 1, 1, 1, 1, 1, 0, 0, 2, 0, 0, 0, 0, 0, 0, 0,\n",
        "       0, 0, 0, 0, 1, 0, 0, 0, 0, 0, 0, 0, 0, 0, 2, 0, 0, 0, 0, 0, 0, 0, 0,\n",
        "       0, 0, 0, 1, 0, 0, 0, 0, 0, 0, 0, 0, 0, 0, 0, 0, 0, 0, 0, 0, 0, 0, 0,\n",
        "       0, 0, 0, 2, 0, 0, 1, 0, 0, 0, 0, 0, 0, 0, 0, 2, 2, 2, 2, 2, 2, 2, 2,\n",
        "       2, 2, 2, 2, 2, 2, 2, 2, 2, 2, 2, 2, 2, 2, 2, 2, 2, 2, 2, 2, 2, 2, 2,\n",
        "       2, 2, 2, 2, 2, 2, 2, 2, 2, 2, 2, 2, 2, 2, 2, 2, 2], dtype=int32)"
       ]
      }
     ],
     "prompt_number": 39
    },
    {
     "cell_type": "code",
     "collapsed": false,
     "input": [
      "# Let's compare the Predicted clusters with values in Wine Column\n",
      "df.Wine.values"
     ],
     "language": "python",
     "metadata": {},
     "outputs": [
      {
       "metadata": {},
       "output_type": "pyout",
       "prompt_number": 44,
       "text": [
        "array([1, 1, 1, 1, 1, 1, 1, 1, 1, 1, 1, 1, 1, 1, 1, 1, 1, 1, 1, 1, 1, 1, 1,\n",
        "       1, 1, 1, 1, 1, 1, 1, 1, 1, 1, 1, 1, 1, 1, 1, 1, 1, 1, 1, 1, 1, 1, 1,\n",
        "       1, 1, 1, 1, 1, 1, 1, 1, 1, 1, 1, 1, 1, 2, 2, 2, 2, 2, 2, 2, 2, 2, 2,\n",
        "       2, 2, 2, 2, 2, 2, 2, 2, 2, 2, 2, 2, 2, 2, 2, 2, 2, 2, 2, 2, 2, 2, 2,\n",
        "       2, 2, 2, 2, 2, 2, 2, 2, 2, 2, 2, 2, 2, 2, 2, 2, 2, 2, 2, 2, 2, 2, 2,\n",
        "       2, 2, 2, 2, 2, 2, 2, 2, 2, 2, 2, 2, 2, 2, 2, 3, 3, 3, 3, 3, 3, 3, 3,\n",
        "       3, 3, 3, 3, 3, 3, 3, 3, 3, 3, 3, 3, 3, 3, 3, 3, 3, 3, 3, 3, 3, 3, 3,\n",
        "       3, 3, 3, 3, 3, 3, 3, 3, 3, 3, 3, 3, 3, 3, 3, 3, 3])"
       ]
      }
     ],
     "prompt_number": 44
    },
    {
     "cell_type": "code",
     "collapsed": false,
     "input": [
      "plt.scatter(X_pca[:, 0], X_pca[:, 1], c=Y_hat_kmeans)"
     ],
     "language": "python",
     "metadata": {},
     "outputs": [
      {
       "metadata": {},
       "output_type": "pyout",
       "prompt_number": 40,
       "text": [
        "<matplotlib.collections.PathCollection at 0x10b23a390>"
       ]
      },
      {
       "metadata": {},
       "output_type": "display_data",
       "png": "[encoded data removed]",
       "text": [
        "<matplotlib.figure.Figure at 0x10a39de50>"
       ]
      }
     ],
     "prompt_number": 40
    },
    {
     "cell_type": "code",
     "collapsed": false,
     "input": [
      "# compute distance matrix\n",
      "from scipy.spatial.distance import pdist, squareform\n",
      "\n",
      "# not printed as pretty, but the values are correct\n",
      "distx = squareform(pdist(X_pca, metric='euclidean'))\n",
      "distx"
     ],
     "language": "python",
     "metadata": {},
     "outputs": [
      {
       "metadata": {},
       "output_type": "pyout",
       "prompt_number": 41,
       "text": [
        "array([[ 0.        ,  3.47982308,  2.97213486, ...,  6.41551514,\n",
        "         6.02865089,  7.13919207],\n",
        "       [ 3.47982308,  0.        ,  4.12218096, ...,  6.35531216,\n",
        "         6.07859806,  7.33725989],\n",
        "       [ 2.97213486,  4.12218096,  0.        , ...,  6.16277688,\n",
        "         5.81227387,  6.34139433],\n",
        "       ..., \n",
        "       [ 6.41551514,  6.35531216,  6.16277688, ...,  0.        ,\n",
        "         1.77543674,  3.16438239],\n",
        "       [ 6.02865089,  6.07859806,  5.81227387, ...,  1.77543674,\n",
        "         0.        ,  3.22481763],\n",
        "       [ 7.13919207,  7.33725989,  6.34139433, ...,  3.16438239,\n",
        "         3.22481763,  0.        ]])"
       ]
      }
     ],
     "prompt_number": 41
    },
    {
     "cell_type": "code",
     "collapsed": false,
     "input": [
      "# perform clustering and plot the dendrogram\n",
      "from scipy.cluster.hierarchy import linkage, dendrogram\n",
      "\n",
      "R = dendrogram(linkage(distx, method='ward'), color_threshold=100)\n",
      "\n",
      "plt.xlabel('points')\n",
      "plt.ylabel('Height')\n",
      "plt.suptitle('Cluster Dendrogram', fontweight='bold', fontsize=14);"
     ],
     "language": "python",
     "metadata": {},
     "outputs": [
      {
       "metadata": {},
       "output_type": "display_data",
       "png": "[encoded data removed]",
       "text": [
        "<matplotlib.figure.Figure at 0x10b26a2d0>"
       ]
      }
     ],
     "prompt_number": 42
    },
    {
     "cell_type": "code",
     "collapsed": false,
     "input": [],
     "language": "python",
     "metadata": {},
     "outputs": []
    }
   ],
   "metadata": {}
  }
 ]
}