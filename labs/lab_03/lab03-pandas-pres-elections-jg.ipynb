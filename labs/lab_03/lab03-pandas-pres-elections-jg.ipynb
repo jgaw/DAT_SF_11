{
 "metadata": {
  "name": "",
  "signature": "sha256:2a5078b3e3b6ac16c1df4ed7784d990e41791fc7183217b9a8deb393688772c6"
 },
 "nbformat": 3,
 "nbformat_minor": 0,
 "worksheets": [
  {
   "cells": [
    {
     "cell_type": "code",
     "collapsed": false,
     "input": [
      "# Standard imports for data analysis packages in Python\n",
      "import pandas as pd\n",
      "import numpy as np\n",
      "import seaborn as sns\n",
      "import matplotlib.pyplot as plt\n",
      "\n",
      "# This enables inline Plots\n",
      "%matplotlib inline\n",
      "\n",
      "# Limit rows displayed in notebook\n",
      "pd.set_option('display.max_rows', 10)\n",
      "pd.set_option('display.precision', 2)"
     ],
     "language": "python",
     "metadata": {},
     "outputs": [],
     "prompt_number": 2
    },
    {
     "cell_type": "code",
     "collapsed": false,
     "input": [
      "# Let's explore Presidential Elections Dataset\n",
      "\n",
      "pres_2004 = pd.read_csv('../data/us_pres_elections/2004_election_results.csv')"
     ],
     "language": "python",
     "metadata": {},
     "outputs": [],
     "prompt_number": 3
    },
    {
     "cell_type": "code",
     "collapsed": false,
     "input": [
      "# Look at first 5 rows\n",
      "pres_2004.head()"
     ],
     "language": "python",
     "metadata": {},
     "outputs": []
    },
    {
     "cell_type": "code",
     "collapsed": false,
     "input": [
      "# last 5 rows\n",
      "pres_2004.tail()"
     ],
     "language": "python",
     "metadata": {},
     "outputs": []
    },
    {
     "cell_type": "code",
     "collapsed": false,
     "input": [
      "# do a Info to look at datatypes\n",
      "# Do you see any missing data?\n",
      "pres_2004.info()"
     ],
     "language": "python",
     "metadata": {},
     "outputs": []
    },
    {
     "cell_type": "code",
     "collapsed": false,
     "input": [
      "pres_2004.columns\n"
     ],
     "language": "python",
     "metadata": {},
     "outputs": []
    },
    {
     "cell_type": "code",
     "collapsed": false,
     "input": [
      "# Notice that 'Bush' has a space in the front.\n",
      "# Replace column name ' Bush' with 'Bush'\n",
      "\n",
      "## Your Turn\n",
      "pres_2004.rename(columns = {' Bush': 'rep',\n",
      "                            'Kerry': 'dem',\n",
      "                            'All Others': 'all_others', \n",
      "                            'Total Vote': 'total_vote'}, inplace = True)\n",
      "pres_2004.columns"
     ],
     "language": "python",
     "metadata": {},
     "outputs": [
      {
       "metadata": {},
       "output_type": "pyout",
       "prompt_number": 5,
       "text": [
        "Index([u'STATE', u'rep', u'dem', u'all_others', u'total_vote'], dtype='object')"
       ]
      }
     ],
     "prompt_number": 5
    },
    {
     "cell_type": "code",
     "collapsed": false,
     "input": [
      "# Let's convert the string value for votes into numbers\n",
      "# Here's a sample - pres_2004.Kerry.map(lambda x: x.strip().replace(',', '')).astype(int)\n",
      "\n",
      "# Do this for Bush, Kerry, All Others, Total Votes\n",
      "\n",
      "\n",
      "for col in ['rep', 'dem', 'all_others', 'total_vote']:\n",
      "    pres_2004[col] = pres_2004[col].map(lambda x: x.strip().replace(',','')).astype(int)"
     ],
     "language": "python",
     "metadata": {},
     "outputs": [],
     "prompt_number": 6
    },
    {
     "cell_type": "code",
     "collapsed": false,
     "input": [
      "# OK Now, read the \"electoral_votes_by_state.csv\" Dataset.  What do you see\n",
      "# Call it electoral_votes\n",
      "electoral_votes = pd.read_csv('../data/us_pres_elections/electoral_votes_by_state.csv')"
     ],
     "language": "python",
     "metadata": {},
     "outputs": [],
     "prompt_number": 8
    },
    {
     "cell_type": "code",
     "collapsed": false,
     "input": [
      "electoral_votes.head()"
     ],
     "language": "python",
     "metadata": {},
     "outputs": [
      {
       "html": [
        "<div style=\"max-height:1000px;max-width:1500px;overflow:auto;\">\n",
        "<table border=\"1\" class=\"dataframe\">\n",
        "  <thead>\n",
        "    <tr style=\"text-align: right;\">\n",
        "      <th></th>\n",
        "      <th>STATE</th>\n",
        "      <th>Electoral Votes</th>\n",
        "    </tr>\n",
        "  </thead>\n",
        "  <tbody>\n",
        "    <tr>\n",
        "      <th>0</th>\n",
        "      <td> AL</td>\n",
        "      <td>  9</td>\n",
        "    </tr>\n",
        "    <tr>\n",
        "      <th>1</th>\n",
        "      <td> AK</td>\n",
        "      <td>  3</td>\n",
        "    </tr>\n",
        "    <tr>\n",
        "      <th>2</th>\n",
        "      <td> AZ</td>\n",
        "      <td> 10</td>\n",
        "    </tr>\n",
        "    <tr>\n",
        "      <th>3</th>\n",
        "      <td> AR</td>\n",
        "      <td>  6</td>\n",
        "    </tr>\n",
        "    <tr>\n",
        "      <th>4</th>\n",
        "      <td> CA</td>\n",
        "      <td> 55</td>\n",
        "    </tr>\n",
        "  </tbody>\n",
        "</table>\n",
        "</div>"
       ],
       "metadata": {},
       "output_type": "pyout",
       "prompt_number": 10,
       "text": [
        "  STATE  Electoral Votes\n",
        "0    AL                9\n",
        "1    AK                3\n",
        "2    AZ               10\n",
        "3    AR                6\n",
        "4    CA               55"
       ]
      }
     ],
     "prompt_number": 10
    },
    {
     "cell_type": "markdown",
     "metadata": {},
     "source": [
      "### Merge Electoral votes with pres_2004 to see who won and by how many electoral votes\n",
      "\n",
      "* Merge vs Join"
     ]
    },
    {
     "cell_type": "code",
     "collapsed": false,
     "input": [
      "# pres_2004.merge(electoral_votes)\n",
      "pres_2004 = pres_2004.merge(electoral_votes)"
     ],
     "language": "python",
     "metadata": {},
     "outputs": []
    },
    {
     "cell_type": "code",
     "collapsed": false,
     "input": [
      "# Award the electoral Votes to the candidate that had the most votes in the stae\n",
      "# How much did Kerry and Bush get?\n",
      "pres_2004['bush_electoral'] =(pres_2004.Bush > pres_2004.Kerry)*pres_2004['Electoral Votes']\n",
      "pres_2004['kerry_electoral'] = (pres_2004.Kerry > pres_2004.Bush)*pres_2004['Electoral Votes']"
     ],
     "language": "python",
     "metadata": {},
     "outputs": []
    },
    {
     "cell_type": "code",
     "collapsed": false,
     "input": [
      "pres_2004['Bush_votes'] = 0\n",
      "pres_2004['Kerry_votes']= 0\n",
      "bush_mask = pres_2004['Bush'] > pres_2004['Kerry']\n",
      "pres_2004.ix[bush_mask,'Bush_votes'] = pres_2004.ix[bush_mask, 'Electoral Votes']\n",
      "pres_2004.ix[~bush_mask,'Kerry_votes'] = pres_2004.ix[~bush_mask, 'Electoral Votes']"
     ],
     "language": "python",
     "metadata": {},
     "outputs": []
    },
    {
     "cell_type": "code",
     "collapsed": false,
     "input": [
      "# Now add a NEW Column and set it to 2004.  We are going to merge files later\n",
      "pres_2004['year'] = 2004"
     ],
     "language": "python",
     "metadata": {},
     "outputs": []
    },
    {
     "cell_type": "code",
     "collapsed": false,
     "input": [
      "pres_2004"
     ],
     "language": "python",
     "metadata": {},
     "outputs": []
    },
    {
     "cell_type": "markdown",
     "metadata": {},
     "source": [
      "### Read in 2008 and Append the rows of 2008 with 2004"
     ]
    },
    {
     "cell_type": "code",
     "collapsed": false,
     "input": [
      "pres_2008 = pd.read_csv('../data/us_pres_elections/2008_election_results.csv')"
     ],
     "language": "python",
     "metadata": {},
     "outputs": [],
     "prompt_number": 11
    },
    {
     "cell_type": "code",
     "collapsed": false,
     "input": [
      "pres_2008.rename(columns ={'Obama': 'dem', 'McCain':'rep','All Others' : 'all_others', 'Total Vote' : 'total_vote'}, inplace = True)"
     ],
     "language": "python",
     "metadata": {},
     "outputs": [],
     "prompt_number": 12
    },
    {
     "cell_type": "code",
     "collapsed": false,
     "input": [
      "pres2008_generic = pres_2008.rename(columns = {'Obama': 'dem', 'McCain':'rep'})\n",
      "pres_2004_generic = pres_2004.rename(columns={'Bush': 'rep', 'Kerry':'dem'})"
     ],
     "language": "python",
     "metadata": {},
     "outputs": []
    },
    {
     "cell_type": "code",
     "collapsed": false,
     "input": [
      "pres_2008.info()"
     ],
     "language": "python",
     "metadata": {},
     "outputs": [
      {
       "output_type": "stream",
       "stream": "stdout",
       "text": [
        "<class 'pandas.core.frame.DataFrame'>\n",
        "Int64Index: 51 entries, 0 to 50\n",
        "Data columns (total 5 columns):\n",
        "State         51 non-null object\n",
        "dem           51 non-null int64\n",
        "rep           51 non-null int64\n",
        "all_others    51 non-null int64\n",
        "total_vote    51 non-null int64\n",
        "dtypes: int64(4), object(1)\n",
        "memory usage: 2.4+ KB\n"
       ]
      }
     ],
     "prompt_number": 20
    },
    {
     "cell_type": "code",
     "collapsed": false,
     "input": [
      "for col in ['dem', 'rep', 'all_others', 'total_vote']:\n",
      "    pres_2008[col] = pres_2008[col].map(lambda x: x.strip().replace(',','')).astype(int)"
     ],
     "language": "python",
     "metadata": {},
     "outputs": [],
     "prompt_number": 17
    },
    {
     "cell_type": "code",
     "collapsed": false,
     "input": [
      "# your turn\n",
      "# pres_2004.append\n",
      "pd.concat([pres_2004,pres_2008],axis=0)"
     ],
     "language": "python",
     "metadata": {},
     "outputs": [
      {
       "html": [
        "<div style=\"max-height:1000px;max-width:1500px;overflow:auto;\">\n",
        "<table border=\"1\" class=\"dataframe\">\n",
        "  <thead>\n",
        "    <tr style=\"text-align: right;\">\n",
        "      <th></th>\n",
        "      <th>STATE</th>\n",
        "      <th>State</th>\n",
        "      <th>all_others</th>\n",
        "      <th>dem</th>\n",
        "      <th>rep</th>\n",
        "      <th>total_vote</th>\n",
        "    </tr>\n",
        "  </thead>\n",
        "  <tbody>\n",
        "    <tr>\n",
        "      <th>0 </th>\n",
        "      <td>  AL</td>\n",
        "      <td> NaN</td>\n",
        "      <td>  13122</td>\n",
        "      <td>  693933</td>\n",
        "      <td> 1176394</td>\n",
        "      <td>  1883449</td>\n",
        "    </tr>\n",
        "    <tr>\n",
        "      <th>1 </th>\n",
        "      <td>  AK</td>\n",
        "      <td> NaN</td>\n",
        "      <td>  10684</td>\n",
        "      <td>  111025</td>\n",
        "      <td>  190889</td>\n",
        "      <td>   312598</td>\n",
        "    </tr>\n",
        "    <tr>\n",
        "      <th>2 </th>\n",
        "      <td>  AZ</td>\n",
        "      <td> NaN</td>\n",
        "      <td>  14767</td>\n",
        "      <td>  893524</td>\n",
        "      <td> 1104294</td>\n",
        "      <td>  2012585</td>\n",
        "    </tr>\n",
        "    <tr>\n",
        "      <th>3 </th>\n",
        "      <td>  AR</td>\n",
        "      <td> NaN</td>\n",
        "      <td>  12094</td>\n",
        "      <td>  469953</td>\n",
        "      <td>  572898</td>\n",
        "      <td>  1054945</td>\n",
        "    </tr>\n",
        "    <tr>\n",
        "      <th>4 </th>\n",
        "      <td>  CA</td>\n",
        "      <td> NaN</td>\n",
        "      <td> 166541</td>\n",
        "      <td> 6745485</td>\n",
        "      <td> 5509826</td>\n",
        "      <td> 12421852</td>\n",
        "    </tr>\n",
        "    <tr>\n",
        "      <th>...</th>\n",
        "      <td>...</td>\n",
        "      <td>...</td>\n",
        "      <td>...</td>\n",
        "      <td>...</td>\n",
        "      <td>...</td>\n",
        "      <td>...</td>\n",
        "    </tr>\n",
        "    <tr>\n",
        "      <th>46</th>\n",
        "      <td> NaN</td>\n",
        "      <td>  VA</td>\n",
        "      <td>  38723</td>\n",
        "      <td> 1959532</td>\n",
        "      <td> 1725005</td>\n",
        "      <td>  3723260</td>\n",
        "    </tr>\n",
        "    <tr>\n",
        "      <th>47</th>\n",
        "      <td> NaN</td>\n",
        "      <td>  WA</td>\n",
        "      <td>  56814</td>\n",
        "      <td> 1750848</td>\n",
        "      <td> 1229216</td>\n",
        "      <td>  3036878</td>\n",
        "    </tr>\n",
        "    <tr>\n",
        "      <th>48</th>\n",
        "      <td> NaN</td>\n",
        "      <td>  WV</td>\n",
        "      <td>  12128</td>\n",
        "      <td>  303857</td>\n",
        "      <td>  397466</td>\n",
        "      <td>   713451</td>\n",
        "    </tr>\n",
        "    <tr>\n",
        "      <th>49</th>\n",
        "      <td> NaN</td>\n",
        "      <td>  WI</td>\n",
        "      <td>  43813</td>\n",
        "      <td> 1677211</td>\n",
        "      <td> 1262393</td>\n",
        "      <td>  2983417</td>\n",
        "    </tr>\n",
        "    <tr>\n",
        "      <th>50</th>\n",
        "      <td> NaN</td>\n",
        "      <td>  WY</td>\n",
        "      <td>   6832</td>\n",
        "      <td>   82868</td>\n",
        "      <td>  164958</td>\n",
        "      <td>   254658</td>\n",
        "    </tr>\n",
        "  </tbody>\n",
        "</table>\n",
        "<p>102 rows \u00d7 6 columns</p>\n",
        "</div>"
       ],
       "metadata": {},
       "output_type": "pyout",
       "prompt_number": 18,
       "text": [
        "   STATE State  all_others      dem      rep  total_vote\n",
        "0     AL   NaN       13122   693933  1176394     1883449\n",
        "1     AK   NaN       10684   111025   190889      312598\n",
        "2     AZ   NaN       14767   893524  1104294     2012585\n",
        "3     AR   NaN       12094   469953   572898     1054945\n",
        "4     CA   NaN      166541  6745485  5509826    12421852\n",
        "..   ...   ...         ...      ...      ...         ...\n",
        "46   NaN    VA       38723  1959532  1725005     3723260\n",
        "47   NaN    WA       56814  1750848  1229216     3036878\n",
        "48   NaN    WV       12128   303857   397466      713451\n",
        "49   NaN    WI       43813  1677211  1262393     2983417\n",
        "50   NaN    WY        6832    82868   164958      254658\n",
        "\n",
        "[102 rows x 6 columns]"
       ]
      }
     ],
     "prompt_number": 18
    },
    {
     "cell_type": "markdown",
     "metadata": {},
     "source": [
      "### Read in 2012 Election results too"
     ]
    },
    {
     "cell_type": "code",
     "collapsed": false,
     "input": [
      "# Your Turn"
     ],
     "language": "python",
     "metadata": {},
     "outputs": []
    },
    {
     "cell_type": "code",
     "collapsed": false,
     "input": [],
     "language": "python",
     "metadata": {},
     "outputs": []
    },
    {
     "cell_type": "markdown",
     "metadata": {},
     "source": [
      "### Create a new data frame to classify each of the presidential candidates in 2004, 2008 and 2012 as Democrat or Republican"
     ]
    },
    {
     "cell_type": "code",
     "collapsed": false,
     "input": [
      "# Your Turn"
     ],
     "language": "python",
     "metadata": {},
     "outputs": []
    },
    {
     "cell_type": "code",
     "collapsed": false,
     "input": [],
     "language": "python",
     "metadata": {},
     "outputs": []
    },
    {
     "cell_type": "markdown",
     "metadata": {},
     "source": [
      "### Now, can you give electoral vote counts for the three elections (04, 08, 12) by Party Afiliation"
     ]
    },
    {
     "cell_type": "code",
     "collapsed": false,
     "input": [
      "# your turn"
     ],
     "language": "python",
     "metadata": {},
     "outputs": []
    },
    {
     "cell_type": "code",
     "collapsed": false,
     "input": [],
     "language": "python",
     "metadata": {},
     "outputs": []
    },
    {
     "cell_type": "markdown",
     "metadata": {},
     "source": [
      "### What States are safely Republican or Democratic."
     ]
    },
    {
     "cell_type": "code",
     "collapsed": false,
     "input": [
      "# Your Turn"
     ],
     "language": "python",
     "metadata": {},
     "outputs": []
    },
    {
     "cell_type": "code",
     "collapsed": false,
     "input": [],
     "language": "python",
     "metadata": {},
     "outputs": []
    },
    {
     "cell_type": "markdown",
     "metadata": {},
     "source": [
      "### Challenge: What states decide the fate of elections?"
     ]
    },
    {
     "cell_type": "code",
     "collapsed": false,
     "input": [
      "# Your Turn"
     ],
     "language": "python",
     "metadata": {},
     "outputs": []
    },
    {
     "cell_type": "code",
     "collapsed": false,
     "input": [],
     "language": "python",
     "metadata": {},
     "outputs": []
    }
   ],
   "metadata": {}
  }
 ]
}