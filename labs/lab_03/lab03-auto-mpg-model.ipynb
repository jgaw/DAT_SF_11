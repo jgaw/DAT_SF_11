{
 "metadata": {
  "name": "",
  "signature": "sha256:fca44bf007aa02143157828145e10230f682a9b256c63c34a890d1537b0e1297"
 },
 "nbformat": 3,
 "nbformat_minor": 0,
 "worksheets": [
  {
   "cells": [
    {
     "cell_type": "code",
     "collapsed": false,
     "input": [
      "# Standard imports for data analysis packages in Python\n",
      "import pandas as pd\n",
      "import numpy as np\n",
      "import seaborn as sns  # for pretty layout of plots\n",
      "import matplotlib.pyplot as plt\n",
      "\n",
      "# This enables inline Plots\n",
      "%matplotlib inline"
     ],
     "language": "python",
     "metadata": {},
     "outputs": [],
     "prompt_number": 1
    },
    {
     "cell_type": "code",
     "collapsed": false,
     "input": [
      "# Let's explore Auto Dataset comparing various vehicles\n",
      "# Notice, how I have given the delimiter\n",
      "\n",
      "auto_mpg = pd.read_csv('../data/auto_mpg.txt', delimiter=\"\\t\")"
     ],
     "language": "python",
     "metadata": {},
     "outputs": [],
     "prompt_number": 2
    },
    {
     "cell_type": "code",
     "collapsed": false,
     "input": [
      "# Examine the first 5 rows - use head\n",
      "auto_mpg.head()"
     ],
     "language": "python",
     "metadata": {},
     "outputs": []
    },
    {
     "cell_type": "code",
     "collapsed": false,
     "input": [
      "# Examine last 5 rows - use tail\n",
      "auto_mpg.tail()"
     ],
     "language": "python",
     "metadata": {},
     "outputs": []
    },
    {
     "cell_type": "code",
     "collapsed": false,
     "input": [
      "# Examine info on dataset to check on the datatypes\n",
      "auto_mpg.info()"
     ],
     "language": "python",
     "metadata": {},
     "outputs": []
    },
    {
     "cell_type": "code",
     "collapsed": false,
     "input": [
      "# What are the columns in the dataset?\n",
      "auto_mpg.columns"
     ],
     "language": "python",
     "metadata": {},
     "outputs": []
    },
    {
     "cell_type": "code",
     "collapsed": false,
     "input": [
      "# How many 4 Cylinder cars are in the dataset?\n",
      "auto_mpg.cylinders.value_counts()"
     ],
     "language": "python",
     "metadata": {},
     "outputs": []
    },
    {
     "cell_type": "code",
     "collapsed": false,
     "input": [
      "# Sort the dataset by mpg and show the last 5 rows.\n",
      "auto_mpg.sort(columns='mpg').iloc[-5:,]"
     ],
     "language": "python",
     "metadata": {},
     "outputs": []
    },
    {
     "cell_type": "markdown",
     "metadata": {},
     "source": [
      "### Missing Data"
     ]
    },
    {
     "cell_type": "code",
     "collapsed": false,
     "input": [
      "# Horsepower has missing data (marked as ?).  \n",
      "auto_mpg[auto_mpg.horsepower == '?']"
     ],
     "language": "python",
     "metadata": {},
     "outputs": [
      {
       "html": [
        "<div style=\"max-height:1000px;max-width:1500px;overflow:auto;\">\n",
        "<table border=\"1\" class=\"dataframe\">\n",
        "  <thead>\n",
        "    <tr style=\"text-align: right;\">\n",
        "      <th></th>\n",
        "      <th>mpg</th>\n",
        "      <th>cylinders</th>\n",
        "      <th>displacement</th>\n",
        "      <th>horsepower</th>\n",
        "      <th>weight</th>\n",
        "      <th>acceleration</th>\n",
        "      <th>model</th>\n",
        "      <th>origin</th>\n",
        "      <th>car_name</th>\n",
        "    </tr>\n",
        "  </thead>\n",
        "  <tbody>\n",
        "    <tr>\n",
        "      <th>32 </th>\n",
        "      <td> 25.0</td>\n",
        "      <td> 4</td>\n",
        "      <td>  98</td>\n",
        "      <td> ?</td>\n",
        "      <td> 2046</td>\n",
        "      <td> 19.0</td>\n",
        "      <td> 71</td>\n",
        "      <td> 1</td>\n",
        "      <td>           ford pinto</td>\n",
        "    </tr>\n",
        "    <tr>\n",
        "      <th>126</th>\n",
        "      <td> 21.0</td>\n",
        "      <td> 6</td>\n",
        "      <td> 200</td>\n",
        "      <td> ?</td>\n",
        "      <td> 2875</td>\n",
        "      <td> 17.0</td>\n",
        "      <td> 74</td>\n",
        "      <td> 1</td>\n",
        "      <td>        ford maverick</td>\n",
        "    </tr>\n",
        "    <tr>\n",
        "      <th>330</th>\n",
        "      <td> 40.9</td>\n",
        "      <td> 4</td>\n",
        "      <td>  85</td>\n",
        "      <td> ?</td>\n",
        "      <td> 1835</td>\n",
        "      <td> 17.3</td>\n",
        "      <td> 80</td>\n",
        "      <td> 2</td>\n",
        "      <td> renault lecar deluxe</td>\n",
        "    </tr>\n",
        "    <tr>\n",
        "      <th>336</th>\n",
        "      <td> 23.6</td>\n",
        "      <td> 4</td>\n",
        "      <td> 140</td>\n",
        "      <td> ?</td>\n",
        "      <td> 2905</td>\n",
        "      <td> 14.3</td>\n",
        "      <td> 80</td>\n",
        "      <td> 1</td>\n",
        "      <td>   ford mustang cobra</td>\n",
        "    </tr>\n",
        "    <tr>\n",
        "      <th>354</th>\n",
        "      <td> 34.5</td>\n",
        "      <td> 4</td>\n",
        "      <td> 100</td>\n",
        "      <td> ?</td>\n",
        "      <td> 2320</td>\n",
        "      <td> 15.8</td>\n",
        "      <td> 81</td>\n",
        "      <td> 2</td>\n",
        "      <td>          renault 18i</td>\n",
        "    </tr>\n",
        "    <tr>\n",
        "      <th>374</th>\n",
        "      <td> 23.0</td>\n",
        "      <td> 4</td>\n",
        "      <td> 151</td>\n",
        "      <td> ?</td>\n",
        "      <td> 3035</td>\n",
        "      <td> 20.5</td>\n",
        "      <td> 82</td>\n",
        "      <td> 1</td>\n",
        "      <td>       amc concord dl</td>\n",
        "    </tr>\n",
        "  </tbody>\n",
        "</table>\n",
        "</div>"
       ],
       "metadata": {},
       "output_type": "pyout",
       "prompt_number": 3,
       "text": [
        "      mpg  cylinders  displacement horsepower  weight  acceleration  model  \\\n",
        "32   25.0          4            98          ?    2046          19.0     71   \n",
        "126  21.0          6           200          ?    2875          17.0     74   \n",
        "330  40.9          4            85          ?    1835          17.3     80   \n",
        "336  23.6          4           140          ?    2905          14.3     80   \n",
        "354  34.5          4           100          ?    2320          15.8     81   \n",
        "374  23.0          4           151          ?    3035          20.5     82   \n",
        "\n",
        "     origin              car_name  \n",
        "32        1            ford pinto  \n",
        "126       1         ford maverick  \n",
        "330       2  renault lecar deluxe  \n",
        "336       1    ford mustang cobra  \n",
        "354       2           renault 18i  \n",
        "374       1        amc concord dl  "
       ]
      }
     ],
     "prompt_number": 3
    },
    {
     "cell_type": "code",
     "collapsed": false,
     "input": [
      "# First, replace the ? with NAN value (Not a Number)\n",
      "auto_mpg.horsepower.replace('?', np.nan, inplace = True)"
     ],
     "language": "python",
     "metadata": {},
     "outputs": [],
     "prompt_number": 4
    },
    {
     "cell_type": "code",
     "collapsed": false,
     "input": [
      "# Horsepower is marked as \"object\" datatype because of missing data - check using info()\n",
      "# Now, we can change the type of the horsepower field to Float (note that nan is valid float value, but not a valid int)\n",
      "auto_mpg.horsepower = auto_mpg.horsepower.astype(float)"
     ],
     "language": "python",
     "metadata": {},
     "outputs": [],
     "prompt_number": 5
    },
    {
     "cell_type": "code",
     "collapsed": false,
     "input": [
      "# Let's get the mean value of horsepower for each Cylinder Class\n",
      "auto_mpg.groupby('cylinders').horsepower.mean()"
     ],
     "language": "python",
     "metadata": {},
     "outputs": [
      {
       "metadata": {},
       "output_type": "pyout",
       "prompt_number": 6,
       "text": [
        "cylinders\n",
        "3             99.250000\n",
        "4             78.281407\n",
        "5             82.333333\n",
        "6            101.506024\n",
        "8            158.300971\n",
        "Name: horsepower, dtype: float64"
       ]
      }
     ],
     "prompt_number": 6
    },
    {
     "cell_type": "code",
     "collapsed": false,
     "input": [
      "# Set the value to Average horse power from other cars that have same number of Cylinders?\n",
      "fill_grp_mean = lambda x: x.fillna(x.mean())\n",
      "auto_mpg['horsepower'] = auto_mpg.groupby('cylinders')['horsepower'].transform(fill_grp_mean)"
     ],
     "language": "python",
     "metadata": {},
     "outputs": [],
     "prompt_number": 7
    },
    {
     "cell_type": "code",
     "collapsed": false,
     "input": [
      "# Now, all the rows, should have a valid horsepower value\n",
      "auto_mpg[pd.isnull(auto_mpg.horsepower)]"
     ],
     "language": "python",
     "metadata": {},
     "outputs": [
      {
       "html": [
        "<div style=\"max-height:1000px;max-width:1500px;overflow:auto;\">\n",
        "<table border=\"1\" class=\"dataframe\">\n",
        "  <thead>\n",
        "    <tr style=\"text-align: right;\">\n",
        "      <th></th>\n",
        "      <th>mpg</th>\n",
        "      <th>cylinders</th>\n",
        "      <th>displacement</th>\n",
        "      <th>horsepower</th>\n",
        "      <th>weight</th>\n",
        "      <th>acceleration</th>\n",
        "      <th>model</th>\n",
        "      <th>origin</th>\n",
        "      <th>car_name</th>\n",
        "    </tr>\n",
        "  </thead>\n",
        "  <tbody>\n",
        "  </tbody>\n",
        "</table>\n",
        "</div>"
       ],
       "metadata": {},
       "output_type": "pyout",
       "prompt_number": 8,
       "text": [
        "Empty DataFrame\n",
        "Columns: [mpg, cylinders, displacement, horsepower, weight, acceleration, model, origin, car_name]\n",
        "Index: []"
       ]
      }
     ],
     "prompt_number": 8
    },
    {
     "cell_type": "markdown",
     "metadata": {},
     "source": [
      "### Plotting"
     ]
    },
    {
     "cell_type": "code",
     "collapsed": false,
     "input": [
      "# Can you plot a histogram (bar chart) showing the number of cylinders on X Axis and count of cars on Y Axis?"
     ],
     "language": "python",
     "metadata": {},
     "outputs": [],
     "prompt_number": 9
    },
    {
     "cell_type": "code",
     "collapsed": false,
     "input": [
      "# Now that horsepower is also a numeric field, plot a Scatter plot of miles-per-gallon and horsepower."
     ],
     "language": "python",
     "metadata": {},
     "outputs": [],
     "prompt_number": 10
    },
    {
     "cell_type": "markdown",
     "metadata": {},
     "source": [
      "### Challenge - Feature Extraction"
     ]
    },
    {
     "cell_type": "code",
     "collapsed": false,
     "input": [
      "# Can you separate the Car Company from car_name and count how many cars are in the dataset by car company?\n",
      "# Assume the first word in car_name is the car company\n",
      "help(str.split)"
     ],
     "language": "python",
     "metadata": {},
     "outputs": [
      {
       "output_type": "stream",
       "stream": "stdout",
       "text": [
        "Help on method_descriptor:\n",
        "\n",
        "split(...)\n",
        "    S.split([sep [,maxsplit]]) -> list of strings\n",
        "    \n",
        "    Return a list of the words in the string S, using sep as the\n",
        "    delimiter string.  If maxsplit is given, at most maxsplit\n",
        "    splits are done. If sep is not specified or is None, any\n",
        "    whitespace string is a separator and empty strings are removed\n",
        "    from the result.\n",
        "\n"
       ]
      }
     ],
     "prompt_number": 11
    },
    {
     "cell_type": "code",
     "collapsed": false,
     "input": [
      "auto_mpg[((auto_mpg['cylinders'] == 6) | (auto_mpg['cylinders'] == 4))]"
     ],
     "language": "python",
     "metadata": {},
     "outputs": []
    },
    {
     "cell_type": "code",
     "collapsed": false,
     "input": [
      "# How many 4-6-8 cylinder cars are there in the dataset for each car company"
     ],
     "language": "python",
     "metadata": {},
     "outputs": []
    },
    {
     "cell_type": "markdown",
     "metadata": {},
     "source": [
      "### Challenge - Model Intution"
     ]
    },
    {
     "cell_type": "code",
     "collapsed": false,
     "input": [
      "# Do you find any correlation between any of the variable?\n",
      "# If you are building a Linear Model to predict \"Miles-Per-Gallon\", what are the features you would use?"
     ],
     "language": "python",
     "metadata": {},
     "outputs": []
    },
    {
     "cell_type": "code",
     "collapsed": false,
     "input": [
      "from pandas.tools.plotting import scatter_matrix\n",
      "scat = scatter_matrix(auto_mpg[['cylinders', 'horsepower', 'mpg', 'acceleration']], figsize = (10,10))"
     ],
     "language": "python",
     "metadata": {},
     "outputs": [
      {
       "metadata": {},
       "output_type": "display_data",
       "png": "[encoded data removed]",
       "text": [
        "<matplotlib.figure.Figure at 0x10953e890>"
       ]
      }
     ],
     "prompt_number": 12
    },
    {
     "cell_type": "code",
     "collapsed": false,
     "input": [
      "# Select the features and Target for the model\n",
      "features = auto_mpg[['cylinders','horsepower']].values\n",
      "target = auto_mpg['mpg'].values"
     ],
     "language": "python",
     "metadata": {},
     "outputs": [],
     "prompt_number": 14
    },
    {
     "cell_type": "code",
     "collapsed": false,
     "input": [
      "features.shape"
     ],
     "language": "python",
     "metadata": {},
     "outputs": [
      {
       "metadata": {},
       "output_type": "pyout",
       "prompt_number": 15,
       "text": [
        "(398, 2)"
       ]
      }
     ],
     "prompt_number": 15
    },
    {
     "cell_type": "code",
     "collapsed": false,
     "input": [
      "target.shape"
     ],
     "language": "python",
     "metadata": {},
     "outputs": [
      {
       "metadata": {},
       "output_type": "pyout",
       "prompt_number": 16,
       "text": [
        "(398,)"
       ]
      }
     ],
     "prompt_number": 16
    },
    {
     "cell_type": "code",
     "collapsed": false,
     "input": [
      "# See the values for Target variable\n",
      "target"
     ],
     "language": "python",
     "metadata": {},
     "outputs": [
      {
       "metadata": {},
       "output_type": "pyout",
       "prompt_number": 17,
       "text": [
        "array([ 18. ,  15. ,  18. ,  16. ,  17. ,  15. ,  14. ,  14. ,  14. ,\n",
        "        15. ,  15. ,  14. ,  15. ,  14. ,  24. ,  22. ,  18. ,  21. ,\n",
        "        27. ,  26. ,  25. ,  24. ,  25. ,  26. ,  21. ,  10. ,  10. ,\n",
        "        11. ,   9. ,  27. ,  28. ,  25. ,  25. ,  19. ,  16. ,  17. ,\n",
        "        19. ,  18. ,  14. ,  14. ,  14. ,  14. ,  12. ,  13. ,  13. ,\n",
        "        18. ,  22. ,  19. ,  18. ,  23. ,  28. ,  30. ,  30. ,  31. ,\n",
        "        35. ,  27. ,  26. ,  24. ,  25. ,  23. ,  20. ,  21. ,  13. ,\n",
        "        14. ,  15. ,  14. ,  17. ,  11. ,  13. ,  12. ,  13. ,  19. ,\n",
        "        15. ,  13. ,  13. ,  14. ,  18. ,  22. ,  21. ,  26. ,  22. ,\n",
        "        28. ,  23. ,  28. ,  27. ,  13. ,  14. ,  13. ,  14. ,  15. ,\n",
        "        12. ,  13. ,  13. ,  14. ,  13. ,  12. ,  13. ,  18. ,  16. ,\n",
        "        18. ,  18. ,  23. ,  26. ,  11. ,  12. ,  13. ,  12. ,  18. ,\n",
        "        20. ,  21. ,  22. ,  18. ,  19. ,  21. ,  26. ,  15. ,  16. ,\n",
        "        29. ,  24. ,  20. ,  19. ,  15. ,  24. ,  20. ,  11. ,  20. ,\n",
        "        21. ,  19. ,  15. ,  31. ,  26. ,  32. ,  25. ,  16. ,  16. ,\n",
        "        18. ,  16. ,  13. ,  14. ,  14. ,  14. ,  29. ,  26. ,  26. ,\n",
        "        31. ,  32. ,  28. ,  24. ,  26. ,  24. ,  26. ,  31. ,  19. ,\n",
        "        18. ,  15. ,  15. ,  16. ,  15. ,  16. ,  14. ,  17. ,  16. ,\n",
        "        15. ,  18. ,  21. ,  20. ,  13. ,  29. ,  23. ,  20. ,  23. ,\n",
        "        24. ,  25. ,  24. ,  18. ,  29. ,  19. ,  23. ,  23. ,  22. ,\n",
        "        25. ,  33. ,  28. ,  25. ,  25. ,  26. ,  27. ,  17.5,  16. ,\n",
        "        15.5,  14.5,  22. ,  22. ,  24. ,  22.5,  29. ,  24.5,  29. ,\n",
        "        33. ,  20. ,  18. ,  18.5,  17.5,  29.5,  32. ,  28. ,  26.5,\n",
        "        20. ,  13. ,  19. ,  19. ,  16.5,  16.5,  13. ,  13. ,  13. ,\n",
        "        31.5,  30. ,  36. ,  25.5,  33.5,  17.5,  17. ,  15.5,  15. ,\n",
        "        17.5,  20.5,  19. ,  18.5,  16. ,  15.5,  15.5,  16. ,  29. ,\n",
        "        24.5,  26. ,  25.5,  30.5,  33.5,  30. ,  30.5,  22. ,  21.5,\n",
        "        21.5,  43.1,  36.1,  32.8,  39.4,  36.1,  19.9,  19.4,  20.2,\n",
        "        19.2,  20.5,  20.2,  25.1,  20.5,  19.4,  20.6,  20.8,  18.6,\n",
        "        18.1,  19.2,  17.7,  18.1,  17.5,  30. ,  27.5,  27.2,  30.9,\n",
        "        21.1,  23.2,  23.8,  23.9,  20.3,  17. ,  21.6,  16.2,  31.5,\n",
        "        29.5,  21.5,  19.8,  22.3,  20.2,  20.6,  17. ,  17.6,  16.5,\n",
        "        18.2,  16.9,  15.5,  19.2,  18.5,  31.9,  34.1,  35.7,  27.4,\n",
        "        25.4,  23. ,  27.2,  23.9,  34.2,  34.5,  31.8,  37.3,  28.4,\n",
        "        28.8,  26.8,  33.5,  41.5,  38.1,  32.1,  37.2,  28. ,  26.4,\n",
        "        24.3,  19.1,  34.3,  29.8,  31.3,  37. ,  32.2,  46.6,  27.9,\n",
        "        40.8,  44.3,  43.4,  36.4,  30. ,  44.6,  40.9,  33.8,  29.8,\n",
        "        32.7,  23.7,  35. ,  23.6,  32.4,  27.2,  26.6,  25.8,  23.5,\n",
        "        30. ,  39.1,  39. ,  35.1,  32.3,  37. ,  37.7,  34.1,  34.7,\n",
        "        34.4,  29.9,  33. ,  34.5,  33.7,  32.4,  32.9,  31.6,  28.1,\n",
        "        30.7,  25.4,  24.2,  22.4,  26.6,  20.2,  17.6,  28. ,  27. ,\n",
        "        34. ,  31. ,  29. ,  27. ,  24. ,  23. ,  36. ,  37. ,  31. ,\n",
        "        38. ,  36. ,  36. ,  36. ,  34. ,  38. ,  32. ,  38. ,  25. ,\n",
        "        38. ,  26. ,  22. ,  32. ,  36. ,  27. ,  27. ,  44. ,  32. ,\n",
        "        28. ,  31. ])"
       ]
      }
     ],
     "prompt_number": 17
    },
    {
     "cell_type": "code",
     "collapsed": false,
     "input": [
      "# Scikit has a function to split the data into training and testing datasets\n",
      "from sklearn.cross_validation import train_test_split"
     ],
     "language": "python",
     "metadata": {},
     "outputs": [],
     "prompt_number": 18
    },
    {
     "cell_type": "code",
     "collapsed": false,
     "input": [
      "features_train, features_test, target_train, target_test = train_test_split(features, target, test_size=0.2)"
     ],
     "language": "python",
     "metadata": {},
     "outputs": [],
     "prompt_number": 19
    },
    {
     "cell_type": "code",
     "collapsed": false,
     "input": [
      "# Lets' treat Linear Regression as a Black Box model for now\n",
      "from sklearn.linear_model import LinearRegression"
     ],
     "language": "python",
     "metadata": {},
     "outputs": [],
     "prompt_number": 20
    },
    {
     "cell_type": "code",
     "collapsed": false,
     "input": [
      "clf = LinearRegression()\n",
      "clf.fit(features_train, target_train)"
     ],
     "language": "python",
     "metadata": {},
     "outputs": [
      {
       "metadata": {},
       "output_type": "pyout",
       "prompt_number": 21,
       "text": [
        "LinearRegression(copy_X=True, fit_intercept=True, normalize=False)"
       ]
      }
     ],
     "prompt_number": 21
    },
    {
     "cell_type": "code",
     "collapsed": false,
     "input": [
      "help(LinearRegression())"
     ],
     "language": "python",
     "metadata": {},
     "outputs": []
    },
    {
     "cell_type": "code",
     "collapsed": false,
     "input": [
      "target_pred = clf.predict(features_test)"
     ],
     "language": "python",
     "metadata": {},
     "outputs": [],
     "prompt_number": 22
    },
    {
     "cell_type": "code",
     "collapsed": false,
     "input": [
      "# Let's compute sum of Errors between Actual and Predicted\n",
      "# Again, more on this next week - I just want to show how these tools work together\n",
      "sum_sq_model = np.sum((target_test - target_pred) ** 2)\n",
      "sum_sq_model"
     ],
     "language": "python",
     "metadata": {},
     "outputs": [
      {
       "metadata": {},
       "output_type": "pyout",
       "prompt_number": 23,
       "text": [
        "1255.0521962834291"
       ]
      }
     ],
     "prompt_number": 23
    },
    {
     "cell_type": "code",
     "collapsed": false,
     "input": [
      "# Compare with the base naive model where we say predicted value is just the mean value\n",
      "sum_sq_naive = np.sum((target_test - target.mean()) ** 2)\n",
      "sum_sq_naive"
     ],
     "language": "python",
     "metadata": {},
     "outputs": []
    },
    {
     "cell_type": "code",
     "collapsed": false,
     "input": [
      "# Lets Just compare the Predicted to Actual and see the distribution\n",
      "\n",
      "fig, ax = plt.subplots(1, 1)\n",
      "\n",
      "ax.scatter(target_pred, target_test)\n",
      "ax.set_xlabel('Predicated MPG')\n",
      "ax.set_ylabel('Actual MPG')\n",
      "\n",
      "# Draw the ideal line\n",
      "ax.plot(target, target, 'r');"
     ],
     "language": "python",
     "metadata": {},
     "outputs": []
    },
    {
     "cell_type": "code",
     "collapsed": false,
     "input": [],
     "language": "python",
     "metadata": {},
     "outputs": []
    }
   ],
   "metadata": {}
  }
 ]
}