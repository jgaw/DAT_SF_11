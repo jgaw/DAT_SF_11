{
 "metadata": {
  "name": "",
  "signature": "sha256:5e2b0bebda03bff859275300fa574d2b32d0feadfeb3e6ad530106f49ecf7e22"
 },
 "nbformat": 3,
 "nbformat_minor": 0,
 "worksheets": [
  {
   "cells": [
    {
     "cell_type": "code",
     "collapsed": false,
     "input": [
      "# Standard imports for data analysis packages in Python\n",
      "import pandas as pd\n",
      "import numpy as np\n",
      "import seaborn as sns  # for pretty layout of plots\n",
      "import matplotlib.pyplot as plt\n",
      "\n",
      "# This enables inline Plots\n",
      "%matplotlib inline"
     ],
     "language": "python",
     "metadata": {},
     "outputs": []
    },
    {
     "cell_type": "code",
     "collapsed": false,
     "input": [
      "# Let's explore Auto Dataset comparing various vehicles\n",
      "# Notice, how I have given the delimiter\n",
      "\n",
      "auto_mpg = pd.read_csv('../data/auto_mpg.txt', delimiter=\"\\t\")"
     ],
     "language": "python",
     "metadata": {},
     "outputs": []
    },
    {
     "cell_type": "code",
     "collapsed": false,
     "input": [
      "# Examine the first 5 rows - use head\n",
      "auto_mpg.head()"
     ],
     "language": "python",
     "metadata": {},
     "outputs": []
    },
    {
     "cell_type": "code",
     "collapsed": false,
     "input": [
      "# Examine last 5 rows - use tail\n",
      "auto_mpg.tail()"
     ],
     "language": "python",
     "metadata": {},
     "outputs": []
    },
    {
     "cell_type": "code",
     "collapsed": false,
     "input": [
      "# Examine info on dataset to check on the datatypes\n",
      "auto_mpg.info()"
     ],
     "language": "python",
     "metadata": {},
     "outputs": []
    },
    {
     "cell_type": "code",
     "collapsed": false,
     "input": [
      "# What are the columns in the dataset?\n",
      "auto_mpg.columns"
     ],
     "language": "python",
     "metadata": {},
     "outputs": []
    },
    {
     "cell_type": "code",
     "collapsed": false,
     "input": [
      "# How many 4 Cylinder cars are in the dataset?\n",
      "auto_mpg.cylinders.value_counts()"
     ],
     "language": "python",
     "metadata": {},
     "outputs": []
    },
    {
     "cell_type": "code",
     "collapsed": false,
     "input": [
      "# Sort the dataset by mpg and show the last 5 rows.\n",
      "auto_mpg.sort(columns='mpg').iloc[-5:,]"
     ],
     "language": "python",
     "metadata": {},
     "outputs": []
    },
    {
     "cell_type": "markdown",
     "metadata": {},
     "source": [
      "### Missing Data"
     ]
    },
    {
     "cell_type": "code",
     "collapsed": false,
     "input": [
      "# Horsepower has missing data (marked as ?).  \n",
      "auto_mpg[auto_mpg.horsepower == '?']"
     ],
     "language": "python",
     "metadata": {},
     "outputs": []
    },
    {
     "cell_type": "code",
     "collapsed": false,
     "input": [
      "# First, replace the ? with NAN value (Not a Number)\n",
      "auto_mpg.horsepower.replace('?', np.nan, inplace = True)"
     ],
     "language": "python",
     "metadata": {},
     "outputs": []
    },
    {
     "cell_type": "code",
     "collapsed": false,
     "input": [
      "# Horsepower is marked as \"object\" datatype because of missing data - check using info()\n",
      "# Now, we can change the type of the horsepower field to Float (note that nan is valid float value, but not a valid int)\n",
      "auto_mpg.horsepower = auto_mpg.horsepower.astype(float)"
     ],
     "language": "python",
     "metadata": {},
     "outputs": []
    },
    {
     "cell_type": "code",
     "collapsed": false,
     "input": [
      "# Let's get the mean value of horsepower for each Cylinder Class\n",
      "auto_mpg.groupby('cylinders').horsepower.mean()"
     ],
     "language": "python",
     "metadata": {},
     "outputs": []
    },
    {
     "cell_type": "code",
     "collapsed": false,
     "input": [
      "# Set the value to Average horse power from other cars that have same number of Cylinders?\n",
      "fill_grp_mean = lambda x: x.fillna(x.mean())\n",
      "auto_mpg['horsepower'] = auto_mpg.groupby('cylinders')['horsepower'].transform(fill_grp_mean)"
     ],
     "language": "python",
     "metadata": {},
     "outputs": []
    },
    {
     "cell_type": "code",
     "collapsed": false,
     "input": [
      "# Now, all the rows, should have a valid horsepower value\n",
      "auto_mpg[pd.isnull(auto_mpg.horsepower)]"
     ],
     "language": "python",
     "metadata": {},
     "outputs": []
    },
    {
     "cell_type": "markdown",
     "metadata": {},
     "source": [
      "### Plotting"
     ]
    },
    {
     "cell_type": "code",
     "collapsed": false,
     "input": [
      "# Can you plot a histogram (bar chart) showing the number of cylinders on X Axis and count of cars on Y Axis?"
     ],
     "language": "python",
     "metadata": {},
     "outputs": []
    },
    {
     "cell_type": "code",
     "collapsed": false,
     "input": [
      "# Now that horsepower is also a numeric field, plot a Scatter plot of miles-per-gallon and horsepower."
     ],
     "language": "python",
     "metadata": {},
     "outputs": []
    },
    {
     "cell_type": "markdown",
     "metadata": {},
     "source": [
      "### Challenge - Feature Extraction"
     ]
    },
    {
     "cell_type": "code",
     "collapsed": false,
     "input": [
      "# Can you separate the Car Company from car_name and count how many cars are in the dataset by car company?\n",
      "# Assume the first word in car_name is the car company\n",
      "help(str.split)"
     ],
     "language": "python",
     "metadata": {},
     "outputs": []
    },
    {
     "cell_type": "code",
     "collapsed": false,
     "input": [
      "auto_mpg[((auto_mpg['cylinders'] == 6) | (auto_mpg['cylinders'] == 4))]"
     ],
     "language": "python",
     "metadata": {},
     "outputs": []
    },
    {
     "cell_type": "code",
     "collapsed": false,
     "input": [
      "# How many 4-6-8 cylinder cars are there in the dataset for each car company"
     ],
     "language": "python",
     "metadata": {},
     "outputs": []
    },
    {
     "cell_type": "markdown",
     "metadata": {},
     "source": [
      "### Challenge - Model Intution"
     ]
    },
    {
     "cell_type": "code",
     "collapsed": false,
     "input": [
      "# Do you find any correlation between any of the variable?\n",
      "# If you are building a Linear Model to predict \"Miles-Per-Gallon\", what are the features you would use?"
     ],
     "language": "python",
     "metadata": {},
     "outputs": []
    },
    {
     "cell_type": "code",
     "collapsed": false,
     "input": [
      "from pandas.tools.plotting import scatter_matrix\n",
      "scat = scatter_matrix(auto_mpg[['cylinders', 'horsepower', 'mpg', 'acceleration']], figsize = (10,10))"
     ],
     "language": "python",
     "metadata": {},
     "outputs": []
    },
    {
     "cell_type": "code",
     "collapsed": false,
     "input": [
      "# Select the features and Target for the model\n",
      "features = auto_mpg[['cylinders','horsepower']].values\n",
      "target = auto_mpg['mpg'].values"
     ],
     "language": "python",
     "metadata": {},
     "outputs": []
    },
    {
     "cell_type": "code",
     "collapsed": false,
     "input": [
      "features.shape"
     ],
     "language": "python",
     "metadata": {},
     "outputs": []
    },
    {
     "cell_type": "code",
     "collapsed": false,
     "input": [
      "target.shape"
     ],
     "language": "python",
     "metadata": {},
     "outputs": []
    },
    {
     "cell_type": "code",
     "collapsed": false,
     "input": [
      "# See the values for Target variable\n",
      "target"
     ],
     "language": "python",
     "metadata": {},
     "outputs": []
    },
    {
     "cell_type": "code",
     "collapsed": false,
     "input": [
      "# Scikit has a function to split the data into training and testing datasets\n",
      "from sklearn.cross_validation import train_test_split"
     ],
     "language": "python",
     "metadata": {},
     "outputs": []
    },
    {
     "cell_type": "code",
     "collapsed": false,
     "input": [
      "features_train, features_test, target_train, target_test = train_test_split(features, target, test_size=0.2)"
     ],
     "language": "python",
     "metadata": {},
     "outputs": []
    },
    {
     "cell_type": "code",
     "collapsed": false,
     "input": [
      "# Lets' treat Linear Regression as a Black Box model for now\n",
      "from sklearn.linear_model import LinearRegression"
     ],
     "language": "python",
     "metadata": {},
     "outputs": []
    },
    {
     "cell_type": "code",
     "collapsed": false,
     "input": [
      "clf = LinearRegression()\n",
      "clf.fit(features_train, target_train)"
     ],
     "language": "python",
     "metadata": {},
     "outputs": []
    },
    {
     "cell_type": "code",
     "collapsed": false,
     "input": [
      "help(LinearRegression())"
     ],
     "language": "python",
     "metadata": {},
     "outputs": []
    },
    {
     "cell_type": "code",
     "collapsed": false,
     "input": [
      "target_pred = clf.predict(features_test)"
     ],
     "language": "python",
     "metadata": {},
     "outputs": []
    },
    {
     "cell_type": "code",
     "collapsed": false,
     "input": [
      "# Let's compute sum of Errors between Actual and Predicted\n",
      "# Again, more on this next week - I just want to show how these tools work together\n",
      "sum_sq_model = np.sum((target_test - target_pred) ** 2)\n",
      "sum_sq_model"
     ],
     "language": "python",
     "metadata": {},
     "outputs": []
    },
    {
     "cell_type": "code",
     "collapsed": false,
     "input": [
      "# Compare with the base naive model where we say predicted value is just the mean value\n",
      "sum_sq_naive = np.sum((target_test - target.mean()) ** 2)\n",
      "sum_sq_naive"
     ],
     "language": "python",
     "metadata": {},
     "outputs": []
    },
    {
     "cell_type": "code",
     "collapsed": false,
     "input": [
      "# Lets Just compare the Predicted to Actual and see the distribution\n",
      "\n",
      "fig, ax = plt.subplots(1, 1)\n",
      "\n",
      "ax.scatter(target_pred, target_test)\n",
      "ax.set_xlabel('Predicated MPG')\n",
      "ax.set_ylabel('Actual MPG')\n",
      "\n",
      "# Draw the ideal line\n",
      "ax.plot(target, target, 'r');"
     ],
     "language": "python",
     "metadata": {},
     "outputs": []
    },
    {
     "cell_type": "code",
     "collapsed": false,
     "input": [],
     "language": "python",
     "metadata": {},
     "outputs": []
    }
   ],
   "metadata": {}
  }
 ]
}