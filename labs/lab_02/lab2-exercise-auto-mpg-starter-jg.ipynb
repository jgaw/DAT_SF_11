{
 "metadata": {
  "name": "",
  "signature": "sha256:34215447369388c19850552bea91ee5e908d0736b99b7a61a7a99161dfec869c"
 },
 "nbformat": 3,
 "nbformat_minor": 0,
 "worksheets": [
  {
   "cells": [
    {
     "cell_type": "code",
     "collapsed": false,
     "input": [
      "# Standard imports for data analysis packages in Python\n",
      "import pandas as pd\n",
      "import numpy as np\n",
      "import seaborn as sns  # for pretty layout of plots\n",
      "import matplotlib.pyplot as plt\n",
      "\n",
      "# This enables inline Plots\n",
      "%matplotlib inline"
     ],
     "language": "python",
     "metadata": {},
     "outputs": []
    },
    {
     "cell_type": "code",
     "collapsed": false,
     "input": [
      "# Let's explore Auto Dataset comparing various vehicles\n",
      "# Notice, how I have given the delimiter\n",
      "\n",
      "auto_mpg = pd.read_csv('../data/auto_mpg.txt', delimiter=\"\\t\")\n",
      "\n",
      "auto_mpg.horsepower.replace('?', np.nan, inplace = True)\n",
      "auto_mpg.horsepower = auto_mpg.horsepower.astype(float)"
     ],
     "language": "python",
     "metadata": {},
     "outputs": []
    },
    {
     "cell_type": "code",
     "collapsed": false,
     "input": [
      "# Examine the first 5 rows - use head\n",
      "auto_mpg.head()"
     ],
     "language": "python",
     "metadata": {},
     "outputs": []
    },
    {
     "cell_type": "code",
     "collapsed": false,
     "input": [
      "# Examine last 5 rows - use tail\n",
      "auto_mpg.tail()"
     ],
     "language": "python",
     "metadata": {},
     "outputs": []
    },
    {
     "cell_type": "code",
     "collapsed": false,
     "input": [
      "# Examine info on dataset to check on the datatypes\n",
      "auto_mpg.info()"
     ],
     "language": "python",
     "metadata": {},
     "outputs": []
    },
    {
     "cell_type": "code",
     "collapsed": false,
     "input": [
      "# What are the columns in the dataset?\n",
      "auto_mpg.columns"
     ],
     "language": "python",
     "metadata": {},
     "outputs": []
    },
    {
     "cell_type": "code",
     "collapsed": false,
     "input": [
      "# How many 4 Cylinder cars are in the dataset?\n",
      "len(auto_mpg[auto_mpg.cylinders == 4])"
     ],
     "language": "python",
     "metadata": {},
     "outputs": []
    },
    {
     "cell_type": "code",
     "collapsed": false,
     "input": [
      "# Sort the dataset by mpg and show the last 5 rows.\n",
      "auto_mpg.sort('mpg').tail()"
     ],
     "language": "python",
     "metadata": {},
     "outputs": []
    },
    {
     "cell_type": "markdown",
     "metadata": {},
     "source": [
      "### Missing Data"
     ]
    },
    {
     "cell_type": "code",
     "collapsed": false,
     "input": [
      "# Horsepower has missing data (marked as ?).  \n",
      "# Can you set the value to Average horse power from other cars that have same number of Cylinders?\n",
      "\n",
      "auto_mpg['hp_imputed'] = auto_mpg.groupby(['cylinders'])['horsepower'].transform(lambda x: x.fillna(x.mean()))"
     ],
     "language": "python",
     "metadata": {},
     "outputs": []
    },
    {
     "cell_type": "code",
     "collapsed": false,
     "input": [
      "# Horsepower is marked as \"object\" datatype because of missing data - check using info()\n",
      "# Now that you have filled the missing data, can you change the datatype to integer? - np.int64?\n",
      "auto_mpg['hp_imputed'] = auto_mpg.hp_imputed.astype(np.int64)"
     ],
     "language": "python",
     "metadata": {},
     "outputs": []
    },
    {
     "cell_type": "markdown",
     "metadata": {},
     "source": [
      "### Plotting"
     ]
    },
    {
     "cell_type": "code",
     "collapsed": false,
     "input": [
      "# Can you plot a histogram (bar chart) showing the number of cylinders on X Axis and count of cars on Y Axis?\n",
      "auto_mpg.hp_imputed.hist()"
     ],
     "language": "python",
     "metadata": {},
     "outputs": []
    },
    {
     "cell_type": "code",
     "collapsed": false,
     "input": [
      "# Now that horsepower is also a numeric field, plot a Scatter plot of miles-per-gallon and horsepower.\n",
      "plt.scatter(auto_mpg.hp_imputed,auto_mpg.mpg)"
     ],
     "language": "python",
     "metadata": {},
     "outputs": []
    },
    {
     "cell_type": "markdown",
     "metadata": {},
     "source": [
      "### Challenge - Feature Extraction"
     ]
    },
    {
     "cell_type": "code",
     "collapsed": false,
     "input": [
      "# Can you separate the Car Company from car_name and count how many cars are in the dataset by car company?\n",
      "# Assume the first word in car_name is the car company\n",
      "\n",
      "auto_mpg['make'] = auto_mpg.car_name.apply(lambda x: x.split(' ')[0])\n",
      "auto_mpg['model'] = auto_mpg.car_name.apply(lambda x: ' '.join(x.split(' ')[1:]))\n",
      "auto_mpg.groupby(['make'])['car_name'].agg(['count']).sort(['count'],ascending=False)"
     ],
     "language": "python",
     "metadata": {},
     "outputs": []
    },
    {
     "cell_type": "code",
     "collapsed": false,
     "input": [
      "# How many 4-6-8 cylinder cars are there in the dataset for each car company\n",
      "auto_mpg.groupby(['make', 'cylinders'])['cylinders'].agg(['count'])"
     ],
     "language": "python",
     "metadata": {},
     "outputs": []
    },
    {
     "cell_type": "markdown",
     "metadata": {},
     "source": [
      "### Challenge - Model Intution"
     ]
    },
    {
     "cell_type": "code",
     "collapsed": false,
     "input": [
      "# Do you find any correlation between any of the variable?\n",
      "# If you are building a Linear Model to predict \"Miles-Per-Gallon\", what are the features you would use?\n",
      "\n",
      "auto_mpg.corr()\n",
      "#mpg = cylinders(x1) + displacement(x2) + hp_imputed(x3) + weight(x4)"
     ],
     "language": "python",
     "metadata": {},
     "outputs": []
    },
    {
     "cell_type": "code",
     "collapsed": false,
     "input": [],
     "language": "python",
     "metadata": {},
     "outputs": []
    }
   ],
   "metadata": {}
  }
 ]
}