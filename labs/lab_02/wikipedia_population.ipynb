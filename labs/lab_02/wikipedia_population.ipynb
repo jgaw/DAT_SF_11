{
 "metadata": {
  "name": "",
  "signature": "sha256:812a1ea629dc4ec8578efdfa4b05b8a368ecfd3b566d0c3c3bf5fe3ab3a7c277"
 },
 "nbformat": 3,
 "nbformat_minor": 0,
 "worksheets": [
  {
   "cells": [
    {
     "cell_type": "code",
     "collapsed": false,
     "input": [
      "# install beautifulsoup4\n",
      "!pip install beautifulsoup4"
     ],
     "language": "python",
     "metadata": {},
     "outputs": [
      {
       "output_type": "stream",
       "stream": "stdout",
       "text": [
        "Requirement already satisfied (use --upgrade to upgrade): beautifulsoup4 in c:\\users\\jeremiah\\anaconda\\lib\\site-packages\n",
        "Cleaning up...\n"
       ]
      }
     ],
     "prompt_number": 1
    },
    {
     "cell_type": "code",
     "collapsed": false,
     "input": [
      "# For compatibility with Python 3\n",
      "from __future__ import print_function, division"
     ],
     "language": "python",
     "metadata": {},
     "outputs": [],
     "prompt_number": 2
    },
    {
     "cell_type": "markdown",
     "metadata": {},
     "source": [
      "### Doc References\n",
      "\n",
      "* [ipython notebook](http://ipython.org/documentation.html)\n",
      "* [requests](http://docs.python-requests.org/en/latest/)\n",
      "* [BeautifulSoup](http://www.crummy.com/software/BeautifulSoup/bs4/doc/)"
     ]
    },
    {
     "cell_type": "code",
     "collapsed": false,
     "input": [
      "# Standard imports for data analysis packages in Python\n",
      "import pandas as pd\n",
      "import numpy as np\n",
      "import matplotlib.pyplot as plt\n",
      "import seaborn as sns\n",
      "from bs4 import BeautifulSoup\n",
      "import requests\n",
      "from pprint import pprint  # We can use this instead of Print if we want to make it pretty\n",
      "\n",
      "# This enables inline Plots\n",
      "%matplotlib inline"
     ],
     "language": "python",
     "metadata": {},
     "outputs": [],
     "prompt_number": 3
    },
    {
     "cell_type": "code",
     "collapsed": false,
     "input": [
      "print('Pandas: ', pd.__version__)\n",
      "print('Numpy: ', np.__version__)\n",
      "import matplotlib\n",
      "print('matplotlib: ', matplotlib.__version__)\n",
      "import bs4\n",
      "print('BeautifulSoup: ', bs4.__version__)\n",
      "print('requests: ', requests.__version__)\n",
      "print('Seaborn: ', sns.__version__)"
     ],
     "language": "python",
     "metadata": {},
     "outputs": [
      {
       "output_type": "stream",
       "stream": "stdout",
       "text": [
        "Pandas:  0.14.1\n",
        "Numpy:  1.9.0\n",
        "matplotlib:  1.4.0\n",
        "BeautifulSoup:  4.3.2\n",
        "requests:  2.4.3\n",
        "Seaborn:  0.5.1\n"
       ]
      }
     ],
     "prompt_number": 4
    },
    {
     "cell_type": "markdown",
     "metadata": {},
     "source": [
      "## We are going to Scrape Population data from Wikipedia"
     ]
    },
    {
     "cell_type": "code",
     "collapsed": false,
     "input": [
      "url = 'http://en.wikipedia.org/wiki/List_of_countries_by_past_and_future_population'"
     ],
     "language": "python",
     "metadata": {},
     "outputs": [],
     "prompt_number": 5
    },
    {
     "cell_type": "code",
     "collapsed": false,
     "input": [
      "pop_resp = requests.get(url)\n",
      "pop_resp"
     ],
     "language": "python",
     "metadata": {},
     "outputs": [
      {
       "metadata": {},
       "output_type": "pyout",
       "prompt_number": 6,
       "text": [
        "<Response [200]>"
       ]
      }
     ],
     "prompt_number": 6
    },
    {
     "cell_type": "code",
     "collapsed": false,
     "input": [
      "pprint(pop_resp.request.headers)"
     ],
     "language": "python",
     "metadata": {},
     "outputs": [
      {
       "output_type": "stream",
       "stream": "stdout",
       "text": [
        "{'Connection': 'keep-alive', 'Accept-Encoding': 'gzip, deflate', 'Accept': '*/*', 'User-Agent': 'python-requests/2.4.3 CPython/2.7.8 Windows/8'}\n"
       ]
      }
     ],
     "prompt_number": 7
    },
    {
     "cell_type": "code",
     "collapsed": false,
     "input": [
      "# Content contains the HTML Page\n",
      "# pop_resp.content\n",
      "soup = BeautifulSoup(pop_resp.content)"
     ],
     "language": "python",
     "metadata": {},
     "outputs": [],
     "prompt_number": 8
    },
    {
     "cell_type": "code",
     "collapsed": false,
     "input": [
      "population_tables = []\n",
      "for table in soup.find_all('table', {'class': ['sortable', 'wikitable']}):\n",
      "    if 'sortable' in table.attrs.get('class') and 'wikitable' in table.attrs.get('class'):\n",
      "        if table.find('th').text == 'Country or territory':\n",
      "            population_tables.append(table)"
     ],
     "language": "python",
     "metadata": {},
     "outputs": [],
     "prompt_number": 9
    },
    {
     "cell_type": "code",
     "collapsed": false,
     "input": [
      "# Examine Soup\n",
      "# soup\n",
      "def get_table_data(table):\n",
      "    column_names = []\n",
      "    col_indexes = []\n",
      "    table_head = table.find_all('th')\n",
      "    for idx, col_name in enumerate(table_head):\n",
      "        if col_name.text != '%':\n",
      "            col_indexes.append(idx)\n",
      "            column_names.append(col_name.text)\n",
      "    print(column_names)\n",
      "\n",
      "    rows_data = []\n",
      "    table_row = table.find_all('tr')\n",
      "    for idx, row_td in enumerate(table_row):\n",
      "        row = []\n",
      "        for col_idx, col_val in enumerate(row_td.find_all('td')):\n",
      "            if col_idx in col_indexes:\n",
      "                if col_idx == 0:\n",
      "                    row.append(col_val.text[1:])\n",
      "                else:\n",
      "                    row.append(int(col_val.text.replace(',', '')))\n",
      "        if row:\n",
      "            rows_data.append(row)\n",
      "    return column_names, rows_data"
     ],
     "language": "python",
     "metadata": {},
     "outputs": [],
     "prompt_number": 10
    },
    {
     "cell_type": "code",
     "collapsed": false,
     "input": [
      "def get_population_df(population_tables):\n",
      "    population_df = None\n",
      "    for table in population_tables:\n",
      "        columns, rows = get_table_data(table)\n",
      "        table_df = pd.DataFrame(rows, columns=columns)\n",
      "        table_df = table_df.set_index(['Country or territory'])\n",
      "        if population_df is None:\n",
      "            population_df = table_df\n",
      "        else:\n",
      "            population_df = population_df.join(table_df, how='outer')\n",
      "    return population_df"
     ],
     "language": "python",
     "metadata": {},
     "outputs": [],
     "prompt_number": 11
    },
    {
     "cell_type": "code",
     "collapsed": false,
     "input": [
      "population_df = get_population_df(population_tables)"
     ],
     "language": "python",
     "metadata": {},
     "outputs": [
      {
       "output_type": "stream",
       "stream": "stdout",
       "text": [
        "[u'Country or territory', u'1950', u'1955', u'1960', u'1965', u'1970', u'1975', u'1980']\n",
        "[u'Country or territory', u'1985', u'1990', u'1995', u'2000', u'2005', u'2010', u'2015']\n",
        "[u'Country or territory', u'2020', u'2025', u'2030', u'2035', u'2040', u'2045', u'2050']"
       ]
      },
      {
       "output_type": "stream",
       "stream": "stdout",
       "text": [
        "\n"
       ]
      }
     ],
     "prompt_number": 12
    },
    {
     "cell_type": "code",
     "collapsed": false,
     "input": [
      "population_df = population_df.applymap(np.int32)"
     ],
     "language": "python",
     "metadata": {},
     "outputs": [],
     "prompt_number": 13
    },
    {
     "cell_type": "code",
     "collapsed": false,
     "input": [
      "population_df.info()"
     ],
     "language": "python",
     "metadata": {},
     "outputs": [
      {
       "output_type": "stream",
       "stream": "stdout",
       "text": [
        "<class 'pandas.core.frame.DataFrame'>\n",
        "Index: 228 entries, Afghanistan to \u00a0\u00a0Nepal\n",
        "Data columns (total 21 columns):\n",
        "1950    228 non-null int64\n",
        "1955    228 non-null int64\n",
        "1960    228 non-null int64\n",
        "1965    228 non-null int64\n",
        "1970    228 non-null int64\n",
        "1975    228 non-null int64\n",
        "1980    228 non-null int64\n",
        "1985    228 non-null int64\n",
        "1990    228 non-null int64\n",
        "1995    228 non-null int64\n",
        "2000    228 non-null int64\n",
        "2005    228 non-null int64\n",
        "2010    228 non-null int64\n",
        "2015    228 non-null int64\n",
        "2020    228 non-null int64\n",
        "2025    228 non-null int64\n",
        "2030    228 non-null int64\n",
        "2035    228 non-null int64\n",
        "2040    228 non-null int64\n",
        "2045    228 non-null int64\n",
        "2050    228 non-null int64\n",
        "dtypes: int64(21)"
       ]
      }
     ],
     "prompt_number": 14
    },
    {
     "cell_type": "code",
     "collapsed": false,
     "input": [
      "population_df.head(2)"
     ],
     "language": "python",
     "metadata": {},
     "outputs": [
      {
       "html": [
        "<div style=\"max-height:1000px;max-width:1500px;overflow:auto;\">\n",
        "<table border=\"1\" class=\"dataframe\">\n",
        "  <thead>\n",
        "    <tr style=\"text-align: right;\">\n",
        "      <th></th>\n",
        "      <th>1950</th>\n",
        "      <th>1955</th>\n",
        "      <th>1960</th>\n",
        "      <th>1965</th>\n",
        "      <th>1970</th>\n",
        "      <th>1975</th>\n",
        "      <th>1980</th>\n",
        "      <th>1985</th>\n",
        "      <th>1990</th>\n",
        "      <th>1995</th>\n",
        "      <th>...</th>\n",
        "      <th>2005</th>\n",
        "      <th>2010</th>\n",
        "      <th>2015</th>\n",
        "      <th>2020</th>\n",
        "      <th>2025</th>\n",
        "      <th>2030</th>\n",
        "      <th>2035</th>\n",
        "      <th>2040</th>\n",
        "      <th>2045</th>\n",
        "      <th>2050</th>\n",
        "    </tr>\n",
        "    <tr>\n",
        "      <th>Country or territory</th>\n",
        "      <th></th>\n",
        "      <th></th>\n",
        "      <th></th>\n",
        "      <th></th>\n",
        "      <th></th>\n",
        "      <th></th>\n",
        "      <th></th>\n",
        "      <th></th>\n",
        "      <th></th>\n",
        "      <th></th>\n",
        "      <th></th>\n",
        "      <th></th>\n",
        "      <th></th>\n",
        "      <th></th>\n",
        "      <th></th>\n",
        "      <th></th>\n",
        "      <th></th>\n",
        "      <th></th>\n",
        "      <th></th>\n",
        "      <th></th>\n",
        "      <th></th>\n",
        "    </tr>\n",
        "  </thead>\n",
        "  <tbody>\n",
        "    <tr>\n",
        "      <th>Afghanistan</th>\n",
        "      <td> 8150</td>\n",
        "      <td> 8891</td>\n",
        "      <td> 9829</td>\n",
        "      <td> 10998</td>\n",
        "      <td> 12431</td>\n",
        "      <td> 14132</td>\n",
        "      <td> 15044</td>\n",
        "      <td> 13120</td>\n",
        "      <td> 13568</td>\n",
        "      <td> 19445</td>\n",
        "      <td>...</td>\n",
        "      <td> 26335</td>\n",
        "      <td> 29121</td>\n",
        "      <td> 32564</td>\n",
        "      <td> 36644</td>\n",
        "      <td> 41117</td>\n",
        "      <td> 45665</td>\n",
        "      <td> 50195</td>\n",
        "      <td> 54717</td>\n",
        "      <td> 59255</td>\n",
        "      <td> 63795</td>\n",
        "    </tr>\n",
        "    <tr>\n",
        "      <th>Albania</th>\n",
        "      <td> 1227</td>\n",
        "      <td> 1392</td>\n",
        "      <td> 1623</td>\n",
        "      <td>  1884</td>\n",
        "      <td>  2157</td>\n",
        "      <td>  2401</td>\n",
        "      <td>  2671</td>\n",
        "      <td>  2957</td>\n",
        "      <td>  3245</td>\n",
        "      <td>  3158</td>\n",
        "      <td>...</td>\n",
        "      <td>  3025</td>\n",
        "      <td>  2987</td>\n",
        "      <td>  3029</td>\n",
        "      <td>  3075</td>\n",
        "      <td>  3105</td>\n",
        "      <td>  3103</td>\n",
        "      <td>  3062</td>\n",
        "      <td>  2994</td>\n",
        "      <td>  2912</td>\n",
        "      <td>  2824</td>\n",
        "    </tr>\n",
        "  </tbody>\n",
        "</table>\n",
        "<p>2 rows \u00d7 21 columns</p>\n",
        "</div>"
       ],
       "metadata": {},
       "output_type": "pyout",
       "prompt_number": 15,
       "text": [
        "                      1950  1955  1960   1965   1970   1975   1980   1985  \\\n",
        "Country or territory                                                        \n",
        "Afghanistan           8150  8891  9829  10998  12431  14132  15044  13120   \n",
        "Albania               1227  1392  1623   1884   2157   2401   2671   2957   \n",
        "\n",
        "                       1990   1995  ...     2005   2010   2015   2020   2025  \\\n",
        "Country or territory                ...                                        \n",
        "Afghanistan           13568  19445  ...    26335  29121  32564  36644  41117   \n",
        "Albania                3245   3158  ...     3025   2987   3029   3075   3105   \n",
        "\n",
        "                       2030   2035   2040   2045   2050  \n",
        "Country or territory                                     \n",
        "Afghanistan           45665  50195  54717  59255  63795  \n",
        "Albania                3103   3062   2994   2912   2824  \n",
        "\n",
        "[2 rows x 21 columns]"
       ]
      }
     ],
     "prompt_number": 15
    },
    {
     "cell_type": "code",
     "collapsed": false,
     "input": [
      "population_df.loc['United States'].plot()"
     ],
     "language": "python",
     "metadata": {},
     "outputs": [
      {
       "metadata": {},
       "output_type": "pyout",
       "prompt_number": 16,
       "text": [
        "<matplotlib.axes._subplots.AxesSubplot at 0x18e3acc0>"
       ]
      },
      {
       "metadata": {},
       "output_type": "display_data",
       "png": "[encoded data removed]",
       "text": [
        "<matplotlib.figure.Figure at 0x39b10f0>"
       ]
      }
     ],
     "prompt_number": 16
    },
    {
     "cell_type": "code",
     "collapsed": false,
     "input": [
      "population_df.loc['Germany'].plot(ylim=(0, 100000))"
     ],
     "language": "python",
     "metadata": {},
     "outputs": [
      {
       "metadata": {},
       "output_type": "pyout",
       "prompt_number": 17,
       "text": [
        "<matplotlib.axes._subplots.AxesSubplot at 0x18e32c88>"
       ]
      },
      {
       "metadata": {},
       "output_type": "display_data",
       "png": "[encoded data removed]",
       "text": [
        "<matplotlib.figure.Figure at 0x190df898>"
       ]
      }
     ],
     "prompt_number": 17
    },
    {
     "cell_type": "code",
     "collapsed": false,
     "input": [
      "pop_rows_df = population_df.unstack().reset_index()"
     ],
     "language": "python",
     "metadata": {},
     "outputs": [],
     "prompt_number": 18
    },
    {
     "cell_type": "code",
     "collapsed": false,
     "input": [
      "pop_rows_df.columns = ['year', 'country', 'population']"
     ],
     "language": "python",
     "metadata": {},
     "outputs": [],
     "prompt_number": 19
    },
    {
     "cell_type": "code",
     "collapsed": false,
     "input": [
      "pop_rows_df.head(5)"
     ],
     "language": "python",
     "metadata": {},
     "outputs": [
      {
       "html": [
        "<div style=\"max-height:1000px;max-width:1500px;overflow:auto;\">\n",
        "<table border=\"1\" class=\"dataframe\">\n",
        "  <thead>\n",
        "    <tr style=\"text-align: right;\">\n",
        "      <th></th>\n",
        "      <th>year</th>\n",
        "      <th>country</th>\n",
        "      <th>population</th>\n",
        "    </tr>\n",
        "  </thead>\n",
        "  <tbody>\n",
        "    <tr>\n",
        "      <th>0</th>\n",
        "      <td> 1950</td>\n",
        "      <td>    Afghanistan</td>\n",
        "      <td> 8150</td>\n",
        "    </tr>\n",
        "    <tr>\n",
        "      <th>1</th>\n",
        "      <td> 1950</td>\n",
        "      <td>        Albania</td>\n",
        "      <td> 1227</td>\n",
        "    </tr>\n",
        "    <tr>\n",
        "      <th>2</th>\n",
        "      <td> 1950</td>\n",
        "      <td>        Algeria</td>\n",
        "      <td> 8893</td>\n",
        "    </tr>\n",
        "    <tr>\n",
        "      <th>3</th>\n",
        "      <td> 1950</td>\n",
        "      <td> American Samoa</td>\n",
        "      <td>   19</td>\n",
        "    </tr>\n",
        "    <tr>\n",
        "      <th>4</th>\n",
        "      <td> 1950</td>\n",
        "      <td>        Andorra</td>\n",
        "      <td>    6</td>\n",
        "    </tr>\n",
        "  </tbody>\n",
        "</table>\n",
        "</div>"
       ],
       "metadata": {},
       "output_type": "pyout",
       "prompt_number": 20,
       "text": [
        "   year         country  population\n",
        "0  1950     Afghanistan        8150\n",
        "1  1950         Albania        1227\n",
        "2  1950         Algeria        8893\n",
        "3  1950  American Samoa          19\n",
        "4  1950         Andorra           6"
       ]
      }
     ],
     "prompt_number": 20
    },
    {
     "cell_type": "code",
     "collapsed": false,
     "input": [
      "# Total Population of the world Today\n",
      "pop_afganisthan = pop_rows_df[pop_rows_df.country == 'Afghanistan']"
     ],
     "language": "python",
     "metadata": {},
     "outputs": [],
     "prompt_number": 21
    },
    {
     "cell_type": "code",
     "collapsed": false,
     "input": [
      "pop_afganisthan = pop_afganisthan.set_index('year')"
     ],
     "language": "python",
     "metadata": {},
     "outputs": [],
     "prompt_number": 22
    },
    {
     "cell_type": "code",
     "collapsed": false,
     "input": [],
     "language": "python",
     "metadata": {},
     "outputs": []
    }
   ],
   "metadata": {}
  }
 ]
}