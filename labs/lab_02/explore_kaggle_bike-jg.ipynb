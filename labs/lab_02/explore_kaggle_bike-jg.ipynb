{
 "metadata": {
  "name": "",
  "signature": "sha256:2430d0326910f597f9be3a22c69d9431f38414372dbce675149cf8a8288da93d"
 },
 "nbformat": 3,
 "nbformat_minor": 0,
 "worksheets": [
  {
   "cells": [
    {
     "cell_type": "code",
     "collapsed": false,
     "input": [
      "# Install seaborn\n",
      "# If this line gives an error, go back to command prompt and run \"conda install pip\" and then try this step again\n",
      "!pip install seaborn"
     ],
     "language": "python",
     "metadata": {},
     "outputs": []
    },
    {
     "cell_type": "code",
     "collapsed": false,
     "input": [
      "# Standard imports for data analysis packages in Python\n",
      "import pandas as pd\n",
      "import numpy as np\n",
      "import seaborn as sns  # for pretty layout of plots\n",
      "import matplotlib.pyplot as plt\n",
      "from pprint import pprint  # for pretty printing\n",
      "\n",
      "# This enables inline Plots\n",
      "%matplotlib inline\n",
      "\n",
      "# Limit rows displayed in notebook\n",
      "pd.set_option('display.max_rows', 10)\n",
      "pd.set_option('display.precision', 3)"
     ],
     "language": "python",
     "metadata": {},
     "outputs": [],
     "prompt_number": 1
    },
    {
     "cell_type": "code",
     "collapsed": false,
     "input": [
      "print 'Pandas Version: ', pd.__version__\n",
      "print 'Numpy Version: ', np.__version__"
     ],
     "language": "python",
     "metadata": {},
     "outputs": [
      {
       "output_type": "stream",
       "stream": "stdout",
       "text": [
        "Pandas Version:  0.15.1\n",
        "Numpy Version:  1.9.1\n"
       ]
      }
     ],
     "prompt_number": 2
    },
    {
     "cell_type": "code",
     "collapsed": false,
     "input": [
      "# Let's explore Titanic Dataset\n",
      "bike = pd.read_csv('../data/kaggle_bike_train.csv', parse_dates=True)"
     ],
     "language": "python",
     "metadata": {},
     "outputs": [],
     "prompt_number": 3
    },
    {
     "cell_type": "code",
     "collapsed": false,
     "input": [
      "# Look at head rows\n",
      "bike.head(5)"
     ],
     "language": "python",
     "metadata": {},
     "outputs": [
      {
       "html": [
        "<div style=\"max-height:1000px;max-width:1500px;overflow:auto;\">\n",
        "<table border=\"1\" class=\"dataframe\">\n",
        "  <thead>\n",
        "    <tr style=\"text-align: right;\">\n",
        "      <th></th>\n",
        "      <th>datetime</th>\n",
        "      <th>season</th>\n",
        "      <th>holiday</th>\n",
        "      <th>workingday</th>\n",
        "      <th>weather</th>\n",
        "      <th>temp</th>\n",
        "      <th>atemp</th>\n",
        "      <th>humidity</th>\n",
        "      <th>windspeed</th>\n",
        "      <th>casual</th>\n",
        "      <th>registered</th>\n",
        "      <th>count</th>\n",
        "    </tr>\n",
        "  </thead>\n",
        "  <tbody>\n",
        "    <tr>\n",
        "      <th>0</th>\n",
        "      <td> 2011-01-01 00:00:00</td>\n",
        "      <td> 1</td>\n",
        "      <td> 0</td>\n",
        "      <td> 0</td>\n",
        "      <td> 1</td>\n",
        "      <td> 9.84</td>\n",
        "      <td> 14.39</td>\n",
        "      <td> 81</td>\n",
        "      <td> 0</td>\n",
        "      <td> 3</td>\n",
        "      <td> 13</td>\n",
        "      <td> 16</td>\n",
        "    </tr>\n",
        "    <tr>\n",
        "      <th>1</th>\n",
        "      <td> 2011-01-01 01:00:00</td>\n",
        "      <td> 1</td>\n",
        "      <td> 0</td>\n",
        "      <td> 0</td>\n",
        "      <td> 1</td>\n",
        "      <td> 9.02</td>\n",
        "      <td> 13.63</td>\n",
        "      <td> 80</td>\n",
        "      <td> 0</td>\n",
        "      <td> 8</td>\n",
        "      <td> 32</td>\n",
        "      <td> 40</td>\n",
        "    </tr>\n",
        "    <tr>\n",
        "      <th>2</th>\n",
        "      <td> 2011-01-01 02:00:00</td>\n",
        "      <td> 1</td>\n",
        "      <td> 0</td>\n",
        "      <td> 0</td>\n",
        "      <td> 1</td>\n",
        "      <td> 9.02</td>\n",
        "      <td> 13.63</td>\n",
        "      <td> 80</td>\n",
        "      <td> 0</td>\n",
        "      <td> 5</td>\n",
        "      <td> 27</td>\n",
        "      <td> 32</td>\n",
        "    </tr>\n",
        "    <tr>\n",
        "      <th>3</th>\n",
        "      <td> 2011-01-01 03:00:00</td>\n",
        "      <td> 1</td>\n",
        "      <td> 0</td>\n",
        "      <td> 0</td>\n",
        "      <td> 1</td>\n",
        "      <td> 9.84</td>\n",
        "      <td> 14.39</td>\n",
        "      <td> 75</td>\n",
        "      <td> 0</td>\n",
        "      <td> 3</td>\n",
        "      <td> 10</td>\n",
        "      <td> 13</td>\n",
        "    </tr>\n",
        "    <tr>\n",
        "      <th>4</th>\n",
        "      <td> 2011-01-01 04:00:00</td>\n",
        "      <td> 1</td>\n",
        "      <td> 0</td>\n",
        "      <td> 0</td>\n",
        "      <td> 1</td>\n",
        "      <td> 9.84</td>\n",
        "      <td> 14.39</td>\n",
        "      <td> 75</td>\n",
        "      <td> 0</td>\n",
        "      <td> 0</td>\n",
        "      <td>  1</td>\n",
        "      <td>  1</td>\n",
        "    </tr>\n",
        "  </tbody>\n",
        "</table>\n",
        "</div>"
       ],
       "metadata": {},
       "output_type": "pyout",
       "prompt_number": 4,
       "text": [
        "              datetime  season  holiday  workingday  weather  temp  atemp  \\\n",
        "0  2011-01-01 00:00:00       1        0           0        1  9.84  14.39   \n",
        "1  2011-01-01 01:00:00       1        0           0        1  9.02  13.63   \n",
        "2  2011-01-01 02:00:00       1        0           0        1  9.02  13.63   \n",
        "3  2011-01-01 03:00:00       1        0           0        1  9.84  14.39   \n",
        "4  2011-01-01 04:00:00       1        0           0        1  9.84  14.39   \n",
        "\n",
        "   humidity  windspeed  casual  registered  count  \n",
        "0        81          0       3          13     16  \n",
        "1        80          0       8          32     40  \n",
        "2        80          0       5          27     32  \n",
        "3        75          0       3          10     13  \n",
        "4        75          0       0           1      1  "
       ]
      }
     ],
     "prompt_number": 4
    },
    {
     "cell_type": "code",
     "collapsed": false,
     "input": [
      "bike.columns"
     ],
     "language": "python",
     "metadata": {},
     "outputs": [
      {
       "metadata": {},
       "output_type": "pyout",
       "prompt_number": 5,
       "text": [
        "Index([u'datetime', u'season', u'holiday', u'workingday', u'weather', u'temp', u'atemp', u'humidity', u'windspeed', u'casual', u'registered', u'count'], dtype='object')"
       ]
      }
     ],
     "prompt_number": 5
    },
    {
     "cell_type": "code",
     "collapsed": false,
     "input": [
      "bike.dtypes"
     ],
     "language": "python",
     "metadata": {},
     "outputs": [
      {
       "metadata": {},
       "output_type": "pyout",
       "prompt_number": 6,
       "text": [
        "datetime    object\n",
        "season       int64\n",
        "holiday      int64\n",
        "...\n",
        "casual        int64\n",
        "registered    int64\n",
        "count         int64\n",
        "Length: 12, dtype: object"
       ]
      }
     ],
     "prompt_number": 6
    },
    {
     "cell_type": "code",
     "collapsed": false,
     "input": [
      "# Look at Info\n",
      "bike.info()"
     ],
     "language": "python",
     "metadata": {},
     "outputs": [
      {
       "output_type": "stream",
       "stream": "stdout",
       "text": [
        "<class 'pandas.core.frame.DataFrame'>\n",
        "Int64Index: 10886 entries, 0 to 10885\n",
        "Data columns (total 12 columns):\n",
        "datetime      10886 non-null object\n",
        "season        10886 non-null int64\n",
        "holiday       10886 non-null int64\n",
        "workingday    10886 non-null int64\n",
        "weather       10886 non-null int64\n",
        "temp          10886 non-null float64\n",
        "atemp         10886 non-null float64\n",
        "humidity      10886 non-null int64\n",
        "windspeed     10886 non-null float64\n",
        "casual        10886 non-null int64\n",
        "registered    10886 non-null int64\n",
        "count         10886 non-null int64\n",
        "dtypes: float64(3), int64(8), object(1)\n",
        "memory usage: 1.1+ MB\n"
       ]
      }
     ],
     "prompt_number": 7
    },
    {
     "cell_type": "code",
     "collapsed": false,
     "input": [
      "bike.rename(columns={'datetime': 'row_dt', 'count': 'rentals'}, inplace=True)\n",
      "# inplace explain"
     ],
     "language": "python",
     "metadata": {},
     "outputs": [],
     "prompt_number": 8
    },
    {
     "cell_type": "code",
     "collapsed": false,
     "input": [
      "bike.head(4)"
     ],
     "language": "python",
     "metadata": {},
     "outputs": [
      {
       "html": [
        "<div style=\"max-height:1000px;max-width:1500px;overflow:auto;\">\n",
        "<table border=\"1\" class=\"dataframe\">\n",
        "  <thead>\n",
        "    <tr style=\"text-align: right;\">\n",
        "      <th></th>\n",
        "      <th>row_dt</th>\n",
        "      <th>season</th>\n",
        "      <th>holiday</th>\n",
        "      <th>workingday</th>\n",
        "      <th>weather</th>\n",
        "      <th>temp</th>\n",
        "      <th>atemp</th>\n",
        "      <th>humidity</th>\n",
        "      <th>windspeed</th>\n",
        "      <th>casual</th>\n",
        "      <th>registered</th>\n",
        "      <th>rentals</th>\n",
        "    </tr>\n",
        "  </thead>\n",
        "  <tbody>\n",
        "    <tr>\n",
        "      <th>0</th>\n",
        "      <td> 2011-01-01 00:00:00</td>\n",
        "      <td> 1</td>\n",
        "      <td> 0</td>\n",
        "      <td> 0</td>\n",
        "      <td> 1</td>\n",
        "      <td> 9.84</td>\n",
        "      <td> 14.39</td>\n",
        "      <td> 81</td>\n",
        "      <td> 0</td>\n",
        "      <td> 3</td>\n",
        "      <td> 13</td>\n",
        "      <td> 16</td>\n",
        "    </tr>\n",
        "    <tr>\n",
        "      <th>1</th>\n",
        "      <td> 2011-01-01 01:00:00</td>\n",
        "      <td> 1</td>\n",
        "      <td> 0</td>\n",
        "      <td> 0</td>\n",
        "      <td> 1</td>\n",
        "      <td> 9.02</td>\n",
        "      <td> 13.63</td>\n",
        "      <td> 80</td>\n",
        "      <td> 0</td>\n",
        "      <td> 8</td>\n",
        "      <td> 32</td>\n",
        "      <td> 40</td>\n",
        "    </tr>\n",
        "    <tr>\n",
        "      <th>2</th>\n",
        "      <td> 2011-01-01 02:00:00</td>\n",
        "      <td> 1</td>\n",
        "      <td> 0</td>\n",
        "      <td> 0</td>\n",
        "      <td> 1</td>\n",
        "      <td> 9.02</td>\n",
        "      <td> 13.63</td>\n",
        "      <td> 80</td>\n",
        "      <td> 0</td>\n",
        "      <td> 5</td>\n",
        "      <td> 27</td>\n",
        "      <td> 32</td>\n",
        "    </tr>\n",
        "    <tr>\n",
        "      <th>3</th>\n",
        "      <td> 2011-01-01 03:00:00</td>\n",
        "      <td> 1</td>\n",
        "      <td> 0</td>\n",
        "      <td> 0</td>\n",
        "      <td> 1</td>\n",
        "      <td> 9.84</td>\n",
        "      <td> 14.39</td>\n",
        "      <td> 75</td>\n",
        "      <td> 0</td>\n",
        "      <td> 3</td>\n",
        "      <td> 10</td>\n",
        "      <td> 13</td>\n",
        "    </tr>\n",
        "  </tbody>\n",
        "</table>\n",
        "</div>"
       ],
       "metadata": {},
       "output_type": "pyout",
       "prompt_number": 9,
       "text": [
        "                row_dt  season  holiday  workingday  weather  temp  atemp  \\\n",
        "0  2011-01-01 00:00:00       1        0           0        1  9.84  14.39   \n",
        "1  2011-01-01 01:00:00       1        0           0        1  9.02  13.63   \n",
        "2  2011-01-01 02:00:00       1        0           0        1  9.02  13.63   \n",
        "3  2011-01-01 03:00:00       1        0           0        1  9.84  14.39   \n",
        "\n",
        "   humidity  windspeed  casual  registered  rentals  \n",
        "0        81          0       3          13       16  \n",
        "1        80          0       8          32       40  \n",
        "2        80          0       5          27       32  \n",
        "3        75          0       3          10       13  "
       ]
      }
     ],
     "prompt_number": 9
    },
    {
     "cell_type": "code",
     "collapsed": false,
     "input": [
      "# Selecting Columns\n",
      "bike['season'][1:100]"
     ],
     "language": "python",
     "metadata": {},
     "outputs": [
      {
       "metadata": {},
       "output_type": "pyout",
       "prompt_number": 10,
       "text": [
        "1    1\n",
        "2    1\n",
        "3    1\n",
        "...\n",
        "97    1\n",
        "98    1\n",
        "99    1\n",
        "Name: season, Length: 99, dtype: int64"
       ]
      }
     ],
     "prompt_number": 10
    },
    {
     "cell_type": "code",
     "collapsed": false,
     "input": [
      "# Selecting multiple columns\n",
      "bike[['row_dt', 'season', 'rentals']]"
     ],
     "language": "python",
     "metadata": {},
     "outputs": [
      {
       "html": [
        "<div style=\"max-height:1000px;max-width:1500px;overflow:auto;\">\n",
        "<table border=\"1\" class=\"dataframe\">\n",
        "  <thead>\n",
        "    <tr style=\"text-align: right;\">\n",
        "      <th></th>\n",
        "      <th>row_dt</th>\n",
        "      <th>season</th>\n",
        "      <th>rentals</th>\n",
        "    </tr>\n",
        "  </thead>\n",
        "  <tbody>\n",
        "    <tr>\n",
        "      <th>0    </th>\n",
        "      <td> 2011-01-01 00:00:00</td>\n",
        "      <td> 1</td>\n",
        "      <td>  16</td>\n",
        "    </tr>\n",
        "    <tr>\n",
        "      <th>1    </th>\n",
        "      <td> 2011-01-01 01:00:00</td>\n",
        "      <td> 1</td>\n",
        "      <td>  40</td>\n",
        "    </tr>\n",
        "    <tr>\n",
        "      <th>2    </th>\n",
        "      <td> 2011-01-01 02:00:00</td>\n",
        "      <td> 1</td>\n",
        "      <td>  32</td>\n",
        "    </tr>\n",
        "    <tr>\n",
        "      <th>3    </th>\n",
        "      <td> 2011-01-01 03:00:00</td>\n",
        "      <td> 1</td>\n",
        "      <td>  13</td>\n",
        "    </tr>\n",
        "    <tr>\n",
        "      <th>4    </th>\n",
        "      <td> 2011-01-01 04:00:00</td>\n",
        "      <td> 1</td>\n",
        "      <td>   1</td>\n",
        "    </tr>\n",
        "    <tr>\n",
        "      <th>...</th>\n",
        "      <td>...</td>\n",
        "      <td>...</td>\n",
        "      <td>...</td>\n",
        "    </tr>\n",
        "    <tr>\n",
        "      <th>10881</th>\n",
        "      <td> 2012-12-19 19:00:00</td>\n",
        "      <td> 4</td>\n",
        "      <td> 336</td>\n",
        "    </tr>\n",
        "    <tr>\n",
        "      <th>10882</th>\n",
        "      <td> 2012-12-19 20:00:00</td>\n",
        "      <td> 4</td>\n",
        "      <td> 241</td>\n",
        "    </tr>\n",
        "    <tr>\n",
        "      <th>10883</th>\n",
        "      <td> 2012-12-19 21:00:00</td>\n",
        "      <td> 4</td>\n",
        "      <td> 168</td>\n",
        "    </tr>\n",
        "    <tr>\n",
        "      <th>10884</th>\n",
        "      <td> 2012-12-19 22:00:00</td>\n",
        "      <td> 4</td>\n",
        "      <td> 129</td>\n",
        "    </tr>\n",
        "    <tr>\n",
        "      <th>10885</th>\n",
        "      <td> 2012-12-19 23:00:00</td>\n",
        "      <td> 4</td>\n",
        "      <td>  88</td>\n",
        "    </tr>\n",
        "  </tbody>\n",
        "</table>\n",
        "<p>10886 rows \u00d7 3 columns</p>\n",
        "</div>"
       ],
       "metadata": {},
       "output_type": "pyout",
       "prompt_number": 11,
       "text": [
        "                    row_dt  season  rentals\n",
        "0      2011-01-01 00:00:00       1       16\n",
        "1      2011-01-01 01:00:00       1       40\n",
        "2      2011-01-01 02:00:00       1       32\n",
        "3      2011-01-01 03:00:00       1       13\n",
        "4      2011-01-01 04:00:00       1        1\n",
        "...                    ...     ...      ...\n",
        "10881  2012-12-19 19:00:00       4      336\n",
        "10882  2012-12-19 20:00:00       4      241\n",
        "10883  2012-12-19 21:00:00       4      168\n",
        "10884  2012-12-19 22:00:00       4      129\n",
        "10885  2012-12-19 23:00:00       4       88\n",
        "\n",
        "[10886 rows x 3 columns]"
       ]
      }
     ],
     "prompt_number": 11
    },
    {
     "cell_type": "markdown",
     "metadata": {},
     "source": [
      "### Selecting Rows - ix, iloc, loc\n",
      "\n",
      "* iloc - Selecting by INDEX Numbers\n",
      "* loc - Selecting by Names (for index and Columns)\n",
      "* ix - Will do either one depending on input.  Most widely used"
     ]
    },
    {
     "cell_type": "code",
     "collapsed": false,
     "input": [
      "# Selecting rows\n",
      "bike.iloc[0]"
     ],
     "language": "python",
     "metadata": {},
     "outputs": [
      {
       "metadata": {},
       "output_type": "pyout",
       "prompt_number": 12,
       "text": [
        "row_dt     2011-01-01 00:00:00\n",
        "season                       1\n",
        "holiday                      0\n",
        "...\n",
        "casual         3\n",
        "registered    13\n",
        "rentals       16\n",
        "Name: 0, Length: 12, dtype: object"
       ]
      }
     ],
     "prompt_number": 12
    },
    {
     "cell_type": "code",
     "collapsed": false,
     "input": [
      "bike.columns"
     ],
     "language": "python",
     "metadata": {},
     "outputs": [
      {
       "metadata": {},
       "output_type": "pyout",
       "prompt_number": 13,
       "text": [
        "Index([u'row_dt', u'season', u'holiday', u'workingday', u'weather', u'temp', u'atemp', u'humidity', u'windspeed', u'casual', u'registered', u'rentals'], dtype='object')"
       ]
      }
     ],
     "prompt_number": 13
    },
    {
     "cell_type": "code",
     "collapsed": false,
     "input": [
      "bike.iloc[0:2, 0:2]"
     ],
     "language": "python",
     "metadata": {},
     "outputs": [
      {
       "html": [
        "<div style=\"max-height:1000px;max-width:1500px;overflow:auto;\">\n",
        "<table border=\"1\" class=\"dataframe\">\n",
        "  <thead>\n",
        "    <tr style=\"text-align: right;\">\n",
        "      <th></th>\n",
        "      <th>row_dt</th>\n",
        "      <th>season</th>\n",
        "    </tr>\n",
        "  </thead>\n",
        "  <tbody>\n",
        "    <tr>\n",
        "      <th>0</th>\n",
        "      <td> 2011-01-01 00:00:00</td>\n",
        "      <td> 1</td>\n",
        "    </tr>\n",
        "    <tr>\n",
        "      <th>1</th>\n",
        "      <td> 2011-01-01 01:00:00</td>\n",
        "      <td> 1</td>\n",
        "    </tr>\n",
        "  </tbody>\n",
        "</table>\n",
        "</div>"
       ],
       "metadata": {},
       "output_type": "pyout",
       "prompt_number": 14,
       "text": [
        "                row_dt  season\n",
        "0  2011-01-01 00:00:00       1\n",
        "1  2011-01-01 01:00:00       1"
       ]
      }
     ],
     "prompt_number": 14
    },
    {
     "cell_type": "code",
     "collapsed": false,
     "input": [
      "bike.loc[0:2, ['season', 'temp']]"
     ],
     "language": "python",
     "metadata": {},
     "outputs": [
      {
       "html": [
        "<div style=\"max-height:1000px;max-width:1500px;overflow:auto;\">\n",
        "<table border=\"1\" class=\"dataframe\">\n",
        "  <thead>\n",
        "    <tr style=\"text-align: right;\">\n",
        "      <th></th>\n",
        "      <th>season</th>\n",
        "      <th>temp</th>\n",
        "    </tr>\n",
        "  </thead>\n",
        "  <tbody>\n",
        "    <tr>\n",
        "      <th>0</th>\n",
        "      <td> 1</td>\n",
        "      <td> 9.84</td>\n",
        "    </tr>\n",
        "    <tr>\n",
        "      <th>1</th>\n",
        "      <td> 1</td>\n",
        "      <td> 9.02</td>\n",
        "    </tr>\n",
        "    <tr>\n",
        "      <th>2</th>\n",
        "      <td> 1</td>\n",
        "      <td> 9.02</td>\n",
        "    </tr>\n",
        "  </tbody>\n",
        "</table>\n",
        "</div>"
       ],
       "metadata": {},
       "output_type": "pyout",
       "prompt_number": 15,
       "text": [
        "   season  temp\n",
        "0       1  9.84\n",
        "1       1  9.02\n",
        "2       1  9.02"
       ]
      }
     ],
     "prompt_number": 15
    },
    {
     "cell_type": "code",
     "collapsed": false,
     "input": [
      "# ix tries to be smart between iloc and loc\n",
      "bike.ix[0:2:1, ['season','humidity']]"
     ],
     "language": "python",
     "metadata": {},
     "outputs": [
      {
       "html": [
        "<div style=\"max-height:1000px;max-width:1500px;overflow:auto;\">\n",
        "<table border=\"1\" class=\"dataframe\">\n",
        "  <thead>\n",
        "    <tr style=\"text-align: right;\">\n",
        "      <th></th>\n",
        "      <th>season</th>\n",
        "      <th>humidity</th>\n",
        "    </tr>\n",
        "  </thead>\n",
        "  <tbody>\n",
        "  </tbody>\n",
        "</table>\n",
        "</div>"
       ],
       "metadata": {},
       "output_type": "pyout",
       "prompt_number": 17,
       "text": [
        "Empty DataFrame\n",
        "Columns: [season, humidity]\n",
        "Index: []"
       ]
      }
     ],
     "prompt_number": 17
    },
    {
     "cell_type": "code",
     "collapsed": false,
     "input": [
      "bike.ix[(len(bike.index)-1):, ['season', 'row_dt']]"
     ],
     "language": "python",
     "metadata": {},
     "outputs": []
    },
    {
     "cell_type": "code",
     "collapsed": false,
     "input": [
      "# Now your turn.  Practice Row and Column Selections for 2-3 minutes, ask for help if stuck"
     ],
     "language": "python",
     "metadata": {},
     "outputs": []
    },
    {
     "cell_type": "markdown",
     "metadata": {},
     "source": [
      "### Filtering (Masking) Data"
     ]
    },
    {
     "cell_type": "code",
     "collapsed": false,
     "input": [
      "# Filtering of data\n",
      "bike.rentals > 500"
     ],
     "language": "python",
     "metadata": {},
     "outputs": []
    },
    {
     "cell_type": "code",
     "collapsed": false,
     "input": [
      "bike[bike.rentals > 500]"
     ],
     "language": "python",
     "metadata": {},
     "outputs": []
    },
    {
     "cell_type": "code",
     "collapsed": false,
     "input": [
      "(bike.rentals > 500).sum()"
     ],
     "language": "python",
     "metadata": {},
     "outputs": []
    },
    {
     "cell_type": "code",
     "collapsed": false,
     "input": [
      "# Now, let's see how many rentals were over 500 and was on a Holiday\n",
      "bike[(bike.rentals > 500) & (bike.holiday == 1)] #why can't we use and vs &"
     ],
     "language": "python",
     "metadata": {},
     "outputs": []
    },
    {
     "cell_type": "code",
     "collapsed": false,
     "input": [
      "# Your turn now.  Try doing some filters on the data. You might get some traceback errors, we all do.  \n",
      "# Just scroll to bottom and see if the message helps identify the error\n",
      "# Lets take 2-3 minutes\n",
      "bike[(bike.holiday == 1) | (bike.workingday == 0)]"
     ],
     "language": "python",
     "metadata": {},
     "outputs": []
    },
    {
     "cell_type": "markdown",
     "metadata": {},
     "source": [
      "### Convert date into a datetime object"
     ]
    },
    {
     "cell_type": "code",
     "collapsed": false,
     "input": [
      "# The row_dt is not a datetime object and still a String.  Let's take a look\n",
      "bike.row_dt"
     ],
     "language": "python",
     "metadata": {},
     "outputs": []
    },
    {
     "cell_type": "code",
     "collapsed": false,
     "input": [
      "bike.row_dt[0]"
     ],
     "language": "python",
     "metadata": {},
     "outputs": []
    },
    {
     "cell_type": "code",
     "collapsed": false,
     "input": [
      "# Datetime field is imported as \"object\" which is the same as strings\n",
      "bike.row_dt = pd.to_datetime(bike.row_dt)"
     ],
     "language": "python",
     "metadata": {},
     "outputs": []
    },
    {
     "cell_type": "code",
     "collapsed": false,
     "input": [
      "print dir(bike.row_dt[0])"
     ],
     "language": "python",
     "metadata": {},
     "outputs": []
    },
    {
     "cell_type": "code",
     "collapsed": false,
     "input": [
      "# Creating new columns in Pandas is easy\n",
      "# Get Day of week, date\n",
      "bike['daynum'] = bike.row_dt.map(lambda x: x.dayofweek)"
     ],
     "language": "python",
     "metadata": {},
     "outputs": []
    },
    {
     "cell_type": "code",
     "collapsed": false,
     "input": [
      "bike['row_date'] = bike.row_dt.map(lambda x: x.date())\n",
      "bike['row_time'] = bike.row_dt.map(lambda x: x.time())"
     ],
     "language": "python",
     "metadata": {},
     "outputs": []
    },
    {
     "cell_type": "code",
     "collapsed": false,
     "input": [
      "bike"
     ],
     "language": "python",
     "metadata": {},
     "outputs": []
    },
    {
     "cell_type": "markdown",
     "metadata": {},
     "source": [
      "### Pandas Indexing\n",
      "\n",
      "* Index helps in quickly getting to the slices of data and is Fast"
     ]
    },
    {
     "cell_type": "code",
     "collapsed": false,
     "input": [
      "# Try getting all data for 1st January 2011\n",
      "%timeit bike[bike.row_date == '2011-01-01']"
     ],
     "language": "python",
     "metadata": {},
     "outputs": []
    },
    {
     "cell_type": "code",
     "collapsed": false,
     "input": [
      "# Let's convert datetime into a datetime object\n",
      "bike.set_index(['row_dt'], inplace=True)"
     ],
     "language": "python",
     "metadata": {},
     "outputs": []
    },
    {
     "cell_type": "code",
     "collapsed": false,
     "input": [
      "bike.head(5)"
     ],
     "language": "python",
     "metadata": {},
     "outputs": []
    },
    {
     "cell_type": "code",
     "collapsed": false,
     "input": [
      "# Now let's use indexing to get Jan' 1st 2011 data\n",
      "%timeit bike['2011-01-01 00:00:00': '2011-01-01 23:00:00']"
     ],
     "language": "python",
     "metadata": {},
     "outputs": []
    },
    {
     "cell_type": "markdown",
     "metadata": {},
     "source": [
      "### Let's look at distribution of rentals using Histograms"
     ]
    },
    {
     "cell_type": "code",
     "collapsed": false,
     "input": [
      "# Rentals - Distribution\n",
      "bike.rentals.hist()"
     ],
     "language": "python",
     "metadata": {},
     "outputs": []
    },
    {
     "cell_type": "code",
     "collapsed": false,
     "input": [
      "bike.rentals.hist(by=bike.workingday, sharey=True, sharex=True, bins=50)"
     ],
     "language": "python",
     "metadata": {},
     "outputs": []
    },
    {
     "cell_type": "code",
     "collapsed": false,
     "input": [
      "bike.head()"
     ],
     "language": "python",
     "metadata": {},
     "outputs": []
    },
    {
     "cell_type": "markdown",
     "metadata": {},
     "source": [
      "### Translate these codes into values that we can understand\n",
      "\n",
      "* Workingday, season, weather - from code to descriptions\n",
      "* Temperatures -> from celsius to F"
     ]
    },
    {
     "cell_type": "code",
     "collapsed": false,
     "input": [
      "def get_season_desc(numb):\n",
      "    if numb == 1:\n",
      "        return 'spring'\n",
      "    elif numb == 2:\n",
      "        return 'summer'\n",
      "    elif numb == 3:\n",
      "        return 'fall'\n",
      "    elif numb == 4:\n",
      "        return 'winter'\n",
      "    else:\n",
      "        return str(numb)\n",
      "\n",
      "\n",
      "bike['seas_desc'] = bike['season'].map(get_season_desc)"
     ],
     "language": "python",
     "metadata": {},
     "outputs": []
    },
    {
     "cell_type": "code",
     "collapsed": false,
     "input": [
      "bike.head()"
     ],
     "language": "python",
     "metadata": {},
     "outputs": []
    },
    {
     "cell_type": "code",
     "collapsed": false,
     "input": [
      "# Now, delete that new column, because we are going to write it in a more pythonic way\n",
      "\n",
      "# Delete Statement\n",
      "# del bike['seas_desc']\n",
      "\n",
      "# Or as bike.drop method\n",
      "bike.drop('seas_desc', axis=1, inplace=True)  # Axis 0 is rows, Axis 1 is columns"
     ],
     "language": "python",
     "metadata": {},
     "outputs": []
    },
    {
     "cell_type": "code",
     "collapsed": false,
     "input": [
      "# Did it really get deleted?\n",
      "bike.head(5)"
     ],
     "language": "python",
     "metadata": {},
     "outputs": []
    },
    {
     "cell_type": "code",
     "collapsed": false,
     "input": [
      "# A more cleaner way of doing the same translation using Dictionaries\n",
      "def get_season_desc(numb):\n",
      "    season = {}\n",
      "    season[1] = 'spring'\n",
      "    season[2] = 'summer'\n",
      "    season[3] = 'fall'\n",
      "    season[4] = 'winter'\n",
      "    \n",
      "    return season[numb]\n",
      "\n",
      "bike['seas_desc'] = bike['season'].map(get_season_desc)"
     ],
     "language": "python",
     "metadata": {},
     "outputs": []
    },
    {
     "cell_type": "code",
     "collapsed": false,
     "input": [
      "season = {}\n",
      "season[1] = 'spring'\n",
      "season[2] = 'summer'\n",
      "season[3] = 'fall'\n",
      "season[4] = 'winter'\n",
      "season"
     ],
     "language": "python",
     "metadata": {},
     "outputs": []
    },
    {
     "cell_type": "code",
     "collapsed": false,
     "input": [
      "bike.head()"
     ],
     "language": "python",
     "metadata": {},
     "outputs": []
    },
    {
     "cell_type": "code",
     "collapsed": false,
     "input": [
      "# Now it's your turn.  Can you translate, workingday\n",
      "def get_workingday_desc(numb):\n",
      "    days = {}\n",
      "    days[0] = 'workday'\n",
      "    days[1] = 'dayoff'\n",
      "    return days[numb]\n",
      "'''returns 'workday' when value is 0 else returns 'dayoff'\n",
      "    '''\n",
      "bike['day_desc'] = bike['workingday'].map(get_workingday_desc)"
     ],
     "language": "python",
     "metadata": {},
     "outputs": []
    },
    {
     "cell_type": "code",
     "collapsed": false,
     "input": [
      "# Let's convert Temperatures into fahrenheit\n",
      "def get_fahrenheit(celsius):\n",
      "    # Fahrenheit = celsius * 1.8 + 32\n",
      "    # 1 Celsius = 33.8 Fahrenheit\n",
      "    # your code goes here\n",
      "    f = celsius*1.8 + 32\n",
      "    return f\n",
      "    \n",
      "bike['temp_f'] = bike['temp'].map(get_fahrenheit)\n",
      "bike['atemp_f'] = bike['atemp'].map(get_fahrenheit)"
     ],
     "language": "python",
     "metadata": {},
     "outputs": []
    },
    {
     "cell_type": "code",
     "collapsed": false,
     "input": [
      "bike.head()"
     ],
     "language": "python",
     "metadata": {},
     "outputs": []
    },
    {
     "cell_type": "code",
     "collapsed": false,
     "input": [
      "bike.rentals.hist(by=bike.day_desc, sharey=True, sharex=True, bins=50)"
     ],
     "language": "python",
     "metadata": {},
     "outputs": []
    },
    {
     "cell_type": "markdown",
     "metadata": {},
     "source": [
      "### On Average, do people bike more on workday vs offday?\n",
      "\n",
      "* This is where we are going to slice the data for the condition and sum the number of rentals\n",
      "\n"
     ]
    },
    {
     "cell_type": "code",
     "collapsed": false,
     "input": [
      "# Pandas Slicing - Boolean conditions\n",
      "bike.day_desc == 'workday'"
     ],
     "language": "python",
     "metadata": {},
     "outputs": []
    },
    {
     "cell_type": "code",
     "collapsed": false,
     "input": [
      "bike[bike.day_desc == 'workday'].rentals.sum()"
     ],
     "language": "python",
     "metadata": {},
     "outputs": []
    },
    {
     "cell_type": "code",
     "collapsed": false,
     "input": [
      "bike[bike.day_desc == 'dayoff'].rentals.sum()"
     ],
     "language": "python",
     "metadata": {},
     "outputs": []
    },
    {
     "cell_type": "code",
     "collapsed": false,
     "input": [
      "# But we want the average rentals for offday\n",
      "bike[bike.day_desc == 'dayoff'].rentals.mean()"
     ],
     "language": "python",
     "metadata": {},
     "outputs": []
    },
    {
     "cell_type": "code",
     "collapsed": false,
     "input": [
      "# How does the distribution look like? - Let's just plot it and see\n",
      "bike[bike.day_desc == 'workday'].rentals.hist()"
     ],
     "language": "python",
     "metadata": {},
     "outputs": []
    },
    {
     "cell_type": "code",
     "collapsed": false,
     "input": [
      "bike[bike.day_desc == 'dayoff'].rentals.hist()"
     ],
     "language": "python",
     "metadata": {},
     "outputs": []
    },
    {
     "cell_type": "code",
     "collapsed": false,
     "input": [
      "# They look the similar number, but they really are not.  Look at the scales - They are different\n",
      "bike.rentals.hist(by=bike.day_desc, sharex=True, sharey=True, bins=50)"
     ],
     "language": "python",
     "metadata": {},
     "outputs": []
    },
    {
     "cell_type": "markdown",
     "metadata": {},
     "source": [
      "### huh, some days people don't rent at all and others they rent a lot.\n",
      "\n",
      "*  How do we understand this demand.\n",
      "* Is there a difference between Spring, Summer, Fall and Winter"
     ]
    },
    {
     "cell_type": "code",
     "collapsed": false,
     "input": [
      "# Do the same plots for Spring Summer Fall and Winter instead of workingday_desc\n",
      "\n",
      "# Your Turn\n",
      "bike.rentals.hist(by=bike.seas_desc, sharex=True, sharey=True, bins=50)"
     ],
     "language": "python",
     "metadata": {},
     "outputs": []
    },
    {
     "cell_type": "markdown",
     "metadata": {},
     "source": [
      "### Let's do some Boxplots to see distribution\n",
      "\n",
      "* Boxplots offer another way of looking at boundaries of data."
     ]
    },
    {
     "cell_type": "code",
     "collapsed": false,
     "input": [
      "ax = bike.boxplot(column=['rentals', 'casual', 'registered']);"
     ],
     "language": "python",
     "metadata": {},
     "outputs": []
    },
    {
     "cell_type": "code",
     "collapsed": false,
     "input": [
      "ax = bike.boxplot(column=['rentals'], by=['day_desc'])"
     ],
     "language": "python",
     "metadata": {},
     "outputs": []
    },
    {
     "cell_type": "code",
     "collapsed": false,
     "input": [
      "bike.boxplot(column=['rentals', 'casual', 'registered'], by=['seas_desc']);"
     ],
     "language": "python",
     "metadata": {},
     "outputs": []
    },
    {
     "cell_type": "markdown",
     "metadata": {},
     "source": [
      "### What if we want to aggregate the rentals by Day"
     ]
    },
    {
     "cell_type": "code",
     "collapsed": false,
     "input": [
      "bike.head()"
     ],
     "language": "python",
     "metadata": {},
     "outputs": []
    },
    {
     "cell_type": "code",
     "collapsed": false,
     "input": [
      "# How do you aggregate data by days\n",
      "bike_day = bike[['casual', 'registered', 'rentals']].resample('D', how=np.sum)"
     ],
     "language": "python",
     "metadata": {},
     "outputs": []
    },
    {
     "cell_type": "code",
     "collapsed": false,
     "input": [
      "bike_day.head()"
     ],
     "language": "python",
     "metadata": {},
     "outputs": []
    },
    {
     "cell_type": "code",
     "collapsed": false,
     "input": [
      "bike_day['2011-03-01': '2011-03-21']['rentals'].plot()"
     ],
     "language": "python",
     "metadata": {},
     "outputs": []
    },
    {
     "cell_type": "code",
     "collapsed": false,
     "input": [],
     "language": "python",
     "metadata": {},
     "outputs": []
    }
   ],
   "metadata": {}
  }
 ]
}