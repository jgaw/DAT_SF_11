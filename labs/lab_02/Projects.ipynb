{
 "metadata": {
  "name": "",
  "signature": "sha256:7096055453ab98f179fc30df6515083d25a022b537c98eb4f29d00552b9cac9b"
 },
 "nbformat": 3,
 "nbformat_minor": 0,
 "worksheets": [
  {
   "cells": [
    {
     "cell_type": "code",
     "collapsed": false,
     "input": [
      "import pandas as pd\n",
      "import numpy as np\n",
      "import seaborn as sns\n",
      "import matplotlib.pyplot as plt\n",
      "import pylab\n",
      "from pprint import pprint \n",
      "from geopy.geocoders import Nominatim\n",
      "\n",
      "%matplotlib inline\n",
      "\n",
      "pd.set_option('display.max_rows', 10)\n",
      "pd.set_option('display.precision', 4)"
     ],
     "language": "python",
     "metadata": {},
     "outputs": []
    },
    {
     "cell_type": "code",
     "collapsed": false,
     "input": [
      "print 'Pandas Version: ' ,pd.__version__\n",
      "print 'Numpy Version: ', np.__version__"
     ],
     "language": "python",
     "metadata": {},
     "outputs": []
    },
    {
     "cell_type": "code",
     "collapsed": false,
     "input": [
      "df = pd.read_csv('../data/opendata_projects.csv', parse_dates = True)"
     ],
     "language": "python",
     "metadata": {},
     "outputs": []
    },
    {
     "cell_type": "code",
     "collapsed": false,
     "input": [
      "#convert to str\n",
      "df.school_ncesid = df.school_ncesid.astype(str)\n",
      "df.school_zip = df.school_zip.astype(str)"
     ],
     "language": "python",
     "metadata": {},
     "outputs": []
    },
    {
     "cell_type": "code",
     "collapsed": false,
     "input": [
      "#convert dates to date_time\n",
      "df.date_posted = pd.to_datetime(df.date_posted)\n",
      "df.date_completed = pd.to_datetime(df.date_completed)\n",
      "df.date_thank_you_packet_mailed = pd.to_datetime(df.date_thank_you_packet_mailed)\n",
      "df.date_expiration = pd.to_datetime(df.date_expiration)"
     ],
     "language": "python",
     "metadata": {},
     "outputs": []
    },
    {
     "cell_type": "code",
     "collapsed": false,
     "input": [
      "#map t/f to 1/0\n",
      "def convert_tf(tf):\n",
      "    truefalse = {}\n",
      "    truefalse['f'] = 0\n",
      "    truefalse['t'] = 1\n",
      "    return truefalse[tf]\n",
      "\n",
      "df.school_charter = df.school_charter.map(convert_tf)\n",
      "df.school_magnet = df.school_magnet.map(convert_tf) \n",
      "df.school_year_round = df.school_year_round.map(convert_tf)\n",
      "df.school_nlns = df.school_nlns.map(convert_tf)\n",
      "df.school_kipp = df.school_kipp.map(convert_tf)\n",
      "df.school_charter_ready_promise = df.school_charter_ready_promise.map(convert_tf)\n",
      "df.teacher_teach_for_america = df.teacher_teach_for_america.map(convert_tf)\n",
      "df.teacher_ny_teaching_fellow = df.teacher_ny_teaching_fellow.map(convert_tf)\n",
      "df.eligible_double_your_impact_match = df.eligible_double_your_impact_match.map(convert_tf)\n",
      "df.eligible_almost_home_match = df.eligible_almost_home_match.map(convert_tf)"
     ],
     "language": "python",
     "metadata": {},
     "outputs": []
    },
    {
     "cell_type": "code",
     "collapsed": false,
     "input": [
      "df.info()"
     ],
     "language": "python",
     "metadata": {},
     "outputs": []
    },
    {
     "cell_type": "code",
     "collapsed": false,
     "input": [
      "df[df.teacher_prefix.isnull()]"
     ],
     "language": "python",
     "metadata": {},
     "outputs": []
    },
    {
     "cell_type": "code",
     "collapsed": false,
     "input": [
      "print 'Charter: '\n",
      "print df.school_charter.value_counts()\n",
      "print 'Magnet: ' \n",
      "print df.school_magnet.value_counts()\n",
      "print 'Year Round: '\n",
      "print df.school_year_round.value_counts()\n",
      "print 'New Leader New Schools: '\n",
      "print df.school_nlns.value_counts()\n",
      "print 'Knowledge is Power Program: '\n",
      "print df.school_kipp_bin.value_counts()\n",
      "print 'College Ready Promise: '\n",
      "print df.school_charter_ready_promise.value_counts()"
     ],
     "language": "python",
     "metadata": {},
     "outputs": []
    },
    {
     "cell_type": "code",
     "collapsed": false,
     "input": [
      "df_school = df[['school_charter',\n",
      "    'school_magnet',\n",
      "    'school_year_round',\n",
      "    'school_nlns',\n",
      "    'school_kipp',\n",
      "    'school_charter_ready_promise']]\n",
      "df_school.describe()"
     ],
     "language": "python",
     "metadata": {},
     "outputs": []
    },
    {
     "cell_type": "code",
     "collapsed": false,
     "input": [
      "df.ix[10:15,29:]"
     ],
     "language": "python",
     "metadata": {},
     "outputs": []
    },
    {
     "cell_type": "code",
     "collapsed": false,
     "input": [
      "df.funding_status.value_counts().plot(kind='bar')"
     ],
     "language": "python",
     "metadata": {},
     "outputs": []
    },
    {
     "cell_type": "code",
     "collapsed": false,
     "input": [
      "df.grade_level.value_counts().plot(kind='bar')"
     ],
     "language": "python",
     "metadata": {},
     "outputs": []
    },
    {
     "cell_type": "code",
     "collapsed": false,
     "input": [],
     "language": "python",
     "metadata": {},
     "outputs": []
    }
   ],
   "metadata": {}
  }
 ]
}