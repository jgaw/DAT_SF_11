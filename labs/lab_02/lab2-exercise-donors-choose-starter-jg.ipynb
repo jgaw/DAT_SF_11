{
 "metadata": {
  "name": "",
  "signature": "sha256:6e8353411c90cc3fb986a2bbb57be02d299cf1e9439093028d8795f4b2da5f0b"
 },
 "nbformat": 3,
 "nbformat_minor": 0,
 "worksheets": [
  {
   "cells": [
    {
     "cell_type": "code",
     "collapsed": false,
     "input": [
      "# Standard imports for data analysis packages in Python\n",
      "import pandas as pd\n",
      "import numpy as np\n",
      "import seaborn as sns  # for pretty layout of plots\n",
      "import matplotlib.pyplot as plt\n",
      "\n",
      "# This enables inline Plots\n",
      "%matplotlib inline\n",
      "\n",
      "# Limit rows displayed in notebook\n",
      "pd.set_option('display.max_rows', 20)\n",
      "pd.set_option('display.precision', 2)"
     ],
     "language": "python",
     "metadata": {},
     "outputs": []
    },
    {
     "cell_type": "code",
     "collapsed": false,
     "input": [
      "print 'Pandas Version: ', pd.__version__\n",
      "print 'Numpy Version: ', np.__version__"
     ],
     "language": "python",
     "metadata": {},
     "outputs": []
    },
    {
     "cell_type": "code",
     "collapsed": false,
     "input": [
      "# Let's explore the Dataset\n",
      "projects = pd.read_csv('../../../data/opendata_projects.csv', \\\n",
      "                       parse_dates=['date_posted', 'date_completed', 'date_thank_you_packet_mailed', 'date_expiration'])"
     ],
     "language": "python",
     "metadata": {},
     "outputs": []
    },
    {
     "cell_type": "code",
     "collapsed": false,
     "input": [
      "# Take a look at first few rows\n",
      "projects.head()"
     ],
     "language": "python",
     "metadata": {},
     "outputs": []
    },
    {
     "cell_type": "code",
     "collapsed": false,
     "input": [
      "# Let's look at the columns in the dataset\n",
      "projects.info()"
     ],
     "language": "python",
     "metadata": {},
     "outputs": []
    },
    {
     "cell_type": "code",
     "collapsed": false,
     "input": [
      "# Describe the numeric column ranges\n",
      "projects.describe()"
     ],
     "language": "python",
     "metadata": {},
     "outputs": []
    },
    {
     "cell_type": "code",
     "collapsed": false,
     "input": [
      "# Let's do value counts on how many projects get funded\n",
      "projects.funding_status.value_counts()\n"
     ],
     "language": "python",
     "metadata": {},
     "outputs": []
    },
    {
     "cell_type": "code",
     "collapsed": false,
     "input": [
      "# How is the distribution of projects across the country\n",
      "counts_by_state = projects.school_state.value_counts()\n",
      "counts_by_state"
     ],
     "language": "python",
     "metadata": {},
     "outputs": []
    },
    {
     "cell_type": "code",
     "collapsed": false,
     "input": [
      "# Let's take a look at the Top 10 states\n",
      "# counts_by_state[:10].plot(kind='bar')\n",
      "# Wow! CA and NY really lead the pack on number of projects submitted\n",
      "counts_by_state[:10].plot(kind = 'bar')"
     ],
     "language": "python",
     "metadata": {},
     "outputs": []
    },
    {
     "cell_type": "code",
     "collapsed": false,
     "input": [
      "# Let's group the dataset by State\n",
      "projects.groupby(['school_state','funding_status'])['funding_status'].agg(['count']).unstack(1)"
     ],
     "language": "python",
     "metadata": {},
     "outputs": []
    },
    {
     "cell_type": "code",
     "collapsed": false,
     "input": [
      "# Compare total_donations, students_reached, num_donors for CA and NY on the projects\n",
      "projects[['funding_status','total_donations', 'students_reached', 'num_donors','school_state']][(projects.school_state == 'CA') | (projects.school_state =='NY')].sort(['total_donations'],ascending = False)"
     ],
     "language": "python",
     "metadata": {},
     "outputs": []
    },
    {
     "cell_type": "code",
     "collapsed": false,
     "input": [
      "# Now, Do the same for TX and FL\n",
      "projects[['funding_status','total_donations','students_reached','num_donors','school_state']][(projects.school_state == 'TX')|(projects.school_state =='FL')].sort(['total_donations','students_reached'],ascending=False)"
     ],
     "language": "python",
     "metadata": {},
     "outputs": []
    },
    {
     "cell_type": "code",
     "collapsed": false,
     "input": [
      "# Wow, significant difference in the number of projects funded between CA, NY and rest\n",
      "projects[['funding_status','total_donations','students_reached','num_donors','school_state']][(projects.school_state != 'CA')&(projects.school_state != 'NY')].sort(['total_donations','students_reached'],ascending=False)"
     ],
     "language": "python",
     "metadata": {},
     "outputs": []
    },
    {
     "cell_type": "code",
     "collapsed": false,
     "input": [
      "# Let's compare the completed vs expired for all the states\n",
      "funding_count_by_state = projects.groupby([projects.school_state, projects.funding_status])['funding_status'].count()\n",
      "funding_count_by_state"
     ],
     "language": "python",
     "metadata": {},
     "outputs": []
    },
    {
     "cell_type": "code",
     "collapsed": false,
     "input": [
      "# Let's unstack it to get the crosstab look\n",
      "funding_count_by_state.unstack(1)"
     ],
     "language": "python",
     "metadata": {},
     "outputs": []
    },
    {
     "cell_type": "code",
     "collapsed": false,
     "input": [
      "# Count the number of projects posted by Year.\n",
      "# Hint, create a new column for \"date_posted\" year using the mapping function - projects.date_posted.map(lambda dt: dt.year)\n",
      "# Then do a distribution for projects posted by this new year column\n",
      "projects['year_posted'] = projects.date_posted.map(lambda x: x.year)\n",
      "projects.year_posted.value_counts()"
     ],
     "language": "python",
     "metadata": {},
     "outputs": []
    },
    {
     "cell_type": "code",
     "collapsed": false,
     "input": [
      "# Is the rest of the country catching up in posting these projects?\n",
      "curr_projects = projects.groupby(['school_state','year_posted'])['year_posted'].agg(['count']).unstack(1)\n",
      "curr_projects.sort([('count',2014)],ascending = False)\n",
      "\n"
     ],
     "language": "python",
     "metadata": {},
     "outputs": []
    },
    {
     "cell_type": "code",
     "collapsed": false,
     "input": [
      "curr_projects[[('count',2014)]].sort([('count',2014)], ascending = False).plot(kind='bar', figsize=(20,10), title = 'Projects Started in 2014');\n"
     ],
     "language": "python",
     "metadata": {},
     "outputs": []
    },
    {
     "cell_type": "code",
     "collapsed": false,
     "input": [
      "curr_projects.sort([('count',2008)],ascending = False)"
     ],
     "language": "python",
     "metadata": {},
     "outputs": []
    },
    {
     "cell_type": "code",
     "collapsed": false,
     "input": [
      "# How long does it take from funding to completion - Has it changed over the years?\n",
      "import datetime\n",
      "projects['project_length'] = (projects.date_completed - projects.date_posted)\n",
      "projects.project_length = projects.project_length/datetime.timedelta(days=1)"
     ],
     "language": "python",
     "metadata": {},
     "outputs": []
    },
    {
     "cell_type": "code",
     "collapsed": false,
     "input": [
      "project_length = projects.groupby(['year_posted'])['project_length'].agg(['mean'])\n",
      "project_length.sort((['mean']),ascending= False)\n"
     ],
     "language": "python",
     "metadata": {},
     "outputs": []
    },
    {
     "cell_type": "code",
     "collapsed": false,
     "input": [
      "project_length.plot()"
     ],
     "language": "python",
     "metadata": {},
     "outputs": []
    },
    {
     "cell_type": "code",
     "collapsed": false,
     "input": [],
     "language": "python",
     "metadata": {},
     "outputs": []
    }
   ],
   "metadata": {}
  }
 ]
}