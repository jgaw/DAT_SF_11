{
 "metadata": {
  "name": "",
  "signature": "sha256:6e576b02e0173db9acd04f4f8c8daa3fe1d3b9eddd471aba204dfc7ea2bcb0a4"
 },
 "nbformat": 3,
 "nbformat_minor": 0,
 "worksheets": [
  {
   "cells": [
    {
     "cell_type": "markdown",
     "metadata": {},
     "source": [
      "# Building an Recommendation Engine\n",
      "Adopted from PyCon2013 Tutorial - How to Build a Minimal Recommendation Engine by Unata"
     ]
    },
    {
     "cell_type": "markdown",
     "metadata": {},
     "source": [
      "## The Recommendation Problem\n",
      "\n",
      "Recommenders have been around since at least 1992. Today we see different flavours of recommenders, deployed across different verticals: \n",
      "\n",
      "- Amazon\n",
      "- Netflix\n",
      "- Facebook\n",
      "- Last.fm.\n",
      "\n",
      "What exactly do they do?\n",
      "\n",
      "### Definitions from the literature\n",
      "\n",
      "- *In a typical recommender system people provide recommendations as inputs, which\n",
      "the system then aggregates and directs to appropriate recipients.* -- Resnick\n",
      "and Varian, 1997\n",
      "\n",
      "- *Collaborative filtering simply means that people collaborate to help one\n",
      "another perform filtering by recording their reactions to documents they read.*\n",
      "-- Goldberg et al, 1992\n",
      "\n",
      "- *In its most common formulation, the recommendation problem is reduced to the\n",
      "problem of estimating ratings for the items that have not been seen by a\n",
      "user. Intuitively, this estimation is usually based on the ratings given by this\n",
      "user to other items and on some other information [...] Once we can estimate\n",
      "ratings for the yet unrated items, we can recommend to the user the item(s) with\n",
      "the highest estimated rating(s).* -- Adomavicius and Tuzhilin, 2005\n",
      "\n",
      "- *Driven by computer algorithms, recommenders help consumers\n",
      "by selecting products they will probably like and might buy\n",
      "based on their browsing, searches, purchases, and preferences.* -- Konstan and Riedl, 2012\n",
      "\n",
      "## Further Reading:\n",
      "\n",
      "Video Course: https://www.coursera.org/course/recsys\n",
      "\n",
      "ACM RecSys 2014 Videos: https://www.youtube.com/playlist?list=PLaZufLfJumb9A95nS5AmY6G5mqYnwIfZX"
     ]
    },
    {
     "cell_type": "markdown",
     "metadata": {},
     "source": [
      "### Notation\n",
      "\n",
      "- $U$ is the set of users in our domain. Its size is $|U|$.\n",
      "- $I$ is the set of items in our domain. Its size is $|I|$.\n",
      "- $I(u)$ is the set of items that user $u$ has rated.\n",
      "- $-I(u)$ is the complement of $I(u)$ i.e., the set of items not yet seen by user $u$.\n",
      "- $U(i)$ is the set of users that have rated item $i$.\n",
      "- $-U(i)$ is the complement of $U(i)$.\n",
      "- $S(u,i)$ is a function that measures the utility of item $i$ for user $u$."
     ]
    },
    {
     "cell_type": "markdown",
     "metadata": {},
     "source": [
      "### Goal of a recommendation system\n",
      "\n",
      "$\n",
      "\\newcommand{\\argmax}{\\mathop{\\rm argmax}\\nolimits}\n",
      "i^{*} = \\argmax_{i \\in -I(u)} S(u,i), \\forall{u \\in U}\n",
      "$"
     ]
    },
    {
     "cell_type": "markdown",
     "metadata": {},
     "source": [
      "### Problem statement\n",
      "\n",
      "The recommendation problem in its most basic form is quite simple to define:\n",
      "\n",
      "```\n",
      "|-------------------+-----+-----+-----+-----+-----|\n",
      "| user_id, movie_id | m_1 | m_2 | m_3 | m_4 | m_5 |\n",
      "|-------------------+-----+-----+-----+-----+-----|\n",
      "| u_1               | ?   | ?   | 4   | ?   | 1   |\n",
      "|-------------------+-----+-----+-----+-----+-----|\n",
      "| u_2               | 3   | ?   | ?   | 2   | 2   |\n",
      "|-------------------+-----+-----+-----+-----+-----|\n",
      "| u_3               | 3   | ?   | ?   | ?   | ?   |\n",
      "|-------------------+-----+-----+-----+-----+-----|\n",
      "| u_4               | ?   | 1   | 2   | 1   | 1   |\n",
      "|-------------------+-----+-----+-----+-----+-----|\n",
      "| u_5               | ?   | ?   | ?   | ?   | ?   |\n",
      "|-------------------+-----+-----+-----+-----+-----|\n",
      "| u_6               | 2   | ?   | 2   | ?   | ?   |\n",
      "|-------------------+-----+-----+-----+-----+-----|\n",
      "| u_7               | ?   | ?   | ?   | ?   | ?   |\n",
      "|-------------------+-----+-----+-----+-----+-----|\n",
      "| u_8               | 3   | 1   | 5   | ?   | ?   |\n",
      "|-------------------+-----+-----+-----+-----+-----|\n",
      "| u_9               | ?   | ?   | ?   | ?   | 2   |\n",
      "|-------------------+-----+-----+-----+-----+-----|\n",
      "```\n",
      "\n",
      "*Given a partially filled matrix of ratings ($|U|x|I|$), estimate the missing values.*"
     ]
    },
    {
     "cell_type": "markdown",
     "metadata": {},
     "source": [
      "### Dataset\n",
      "MovieLens from GroupLens Research: [grouplens.org](http://www.grouplens.org/)\n",
      "\n",
      "Datasets are available at http://grouplens.org/datasets/movielens/\n",
      "\n",
      "We will be using the MovieLens 1M data set contains 1 million ratings collected from 6000 users\n",
      "on 4000 movies."
     ]
    },
    {
     "cell_type": "code",
     "collapsed": false,
     "input": [
      "import numpy as np\n",
      "import pandas as pd\n",
      "\n",
      "pd.set_option('display.max_rows', 10)"
     ],
     "language": "python",
     "metadata": {},
     "outputs": [],
     "prompt_number": 1
    },
    {
     "cell_type": "code",
     "collapsed": false,
     "input": [
      "users = pd.read_table('../data/movie-lens-1m/users.dat',\n",
      "                      sep='::', header=None, \n",
      "                      names=['user_id', 'gender', 'age', 'occupation', 'zip'], engine='python')\n",
      "\n",
      "ratings = pd.read_table('../data/movie-lens-1m/ratings.dat',\n",
      "                        sep='::', header=None, \n",
      "                        names=['user_id', 'movie_id', 'rating', 'timestamp'], engine='python')\n",
      "\n",
      "movies = pd.read_table('../data/movie-lens-1m/movies.dat',\n",
      "                       sep='::', header=None, \n",
      "                       names=['movie_id', 'title', 'genres'], engine='python')\n",
      "\n",
      "# show how one of them looks\n",
      "ratings.head(5)\n",
      "\n"
     ],
     "language": "python",
     "metadata": {},
     "outputs": [
      {
       "html": [
        "<div style=\"max-height:1000px;max-width:1500px;overflow:auto;\">\n",
        "<table border=\"1\" class=\"dataframe\">\n",
        "  <thead>\n",
        "    <tr style=\"text-align: right;\">\n",
        "      <th></th>\n",
        "      <th>user_id</th>\n",
        "      <th>movie_id</th>\n",
        "      <th>rating</th>\n",
        "      <th>timestamp</th>\n",
        "    </tr>\n",
        "  </thead>\n",
        "  <tbody>\n",
        "    <tr>\n",
        "      <th>0</th>\n",
        "      <td> 1</td>\n",
        "      <td> 1193</td>\n",
        "      <td> 5</td>\n",
        "      <td> 978300760</td>\n",
        "    </tr>\n",
        "    <tr>\n",
        "      <th>1</th>\n",
        "      <td> 1</td>\n",
        "      <td>  661</td>\n",
        "      <td> 3</td>\n",
        "      <td> 978302109</td>\n",
        "    </tr>\n",
        "    <tr>\n",
        "      <th>2</th>\n",
        "      <td> 1</td>\n",
        "      <td>  914</td>\n",
        "      <td> 3</td>\n",
        "      <td> 978301968</td>\n",
        "    </tr>\n",
        "    <tr>\n",
        "      <th>3</th>\n",
        "      <td> 1</td>\n",
        "      <td> 3408</td>\n",
        "      <td> 4</td>\n",
        "      <td> 978300275</td>\n",
        "    </tr>\n",
        "    <tr>\n",
        "      <th>4</th>\n",
        "      <td> 1</td>\n",
        "      <td> 2355</td>\n",
        "      <td> 5</td>\n",
        "      <td> 978824291</td>\n",
        "    </tr>\n",
        "  </tbody>\n",
        "</table>\n",
        "</div>"
       ],
       "metadata": {},
       "output_type": "pyout",
       "prompt_number": 2,
       "text": [
        "   user_id  movie_id  rating  timestamp\n",
        "0        1      1193       5  978300760\n",
        "1        1       661       3  978302109\n",
        "2        1       914       3  978301968\n",
        "3        1      3408       4  978300275\n",
        "4        1      2355       5  978824291"
       ]
      }
     ],
     "prompt_number": 2
    },
    {
     "cell_type": "code",
     "collapsed": false,
     "input": [
      "movielens = pd.merge(pd.merge(ratings, users), movies)\n",
      "movielens.head(5)"
     ],
     "language": "python",
     "metadata": {},
     "outputs": [
      {
       "html": [
        "<div style=\"max-height:1000px;max-width:1500px;overflow:auto;\">\n",
        "<table border=\"1\" class=\"dataframe\">\n",
        "  <thead>\n",
        "    <tr style=\"text-align: right;\">\n",
        "      <th></th>\n",
        "      <th>user_id</th>\n",
        "      <th>movie_id</th>\n",
        "      <th>rating</th>\n",
        "      <th>timestamp</th>\n",
        "      <th>gender</th>\n",
        "      <th>age</th>\n",
        "      <th>occupation</th>\n",
        "      <th>zip</th>\n",
        "      <th>title</th>\n",
        "      <th>genres</th>\n",
        "    </tr>\n",
        "  </thead>\n",
        "  <tbody>\n",
        "    <tr>\n",
        "      <th>0</th>\n",
        "      <td>  1</td>\n",
        "      <td> 1193</td>\n",
        "      <td> 5</td>\n",
        "      <td> 978300760</td>\n",
        "      <td> F</td>\n",
        "      <td>  1</td>\n",
        "      <td> 10</td>\n",
        "      <td> 48067</td>\n",
        "      <td> One Flew Over the Cuckoo's Nest (1975)</td>\n",
        "      <td> Drama</td>\n",
        "    </tr>\n",
        "    <tr>\n",
        "      <th>1</th>\n",
        "      <td>  2</td>\n",
        "      <td> 1193</td>\n",
        "      <td> 5</td>\n",
        "      <td> 978298413</td>\n",
        "      <td> M</td>\n",
        "      <td> 56</td>\n",
        "      <td> 16</td>\n",
        "      <td> 70072</td>\n",
        "      <td> One Flew Over the Cuckoo's Nest (1975)</td>\n",
        "      <td> Drama</td>\n",
        "    </tr>\n",
        "    <tr>\n",
        "      <th>2</th>\n",
        "      <td> 12</td>\n",
        "      <td> 1193</td>\n",
        "      <td> 4</td>\n",
        "      <td> 978220179</td>\n",
        "      <td> M</td>\n",
        "      <td> 25</td>\n",
        "      <td> 12</td>\n",
        "      <td> 32793</td>\n",
        "      <td> One Flew Over the Cuckoo's Nest (1975)</td>\n",
        "      <td> Drama</td>\n",
        "    </tr>\n",
        "    <tr>\n",
        "      <th>3</th>\n",
        "      <td> 15</td>\n",
        "      <td> 1193</td>\n",
        "      <td> 4</td>\n",
        "      <td> 978199279</td>\n",
        "      <td> M</td>\n",
        "      <td> 25</td>\n",
        "      <td>  7</td>\n",
        "      <td> 22903</td>\n",
        "      <td> One Flew Over the Cuckoo's Nest (1975)</td>\n",
        "      <td> Drama</td>\n",
        "    </tr>\n",
        "    <tr>\n",
        "      <th>4</th>\n",
        "      <td> 17</td>\n",
        "      <td> 1193</td>\n",
        "      <td> 5</td>\n",
        "      <td> 978158471</td>\n",
        "      <td> M</td>\n",
        "      <td> 50</td>\n",
        "      <td>  1</td>\n",
        "      <td> 95350</td>\n",
        "      <td> One Flew Over the Cuckoo's Nest (1975)</td>\n",
        "      <td> Drama</td>\n",
        "    </tr>\n",
        "  </tbody>\n",
        "</table>\n",
        "</div>"
       ],
       "metadata": {},
       "output_type": "pyout",
       "prompt_number": 3,
       "text": [
        "   user_id  movie_id  rating  timestamp gender  age  occupation    zip  \\\n",
        "0        1      1193       5  978300760      F    1          10  48067   \n",
        "1        2      1193       5  978298413      M   56          16  70072   \n",
        "2       12      1193       4  978220179      M   25          12  32793   \n",
        "3       15      1193       4  978199279      M   25           7  22903   \n",
        "4       17      1193       5  978158471      M   50           1  95350   \n",
        "\n",
        "                                    title genres  \n",
        "0  One Flew Over the Cuckoo's Nest (1975)  Drama  \n",
        "1  One Flew Over the Cuckoo's Nest (1975)  Drama  \n",
        "2  One Flew Over the Cuckoo's Nest (1975)  Drama  \n",
        "3  One Flew Over the Cuckoo's Nest (1975)  Drama  \n",
        "4  One Flew Over the Cuckoo's Nest (1975)  Drama  "
       ]
      }
     ],
     "prompt_number": 3
    },
    {
     "cell_type": "code",
     "collapsed": false,
     "input": [
      "movielens.info()"
     ],
     "language": "python",
     "metadata": {},
     "outputs": [
      {
       "output_type": "stream",
       "stream": "stdout",
       "text": [
        "<class 'pandas.core.frame.DataFrame'>\n",
        "Int64Index: 1000209 entries, 0 to 1000208\n",
        "Data columns (total 10 columns):\n",
        "user_id       1000209 non-null int64\n",
        "movie_id      1000209 non-null int64\n",
        "rating        1000209 non-null int64\n",
        "timestamp     1000209 non-null int64\n",
        "gender        1000209 non-null object\n",
        "age           1000209 non-null int64\n",
        "occupation    1000209 non-null int64\n",
        "zip           1000209 non-null object\n",
        "title         1000209 non-null object\n",
        "genres        1000209 non-null object\n",
        "dtypes: int64(6), object(4)\n",
        "memory usage: 83.9+ MB\n"
       ]
      }
     ],
     "prompt_number": 4
    },
    {
     "cell_type": "markdown",
     "metadata": {},
     "source": [
      "## Evaluation\n",
      "\n",
      "Before we attempt to express the basic equations for content-based or\n",
      "collaborative filtering we need a basic mechanism to evaluate the performance of\n",
      "our engine."
     ]
    },
    {
     "cell_type": "markdown",
     "metadata": {},
     "source": [
      "### Evaluation: split ratings into train and test sets\n",
      "\n",
      "This subsection will generate training and testing sets for evaluation. You do\n",
      "not need to understand every single line of code, just the general gist:\n",
      "\n",
      "- take a smaller sample from the full 1M dataset for speed reasons;\n",
      "- make sure that we have at least 2 ratings per user in that subset;\n",
      "- split the result into training and testing sets."
     ]
    },
    {
     "cell_type": "code",
     "collapsed": false,
     "input": [
      "# let's work with a smaller subset for speed reasons\n",
      "movielens = movielens.ix[np.random.choice(movielens.index, size=10000, replace=False)]\n",
      "print movielens.shape\n",
      "print movielens.user_id.nunique()\n",
      "print movielens.movie_id.nunique()"
     ],
     "language": "python",
     "metadata": {},
     "outputs": [
      {
       "output_type": "stream",
       "stream": "stdout",
       "text": [
        "(10000, 10)\n",
        "3701\n",
        "2277\n"
       ]
      }
     ],
     "prompt_number": 5
    },
    {
     "cell_type": "code",
     "collapsed": false,
     "input": [
      "user_ids_larger_1 = pd.value_counts(movielens.user_id, sort=False) > 1\n",
      "movielens = movielens[user_ids_larger_1[movielens.user_id].values]\n",
      "print movielens.shape\n",
      "np.all(movielens.user_id.value_counts() > 1)"
     ],
     "language": "python",
     "metadata": {},
     "outputs": [
      {
       "output_type": "stream",
       "stream": "stdout",
       "text": [
        "(8455, 10)\n"
       ]
      },
      {
       "metadata": {},
       "output_type": "pyout",
       "prompt_number": 6,
       "text": [
        "True"
       ]
      }
     ],
     "prompt_number": 6
    },
    {
     "cell_type": "code",
     "collapsed": false,
     "input": [
      "def assign_to_set(df):\n",
      "    sampled_ids = np.random.choice(df.index,\n",
      "                                   size=np.int64(np.ceil(df.index.size * 0.2)),\n",
      "                                   replace=False)\n",
      "    df.ix[sampled_ids, 'for_testing'] = True\n",
      "    return df\n",
      "\n",
      "movielens['for_testing'] = False\n",
      "grouped = movielens.groupby('user_id', group_keys=False).apply(assign_to_set)\n",
      "movielens_train = movielens[grouped.for_testing == False]\n",
      "movielens_test = movielens[grouped.for_testing == True]\n",
      "print movielens_train.shape\n",
      "print movielens_test.shape"
     ],
     "language": "python",
     "metadata": {},
     "outputs": [
      {
       "output_type": "stream",
       "stream": "stdout",
       "text": [
        "(5813, 11)\n",
        "(2642, 11)\n"
       ]
      }
     ],
     "prompt_number": 7
    },
    {
     "cell_type": "code",
     "collapsed": false,
     "input": [
      "movielens_train.shape"
     ],
     "language": "python",
     "metadata": {},
     "outputs": [
      {
       "metadata": {},
       "output_type": "pyout",
       "prompt_number": 8,
       "text": [
        "(5813, 11)"
       ]
      }
     ],
     "prompt_number": 8
    },
    {
     "cell_type": "code",
     "collapsed": false,
     "input": [
      "movielens_test.shape"
     ],
     "language": "python",
     "metadata": {},
     "outputs": [
      {
       "metadata": {},
       "output_type": "pyout",
       "prompt_number": 9,
       "text": [
        "(2642, 11)"
       ]
      }
     ],
     "prompt_number": 9
    },
    {
     "cell_type": "code",
     "collapsed": false,
     "input": [
      "movielens_train.to_csv('../data/movie-lens-1m/movielens_train.csv')\n",
      "movielens_test.to_csv('../data/movie-lens-1m/movielens_test.csv')"
     ],
     "language": "python",
     "metadata": {},
     "outputs": [],
     "prompt_number": 10
    },
    {
     "cell_type": "markdown",
     "metadata": {},
     "source": [
      "### Evaluation: performance criterion\n",
      "\n",
      "- RMSE: $\\sqrt{\\frac{\\sum(\\hat y - y)^2}{n}}$"
     ]
    },
    {
     "cell_type": "markdown",
     "metadata": {},
     "source": [
      "### Evaluation: the 'evaluate' method"
     ]
    },
    {
     "cell_type": "code",
     "collapsed": false,
     "input": [
      "def compute_rmse(y_pred, y_true):\n",
      "    \"\"\" Compute Root Mean Squared Error. \"\"\"\n",
      "    return np.sqrt(np.mean(np.power(y_pred - y_true, 2)))"
     ],
     "language": "python",
     "metadata": {},
     "outputs": [],
     "prompt_number": 11
    },
    {
     "cell_type": "code",
     "collapsed": false,
     "input": [
      "def evaluate(estimate_f):\n",
      "    \"\"\" RMSE-based predictive performance evaluation with pandas. \"\"\"\n",
      "    ids_to_estimate = zip(movielens_test.user_id, movielens_test.movie_id)\n",
      "    estimated = np.array([estimate_f(u,i) for (u,i) in ids_to_estimate])\n",
      "    real = movielens_test.rating.values\n",
      "    return compute_rmse(estimated, real)"
     ],
     "language": "python",
     "metadata": {},
     "outputs": [],
     "prompt_number": 12
    },
    {
     "cell_type": "code",
     "collapsed": false,
     "input": [
      "def estimate0(user_id, item_id):\n",
      "    \"\"\" The Answer is always 3 (c is the correct answer). \"\"\"\n",
      "    return 3.7\n",
      "\n",
      "print 'RMSE for estimate1: %s' % evaluate(estimate0)"
     ],
     "language": "python",
     "metadata": {},
     "outputs": [
      {
       "output_type": "stream",
       "stream": "stdout",
       "text": [
        "RMSE for estimate1: 1.09871923236\n"
       ]
      }
     ],
     "prompt_number": 23
    },
    {
     "cell_type": "markdown",
     "metadata": {},
     "source": [
      "## Minimal reco engine v1.0: simple mean ratings"
     ]
    },
    {
     "cell_type": "markdown",
     "metadata": {},
     "source": [
      "### Content-based filtering using mean ratings\n",
      "\n",
      "With this table-like representation of the ratings data, a basic content-based\n",
      "filter becomes a one-liner function."
     ]
    },
    {
     "cell_type": "code",
     "collapsed": false,
     "input": [
      "movielens_train.head()"
     ],
     "language": "python",
     "metadata": {},
     "outputs": [
      {
       "html": [
        "<div style=\"max-height:1000px;max-width:1500px;overflow:auto;\">\n",
        "<table border=\"1\" class=\"dataframe\">\n",
        "  <thead>\n",
        "    <tr style=\"text-align: right;\">\n",
        "      <th></th>\n",
        "      <th>user_id</th>\n",
        "      <th>movie_id</th>\n",
        "      <th>rating</th>\n",
        "      <th>timestamp</th>\n",
        "      <th>gender</th>\n",
        "      <th>age</th>\n",
        "      <th>occupation</th>\n",
        "      <th>zip</th>\n",
        "      <th>title</th>\n",
        "      <th>genres</th>\n",
        "      <th>for_testing</th>\n",
        "    </tr>\n",
        "  </thead>\n",
        "  <tbody>\n",
        "    <tr>\n",
        "      <th>701599</th>\n",
        "      <td> 4666</td>\n",
        "      <td> 2367</td>\n",
        "      <td> 2</td>\n",
        "      <td> 964809827</td>\n",
        "      <td> M</td>\n",
        "      <td> 35</td>\n",
        "      <td>  1</td>\n",
        "      <td> 53704</td>\n",
        "      <td>                 King Kong (1976)</td>\n",
        "      <td>      Action|Adventure|Horror</td>\n",
        "      <td> False</td>\n",
        "    </tr>\n",
        "    <tr>\n",
        "      <th>598089</th>\n",
        "      <td> 3841</td>\n",
        "      <td> 1783</td>\n",
        "      <td> 3</td>\n",
        "      <td> 966000529</td>\n",
        "      <td> M</td>\n",
        "      <td> 45</td>\n",
        "      <td> 18</td>\n",
        "      <td> 26101</td>\n",
        "      <td>                  Palmetto (1998)</td>\n",
        "      <td>   Film-Noir|Mystery|Thriller</td>\n",
        "      <td> False</td>\n",
        "    </tr>\n",
        "    <tr>\n",
        "      <th>807191</th>\n",
        "      <td> 5493</td>\n",
        "      <td> 2065</td>\n",
        "      <td> 5</td>\n",
        "      <td> 974324611</td>\n",
        "      <td> M</td>\n",
        "      <td> 35</td>\n",
        "      <td> 12</td>\n",
        "      <td> 96797</td>\n",
        "      <td> Purple Rose of Cairo, The (1985)</td>\n",
        "      <td>         Comedy|Drama|Romance</td>\n",
        "      <td> False</td>\n",
        "    </tr>\n",
        "    <tr>\n",
        "      <th>753302</th>\n",
        "      <td> 1029</td>\n",
        "      <td> 3424</td>\n",
        "      <td> 5</td>\n",
        "      <td> 975004163</td>\n",
        "      <td> M</td>\n",
        "      <td> 25</td>\n",
        "      <td>  0</td>\n",
        "      <td> 20015</td>\n",
        "      <td>        Do the Right Thing (1989)</td>\n",
        "      <td>                 Comedy|Drama</td>\n",
        "      <td> False</td>\n",
        "    </tr>\n",
        "    <tr>\n",
        "      <th>328062</th>\n",
        "      <td> 3576</td>\n",
        "      <td>  364</td>\n",
        "      <td> 4</td>\n",
        "      <td> 966722720</td>\n",
        "      <td> M</td>\n",
        "      <td> 50</td>\n",
        "      <td>  7</td>\n",
        "      <td> 68046</td>\n",
        "      <td>            Lion King, The (1994)</td>\n",
        "      <td> Animation|Children's|Musical</td>\n",
        "      <td> False</td>\n",
        "    </tr>\n",
        "  </tbody>\n",
        "</table>\n",
        "</div>"
       ],
       "metadata": {},
       "output_type": "pyout",
       "prompt_number": 24,
       "text": [
        "        user_id  movie_id  rating  timestamp gender  age  occupation    zip  \\\n",
        "701599     4666      2367       2  964809827      M   35           1  53704   \n",
        "598089     3841      1783       3  966000529      M   45          18  26101   \n",
        "807191     5493      2065       5  974324611      M   35          12  96797   \n",
        "753302     1029      3424       5  975004163      M   25           0  20015   \n",
        "328062     3576       364       4  966722720      M   50           7  68046   \n",
        "\n",
        "                                   title                        genres  \\\n",
        "701599                  King Kong (1976)       Action|Adventure|Horror   \n",
        "598089                   Palmetto (1998)    Film-Noir|Mystery|Thriller   \n",
        "807191  Purple Rose of Cairo, The (1985)          Comedy|Drama|Romance   \n",
        "753302         Do the Right Thing (1989)                  Comedy|Drama   \n",
        "328062             Lion King, The (1994)  Animation|Children's|Musical   \n",
        "\n",
        "       for_testing  \n",
        "701599       False  \n",
        "598089       False  \n",
        "807191       False  \n",
        "753302       False  \n",
        "328062       False  "
       ]
      }
     ],
     "prompt_number": 24
    },
    {
     "cell_type": "code",
     "collapsed": false,
     "input": [
      "def estimate1(user_id, item_id):\n",
      "    \"\"\" Simple content-filtering based on mean ratings. \"\"\"\n",
      "    user_ratings = movielens_train[movielens_train.user_id==user_id]\n",
      "    if user_ratings.empty:\n",
      "        return 3\n",
      "    return user_ratings.rating.mean()\n",
      "\n",
      "print 'RMSE for estimate1: %s' % evaluate(estimate1)"
     ],
     "language": "python",
     "metadata": {},
     "outputs": [
      {
       "output_type": "stream",
       "stream": "stdout",
       "text": [
        "RMSE for estimate1: 1.2515806831\n"
       ]
      }
     ],
     "prompt_number": 30
    },
    {
     "cell_type": "markdown",
     "metadata": {},
     "source": [
      "### Collaborative-based filtering using mean ratings"
     ]
    },
    {
     "cell_type": "code",
     "collapsed": false,
     "input": [
      "def estimate2(user_id, movie_id):\n",
      "    \"\"\" Simple collaborative filter based on mean ratings. \"\"\"\n",
      "    user_ratings = movielens_train[movielens_train.movie_id==movie_id]\n",
      "    if user_ratings.empty:\n",
      "        return 3\n",
      "    return user_ratings.rating.mean()\n",
      "\n",
      "print 'RMSE for estimate2: %s' % evaluate(estimate2)"
     ],
     "language": "python",
     "metadata": {},
     "outputs": [
      {
       "output_type": "stream",
       "stream": "stdout",
       "text": [
        "RMSE for estimate2: 1.11515236047\n"
       ]
      }
     ],
     "prompt_number": 39
    },
    {
     "cell_type": "code",
     "collapsed": false,
     "input": [
      "print movielens_train.groupby('gender')['rating'].mean()"
     ],
     "language": "python",
     "metadata": {},
     "outputs": [
      {
       "output_type": "stream",
       "stream": "stdout",
       "text": [
        "gender\n",
        "F         3.626961\n",
        "M         3.523691\n",
        "Name: rating, dtype: float64\n"
       ]
      }
     ],
     "prompt_number": 32
    },
    {
     "cell_type": "code",
     "collapsed": false,
     "input": [
      "print movielens_train.groupby(['gender', 'age'])['rating'].mean()"
     ],
     "language": "python",
     "metadata": {},
     "outputs": [
      {
       "output_type": "stream",
       "stream": "stdout",
       "text": [
        "gender  age\n",
        "F       1      3.653846\n",
        "        18     3.494424\n",
        "        25     3.620038\n",
        "...\n",
        "M       45     3.702532\n",
        "        50     3.670213\n",
        "        56     3.605096\n",
        "Name: rating, Length: 14, dtype: float64\n"
       ]
      }
     ],
     "prompt_number": 33
    },
    {
     "cell_type": "code",
     "collapsed": false,
     "input": [
      "by_gender_title = movielens_train.groupby(['gender', 'title'])['rating'].mean()\n",
      "print by_gender_title"
     ],
     "language": "python",
     "metadata": {},
     "outputs": [
      {
       "output_type": "stream",
       "stream": "stdout",
       "text": [
        "gender  title                            \n",
        "F       'Night Mother (1986)                 4\n",
        "        'Til There Was You (1997)            4\n",
        "        10 Things I Hate About You (1999)    4\n",
        "...\n",
        "M       Zachariah (1971)      5\n",
        "        Zero Effect (1998)    5\n",
        "        eXistenZ (1999)       2\n",
        "Name: rating, Length: 2611, dtype: float64\n"
       ]
      }
     ],
     "prompt_number": 34
    },
    {
     "cell_type": "code",
     "collapsed": false,
     "input": [
      "by_gender_title = movielens_train.groupby(['gender', 'title'])['rating'].mean().unstack('gender')\n",
      "by_gender_title.head(10)"
     ],
     "language": "python",
     "metadata": {},
     "outputs": [
      {
       "html": [
        "<div style=\"max-height:1000px;max-width:1500px;overflow:auto;\">\n",
        "<table border=\"1\" class=\"dataframe\">\n",
        "  <thead>\n",
        "    <tr style=\"text-align: right;\">\n",
        "      <th>gender</th>\n",
        "      <th>F</th>\n",
        "      <th>M</th>\n",
        "    </tr>\n",
        "    <tr>\n",
        "      <th>title</th>\n",
        "      <th></th>\n",
        "      <th></th>\n",
        "    </tr>\n",
        "  </thead>\n",
        "  <tbody>\n",
        "    <tr>\n",
        "      <th>'Night Mother (1986)</th>\n",
        "      <td> 4.0</td>\n",
        "      <td> NaN</td>\n",
        "    </tr>\n",
        "    <tr>\n",
        "      <th>'Til There Was You (1997)</th>\n",
        "      <td> 4.0</td>\n",
        "      <td> NaN</td>\n",
        "    </tr>\n",
        "    <tr>\n",
        "      <th>...And Justice for All (1979)</th>\n",
        "      <td> NaN</td>\n",
        "      <td> 3.5</td>\n",
        "    </tr>\n",
        "    <tr>\n",
        "      <th>10 Things I Hate About You (1999)</th>\n",
        "      <td> 4.0</td>\n",
        "      <td> 3.0</td>\n",
        "    </tr>\n",
        "    <tr>\n",
        "      <th>101 Dalmatians (1961)</th>\n",
        "      <td> 3.5</td>\n",
        "      <td> 4.0</td>\n",
        "    </tr>\n",
        "    <tr>\n",
        "      <th>12 Angry Men (1957)</th>\n",
        "      <td> NaN</td>\n",
        "      <td> 5.0</td>\n",
        "    </tr>\n",
        "    <tr>\n",
        "      <th>13th Warrior, The (1999)</th>\n",
        "      <td> 3.0</td>\n",
        "      <td> 3.6</td>\n",
        "    </tr>\n",
        "    <tr>\n",
        "      <th>2 Days in the Valley (1996)</th>\n",
        "      <td> NaN</td>\n",
        "      <td> 3.0</td>\n",
        "    </tr>\n",
        "    <tr>\n",
        "      <th>20 Dates (1998)</th>\n",
        "      <td> NaN</td>\n",
        "      <td> 2.5</td>\n",
        "    </tr>\n",
        "    <tr>\n",
        "      <th>20,000 Leagues Under the Sea (1954)</th>\n",
        "      <td> 4.0</td>\n",
        "      <td> 4.5</td>\n",
        "    </tr>\n",
        "  </tbody>\n",
        "</table>\n",
        "</div>"
       ],
       "metadata": {},
       "output_type": "pyout",
       "prompt_number": 35,
       "text": [
        "gender                                 F    M\n",
        "title                                        \n",
        "'Night Mother (1986)                 4.0  NaN\n",
        "'Til There Was You (1997)            4.0  NaN\n",
        "...And Justice for All (1979)        NaN  3.5\n",
        "10 Things I Hate About You (1999)    4.0  3.0\n",
        "101 Dalmatians (1961)                3.5  4.0\n",
        "12 Angry Men (1957)                  NaN  5.0\n",
        "13th Warrior, The (1999)             3.0  3.6\n",
        "2 Days in the Valley (1996)          NaN  3.0\n",
        "20 Dates (1998)                      NaN  2.5\n",
        "20,000 Leagues Under the Sea (1954)  4.0  4.5"
       ]
      }
     ],
     "prompt_number": 35
    },
    {
     "cell_type": "code",
     "collapsed": false,
     "input": [
      "by_gender_title = movielens_train.pivot_table(values='rating', index='title', columns='gender')\n",
      "by_gender_title.head(10)"
     ],
     "language": "python",
     "metadata": {},
     "outputs": [
      {
       "html": [
        "<div style=\"max-height:1000px;max-width:1500px;overflow:auto;\">\n",
        "<table border=\"1\" class=\"dataframe\">\n",
        "  <thead>\n",
        "    <tr style=\"text-align: right;\">\n",
        "      <th>gender</th>\n",
        "      <th>F</th>\n",
        "      <th>M</th>\n",
        "    </tr>\n",
        "    <tr>\n",
        "      <th>title</th>\n",
        "      <th></th>\n",
        "      <th></th>\n",
        "    </tr>\n",
        "  </thead>\n",
        "  <tbody>\n",
        "    <tr>\n",
        "      <th>'Night Mother (1986)</th>\n",
        "      <td> 4.0</td>\n",
        "      <td> NaN</td>\n",
        "    </tr>\n",
        "    <tr>\n",
        "      <th>'Til There Was You (1997)</th>\n",
        "      <td> 4.0</td>\n",
        "      <td> NaN</td>\n",
        "    </tr>\n",
        "    <tr>\n",
        "      <th>...And Justice for All (1979)</th>\n",
        "      <td> NaN</td>\n",
        "      <td> 3.5</td>\n",
        "    </tr>\n",
        "    <tr>\n",
        "      <th>10 Things I Hate About You (1999)</th>\n",
        "      <td> 4.0</td>\n",
        "      <td> 3.0</td>\n",
        "    </tr>\n",
        "    <tr>\n",
        "      <th>101 Dalmatians (1961)</th>\n",
        "      <td> 3.5</td>\n",
        "      <td> 4.0</td>\n",
        "    </tr>\n",
        "    <tr>\n",
        "      <th>12 Angry Men (1957)</th>\n",
        "      <td> NaN</td>\n",
        "      <td> 5.0</td>\n",
        "    </tr>\n",
        "    <tr>\n",
        "      <th>13th Warrior, The (1999)</th>\n",
        "      <td> 3.0</td>\n",
        "      <td> 3.6</td>\n",
        "    </tr>\n",
        "    <tr>\n",
        "      <th>2 Days in the Valley (1996)</th>\n",
        "      <td> NaN</td>\n",
        "      <td> 3.0</td>\n",
        "    </tr>\n",
        "    <tr>\n",
        "      <th>20 Dates (1998)</th>\n",
        "      <td> NaN</td>\n",
        "      <td> 2.5</td>\n",
        "    </tr>\n",
        "    <tr>\n",
        "      <th>20,000 Leagues Under the Sea (1954)</th>\n",
        "      <td> 4.0</td>\n",
        "      <td> 4.5</td>\n",
        "    </tr>\n",
        "  </tbody>\n",
        "</table>\n",
        "</div>"
       ],
       "metadata": {},
       "output_type": "pyout",
       "prompt_number": 36,
       "text": [
        "gender                                 F    M\n",
        "title                                        \n",
        "'Night Mother (1986)                 4.0  NaN\n",
        "'Til There Was You (1997)            4.0  NaN\n",
        "...And Justice for All (1979)        NaN  3.5\n",
        "10 Things I Hate About You (1999)    4.0  3.0\n",
        "101 Dalmatians (1961)                3.5  4.0\n",
        "12 Angry Men (1957)                  NaN  5.0\n",
        "13th Warrior, The (1999)             3.0  3.6\n",
        "2 Days in the Valley (1996)          NaN  3.0\n",
        "20 Dates (1998)                      NaN  2.5\n",
        "20,000 Leagues Under the Sea (1954)  4.0  4.5"
       ]
      }
     ],
     "prompt_number": 36
    },
    {
     "cell_type": "markdown",
     "metadata": {},
     "source": [
      "## Minimal reco engine v1.1: implicit sim functions"
     ]
    },
    {
     "cell_type": "markdown",
     "metadata": {},
     "source": [
      "We're going to need a user index from the users portion of the dataset. This will allow us to retrieve information given a specific user_id in a more convenient way:"
     ]
    },
    {
     "cell_type": "code",
     "collapsed": false,
     "input": [
      "user_info = users.set_index('user_id')\n",
      "user_info.head(5)"
     ],
     "language": "python",
     "metadata": {},
     "outputs": [
      {
       "html": [
        "<div style=\"max-height:1000px;max-width:1500px;overflow:auto;\">\n",
        "<table border=\"1\" class=\"dataframe\">\n",
        "  <thead>\n",
        "    <tr style=\"text-align: right;\">\n",
        "      <th></th>\n",
        "      <th>gender</th>\n",
        "      <th>age</th>\n",
        "      <th>occupation</th>\n",
        "      <th>zip</th>\n",
        "    </tr>\n",
        "    <tr>\n",
        "      <th>user_id</th>\n",
        "      <th></th>\n",
        "      <th></th>\n",
        "      <th></th>\n",
        "      <th></th>\n",
        "    </tr>\n",
        "  </thead>\n",
        "  <tbody>\n",
        "    <tr>\n",
        "      <th>1</th>\n",
        "      <td> F</td>\n",
        "      <td>  1</td>\n",
        "      <td> 10</td>\n",
        "      <td> 48067</td>\n",
        "    </tr>\n",
        "    <tr>\n",
        "      <th>2</th>\n",
        "      <td> M</td>\n",
        "      <td> 56</td>\n",
        "      <td> 16</td>\n",
        "      <td> 70072</td>\n",
        "    </tr>\n",
        "    <tr>\n",
        "      <th>3</th>\n",
        "      <td> M</td>\n",
        "      <td> 25</td>\n",
        "      <td> 15</td>\n",
        "      <td> 55117</td>\n",
        "    </tr>\n",
        "    <tr>\n",
        "      <th>4</th>\n",
        "      <td> M</td>\n",
        "      <td> 45</td>\n",
        "      <td>  7</td>\n",
        "      <td> 02460</td>\n",
        "    </tr>\n",
        "    <tr>\n",
        "      <th>5</th>\n",
        "      <td> M</td>\n",
        "      <td> 25</td>\n",
        "      <td> 20</td>\n",
        "      <td> 55455</td>\n",
        "    </tr>\n",
        "  </tbody>\n",
        "</table>\n",
        "</div>"
       ],
       "metadata": {},
       "output_type": "pyout",
       "prompt_number": 37,
       "text": [
        "        gender  age  occupation    zip\n",
        "user_id                               \n",
        "1            F    1          10  48067\n",
        "2            M   56          16  70072\n",
        "3            M   25          15  55117\n",
        "4            M   45           7  02460\n",
        "5            M   25          20  55455"
       ]
      }
     ],
     "prompt_number": 37
    },
    {
     "cell_type": "markdown",
     "metadata": {},
     "source": [
      "With this in hand, we can now ask what the gender of a particular user_id is like so:"
     ]
    },
    {
     "cell_type": "code",
     "collapsed": false,
     "input": [
      "user_id = 3\n",
      "user_info.ix[user_id, 'gender']"
     ],
     "language": "python",
     "metadata": {},
     "outputs": [
      {
       "metadata": {},
       "output_type": "pyout",
       "prompt_number": 38,
       "text": [
        "'M'"
       ]
      }
     ],
     "prompt_number": 38
    },
    {
     "cell_type": "markdown",
     "metadata": {},
     "source": [
      "### Collaborative-based filtering by Groups\n",
      "\n",
      "Using the pandas aggregation framework we will build a collaborative filter that estimates ratings using an implicit `sim(u,u')` function to compare different users."
     ]
    },
    {
     "cell_type": "code",
     "collapsed": false,
     "input": [
      "def estimate3(user_id, movie_id):\n",
      "    \"\"\" Collaborative filtering using an implicit sim(u,u'). \"\"\"\n",
      "    ratings_by_others = movielens_train[movielens_train.movie_id == movie_id]\n",
      "    if ratings_by_others.empty: \n",
      "        return 3.0\n",
      "    means_by_gender = ratings_by_others.pivot_table('rating', index='movie_id', columns='gender')\n",
      "    user_gender = user_info.ix[user_id, 'gender']\n",
      "    if user_gender in means_by_gender.columns: \n",
      "        return means_by_gender.ix[movie_id, user_gender]\n",
      "    else:\n",
      "        return means_by_gender.ix[movie_id].mean()\n",
      "\n",
      "print 'RMSE for reco3: %s' % evaluate(estimate3)"
     ],
     "language": "python",
     "metadata": {},
     "outputs": [
      {
       "output_type": "stream",
       "stream": "stdout",
       "text": [
        "RMSE for reco3: 1.14543121587\n"
       ]
      }
     ],
     "prompt_number": 40
    },
    {
     "cell_type": "markdown",
     "metadata": {},
     "source": [
      "At this point it seems worthwhile to write a `learn` that pre-computes whatever datastructures we need at estimation time."
     ]
    },
    {
     "cell_type": "code",
     "collapsed": false,
     "input": [
      "class Reco3:\n",
      "    \"\"\" Collaborative filtering using an implicit sim(u,u'). \"\"\"\n",
      "\n",
      "    def learn(self):\n",
      "        \"\"\" Prepare datastructures for estimation. \"\"\"\n",
      "        self.means_by_gender = movielens_train.pivot_table('rating', index='movie_id', columns='gender')\n",
      "\n",
      "    def estimate(self, user_id, movie_id):\n",
      "        \"\"\" Mean ratings by other users of the same gender. \"\"\"\n",
      "        if movie_id not in self.means_by_gender.index: \n",
      "            return 3.0\n",
      "        user_gender = user_info.ix[user_id, 'gender']\n",
      "        if ~np.isnan(self.means_by_gender.ix[movie_id, user_gender]):\n",
      "            return self.means_by_gender.ix[movie_id, user_gender]\n",
      "        else:\n",
      "            return self.means_by_gender.ix[movie_id].mean()\n",
      "\n",
      "reco = Reco3()\n",
      "reco.learn()\n",
      "print 'RMSE for reco3: %s' % evaluate(reco.estimate)"
     ],
     "language": "python",
     "metadata": {},
     "outputs": [
      {
       "output_type": "stream",
       "stream": "stdout",
       "text": [
        "RMSE for reco3: 1.14543121587\n"
       ]
      }
     ],
     "prompt_number": 43
    },
    {
     "cell_type": "code",
     "collapsed": false,
     "input": [
      "class Reco4:\n",
      "    \"\"\" Collaborative filtering using an implicit sim(u,u'). \"\"\"\n",
      "\n",
      "    def learn(self):\n",
      "        \"\"\" Prepare datastructures for estimation. \"\"\"\n",
      "        self.means_by_age = movielens_train.pivot_table('rating', index='movie_id', columns='age')\n",
      "\n",
      "    def estimate(self, user_id, movie_id):\n",
      "        \"\"\" Mean ratings by other users of the same age. \"\"\"\n",
      "        if movie_id not in self.means_by_age.index: return 3.0\n",
      "        user_age = user_info.ix[user_id, 'age']\n",
      "        if ~np.isnan(self.means_by_age.ix[movie_id, user_age]):\n",
      "            return self.means_by_age.ix[movie_id, user_age]\n",
      "        else:\n",
      "            return self.means_by_age.ix[movie_id].mean()\n",
      "\n",
      "reco = Reco4()\n",
      "reco.learn()\n",
      "print 'RMSE for reco4: %s' % evaluate(reco.estimate)"
     ],
     "language": "python",
     "metadata": {},
     "outputs": [
      {
       "output_type": "stream",
       "stream": "stdout",
       "text": [
        "RMSE for reco4: 1.20885941158\n"
       ]
      }
     ],
     "prompt_number": 44
    },
    {
     "cell_type": "code",
     "collapsed": false,
     "input": [
      "movielens.pivot_table('rating', index='movie_id', columns='user_id')"
     ],
     "language": "python",
     "metadata": {},
     "outputs": []
    },
    {
     "cell_type": "markdown",
     "metadata": {},
     "source": [
      "### A few similarity functions\n",
      "\n",
      "These were all written to operate on two pandas Series, each one representing the rating history of two different users. You can also apply them to any two feature vectors that describe users or items. In all cases, the higher the return value, the more similar two Series are. You might need to add checks for edge cases, such as divisions by zero, etc.\n",
      "\n",
      "- Euclidean 'similarity'\n",
      "\n",
      "$$ sim(x,y) = \\frac{1}{1 + \\sqrt{\\sum (x - y)^2}}$$"
     ]
    },
    {
     "cell_type": "markdown",
     "metadata": {},
     "source": [
      "- Cosine similarity\n",
      "\n",
      "$$ sim(x,y) = \\frac{(x . y)}{\\sqrt{(x . x) (y . y)}} $$"
     ]
    },
    {
     "cell_type": "markdown",
     "metadata": {},
     "source": [
      "- Pearson correlation\n",
      "\n",
      "$$ sim(x,y) = \\frac{(x - \\bar x).(y - \\bar y)}{\\sqrt{(x - \\bar x).(x - \\bar x) * (y - \\bar y)(y - \\bar y)}} $$"
     ]
    },
    {
     "cell_type": "code",
     "collapsed": false,
     "input": [
      "def euclidean(s1, s2):\n",
      "    \"\"\"Take two pd.Series objects and return their euclidean 'similarity'.\"\"\"\n",
      "    diff = s1 - s2\n",
      "    return 1 / (1 + np.sqrt(np.sum(diff**2)))"
     ],
     "language": "python",
     "metadata": {},
     "outputs": [],
     "prompt_number": 54
    },
    {
     "cell_type": "code",
     "collapsed": false,
     "input": [
      "%timeit# Test Euclidean Distance function\n",
      "euclidean(np.array([1, 2, 3]), np.array([1, 2, 5]))"
     ],
     "language": "python",
     "metadata": {},
     "outputs": [
      {
       "output_type": "stream",
       "stream": "stdout",
       "text": [
        "10000000 loops, best of 3: 16.2 ns per loop\n"
       ]
      },
      {
       "metadata": {},
       "output_type": "pyout",
       "prompt_number": 53,
       "text": [
        "0.33333333333333331"
       ]
      }
     ],
     "prompt_number": 53
    },
    {
     "cell_type": "code",
     "collapsed": false,
     "input": [
      "%timeit# Test Euclidean Distance function\n",
      "euclidean(np.array([1, 2, 3]), np.array([1, 2, 5]))"
     ],
     "language": "python",
     "metadata": {},
     "outputs": [
      {
       "output_type": "stream",
       "stream": "stdout",
       "text": [
        "100000000 loops, best of 3: 16.1 ns per loop\n"
       ]
      },
      {
       "metadata": {},
       "output_type": "pyout",
       "prompt_number": 55,
       "text": [
        "0.33333333333333331"
       ]
      }
     ],
     "prompt_number": 55
    },
    {
     "cell_type": "code",
     "collapsed": false,
     "input": [
      "def cosine(s1, s2):\n",
      "    \"\"\"Take two pd.Series objects and return their cosine similarity.\"\"\"\n",
      "    return np.sum(s1 * s2) / np.sqrt(np.sum(s1 ** 2) * np.sum(s2 ** 2))"
     ],
     "language": "python",
     "metadata": {},
     "outputs": [],
     "prompt_number": 56
    },
    {
     "cell_type": "code",
     "collapsed": false,
     "input": [
      "def pearson(s1, s2):\n",
      "    \"\"\"Take two pd.Series objects and return a pearson correlation.\"\"\"\n",
      "    s1_c = s1 - s1.mean()\n",
      "    s2_c = s2 - s2.mean()\n",
      "    return np.sum(s1_c * s2_c) / np.sqrt(np.sum(s1_c ** 2) * np.sum(s2_c ** 2))"
     ],
     "language": "python",
     "metadata": {},
     "outputs": [],
     "prompt_number": 57
    },
    {
     "cell_type": "code",
     "collapsed": false,
     "input": [
      "user_profiles = movielens.pivot_table('rating', index='movie_id', columns='user_id')"
     ],
     "language": "python",
     "metadata": {},
     "outputs": [],
     "prompt_number": 58
    },
    {
     "cell_type": "code",
     "collapsed": false,
     "input": [
      "user_profiles"
     ],
     "language": "python",
     "metadata": {},
     "outputs": [
      {
       "html": [
        "<div style=\"max-height:1000px;max-width:1500px;overflow:auto;\">\n",
        "<table border=\"1\" class=\"dataframe\">\n",
        "  <thead>\n",
        "    <tr style=\"text-align: right;\">\n",
        "      <th>user_id</th>\n",
        "      <th>5</th>\n",
        "      <th>6</th>\n",
        "      <th>10</th>\n",
        "      <th>11</th>\n",
        "      <th>15</th>\n",
        "      <th>18</th>\n",
        "      <th>19</th>\n",
        "      <th>22</th>\n",
        "      <th>23</th>\n",
        "      <th>24</th>\n",
        "      <th>...</th>\n",
        "      <th>6016</th>\n",
        "      <th>6018</th>\n",
        "      <th>6021</th>\n",
        "      <th>6023</th>\n",
        "      <th>6025</th>\n",
        "      <th>6030</th>\n",
        "      <th>6031</th>\n",
        "      <th>6032</th>\n",
        "      <th>6036</th>\n",
        "      <th>6040</th>\n",
        "    </tr>\n",
        "    <tr>\n",
        "      <th>movie_id</th>\n",
        "      <th></th>\n",
        "      <th></th>\n",
        "      <th></th>\n",
        "      <th></th>\n",
        "      <th></th>\n",
        "      <th></th>\n",
        "      <th></th>\n",
        "      <th></th>\n",
        "      <th></th>\n",
        "      <th></th>\n",
        "      <th></th>\n",
        "      <th></th>\n",
        "      <th></th>\n",
        "      <th></th>\n",
        "      <th></th>\n",
        "      <th></th>\n",
        "      <th></th>\n",
        "      <th></th>\n",
        "      <th></th>\n",
        "      <th></th>\n",
        "      <th></th>\n",
        "    </tr>\n",
        "  </thead>\n",
        "  <tbody>\n",
        "    <tr>\n",
        "      <th>1   </th>\n",
        "      <td>NaN</td>\n",
        "      <td>NaN</td>\n",
        "      <td>NaN</td>\n",
        "      <td>NaN</td>\n",
        "      <td>NaN</td>\n",
        "      <td>NaN</td>\n",
        "      <td>NaN</td>\n",
        "      <td>NaN</td>\n",
        "      <td>NaN</td>\n",
        "      <td>NaN</td>\n",
        "      <td>...</td>\n",
        "      <td>NaN</td>\n",
        "      <td>NaN</td>\n",
        "      <td>NaN</td>\n",
        "      <td>NaN</td>\n",
        "      <td>NaN</td>\n",
        "      <td>NaN</td>\n",
        "      <td>NaN</td>\n",
        "      <td>NaN</td>\n",
        "      <td>NaN</td>\n",
        "      <td>NaN</td>\n",
        "    </tr>\n",
        "    <tr>\n",
        "      <th>2   </th>\n",
        "      <td>NaN</td>\n",
        "      <td>NaN</td>\n",
        "      <td>NaN</td>\n",
        "      <td>NaN</td>\n",
        "      <td>NaN</td>\n",
        "      <td>NaN</td>\n",
        "      <td>NaN</td>\n",
        "      <td>NaN</td>\n",
        "      <td>NaN</td>\n",
        "      <td>NaN</td>\n",
        "      <td>...</td>\n",
        "      <td>NaN</td>\n",
        "      <td>NaN</td>\n",
        "      <td>NaN</td>\n",
        "      <td>NaN</td>\n",
        "      <td>NaN</td>\n",
        "      <td>NaN</td>\n",
        "      <td>NaN</td>\n",
        "      <td>NaN</td>\n",
        "      <td>NaN</td>\n",
        "      <td>NaN</td>\n",
        "    </tr>\n",
        "    <tr>\n",
        "      <th>3   </th>\n",
        "      <td>NaN</td>\n",
        "      <td>NaN</td>\n",
        "      <td>NaN</td>\n",
        "      <td>NaN</td>\n",
        "      <td>NaN</td>\n",
        "      <td>NaN</td>\n",
        "      <td>NaN</td>\n",
        "      <td>NaN</td>\n",
        "      <td>NaN</td>\n",
        "      <td>NaN</td>\n",
        "      <td>...</td>\n",
        "      <td>NaN</td>\n",
        "      <td>NaN</td>\n",
        "      <td>NaN</td>\n",
        "      <td>NaN</td>\n",
        "      <td>NaN</td>\n",
        "      <td>NaN</td>\n",
        "      <td>NaN</td>\n",
        "      <td>NaN</td>\n",
        "      <td>NaN</td>\n",
        "      <td>NaN</td>\n",
        "    </tr>\n",
        "    <tr>\n",
        "      <th>4   </th>\n",
        "      <td>NaN</td>\n",
        "      <td>NaN</td>\n",
        "      <td>NaN</td>\n",
        "      <td>NaN</td>\n",
        "      <td>NaN</td>\n",
        "      <td>NaN</td>\n",
        "      <td>NaN</td>\n",
        "      <td>NaN</td>\n",
        "      <td>NaN</td>\n",
        "      <td>NaN</td>\n",
        "      <td>...</td>\n",
        "      <td>NaN</td>\n",
        "      <td>NaN</td>\n",
        "      <td>NaN</td>\n",
        "      <td>NaN</td>\n",
        "      <td>NaN</td>\n",
        "      <td>NaN</td>\n",
        "      <td>NaN</td>\n",
        "      <td>NaN</td>\n",
        "      <td>NaN</td>\n",
        "      <td>NaN</td>\n",
        "    </tr>\n",
        "    <tr>\n",
        "      <th>5   </th>\n",
        "      <td>NaN</td>\n",
        "      <td>NaN</td>\n",
        "      <td>NaN</td>\n",
        "      <td>NaN</td>\n",
        "      <td>NaN</td>\n",
        "      <td>NaN</td>\n",
        "      <td>NaN</td>\n",
        "      <td>NaN</td>\n",
        "      <td>NaN</td>\n",
        "      <td>NaN</td>\n",
        "      <td>...</td>\n",
        "      <td>NaN</td>\n",
        "      <td>NaN</td>\n",
        "      <td>NaN</td>\n",
        "      <td>NaN</td>\n",
        "      <td>NaN</td>\n",
        "      <td>NaN</td>\n",
        "      <td>NaN</td>\n",
        "      <td>NaN</td>\n",
        "      <td>NaN</td>\n",
        "      <td>NaN</td>\n",
        "    </tr>\n",
        "    <tr>\n",
        "      <th>...</th>\n",
        "      <td>...</td>\n",
        "      <td>...</td>\n",
        "      <td>...</td>\n",
        "      <td>...</td>\n",
        "      <td>...</td>\n",
        "      <td>...</td>\n",
        "      <td>...</td>\n",
        "      <td>...</td>\n",
        "      <td>...</td>\n",
        "      <td>...</td>\n",
        "      <td>...</td>\n",
        "      <td>...</td>\n",
        "      <td>...</td>\n",
        "      <td>...</td>\n",
        "      <td>...</td>\n",
        "      <td>...</td>\n",
        "      <td>...</td>\n",
        "      <td>...</td>\n",
        "      <td>...</td>\n",
        "      <td>...</td>\n",
        "      <td>...</td>\n",
        "    </tr>\n",
        "    <tr>\n",
        "      <th>3943</th>\n",
        "      <td>NaN</td>\n",
        "      <td>NaN</td>\n",
        "      <td>NaN</td>\n",
        "      <td>NaN</td>\n",
        "      <td>NaN</td>\n",
        "      <td>NaN</td>\n",
        "      <td>NaN</td>\n",
        "      <td>NaN</td>\n",
        "      <td>NaN</td>\n",
        "      <td>NaN</td>\n",
        "      <td>...</td>\n",
        "      <td>NaN</td>\n",
        "      <td>NaN</td>\n",
        "      <td>NaN</td>\n",
        "      <td>NaN</td>\n",
        "      <td>NaN</td>\n",
        "      <td>NaN</td>\n",
        "      <td>NaN</td>\n",
        "      <td>NaN</td>\n",
        "      <td>NaN</td>\n",
        "      <td>NaN</td>\n",
        "    </tr>\n",
        "    <tr>\n",
        "      <th>3948</th>\n",
        "      <td>NaN</td>\n",
        "      <td>NaN</td>\n",
        "      <td>NaN</td>\n",
        "      <td>NaN</td>\n",
        "      <td>NaN</td>\n",
        "      <td>NaN</td>\n",
        "      <td>NaN</td>\n",
        "      <td>NaN</td>\n",
        "      <td>NaN</td>\n",
        "      <td>NaN</td>\n",
        "      <td>...</td>\n",
        "      <td>NaN</td>\n",
        "      <td>NaN</td>\n",
        "      <td>NaN</td>\n",
        "      <td>NaN</td>\n",
        "      <td>NaN</td>\n",
        "      <td>NaN</td>\n",
        "      <td>NaN</td>\n",
        "      <td>NaN</td>\n",
        "      <td>NaN</td>\n",
        "      <td>NaN</td>\n",
        "    </tr>\n",
        "    <tr>\n",
        "      <th>3949</th>\n",
        "      <td>NaN</td>\n",
        "      <td>NaN</td>\n",
        "      <td>NaN</td>\n",
        "      <td>NaN</td>\n",
        "      <td>NaN</td>\n",
        "      <td>NaN</td>\n",
        "      <td>NaN</td>\n",
        "      <td>NaN</td>\n",
        "      <td>NaN</td>\n",
        "      <td>NaN</td>\n",
        "      <td>...</td>\n",
        "      <td>NaN</td>\n",
        "      <td>NaN</td>\n",
        "      <td>NaN</td>\n",
        "      <td>NaN</td>\n",
        "      <td>NaN</td>\n",
        "      <td>NaN</td>\n",
        "      <td>NaN</td>\n",
        "      <td>NaN</td>\n",
        "      <td>NaN</td>\n",
        "      <td>NaN</td>\n",
        "    </tr>\n",
        "    <tr>\n",
        "      <th>3950</th>\n",
        "      <td>NaN</td>\n",
        "      <td>NaN</td>\n",
        "      <td>NaN</td>\n",
        "      <td>NaN</td>\n",
        "      <td>NaN</td>\n",
        "      <td>NaN</td>\n",
        "      <td>NaN</td>\n",
        "      <td>NaN</td>\n",
        "      <td>NaN</td>\n",
        "      <td>NaN</td>\n",
        "      <td>...</td>\n",
        "      <td>NaN</td>\n",
        "      <td>NaN</td>\n",
        "      <td>NaN</td>\n",
        "      <td>NaN</td>\n",
        "      <td>NaN</td>\n",
        "      <td>NaN</td>\n",
        "      <td>NaN</td>\n",
        "      <td>NaN</td>\n",
        "      <td>NaN</td>\n",
        "      <td>NaN</td>\n",
        "    </tr>\n",
        "    <tr>\n",
        "      <th>3952</th>\n",
        "      <td>NaN</td>\n",
        "      <td>NaN</td>\n",
        "      <td>NaN</td>\n",
        "      <td>NaN</td>\n",
        "      <td>NaN</td>\n",
        "      <td>NaN</td>\n",
        "      <td>NaN</td>\n",
        "      <td>NaN</td>\n",
        "      <td>NaN</td>\n",
        "      <td>NaN</td>\n",
        "      <td>...</td>\n",
        "      <td>NaN</td>\n",
        "      <td>NaN</td>\n",
        "      <td>NaN</td>\n",
        "      <td>NaN</td>\n",
        "      <td>NaN</td>\n",
        "      <td>NaN</td>\n",
        "      <td>NaN</td>\n",
        "      <td>NaN</td>\n",
        "      <td>NaN</td>\n",
        "      <td>NaN</td>\n",
        "    </tr>\n",
        "  </tbody>\n",
        "</table>\n",
        "<p>2184 rows \u00d7 2156 columns</p>\n",
        "</div>"
       ],
       "metadata": {},
       "output_type": "pyout",
       "prompt_number": 59,
       "text": [
        "user_id   5     6     10    11    15    18    19    22    23    24    ...   \\\n",
        "movie_id                                                              ...    \n",
        "1          NaN   NaN   NaN   NaN   NaN   NaN   NaN   NaN   NaN   NaN  ...    \n",
        "2          NaN   NaN   NaN   NaN   NaN   NaN   NaN   NaN   NaN   NaN  ...    \n",
        "3          NaN   NaN   NaN   NaN   NaN   NaN   NaN   NaN   NaN   NaN  ...    \n",
        "4          NaN   NaN   NaN   NaN   NaN   NaN   NaN   NaN   NaN   NaN  ...    \n",
        "5          NaN   NaN   NaN   NaN   NaN   NaN   NaN   NaN   NaN   NaN  ...    \n",
        "...        ...   ...   ...   ...   ...   ...   ...   ...   ...   ...  ...    \n",
        "3943       NaN   NaN   NaN   NaN   NaN   NaN   NaN   NaN   NaN   NaN  ...    \n",
        "3948       NaN   NaN   NaN   NaN   NaN   NaN   NaN   NaN   NaN   NaN  ...    \n",
        "3949       NaN   NaN   NaN   NaN   NaN   NaN   NaN   NaN   NaN   NaN  ...    \n",
        "3950       NaN   NaN   NaN   NaN   NaN   NaN   NaN   NaN   NaN   NaN  ...    \n",
        "3952       NaN   NaN   NaN   NaN   NaN   NaN   NaN   NaN   NaN   NaN  ...    \n",
        "\n",
        "user_id   6016  6018  6021  6023  6025  6030  6031  6032  6036  6040  \n",
        "movie_id                                                              \n",
        "1          NaN   NaN   NaN   NaN   NaN   NaN   NaN   NaN   NaN   NaN  \n",
        "2          NaN   NaN   NaN   NaN   NaN   NaN   NaN   NaN   NaN   NaN  \n",
        "3          NaN   NaN   NaN   NaN   NaN   NaN   NaN   NaN   NaN   NaN  \n",
        "4          NaN   NaN   NaN   NaN   NaN   NaN   NaN   NaN   NaN   NaN  \n",
        "5          NaN   NaN   NaN   NaN   NaN   NaN   NaN   NaN   NaN   NaN  \n",
        "...        ...   ...   ...   ...   ...   ...   ...   ...   ...   ...  \n",
        "3943       NaN   NaN   NaN   NaN   NaN   NaN   NaN   NaN   NaN   NaN  \n",
        "3948       NaN   NaN   NaN   NaN   NaN   NaN   NaN   NaN   NaN   NaN  \n",
        "3949       NaN   NaN   NaN   NaN   NaN   NaN   NaN   NaN   NaN   NaN  \n",
        "3950       NaN   NaN   NaN   NaN   NaN   NaN   NaN   NaN   NaN   NaN  \n",
        "3952       NaN   NaN   NaN   NaN   NaN   NaN   NaN   NaN   NaN   NaN  \n",
        "\n",
        "[2184 rows x 2156 columns]"
       ]
      }
     ],
     "prompt_number": 59
    },
    {
     "cell_type": "code",
     "collapsed": false,
     "input": [
      "class Reco5:\n",
      "    \"\"\" Collaborative filtering using a custom sim(u,u'). \"\"\"\n",
      "\n",
      "    def learn(self):\n",
      "        \"\"\" Prepare datastructures for estimation. \"\"\"\n",
      "        self.all_user_profiles = movielens.pivot_table('rating', index='movie_id', columns='user_id')\n",
      "\n",
      "    def estimate(self, user_id, movie_id):\n",
      "        \"\"\" Ratings weighted by correlation similarity. \"\"\"\n",
      "        ratings_by_others = movielens_train[movielens_train.movie_id == movie_id]\n",
      "        if ratings_by_others.empty: \n",
      "            return 3.0\n",
      "        ratings_by_others.set_index('user_id', inplace=True)\n",
      "        their_ids = ratings_by_others.index\n",
      "        their_ratings = ratings_by_others.rating\n",
      "        their_profiles = self.all_user_profiles[their_ids]\n",
      "        user_profile = self.all_user_profiles[user_id]\n",
      "        sims = their_profiles.apply(lambda profile: pearson(profile, user_profile), axis=0)\n",
      "        ratings_sims = pd.DataFrame({'sim': sims, 'rating': their_ratings})\n",
      "        ratings_sims = ratings_sims[ ratings_sims.sim > 0]\n",
      "        if ratings_sims.empty:\n",
      "            return their_ratings.mean()\n",
      "        else:\n",
      "            return np.average(ratings_sims.rating, weights=ratings_sims.sim)"
     ],
     "language": "python",
     "metadata": {},
     "outputs": [],
     "prompt_number": 60
    },
    {
     "cell_type": "code",
     "collapsed": false,
     "input": [
      "reco = Reco5()\n",
      "reco.learn()\n",
      "print 'RMSE for reco5: %s' % evaluate(reco.estimate)"
     ],
     "language": "python",
     "metadata": {},
     "outputs": [
      {
       "output_type": "stream",
       "stream": "stdout",
       "text": [
        "RMSE for reco5: 1.07773763378\n"
       ]
      }
     ],
     "prompt_number": 61
    },
    {
     "cell_type": "code",
     "collapsed": false,
     "input": [],
     "language": "python",
     "metadata": {},
     "outputs": []
    }
   ],
   "metadata": {}
  }
 ]
}