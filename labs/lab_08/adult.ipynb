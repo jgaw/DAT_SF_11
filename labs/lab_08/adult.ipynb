{
 "metadata": {
  "name": "",
<<<<<<< HEAD
  "signature": "sha256:2a757c937b3557aa00b98fbe7c3cc7a092166ea093604538e8d98afd34d6c508"
=======
  "signature": "sha256:8517800fb469dbd2c4a533758afef42133d7cd94e0b6f07e7f0a65676d85713f"
>>>>>>> b99a7a9d144ce0906b735c5f46294c4c48410515
 },
 "nbformat": 3,
 "nbformat_minor": 0,
 "worksheets": [
  {
   "cells": [
    {
     "cell_type": "markdown",
     "metadata": {},
     "source": [
      "#Adult Data Set\n",
      "Prediction task is to determine whether a person makes over 50K a year.<br>\n",
      "Use this Notebook to do your exploration and modeling."
     ]
    },
    {
     "cell_type": "markdown",
     "metadata": {},
     "source": [
      "###But first, a protip"
     ]
    },
    {
     "cell_type": "code",
     "collapsed": false,
     "input": [
      "import sys\n",
      "import pandas as pd\n",
      "import numpy as np\n",
      "import matplotlib as mpl\n",
      "import matplotlib.pyplot as plt\n",
      "from sklearn.cross_validation import train_test_split\n",
      "from sklearn.grid_search import GridSearchCV\n",
      "from sklearn.linear_model import LogisticRegression\n",
      "from sklearn.svm import SVC\n",
      "from sklearn.pipeline import make_pipeline\n",
      "from sklearn.preprocessing import Imputer\n",
      "from sklearn.metrics import confusion_matrix, classification_report\n",
      "import seaborn as sns\n",
      "\n",
      "from sklearn.tree import DecisionTreeClassifier\n",
      "\n",
      "%matplotlib inline\n",
      "\n",
      "# Limit rows displayed in notebook\n",
      "pd.set_option('display.max_rows', 10)\n",
      "pd.set_option('display.precision', 8)"
     ],
     "language": "python",
     "metadata": {},
     "outputs": [],
<<<<<<< HEAD
     "prompt_number": 1
=======
     "prompt_number": 2
>>>>>>> b99a7a9d144ce0906b735c5f46294c4c48410515
    },
    {
     "cell_type": "code",
     "collapsed": false,
     "input": [
      "cols = ['age',\n",
      "        'workclass',\n",
      "        'fnlwgt',\n",
      "        'education',\n",
      "        'education_num',\n",
      "        'marital_status',\n",
      "        'occupation',\n",
      "        'relationship',\n",
      "        'race',\n",
      "        'sex',\n",
<<<<<<< HEAD
      "        'capital_gain',\n",
      "        'capital_loss',\n",
      "        'hours_per_week',\n",
      "        'native_country',\n",
=======
      "        'capital-gain',\n",
      "        'capital-loss',\n",
      "        'hours-per-week',\n",
      "        'native-country',\n",
>>>>>>> b99a7a9d144ce0906b735c5f46294c4c48410515
      "        'income']\n",
      "adult_df = pd.read_csv('http://archive.ics.uci.edu/ml/machine-learning-databases/adult/adult.data',\n",
      "                       header=False,names=cols,index_col=False, na_values=' ?')"
     ],
     "language": "python",
     "metadata": {},
     "outputs": [],
<<<<<<< HEAD
     "prompt_number": 2
=======
     "prompt_number": 7
>>>>>>> b99a7a9d144ce0906b735c5f46294c4c48410515
    },
    {
     "cell_type": "markdown",
     "metadata": {},
     "source": [
      "###Now, you're on your own."
     ]
    },
    {
     "cell_type": "code",
     "collapsed": false,
     "input": [
<<<<<<< HEAD
      "adult_df.head()"
     ],
     "language": "python",
     "metadata": {},
     "outputs": []
    },
    {
     "cell_type": "code",
     "collapsed": false,
     "input": [
      "adult_df.info()"
     ],
     "language": "python",
     "metadata": {},
     "outputs": [
      {
       "output_type": "stream",
       "stream": "stdout",
       "text": [
        "<class 'pandas.core.frame.DataFrame'>\n",
        "Int64Index: 30161 entries, 0 to 32559\n",
        "Data columns (total 15 columns):\n",
        "age               30161 non-null int64\n",
        "workclass         30161 non-null object\n",
        "fnlwgt            30161 non-null int64\n",
        "education         30161 non-null object\n",
        "education-num     30161 non-null int64\n",
        "marital-status    30161 non-null object\n",
        "occupation        30161 non-null object\n",
        "relationship      30161 non-null object\n",
        "race              30161 non-null object\n",
        "sex               30161 non-null object\n",
        "capital-gain      30161 non-null int64\n",
        "capital-loss      30161 non-null int64\n",
        "hours-per-week    30161 non-null int64\n",
        "native-country    30161 non-null object\n",
        "income            30161 non-null object\n",
        "dtypes: int64(6), object(9)\n",
        "memory usage: 3.7+ MB\n"
       ]
      }
     ],
     "prompt_number": 17
    },
    {
     "cell_type": "code",
     "collapsed": false,
     "input": [
      "adult_df.income.unique()"
     ],
     "language": "python",
     "metadata": {},
     "outputs": []
    },
    {
     "cell_type": "code",
     "collapsed": false,
     "input": [
      "for i in cols:\n",
      "    if adult_df[i].dtype==np.dtype('O'):\n",
      "        print adult_df[i].unique()"
     ],
     "language": "python",
     "metadata": {},
     "outputs": []
    },
    {
     "cell_type": "code",
     "collapsed": false,
     "input": [
      "adult_df[adult_df.values==' ?']"
     ],
     "language": "python",
     "metadata": {},
     "outputs": []
    },
    {
     "cell_type": "code",
     "collapsed": false,
     "input": [
      "#adult_df.groupby('education').education.count().plot(kind='bar')\n",
      "\n",
      "for i in cols:\n",
      "    if adult_df[i].dtype==np.dtype('O'):\n",
      "        adult_df.groupby([i])['income'].agg(['count']).plot(kind='bar') \n",
      "        "
     ],
     "language": "python",
     "metadata": {},
     "outputs": []
    },
    {
     "cell_type": "code",
     "collapsed": false,
     "input": [
      "for i in cols:\n",
      "    if adult_df[i].dtype!=np.dtype('O'):\n",
      "        adult_df[i].hist(by=adult_df.income,bins=20)"
     ],
     "language": "python",
     "metadata": {},
     "outputs": []
    },
    {
     "cell_type": "code",
     "collapsed": false,
     "input": [
      "adult_df.dropna(inplace=True)"
     ],
     "language": "python",
     "metadata": {},
     "outputs": [],
     "prompt_number": 3
    },
    {
     "cell_type": "code",
     "collapsed": false,
     "input": [
      "X = adult_df.ix[:,0:-1]\n",
      "X.drop(['fnlwgt','education_num'], axis=1, inplace=True)\n",
      "X = pd.get_dummies(X)\n"
     ],
     "language": "python",
     "metadata": {},
     "outputs": [],
     "prompt_number": 3
    },
    {
     "cell_type": "code",
     "collapsed": false,
     "input": [
      "from sklearn.preprocessing import StandardScaler\n",
      "scaler = StandardScaler()\n",
      "X = scaler.fit_transform(X)"
=======
      "from sklearn.preprocessing import LabelEncoder"
>>>>>>> b99a7a9d144ce0906b735c5f46294c4c48410515
     ],
     "language": "python",
     "metadata": {},
     "outputs": [],
<<<<<<< HEAD
     "prompt_number": 4
    },
    {
     "cell_type": "code",
     "collapsed": false,
     "input": [
      "y = adult_df.income == ' >50K'\n"
     ],
     "language": "python",
     "metadata": {},
     "outputs": [],
     "prompt_number": 5
    },
    {
     "cell_type": "code",
     "collapsed": false,
     "input": [
      "X_train, X_test, y_train, y_test = train_test_split(X, y.values, test_size=0.2, random_state=12)"
     ],
     "language": "python",
     "metadata": {},
     "outputs": [],
     "prompt_number": 6
    },
    {
     "cell_type": "code",
     "collapsed": false,
     "input": [
      "#params = {'penalty':['l1'],\n",
      "#          'C':[1, 0.1, 0.001, 0.0001]}\n",
      "\n",
      "\n",
      "log_est = LogisticRegression()\n"
     ],
     "language": "python",
     "metadata": {},
     "outputs": [],
     "prompt_number": 7
    },
    {
     "cell_type": "code",
     "collapsed": false,
     "input": [
      "log_est.fit(X_train,y_train)"
     ],
     "language": "python",
     "metadata": {},
     "outputs": [
      {
       "metadata": {},
       "output_type": "pyout",
       "prompt_number": 8,
       "text": [
        "LogisticRegression(C=1.0, class_weight=None, dual=False, fit_intercept=True,\n",
        "          intercept_scaling=1, penalty='l2', random_state=None, tol=0.0001)"
       ]
      }
     ],
     "prompt_number": 8
    },
    {
     "cell_type": "code",
     "collapsed": false,
     "input": [
      "print log_est.best_params_\n",
      "print log_est.score(X_test,y_test)"
     ],
     "language": "python",
     "metadata": {},
     "outputs": []
    },
    {
     "cell_type": "code",
     "collapsed": false,
     "input": [
      "y_pred = log_est.predict(X_test)\n",
      "cm = confusion_matrix(y_test, y_pred)\n",
      "print(cm)\n",
      "\n",
      "# Show confusion matrix in a separate window\n",
      "plt.matshow(cm)\n",
      "plt.title('Confusion matrix')\n",
      "plt.colorbar()\n",
      "plt.ylabel('True label')\n",
      "plt.xlabel('Predicted label')\n",
      "plt.show()\n",
      "\n",
      "print classification_report(y_test, y_pred)"
     ],
     "language": "python",
     "metadata": {},
     "outputs": [
      {
       "output_type": "stream",
       "stream": "stdout",
       "text": [
        "[[4533  356]\n",
        " [ 638  985]]\n"
       ]
      },
      {
       "metadata": {},
       "output_type": "display_data",
       "png": "iVBORw0KGgoAAAANSUhEUgAAAQ4AAADwCAYAAADxXop4AAAABHNCSVQICAgIfAhkiAAAAAlwSFlz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\nMLPCHDjMrDAHDjMrzIHDzApz4DCzwv4ff4ozBxyfvBkAAAAASUVORK5CYII=\n",
       "text": [
        "<matplotlib.figure.Figure at 0x102f79b90>"
       ]
      },
      {
       "output_type": "stream",
       "stream": "stdout",
       "text": [
        "             precision    recall  f1-score   support\n",
        "\n",
        "      False       0.88      0.93      0.90      4889\n",
        "       True       0.73      0.61      0.66      1623\n",
        "\n",
        "avg / total       0.84      0.85      0.84      6512\n",
        "\n"
       ]
      }
     ],
=======
>>>>>>> b99a7a9d144ce0906b735c5f46294c4c48410515
     "prompt_number": 9
    },
    {
     "cell_type": "code",
     "collapsed": false,
     "input": [
<<<<<<< HEAD
      "sns.regplot(y_pred, y_test, x_jitter=0.1, y_jitter=0.1)"
=======
      "LabelEncoder().fit_transform(adult_df.education)"
>>>>>>> b99a7a9d144ce0906b735c5f46294c4c48410515
     ],
     "language": "python",
     "metadata": {},
     "outputs": [
      {
       "metadata": {},
       "output_type": "pyout",
<<<<<<< HEAD
       "prompt_number": 39,
       "text": [
        "<matplotlib.axes._subplots.AxesSubplot at 0x10bdf3090>"
       ]
      },
      {
       "metadata": {},
       "output_type": "display_data",
       "png": "iVBORw0KGgoAAAANSUhEUgAAAX0AAAECCAYAAAASDQdFAAAABHNCSVQICAgIfAhkiAAAAAlwSFlz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\nSNIXQoh1RJK+EEKsI5L0hRBiHfn/AQee+gtzYTPlAAAAAElFTkSuQmCC\n",
       "text": [
        "<matplotlib.figure.Figure at 0x10bdf3490>"
       ]
      }
     ],
     "prompt_number": 39
    },
    {
     "cell_type": "code",
     "collapsed": false,
     "input": [
      "tree_est = DecisionTreeClassifier(max_features='log2', criterion='entropy')"
     ],
     "language": "python",
     "metadata": {},
     "outputs": [],
     "prompt_number": 14
    },
    {
     "cell_type": "code",
     "collapsed": false,
     "input": [
      "tree_est.fit(X_train,y_train)"
     ],
     "language": "python",
     "metadata": {},
     "outputs": [
      {
       "metadata": {},
       "output_type": "pyout",
       "prompt_number": 15,
       "text": [
        "DecisionTreeClassifier(compute_importances=None, criterion='entropy',\n",
        "            max_depth=None, max_features='log2', max_leaf_nodes=None,\n",
        "            min_density=None, min_samples_leaf=1, min_samples_split=2,\n",
        "            random_state=None, splitter='best')"
       ]
      }
     ],
     "prompt_number": 15
    },
    {
     "cell_type": "code",
     "collapsed": false,
     "input": [
      "y_pred = tree_est.predict(X_test)\n",
      "cm = confusion_matrix(y_test, y_pred)\n",
      "print(cm)\n",
      "\n",
      "# Show confusion matrix in a separate window\n",
      "plt.matshow(cm)\n",
      "plt.title('Confusion matrix')\n",
      "plt.colorbar()\n",
      "plt.ylabel('True label')\n",
      "plt.xlabel('Predicted label')\n",
      "plt.show()\n",
      "\n",
      "print classification_report(y_test, y_pred)"
     ],
     "language": "python",
     "metadata": {},
     "outputs": [
      {
       "output_type": "stream",
       "stream": "stdout",
       "text": [
        "[[4315  574]\n",
        " [ 673  950]]\n"
       ]
      },
      {
       "metadata": {},
       "output_type": "display_data",
       "png": "iVBORw0KGgoAAAANSUhEUgAAAQ4AAADtCAYAAABOFps9AAAABHNCSVQICAgIfAhkiAAAAAlwSFlz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\n/wEOBDACSmGfPgAAAABJRU5ErkJggg==\n",
       "text": [
        "<matplotlib.figure.Figure at 0x10a77ba50>"
       ]
      },
      {
       "output_type": "stream",
       "stream": "stdout",
       "text": [
        "             precision    recall  f1-score   support\n",
        "\n",
        "      False       0.87      0.88      0.87      4889\n",
        "       True       0.62      0.59      0.60      1623\n",
        "\n",
        "avg / total       0.80      0.81      0.81      6512\n",
        "\n"
       ]
      }
     ],
     "prompt_number": 16
    },
    {
     "cell_type": "code",
     "collapsed": false,
     "input": [
      "from sklearn.cross_validation import KFold\n",
      "\n",
      "def run_cv(X,y,clf_class,**kwargs):\n",
      "    # Construct a kfolds object\n",
      "    kf = KFold(len(y),n_folds=5,shuffle=True)\n",
      "    y_pred = y.copy()\n",
      "    \n",
      "    # Iterate through folds\n",
      "    for train_index, test_index in kf:\n",
      "        X_train, X_test = X[train_index], X[test_index]\n",
      "        y_train = y[train_index]\n",
      "        # Initialize a classifier with key word arguments\n",
      "        clf = clf_class(**kwargs)\n",
      "        clf.fit(X_train,y_train)\n",
      "        y_pred[test_index] = clf.predict(X_test)\n",
      "    return y_pred"
     ],
     "language": "python",
     "metadata": {},
     "outputs": [],
     "prompt_number": 10
    },
    {
     "cell_type": "code",
     "collapsed": false,
     "input": [
      "from sklearn.svm import SVC\n",
      "from sklearn.ensemble import RandomForestClassifier as RF\n",
      "from sklearn.neighbors import KNeighborsClassifier as KNN\n",
      "\n",
      "def accuracy(y_true,y_pred):\n",
      "    # NumPy interpretes True and False as 1. and 0.\n",
      "    return np.mean(y_true == y_pred)\n",
      "\n",
      "print \"Random forest:\"\n",
      "print \"%.3f\" % accuracy(y, run_cv(X,y,RF))\n",
      "print \"K-nearest-neighbors:\"\n",
      "print \"%.3f\" % accuracy(y, run_cv(X,y,KNN))"
     ],
     "language": "python",
     "metadata": {},
     "outputs": []
=======
       "prompt_number": 11,
       "text": [
        "array([10, 12,  2, ..., 12, 12,  0])"
       ]
      }
     ],
     "prompt_number": 11
>>>>>>> b99a7a9d144ce0906b735c5f46294c4c48410515
    },
    {
     "cell_type": "code",
     "collapsed": false,
     "input": [],
     "language": "python",
     "metadata": {},
     "outputs": []
    }
   ],
   "metadata": {}
  }
 ]
}