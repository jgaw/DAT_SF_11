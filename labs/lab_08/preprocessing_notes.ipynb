{
 "metadata": {
  "name": "",
<<<<<<< HEAD
  "signature": "sha256:f466ff31283edd719f61b76ceddbb4086462467bcc954cf9fd2f185e59138e9b"
=======
  "signature": "sha256:304fbea778beb59316fa15402d2c41560bf57e3bca9aa8d44ad17832fdc8972a"
>>>>>>> b99a7a9d144ce0906b735c5f46294c4c48410515
 },
 "nbformat": 3,
 "nbformat_minor": 0,
 "worksheets": [
  {
   "cells": [
    {
     "cell_type": "markdown",
     "metadata": {},
     "source": [
      "#Scaling"
     ]
    },
    {
     "cell_type": "code",
     "collapsed": false,
     "input": [
      "from sklearn import preprocessing\n",
      "import numpy as np\n",
      "import pandas as pd\n",
      "X = np.array([[ 1., -1.,  2.],\n",
      "              [ 2.,  0.,  0.],\n",
      "              [ 0.,  1., -1.]])  "
     ],
     "language": "python",
     "metadata": {},
     "outputs": [],
<<<<<<< HEAD
     "prompt_number": 2
=======
     "prompt_number": 1
>>>>>>> b99a7a9d144ce0906b735c5f46294c4c48410515
    },
    {
     "cell_type": "code",
     "collapsed": false,
     "input": [
      "X_scaled = preprocessing.scale(X)   "
     ],
     "language": "python",
     "metadata": {},
     "outputs": [],
<<<<<<< HEAD
     "prompt_number": 3
=======
     "prompt_number": 2
>>>>>>> b99a7a9d144ce0906b735c5f46294c4c48410515
    },
    {
     "cell_type": "code",
     "collapsed": false,
     "input": [
      "X_scaled"
     ],
     "language": "python",
     "metadata": {},
     "outputs": [
      {
       "metadata": {},
       "output_type": "pyout",
<<<<<<< HEAD
       "prompt_number": 4,
=======
       "prompt_number": 3,
>>>>>>> b99a7a9d144ce0906b735c5f46294c4c48410515
       "text": [
        "array([[ 0.        , -1.22474487,  1.33630621],\n",
        "       [ 1.22474487,  0.        , -0.26726124],\n",
        "       [-1.22474487,  1.22474487, -1.06904497]])"
       ]
      }
     ],
<<<<<<< HEAD
     "prompt_number": 4
=======
     "prompt_number": 3
>>>>>>> b99a7a9d144ce0906b735c5f46294c4c48410515
    },
    {
     "cell_type": "code",
     "collapsed": false,
     "input": [
      "# notice this gives us 0 mean\n",
      "X_scaled.mean(axis=0)"
     ],
     "language": "python",
     "metadata": {},
     "outputs": [
      {
       "metadata": {},
       "output_type": "pyout",
<<<<<<< HEAD
       "prompt_number": 5,
=======
       "prompt_number": 4,
>>>>>>> b99a7a9d144ce0906b735c5f46294c4c48410515
       "text": [
        "array([ 0.,  0.,  0.])"
       ]
      }
     ],
<<<<<<< HEAD
     "prompt_number": 5
=======
     "prompt_number": 4
>>>>>>> b99a7a9d144ce0906b735c5f46294c4c48410515
    },
    {
     "cell_type": "code",
     "collapsed": false,
     "input": [
      "# and unit variance\n",
      "X_scaled.std(axis=0)"
     ],
     "language": "python",
     "metadata": {},
     "outputs": [
      {
       "metadata": {},
       "output_type": "pyout",
<<<<<<< HEAD
       "prompt_number": 6,
=======
       "prompt_number": 5,
>>>>>>> b99a7a9d144ce0906b735c5f46294c4c48410515
       "text": [
        "array([ 1.,  1.,  1.])"
       ]
      }
     ],
<<<<<<< HEAD
     "prompt_number": 6
=======
     "prompt_number": 5
>>>>>>> b99a7a9d144ce0906b735c5f46294c4c48410515
    },
    {
     "cell_type": "code",
     "collapsed": false,
     "input": [
      "scaler = preprocessing.StandardScaler().fit(X)\n",
      "print scaler                                     \n",
      "scaler.transform(X) "
     ],
     "language": "python",
     "metadata": {},
     "outputs": [
      {
       "output_type": "stream",
       "stream": "stdout",
       "text": [
        "StandardScaler(copy=True, with_mean=True, with_std=True)\n"
       ]
      },
      {
       "metadata": {},
       "output_type": "pyout",
<<<<<<< HEAD
       "prompt_number": 7,
=======
       "prompt_number": 6,
>>>>>>> b99a7a9d144ce0906b735c5f46294c4c48410515
       "text": [
        "array([[ 0.        , -1.22474487,  1.33630621],\n",
        "       [ 1.22474487,  0.        , -0.26726124],\n",
        "       [-1.22474487,  1.22474487, -1.06904497]])"
       ]
      }
     ],
<<<<<<< HEAD
     "prompt_number": 7
=======
     "prompt_number": 6
>>>>>>> b99a7a9d144ce0906b735c5f46294c4c48410515
    },
    {
     "cell_type": "code",
     "collapsed": false,
     "input": [
      "# we can apply our scaling transform on new data\n",
      "scaler.transform([[-1.,  1., 0.]])  "
     ],
     "language": "python",
     "metadata": {},
     "outputs": [
      {
       "metadata": {},
       "output_type": "pyout",
<<<<<<< HEAD
       "prompt_number": 8,
=======
       "prompt_number": 7,
>>>>>>> b99a7a9d144ce0906b735c5f46294c4c48410515
       "text": [
        "array([[-2.44948974,  1.22474487, -0.26726124]])"
       ]
      }
     ],
<<<<<<< HEAD
     "prompt_number": 8
=======
     "prompt_number": 7
    },
    {
     "cell_type": "code",
     "collapsed": false,
     "input": [],
     "language": "python",
     "metadata": {},
     "outputs": []
>>>>>>> b99a7a9d144ce0906b735c5f46294c4c48410515
    },
    {
     "cell_type": "markdown",
     "metadata": {},
     "source": [
      "#Binarizing\n",
      "You will often want to take a continous value and turn it into a binary."
     ]
    },
    {
     "cell_type": "code",
     "collapsed": false,
     "input": [
      "X"
     ],
     "language": "python",
     "metadata": {},
     "outputs": [
      {
       "metadata": {},
       "output_type": "pyout",
       "prompt_number": 8,
       "text": [
        "array([[ 1., -1.,  2.],\n",
        "       [ 2.,  0.,  0.],\n",
        "       [ 0.,  1., -1.]])"
       ]
      }
     ],
     "prompt_number": 8
    },
    {
     "cell_type": "code",
     "collapsed": false,
     "input": [
      "binarizer = preprocessing.Binarizer(threshold=1.1)\n",
      "binarizer.transform(X)"
     ],
     "language": "python",
     "metadata": {},
     "outputs": [
      {
       "metadata": {},
       "output_type": "pyout",
       "prompt_number": 9,
       "text": [
        "array([[ 0.,  0.,  1.],\n",
        "       [ 1.,  0.,  0.],\n",
        "       [ 0.,  0.,  0.]])"
       ]
      }
     ],
     "prompt_number": 9
    },
    {
     "cell_type": "markdown",
     "metadata": {},
     "source": [
      "#Categorical Encoding"
     ]
    },
    {
     "cell_type": "markdown",
     "metadata": {},
     "source": [
      "One Hot Encoding - Useful for inputing categorical data into SVM and linear models."
     ]
    },
    {
     "cell_type": "code",
     "collapsed": false,
     "input": [
      "enc = preprocessing.OneHotEncoder()\n",
      "enc.fit([[0, 3, 4], [1, 1, 0], [0, 2, 1], [1, 0, 2]])  \n",
      "enc.transform([[0, 1, 3]]).toarray()"
     ],
     "language": "python",
     "metadata": {},
     "outputs": [
      {
       "metadata": {},
       "output_type": "pyout",
       "prompt_number": 10,
       "text": [
        "array([[ 1.,  0.,  0.,  1.,  0.,  0.,  0.,  0.,  0.,  0.]])"
       ]
      }
     ],
     "prompt_number": 10
    },
    {
     "cell_type": "code",
     "collapsed": false,
     "input": [
      "enc.active_features_"
     ],
     "language": "python",
     "metadata": {},
     "outputs": [
      {
       "metadata": {},
       "output_type": "pyout",
       "prompt_number": 11,
       "text": [
        "array([ 0,  1,  2,  3,  4,  5,  6,  7,  8, 10])"
       ]
      }
     ],
     "prompt_number": 11
    },
    {
     "cell_type": "markdown",
     "metadata": {},
     "source": [
      "Label Encoder"
     ]
    },
    {
     "cell_type": "code",
     "collapsed": false,
     "input": [
      "le = preprocessing.LabelEncoder()\n",
      "le.fit([\"paris\", \"paris\", \"tokyo\", \"amsterdam\"])"
     ],
     "language": "python",
     "metadata": {},
     "outputs": [
      {
       "metadata": {},
       "output_type": "pyout",
       "prompt_number": 12,
       "text": [
        "LabelEncoder()"
       ]
      }
     ],
     "prompt_number": 12
    },
    {
     "cell_type": "code",
     "collapsed": false,
     "input": [
      "le.classes_"
     ],
     "language": "python",
     "metadata": {},
     "outputs": [
      {
       "metadata": {},
       "output_type": "pyout",
<<<<<<< HEAD
       "prompt_number": 13,
=======
       "prompt_number": 14,
>>>>>>> b99a7a9d144ce0906b735c5f46294c4c48410515
       "text": [
        "array(['amsterdam', 'paris', 'tokyo'], \n",
        "      dtype='|S9')"
       ]
      }
     ],
<<<<<<< HEAD
     "prompt_number": 13
=======
     "prompt_number": 14
>>>>>>> b99a7a9d144ce0906b735c5f46294c4c48410515
    },
    {
     "cell_type": "code",
     "collapsed": false,
     "input": [
      "le.transform([\"tokyo\", \"tokyo\", \"paris\"])"
     ],
     "language": "python",
     "metadata": {},
     "outputs": [
      {
       "metadata": {},
       "output_type": "pyout",
<<<<<<< HEAD
       "prompt_number": 14,
=======
       "prompt_number": 15,
>>>>>>> b99a7a9d144ce0906b735c5f46294c4c48410515
       "text": [
        "array([2, 2, 1])"
       ]
      }
     ],
<<<<<<< HEAD
     "prompt_number": 14
=======
     "prompt_number": 15
>>>>>>> b99a7a9d144ce0906b735c5f46294c4c48410515
    },
    {
     "cell_type": "code",
     "collapsed": false,
     "input": [
      "le.inverse_transform([2, 2, 1])"
     ],
     "language": "python",
     "metadata": {},
     "outputs": [
      {
       "metadata": {},
       "output_type": "pyout",
<<<<<<< HEAD
       "prompt_number": 15,
=======
       "prompt_number": 16,
>>>>>>> b99a7a9d144ce0906b735c5f46294c4c48410515
       "text": [
        "array(['tokyo', 'tokyo', 'paris'], \n",
        "      dtype='|S9')"
       ]
      }
     ],
<<<<<<< HEAD
     "prompt_number": 15
=======
     "prompt_number": 16
>>>>>>> b99a7a9d144ce0906b735c5f46294c4c48410515
    },
    {
     "cell_type": "markdown",
     "metadata": {},
     "source": [
      "Dict Vectorizer"
     ]
    },
    {
     "cell_type": "code",
     "collapsed": false,
     "input": [
      "D = [{'foo': 1, 'bar': 2}, \n",
      "     {'foo': 3, 'baz': 1}]"
     ],
     "language": "python",
     "metadata": {},
     "outputs": [],
<<<<<<< HEAD
     "prompt_number": 16
=======
     "prompt_number": 17
    },
    {
     "cell_type": "code",
     "collapsed": false,
     "input": [
      "D"
     ],
     "language": "python",
     "metadata": {},
     "outputs": [
      {
       "metadata": {},
       "output_type": "pyout",
       "prompt_number": 18,
       "text": [
        "[{'bar': 2, 'foo': 1}, {'baz': 1, 'foo': 3}]"
       ]
      }
     ],
     "prompt_number": 18
>>>>>>> b99a7a9d144ce0906b735c5f46294c4c48410515
    },
    {
     "cell_type": "code",
     "collapsed": false,
     "input": [
      "pd.DataFrame.from_records(D)"
     ],
     "language": "python",
     "metadata": {},
     "outputs": [
      {
       "html": [
        "<div style=\"max-height:1000px;max-width:1500px;overflow:auto;\">\n",
        "<table border=\"1\" class=\"dataframe\">\n",
        "  <thead>\n",
        "    <tr style=\"text-align: right;\">\n",
        "      <th></th>\n",
        "      <th>bar</th>\n",
        "      <th>baz</th>\n",
        "      <th>foo</th>\n",
        "    </tr>\n",
        "  </thead>\n",
        "  <tbody>\n",
        "    <tr>\n",
        "      <th>0</th>\n",
        "      <td>  2</td>\n",
        "      <td>NaN</td>\n",
        "      <td> 1</td>\n",
        "    </tr>\n",
        "    <tr>\n",
        "      <th>1</th>\n",
        "      <td>NaN</td>\n",
        "      <td>  1</td>\n",
        "      <td> 3</td>\n",
        "    </tr>\n",
        "  </tbody>\n",
        "</table>\n",
        "</div>"
       ],
       "metadata": {},
       "output_type": "pyout",
<<<<<<< HEAD
       "prompt_number": 17,
=======
       "prompt_number": 19,
>>>>>>> b99a7a9d144ce0906b735c5f46294c4c48410515
       "text": [
        "   bar  baz  foo\n",
        "0    2  NaN    1\n",
        "1  NaN    1    3"
       ]
      }
     ],
<<<<<<< HEAD
     "prompt_number": 17
=======
     "prompt_number": 19
>>>>>>> b99a7a9d144ce0906b735c5f46294c4c48410515
    },
    {
     "cell_type": "code",
     "collapsed": false,
     "input": [
      "from sklearn.feature_extraction import DictVectorizer\n",
      "v = DictVectorizer(sparse=False)\n",
      "XX = v.fit_transform(D)"
     ],
     "language": "python",
     "metadata": {},
     "outputs": [],
<<<<<<< HEAD
     "prompt_number": 18
=======
     "prompt_number": 20
>>>>>>> b99a7a9d144ce0906b735c5f46294c4c48410515
    },
    {
     "cell_type": "code",
     "collapsed": false,
     "input": [
      "XX"
     ],
     "language": "python",
     "metadata": {},
     "outputs": [
      {
       "metadata": {},
       "output_type": "pyout",
<<<<<<< HEAD
       "prompt_number": 19,
=======
       "prompt_number": 21,
>>>>>>> b99a7a9d144ce0906b735c5f46294c4c48410515
       "text": [
        "array([[ 2.,  0.,  1.],\n",
        "       [ 0.,  1.,  3.]])"
       ]
      }
     ],
<<<<<<< HEAD
     "prompt_number": 19
=======
     "prompt_number": 21
>>>>>>> b99a7a9d144ce0906b735c5f46294c4c48410515
    },
    {
     "cell_type": "code",
     "collapsed": false,
     "input": [
      "v.inverse_transform(XX) ==  [{'bar': 2.0, 'foo': 1.0}, {'baz': 1.0, 'foo': 3.0}]"
     ],
     "language": "python",
     "metadata": {},
     "outputs": [
      {
       "metadata": {},
       "output_type": "pyout",
<<<<<<< HEAD
       "prompt_number": 20,
=======
       "prompt_number": 22,
>>>>>>> b99a7a9d144ce0906b735c5f46294c4c48410515
       "text": [
        "True"
       ]
      }
     ],
<<<<<<< HEAD
     "prompt_number": 20
=======
     "prompt_number": 22
>>>>>>> b99a7a9d144ce0906b735c5f46294c4c48410515
    },
    {
     "cell_type": "code",
     "collapsed": false,
     "input": [
      "v.transform({'foo': 4, 'unseen_feature': 3})"
     ],
     "language": "python",
     "metadata": {},
     "outputs": [
      {
       "metadata": {},
       "output_type": "pyout",
<<<<<<< HEAD
       "prompt_number": 21,
=======
       "prompt_number": 23,
>>>>>>> b99a7a9d144ce0906b735c5f46294c4c48410515
       "text": [
        "array([[ 0.,  0.,  4.]])"
       ]
      }
     ],
<<<<<<< HEAD
     "prompt_number": 21
=======
     "prompt_number": 23
>>>>>>> b99a7a9d144ce0906b735c5f46294c4c48410515
    },
    {
     "cell_type": "code",
     "collapsed": false,
     "input": [],
     "language": "python",
     "metadata": {},
     "outputs": []
    }
   ],
   "metadata": {}
  }
 ]
}