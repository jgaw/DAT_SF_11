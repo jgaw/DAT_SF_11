{
 "metadata": {
  "name": "",
  "signature": "sha256:bfa3bc8f9ff6c59adda6b93d19e10b6ed704e2ccaae3bea189a3f15446e00dac"
 },
 "nbformat": 3,
 "nbformat_minor": 0,
 "worksheets": [
  {
   "cells": [
    {
     "cell_type": "code",
     "collapsed": false,
     "input": [
      "import sys\n",
      "import pandas as pd\n",
      "import numpy as np\n",
      "import matplotlib as mpl\n",
      "import matplotlib.pyplot as plt\n",
      "from sklearn.cross_validation import train_test_split\n",
      "from sklearn.grid_search import GridSearchCV\n",
      "from sklearn.linear_model import LogisticRegression\n",
      "from sklearn.svm import SVC\n",
      "from sklearn.pipeline import make_pipeline\n",
      "from sklearn.preprocessing import Imputer\n",
      "from sklearn.metrics import confusion_matrix, classification_report\n",
      "import seaborn as sns\n",
      "\n",
      "%matplotlib inline\n",
      "\n",
      "# Limit rows displayed in notebook\n",
      "pd.set_option('display.max_rows', 10)\n",
      "pd.set_option('display.precision', 8)"
     ],
     "language": "python",
     "metadata": {},
     "outputs": []
    },
    {
     "cell_type": "code",
     "collapsed": false,
     "input": [
      "print 'Pandas Version: ', pd.__version__\n",
      "print 'Numpy Version: ', np.__version__\n",
      "print 'Python Version: ', sys.version"
     ],
     "language": "python",
     "metadata": {},
     "outputs": []
    },
    {
     "cell_type": "code",
     "collapsed": false,
     "input": [
      "df = pd.read_csv('../../data/crx.data', header = None)\n"
     ],
     "language": "python",
     "metadata": {},
     "outputs": []
    },
    {
     "cell_type": "code",
     "collapsed": false,
     "input": [
      "df[df.values=='?']"
     ],
     "language": "python",
     "metadata": {},
     "outputs": []
    },
    {
     "cell_type": "code",
     "collapsed": false,
     "input": [
      "df.info()"
     ],
     "language": "python",
     "metadata": {},
     "outputs": []
    },
    {
     "cell_type": "code",
     "collapsed": false,
     "input": [
      "#replace ? with nan\n",
      "df.replace('?', np.nan, inplace = True)\n",
      "df[1] = df[1].astype(np.float)\n",
      "df[13]=df[13].astype(np.float)\n",
      "\n",
      "#rename columns with information from metadata\n",
      "df.columns = ['a1', 'a2', 'a3', 'a4', 'a5', 'a6', 'a7', 'a8', 'a9', 'a10', 'a11', 'a12', 'a13', 'a14', 'a15', 'a16']"
     ],
     "language": "python",
     "metadata": {},
     "outputs": []
    },
    {
     "cell_type": "code",
     "collapsed": false,
     "input": [
      "#split train and test\n",
      "rows = np.random.choice(df.index.values, .2*len(df.index))\n",
      "dftest = df.ix[rows]\n",
      "dftrain = df.drop(rows)"
     ],
     "language": "python",
     "metadata": {},
     "outputs": []
    },
    {
     "cell_type": "code",
     "collapsed": false,
     "input": [
      "#convert y into 1 and 0\n",
      "def converter(category):\n",
      "    conv = {}\n",
      "    conv['+'] = 1\n",
      "    conv['-'] = 0\n",
      "    return conv[category]\n",
      "dftrain['a17'] = dftrain.a16.map(converter)"
     ],
     "language": "python",
     "metadata": {},
     "outputs": []
    },
    {
     "cell_type": "code",
     "collapsed": false,
     "input": [
      "#histograms of continuous_columns by y\n",
      "continuous_columns = ['a2','a3','a8','a11','a14','a15']\n",
      "\n",
      "for i in continuous_columns:\n",
      "    dftrain[i].hist(by=dftrain.a17,sharey=True, bins=20, figsize=(10,3))\n"
     ],
     "language": "python",
     "metadata": {},
     "outputs": []
    },
    {
     "cell_type": "code",
     "collapsed": false,
     "input": [
      "#bars of categorical_columns as a proportion of y variables\n",
      "categorical_columns = ['a1','a4','a5','a6','a7','a8','a9','a10','a12','a13']\n",
      "\n",
      "for i in categorical_columns:\n",
      "    dftrain.groupby(i).a17.agg(['mean']).plot(kind='bar',legend=False)"
     ],
     "language": "python",
     "metadata": {},
     "outputs": []
    },
    {
     "cell_type": "code",
     "collapsed": false,
     "input": [
      "#fill in continous_columns with random N(mean,sd)\n",
      "continuous_columns = ['a2','a3','a8','a11','a14','a15']\n",
      "def impute_continuous_values(mean, sd, n):\n",
      "    return np.random.normal(mean, sd, n)\n",
      "\n",
      "for i in continuous_columns:\n",
      "    dftrain.loc[dftrain[i].isnull(), i] = impute_continuous_values(dftrain[i].mean(), \n",
      "                                                                   dftrain[i].std(), \n",
      "                                                                   len(dftrain[dftrain[i].isnull()].index))"
     ],
     "language": "python",
     "metadata": {},
     "outputs": []
    },
    {
     "cell_type": "code",
     "collapsed": false,
     "input": [
      "#class that imputes categorical variables with most frequent values and imputes continuous variables with mean\n",
      "from sklearn.base import TransformerMixin\n",
      "\n",
      "class DataFrameImputer(TransformerMixin):\n",
      "    def __init__(self):\n",
      "        \"\"\"\n",
      "        Impute missing values.\n",
      "        Columns of dtype object are imputed with the most frequent value \n",
      "        in column.\n",
      "        Columns of other types are imputed with mean of column.\n",
      "        \"\"\"\n",
      "    \n",
      "    def fit(self, X, y=None):\n",
      "        self.fill = pd.Series([X[c].value_counts().index[0]\n",
      "            if X[c].dtype == np.dtype('O') else X[c].mean() for c in X],\n",
      "            index=X.columns)\n",
      "        return self\n",
      "    \n",
      "    def transform(self, X, y=None):\n",
      "        return X.fillna(self.fill)\n",
      "    "
     ],
     "language": "python",
     "metadata": {},
     "outputs": []
    },
    {
     "cell_type": "code",
     "collapsed": false,
     "input": [
      "X_traindf = dftrain.ix[:,:15]\n",
      "X_traindf = pd.get_dummies(DataFrameImputer().fit_transform(X_traindf))\n",
      "X_train = X_traindf.values\n",
      "\n",
      "y_train= dftrain.a17.values"
     ],
     "language": "python",
     "metadata": {},
     "outputs": []
    },
    {
     "cell_type": "code",
     "collapsed": false,
     "input": [
      "params = {'penalty':['l1','l2'],\n",
      "          'C':np.logspace(-3,3,100)}\n",
      "\n",
      "log_est = GridSearchCV(LogisticRegression(),params, n_jobs=-1)\n"
     ],
     "language": "python",
     "metadata": {},
     "outputs": []
    },
    {
     "cell_type": "code",
     "collapsed": false,
     "input": [
      "log_est.fit(X_train,y_train)"
     ],
     "language": "python",
     "metadata": {},
     "outputs": []
    },
    {
     "cell_type": "code",
     "collapsed": false,
     "input": [
      "log_est.best_params_"
     ],
     "language": "python",
     "metadata": {},
     "outputs": []
    },
    {
     "cell_type": "code",
     "collapsed": false,
     "input": [
      "log_est.score(X_test,y_test)"
     ],
     "language": "python",
     "metadata": {},
     "outputs": []
    },
    {
     "cell_type": "code",
     "collapsed": false,
     "input": [
      "#fill in categorical_columns in test set that are missing due to small sample size\n",
      "for i in continuous_columns:\n",
      "    dftest.loc[dftest[i].isnull(), i] = impute_continuous_values(dftest[i].mean(), \n",
      "                                                                   dftest[i].std(), \n",
      "                                                                   len(dftest[dftest[i].isnull()].index))\n",
      "X_test = dftest.ix[:,:15]\n",
      "X_test = pd.get_dummies(DataFrameImputer().fit_transform(X_test))\n",
      "\n",
      "for i in X_traindf.columns.values:\n",
      "    if i not in X_test.columns.values:\n",
      "        X_test[i] = 0\n",
      "\n",
      "X_test = X_test.values\n",
      "\n",
      "dftest['a17'] = dftest.a16.map(converter)\n",
      "y_test= dftest.a17.values"
     ],
     "language": "python",
     "metadata": {},
     "outputs": []
    },
    {
     "cell_type": "code",
     "collapsed": false,
     "input": [
      "y_pred = log_est.predict(X_test)"
     ],
     "language": "python",
     "metadata": {},
     "outputs": []
    },
    {
     "cell_type": "code",
     "collapsed": false,
     "input": [
      "cm = confusion_matrix(y_test, y_pred)\n",
      "print(cm)\n",
      "\n",
      "# Show confusion matrix in a separate window\n",
      "plt.matshow(cm)\n",
      "plt.title('Confusion matrix')\n",
      "plt.colorbar()\n",
      "plt.ylabel('True label')\n",
      "plt.xlabel('Predicted label')\n",
      "plt.show()"
     ],
     "language": "python",
     "metadata": {},
     "outputs": []
    },
    {
     "cell_type": "code",
     "collapsed": false,
     "input": [
      "print classification_report(y_test, y_pred)"
     ],
     "language": "python",
     "metadata": {},
     "outputs": []
    },
    {
     "cell_type": "code",
     "collapsed": false,
     "input": [
      "sns.regplot(y_pred, y_test, x_jitter=0.1, y_jitter=0.1)"
     ],
     "language": "python",
     "metadata": {},
     "outputs": []
    },
    {
     "cell_type": "code",
     "collapsed": false,
     "input": [
      "param_grid = {'C': np.logspace(-3,3,110),'kernel': ['rbf'], 'gamma':np.logspace(-3,3,10}\n",
      "\n",
      "svm_est = GridSearchCV(SVC(), param_grid, n_jobs=-1)"
     ],
     "language": "python",
     "metadata": {},
     "outputs": []
    },
    {
     "cell_type": "code",
     "collapsed": false,
     "input": [
      "svm_est.fit(X_train,y_train)"
     ],
     "language": "python",
     "metadata": {},
     "outputs": []
    },
    {
     "cell_type": "code",
     "collapsed": false,
     "input": [
      "svm_est.best_params_"
     ],
     "language": "python",
     "metadata": {},
     "outputs": []
    },
    {
     "cell_type": "code",
     "collapsed": false,
     "input": [
      "y_pred = svm_est.predict(X_test)"
     ],
     "language": "python",
     "metadata": {},
     "outputs": []
    },
    {
     "cell_type": "code",
     "collapsed": false,
     "input": [
      "confusion_matrix(y_test, y_pred)\n",
      "\n",
      "cm = confusion_matrix(y_test, y_pred)\n",
      "print(cm)\n",
      "\n",
      "# Show confusion matrix in a separate window\n",
      "plt.matshow(cm)\n",
      "plt.title('Confusion matrix')\n",
      "plt.colorbar()\n",
      "plt.ylabel('True label')\n",
      "plt.xlabel('Predicted label')\n",
      "plt.show()"
     ],
     "language": "python",
     "metadata": {},
     "outputs": []
    },
    {
     "cell_type": "code",
     "collapsed": false,
     "input": [
      "print classification_report(y_test, y_pred)"
     ],
     "language": "python",
     "metadata": {},
     "outputs": []
    },
    {
     "cell_type": "code",
     "collapsed": false,
     "input": [
      "sns.regplot(y_pred, y_test, x_jitter=0.1, y_jitter=0.1)"
     ],
     "language": "python",
     "metadata": {},
     "outputs": []
    },
    {
     "cell_type": "code",
     "collapsed": false,
     "input": [],
     "language": "python",
     "metadata": {},
     "outputs": []
    }
   ],
   "metadata": {}
  }
 ]
}