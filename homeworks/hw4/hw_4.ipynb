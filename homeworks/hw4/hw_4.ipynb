{
 "metadata": {
  "name": "",
  "signature": "sha256:6958288aca32b40e607ab60a9b25d19d18822ac608186ac71652df3c12679fc7"
 },
 "nbformat": 3,
 "nbformat_minor": 0,
 "worksheets": [
  {
   "cells": [
    {
     "cell_type": "markdown",
     "metadata": {},
     "source": [
      "## Homework 4:\n",
      "\n",
      "1. Follow the steps below to:\n",
      "    - Read `wine.csv` in the data folder.\n",
      "    - The First Column contains the Wine Category.  Don't use it in the models below.  We are going to treat it as unsupervized learning and compare the results to the Wine column.\n",
      "2. Try `KMeans` where `n_clusters = 3` and compare the clusters to the `Wine` column.\n",
      "3. Try PCA and see how much can you reduce the variable space.\n",
      "    - How many Components did you need to explain 99% of variance in this dataset?\n",
      "    - Plot the PCA variables to see if it brings out the clusters.\n",
      "5. Try `KMeans` and Hierarchical Clustering using data from PCA and compare again the clusters to the `Wine` column."
     ]
    },
    {
     "cell_type": "markdown",
     "metadata": {},
     "source": [
      "#### Dataset\n",
      "\n",
      "wine.csv is in data folder under homeworks"
     ]
    },
    {
     "cell_type": "code",
     "collapsed": false,
     "input": [
      "!pwd\n",
      "\n",
      "import pandas as pd\n",
      "import numpy as np"
     ],
     "language": "python",
     "metadata": {},
     "outputs": [
      {
       "output_type": "stream",
       "stream": "stdout",
       "text": [
        "/Users/jeremiah/Dropbox/DAT_SF_11/homeworks/hw4\r\n"
       ]
      }
     ],
     "prompt_number": 5
    },
    {
     "cell_type": "code",
     "collapsed": false,
     "input": [
      "df = pd.read_csv('../data/wine.csv')\n",
      "df.drop()"
     ],
     "language": "python",
     "metadata": {},
     "outputs": [
      {
       "html": [
        "<div style=\"max-height:1000px;max-width:1500px;overflow:auto;\">\n",
        "<table border=\"1\" class=\"dataframe\">\n",
        "  <thead>\n",
        "    <tr style=\"text-align: right;\">\n",
        "      <th></th>\n",
        "      <th>Wine</th>\n",
        "      <th>Alcohol</th>\n",
        "      <th>Malic.acid</th>\n",
        "      <th>Ash</th>\n",
        "      <th>Acl</th>\n",
        "      <th>Mg</th>\n",
        "      <th>Phenols</th>\n",
        "      <th>Flavanoids</th>\n",
        "      <th>Nonflavanoid.phenols</th>\n",
        "      <th>Proanth</th>\n",
        "      <th>Color.int</th>\n",
        "      <th>Hue</th>\n",
        "      <th>OD</th>\n",
        "      <th>Proline</th>\n",
        "    </tr>\n",
        "  </thead>\n",
        "  <tbody>\n",
        "    <tr>\n",
        "      <th>0</th>\n",
        "      <td> 1</td>\n",
        "      <td> 14.23</td>\n",
        "      <td> 1.71</td>\n",
        "      <td> 2.43</td>\n",
        "      <td> 15.6</td>\n",
        "      <td> 127</td>\n",
        "      <td> 2.80</td>\n",
        "      <td> 3.06</td>\n",
        "      <td> 0.28</td>\n",
        "      <td> 2.29</td>\n",
        "      <td> 5.64</td>\n",
        "      <td> 1.04</td>\n",
        "      <td> 3.92</td>\n",
        "      <td> 1065</td>\n",
        "    </tr>\n",
        "    <tr>\n",
        "      <th>1</th>\n",
        "      <td> 1</td>\n",
        "      <td> 13.20</td>\n",
        "      <td> 1.78</td>\n",
        "      <td> 2.14</td>\n",
        "      <td> 11.2</td>\n",
        "      <td> 100</td>\n",
        "      <td> 2.65</td>\n",
        "      <td> 2.76</td>\n",
        "      <td> 0.26</td>\n",
        "      <td> 1.28</td>\n",
        "      <td> 4.38</td>\n",
        "      <td> 1.05</td>\n",
        "      <td> 3.40</td>\n",
        "      <td> 1050</td>\n",
        "    </tr>\n",
        "    <tr>\n",
        "      <th>2</th>\n",
        "      <td> 1</td>\n",
        "      <td> 13.16</td>\n",
        "      <td> 2.36</td>\n",
        "      <td> 2.67</td>\n",
        "      <td> 18.6</td>\n",
        "      <td> 101</td>\n",
        "      <td> 2.80</td>\n",
        "      <td> 3.24</td>\n",
        "      <td> 0.30</td>\n",
        "      <td> 2.81</td>\n",
        "      <td> 5.68</td>\n",
        "      <td> 1.03</td>\n",
        "      <td> 3.17</td>\n",
        "      <td> 1185</td>\n",
        "    </tr>\n",
        "    <tr>\n",
        "      <th>3</th>\n",
        "      <td> 1</td>\n",
        "      <td> 14.37</td>\n",
        "      <td> 1.95</td>\n",
        "      <td> 2.50</td>\n",
        "      <td> 16.8</td>\n",
        "      <td> 113</td>\n",
        "      <td> 3.85</td>\n",
        "      <td> 3.49</td>\n",
        "      <td> 0.24</td>\n",
        "      <td> 2.18</td>\n",
        "      <td> 7.80</td>\n",
        "      <td> 0.86</td>\n",
        "      <td> 3.45</td>\n",
        "      <td> 1480</td>\n",
        "    </tr>\n",
        "    <tr>\n",
        "      <th>4</th>\n",
        "      <td> 1</td>\n",
        "      <td> 13.24</td>\n",
        "      <td> 2.59</td>\n",
        "      <td> 2.87</td>\n",
        "      <td> 21.0</td>\n",
        "      <td> 118</td>\n",
        "      <td> 2.80</td>\n",
        "      <td> 2.69</td>\n",
        "      <td> 0.39</td>\n",
        "      <td> 1.82</td>\n",
        "      <td> 4.32</td>\n",
        "      <td> 1.04</td>\n",
        "      <td> 2.93</td>\n",
        "      <td>  735</td>\n",
        "    </tr>\n",
        "  </tbody>\n",
        "</table>\n",
        "</div>"
       ],
       "metadata": {},
       "output_type": "pyout",
       "prompt_number": 4,
       "text": [
        "   Wine  Alcohol  Malic.acid   Ash   Acl   Mg  Phenols  Flavanoids  \\\n",
        "0     1    14.23        1.71  2.43  15.6  127     2.80        3.06   \n",
        "1     1    13.20        1.78  2.14  11.2  100     2.65        2.76   \n",
        "2     1    13.16        2.36  2.67  18.6  101     2.80        3.24   \n",
        "3     1    14.37        1.95  2.50  16.8  113     3.85        3.49   \n",
        "4     1    13.24        2.59  2.87  21.0  118     2.80        2.69   \n",
        "\n",
        "   Nonflavanoid.phenols  Proanth  Color.int   Hue    OD  Proline  \n",
        "0                  0.28     2.29       5.64  1.04  3.92     1065  \n",
        "1                  0.26     1.28       4.38  1.05  3.40     1050  \n",
        "2                  0.30     2.81       5.68  1.03  3.17     1185  \n",
        "3                  0.24     2.18       7.80  0.86  3.45     1480  \n",
        "4                  0.39     1.82       4.32  1.04  2.93      735  "
       ]
      }
     ],
     "prompt_number": 4
    },
    {
     "cell_type": "code",
     "collapsed": false,
     "input": [],
     "language": "python",
     "metadata": {},
     "outputs": []
    }
   ],
   "metadata": {}
  }
 ]
}