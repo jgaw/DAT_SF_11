{
 "metadata": {
  "name": "",
  "signature": "sha256:127254fe2ab16870fae9ea01fea52ab82c19d9591bf3a3a512fa6afa4b2a6b95"
 },
 "nbformat": 3,
 "nbformat_minor": 0,
 "worksheets": [
  {
   "cells": [
    {
     "cell_type": "markdown",
     "metadata": {},
     "source": [
      "#HW 3: KNN & Random Forest\n",
      "Get your data [here](https://archive.ics.uci.edu/ml/datasets/Bank+Marketing). The data is related with direct marketing campaigns of a Portuguese banking institution. The marketing campaigns were based on phone calls. Often, more than one contact to the same client was required, in order to access if the product (bank term deposit) would be ('yes') or not ('no') subscribed. There are four datasets:\n",
      "\n",
      "1) bank-additional-full.csv with all examples (41188) and 20 inputs, ordered by date (from May 2008 to November 2010)\n",
      "\n",
      "2) bank-additional.csv with 10% of the examples (4119), randomly selected from 1), and 20 inputs.\n",
      "\n",
      "3) bank-full.csv with all examples and 17 inputs, ordered by date (older version of this dataset with less inputs). \n",
      "\n",
      "4) bank.csv with 10% of the examples and 17 inputs, randomly selected from 3 (older version of this dataset with less inputs). \n",
      "\n",
      "The smallest datasets are provided to test more computationally demanding machine \n",
      "learning algorithms (e.g., SVM). \n",
      "\n",
      "The classification goal is to predict if the client will subscribe (yes/no) a term deposit (variable y)."
     ]
    },
    {
     "cell_type": "markdown",
     "metadata": {},
     "source": [
      "##Assignment\n",
      "* Preprocess your data (you may find `LabelEncoder` useful)\n",
      "* Train both KNN and Random Forest models\n",
      "* Find the best parameters by computing their learning curve (feel free to verify this with grid search)\n",
      "* Create a clasification report\n",
      "* Inspect your models, what features are most important? How might you use this information to improve model precision?\n"
     ]
    },
    {
     "cell_type": "code",
     "collapsed": false,
     "input": [
      "import pandas as pd\n",
      "import numpy as np\n",
      "import matplotlib.pyplot as plt\n",
      "from sklearn.ensemble import RandomForestClassifier as RF\n",
      "from sklearn.neighbors import KNeighborsClassifier as KNN\n",
      "from sklearn import preprocessing\n",
      "from sklearn import metrics\n",
      "from sklearn.cross_validation import train_test_split\n",
      "from sklearn.metrics import confusion_matrix, classification_report\n",
      "from sklearn.grid_search import GridSearchCV\n",
      "\n",
      "\n",
      "%matplotlib inline"
     ],
     "language": "python",
     "metadata": {},
     "outputs": [],
     "prompt_number": 26
    },
    {
     "cell_type": "code",
     "collapsed": false,
     "input": [
      "!pwd"
     ],
     "language": "python",
     "metadata": {},
     "outputs": [
      {
       "output_type": "stream",
       "stream": "stdout",
       "text": [
        "/Users/jeremiah/Dropbox/DAT_SF_11/homeworks/hw3\r\n"
       ]
      }
     ],
     "prompt_number": 2
    },
    {
     "cell_type": "code",
     "collapsed": false,
     "input": [
      "bank_additional_full_df = pd.read_csv('../../../DATA/bank-additional/bank-additional-full.csv', sep = ';')"
     ],
     "language": "python",
     "metadata": {},
     "outputs": [],
     "prompt_number": 22
    },
    {
     "cell_type": "code",
     "collapsed": false,
     "input": [
      "bank_additional_full_df.info()"
     ],
     "language": "python",
     "metadata": {},
     "outputs": [
      {
       "output_type": "stream",
       "stream": "stdout",
       "text": [
        "<class 'pandas.core.frame.DataFrame'>\n",
        "Int64Index: 41188 entries, 0 to 41187\n",
        "Data columns (total 21 columns):\n",
        "age               41188 non-null int64\n",
        "job               41188 non-null object\n",
        "marital           41188 non-null object\n",
        "education         41188 non-null object\n",
        "default           41188 non-null object\n",
        "housing           41188 non-null object\n",
        "loan              41188 non-null object\n",
        "contact           41188 non-null object\n",
        "month             41188 non-null object\n",
        "day_of_week       41188 non-null object\n",
        "duration          41188 non-null int64\n",
        "campaign          41188 non-null int64\n",
        "pdays             41188 non-null int64\n",
        "previous          41188 non-null int64\n",
        "poutcome          41188 non-null object\n",
        "emp.var.rate      41188 non-null float64\n",
        "cons.price.idx    41188 non-null float64\n",
        "cons.conf.idx     41188 non-null float64\n",
        "euribor3m         41188 non-null float64\n",
        "nr.employed       41188 non-null float64\n",
        "y                 41188 non-null object\n",
        "dtypes: float64(5), int64(5), object(11)\n",
        "memory usage: 6.9+ MB\n"
       ]
      }
     ],
     "prompt_number": 23
    },
    {
     "cell_type": "code",
     "collapsed": false,
     "input": [
      "label_columns = ['job', \n",
      "                 'marital',\n",
      "                 'education',\n",
      "                 'default', \n",
      "                 'housing', \n",
      "                 'loan', \n",
      "                 'contact', \n",
      "                 'month',\n",
      "                 'day_of_week', \n",
      "                 'poutcome', \n",
      "                 'y']"
     ],
     "language": "python",
     "metadata": {},
     "outputs": [],
     "prompt_number": 24
    },
    {
     "cell_type": "code",
     "collapsed": false,
     "input": [
      "le = preprocessing.LabelEncoder()\n",
      "\n",
      "for col in label_columns:\n",
      "    bank_additional_full_df[col] = le.fit_transform(bank_additional_full_df[col])"
     ],
     "language": "python",
     "metadata": {},
     "outputs": [],
     "prompt_number": 25
    },
    {
     "cell_type": "code",
     "collapsed": false,
     "input": [
      "X = bank_additional_full_df.drop('y', axis = 1).values\n",
      "y = bank_additional_full_df.y.values\n",
      "X_train, X_test, y_train, y_test = train_test_split(X, y, test_size = .2)"
     ],
     "language": "python",
     "metadata": {},
     "outputs": []
    },
    {
     "cell_type": "code",
     "collapsed": false,
     "input": [
      "%%time\n",
      "\n",
      "est = KNN(n_neighbors = 2, algorithm = \"kd_tree\")\n",
      "est.fit(X_train, y_train)\n",
      "y_pred = est.predict(X_test)\n",
      "\n",
      "print 'Score: ', clf.score(X_test, y_test)\n",
      "print\n",
      "print 'Confusion Matrix: '\n",
      "print confusion_matrix(y_test, y_pred)\n",
      "print\n",
      "print classification_report(y_test, y_pred)\n",
      "from sklearn.metrics import confusion_matrix\n",
      "\n",
      "def plot_confusion_matrix(y_pred, y):\n",
      "    plt.imshow(confusion_matrix(y, y_pred),\n",
      "               cmap=plt.cm.binary, interpolation='nearest')\n",
      "    plt.colorbar()\n",
      "    plt.xlabel('true value')\n",
      "    plt.ylabel('predicted value')"
     ],
     "language": "python",
     "metadata": {},
     "outputs": [
      {
       "output_type": "stream",
       "stream": "stdout",
       "text": [
        "Score:  "
       ]
      },
      {
       "output_type": "stream",
       "stream": "stdout",
       "text": [
        "0.900461277009\n",
        "\n",
        "Confusion Matrix: \n",
        "[[7078  174]\n",
        " [ 708  278]]\n",
        "\n",
        "             precision    recall  f1-score   support\n",
        "\n",
        "          0       0.91      0.98      0.94      7252\n",
        "          1       0.62      0.28      0.39       986\n",
        "\n",
        "avg / total       0.87      0.89      0.87      8238\n",
        "\n",
        "CPU times: user 2.23 s, sys: 23 ms, total: 2.25 s\n",
        "Wall time: 2.39 s\n"
       ]
      }
     ],
     "prompt_number": 65
    },
    {
     "cell_type": "code",
     "collapsed": false,
     "input": [
      "from sklearn.metrics import confusion_matrix\n",
      "\n",
      "def plot_confusion_matrix(y_pred, y):\n",
      "    plt.imshow(confusion_matrix(y, y_pred),\n",
      "               cmap=plt.cm.binary, interpolation='nearest')\n",
      "    plt.colorbar()\n",
      "    plt.xlabel('true value')\n",
      "    plt.ylabel('predicted value')\n",
      "\n",
      "def plot_learning_curve(X_train, y_train, X_test, y_test, n_est=5):\n",
      "    errors_train = []\n",
      "    errors_test = []\n",
      "    for i in range(n_est):\n",
      "        est = RF(n_jobs = -1,n_estimators = i+1)\n",
      "        est.fit(X_train, y_train)\n",
      "        y_pred = est.predict(X_test)\n",
      "        errors_train.append(metrics.mean_squared_error(est.predict(X_train), y_train)) \n",
      "        errors_test.append(metrics.mean_squared_error(y_pred,y_test))\n",
      "    fig, ax = plt.subplots(figsize=(15,10))\n",
      "    ax.plot(range(n_est), errors_train, 'o-', color=\"g\", label='mse_train')\n",
      "    ax.plot(range(n_est), errors_test, 'o-', color=\"r\", label='mse_test')\n",
      "    ax.set_xlabel('n_estimators')\n",
      "    ax.set_ylabel('error')\n",
      "    ax.legend(loc=0)\n",
      "    ax.set_title('Learning Curve of N Estimators')\n",
      "    \n",
      "    print 'Score: ' ,est.score(X_test, y_test)\n",
      "    print 'Confusion Matrix: '\n",
      "    print confusion_matrix(y_pred, y_test)\n",
      "    print\n",
      "    print classification_report(y_pred, y_test)\n",
      "    print \n",
      "    print sorted(zip(est.feature_importances_, bank_additional_full_df.columns),reverse=True)[:10]\n",
      "\n",
      "#sorted(zip(rf_model.feature_importances_, vectorizer.get_feature_names()), reverse=True)[:20]\n",
      "plot_learning_curve(X_train, y_train, X_test, y_test, n_est = 100)"
     ],
     "language": "python",
     "metadata": {},
     "outputs": [
      {
       "output_type": "stream",
       "stream": "stdout",
       "text": [
        "Score:  "
       ]
      },
      {
       "output_type": "stream",
       "stream": "stdout",
       "text": [
        "0.91211459092\n",
        "Confusion Matrix: \n",
        "[[7013  485]\n",
        " [ 239  501]]\n",
        "\n",
        "             precision    recall  f1-score   support\n",
        "\n",
        "          0       0.97      0.94      0.95      7498\n",
        "          1       0.51      0.68      0.58       740\n",
        "\n",
        "avg / total       0.93      0.91      0.92      8238\n",
        "\n",
        "\n",
        "[(0.31665043530492309, 'duration'), (0.10379547253164975, 'euribor3m'), (0.092890982496233607, 'age'), (0.070477245246571882, 'nr.employed'), (0.047725531413916701, 'job'), (0.043650034148100321, 'education'), (0.042572943944636711, 'campaign'), (0.04097509479850521, 'day_of_week'), (0.035687083114935493, 'pdays'), (0.029468263129489369, 'cons.conf.idx')]\n"
       ]
      },
      {
       "metadata": {},
       "output_type": "display_data",
       "png": "[encoded data removed]",
       "text": [
        "<matplotlib.figure.Figure at 0x10d214c10>"
       ]
      }
     ],
     "prompt_number": 66
    },
    {
     "cell_type": "code",
     "collapsed": false,
     "input": [
      "range?"
     ],
     "language": "python",
     "metadata": {},
     "outputs": [],
     "prompt_number": 59
    },
    {
     "cell_type": "code",
     "collapsed": false,
     "input": [],
     "language": "python",
     "metadata": {},
     "outputs": []
    }
   ],
   "metadata": {}
  }
 ]
}