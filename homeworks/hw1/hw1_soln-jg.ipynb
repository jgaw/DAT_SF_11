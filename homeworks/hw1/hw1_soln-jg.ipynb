{
 "metadata": {
  "name": "",
  "signature": "sha256:5850c62b0252ffe78c371ab4725ce7a413f8c7db92eefc76ff61872af960d1d9"
 },
 "nbformat": 3,
 "nbformat_minor": 0,
 "worksheets": [
  {
   "cells": [
    {
     "cell_type": "markdown",
     "metadata": {},
     "source": [
      "#Homework 1 - Data Analysis and Regression\n",
      "In this assignment your challenge is to do some basic analysis for Airbnb. Provided in hw/data/ there are 2 data files, <a href=../data/bookings.csv>bookings.csv</a> and <a href=../data/listings.csv>listings.csv</a>. The objective is to practice data munging and begin our exploration of regression."
     ]
    },
    {
     "cell_type": "code",
     "collapsed": false,
     "input": [
      "# Standard imports for data analysis packages in Python\n",
      "import pandas as pd\n",
      "import numpy as np\n",
      "import seaborn as sns  # for pretty layout of plots\n",
      "import matplotlib.pyplot as plt\n",
      "import matplotlib.lines as mlines\n",
      "import itertools\n",
      "import sklearn as sk\n",
      "from sklearn.cross_validation import train_test_split\n",
      "from sklearn.cross_validation import train_test_split\n",
      "from sklearn.linear_model import LinearRegression\n",
      "from sklearn.pipeline import make_pipeline\n",
      "from sklearn.preprocessing import PolynomialFeatures\n",
      "\n",
      "# This enables inline Plots\n",
      "%matplotlib inline\n",
      "\n",
      "# Limit rows displayed in notebook\n",
      "pd.set_option('display.max_rows', 20)\n",
      "pd.set_option('display.precision', 4)"
     ],
     "language": "python",
     "metadata": {},
     "outputs": []
    },
    {
     "cell_type": "markdown",
     "metadata": {},
     "source": [
      "##Part 1 - Data exploration\n",
      "###First, create 2 data frames: `listings` and `bookings` from their respective data files"
     ]
    },
    {
     "cell_type": "code",
     "collapsed": false,
     "input": [
      "listings = pd.read_csv('../data/listings.csv')\n",
      "bookings = pd.read_csv('../data/bookings.csv',parse_dates = True)\n",
      "\n",
      "bookings['booking_date'] = pd.to_datetime(bookings.booking_date)"
     ],
     "language": "python",
     "metadata": {},
     "outputs": []
    },
    {
     "cell_type": "code",
     "collapsed": false,
     "input": [
      "print listings.info()\n",
      "print bookings.info()"
     ],
     "language": "python",
     "metadata": {},
     "outputs": []
    },
    {
     "cell_type": "markdown",
     "metadata": {},
     "source": [
      "###What is the mean, median and standard deviation of price, person capacity, picture count, description length and tenure of the properties?"
     ]
    },
    {
     "cell_type": "code",
     "collapsed": false,
     "input": [
      "listings.describe()"
     ],
     "language": "python",
     "metadata": {},
     "outputs": []
    },
    {
     "cell_type": "markdown",
     "metadata": {},
     "source": [
      "###What what are the mean price, person capacity, picture count, description length and tenure of the properties grouped by property type?"
     ]
    },
    {
     "cell_type": "code",
     "collapsed": false,
     "input": [
      "listings.groupby(['prop_type'])['price', 'person_capacity', 'picture_count', 'description_length', 'tenure_months'].agg(['mean'])"
     ],
     "language": "python",
     "metadata": {},
     "outputs": []
    },
    {
     "cell_type": "markdown",
     "metadata": {},
     "source": [
      "###Same, but by property type per neighborhood? "
     ]
    },
    {
     "cell_type": "code",
     "collapsed": false,
     "input": [
      "listings.groupby(['prop_type','neighborhood',])['price', 'person_capacity', 'picture_count', 'description_length', 'tenure_months'].mean().sort(['price'], ascending = False)"
     ],
     "language": "python",
     "metadata": {},
     "outputs": []
    },
    {
     "cell_type": "markdown",
     "metadata": {},
     "source": [
      "###Plot daily bookings:"
     ]
    },
    {
     "cell_type": "code",
     "collapsed": false,
     "input": [
      "bookings.booking_date.value_counts().plot(figsize = (20,10))"
     ],
     "language": "python",
     "metadata": {},
     "outputs": []
    },
    {
     "cell_type": "markdown",
     "metadata": {},
     "source": [
      "###Plot the daily bookings per neighborhood (provide a legend)"
     ]
    },
    {
     "cell_type": "code",
     "collapsed": false,
     "input": [
      "bookings_neighborhood = pd.merge(listings, bookings, on='prop_id')\n",
      "bookings_neighborhood = bookings_neighborhood.groupby(['neighborhood','booking_date'])['neighborhood'].agg(['count']).unstack(0)\n",
      "\n",
      "colors = itertools.cycle(['b', 'g', 'r', 'c', 'm', 'y'])\n",
      "markers = itertools.cycle(mlines.Line2D.filled_markers)\n",
      "\n",
      "fig, ax = plt.subplots(1,1)\n",
      "fig.text(.5,.95, \"Daily Bookings by Neighborhood\", fontsize=20, ha='center')\n",
      "fig.set_figwidth(30)\n",
      "fig.set_figheight(15)\n",
      "for neighborhoods in bookings_neighborhood:\n",
      "    y = bookings_neighborhood[bookings_neighborhood[neighborhoods].notnull()][[neighborhoods]]\n",
      "    x = y.index\n",
      "    marker = markers.next()\n",
      "    color = colors.next()\n",
      "    ax.scatter(x,y, marker= marker, s=50,c=color, label= neighborhoods)\n",
      "ax.legend(loc='upper right');\n",
      "ax.set_ylabel('Bookings');"
     ],
     "language": "python",
     "metadata": {},
     "outputs": []
    },
    {
     "cell_type": "markdown",
     "metadata": {},
     "source": [
      "##Part 2 - Develop a data set"
     ]
    },
    {
     "cell_type": "code",
     "collapsed": false,
     "input": [],
     "language": "python",
     "metadata": {},
     "outputs": []
    },
    {
     "cell_type": "markdown",
     "metadata": {},
     "source": [
      "###Add the columns `number_of_bookings` and `booking_rate` (number_of_bookings/tenure_months) to your `listings` data frame"
     ]
    },
    {
     "cell_type": "code",
     "collapsed": false,
     "input": [
      "df = bookings.groupby('prop_id').count().reset_index()\n",
      "df = pd.merge(listings, df, on='prop_id')\n",
      "df.rename(columns={'booking_date': 'number_of_bookings'}, inplace=True)\n",
      "df['booking_rate']= df.number_of_bookings/df.tenure_months\n"
     ],
     "language": "python",
     "metadata": {},
     "outputs": []
    },
    {
     "cell_type": "markdown",
     "metadata": {},
     "source": [
      "###We only want to analyze well established properties, so let's filter out any properties that have a tenure less than 10 months "
     ]
    },
    {
     "cell_type": "code",
     "collapsed": false,
     "input": [
      "df = df[df['tenure_months']>9]"
     ],
     "language": "python",
     "metadata": {},
     "outputs": []
    },
    {
     "cell_type": "markdown",
     "metadata": {},
     "source": [
      "###`prop_type` and `neighborhood` are categorical variables, use `get_dummies()` (http://pandas.pydata.org/pandas-docs/stable/generated/pandas.core.reshape.get_dummies.html) to transform this column of categorical data to many columns of boolean values (after applying this function correctly there should be 1 column for every prop_type and 1 column for every neighborhood category."
     ]
    },
    {
     "cell_type": "code",
     "collapsed": false,
     "input": [
      "df = pd.core.reshape.get_dummies(df, ['prop_type','neighborhood'])"
     ],
     "language": "python",
     "metadata": {},
     "outputs": []
    },
    {
     "cell_type": "markdown",
     "metadata": {},
     "source": [
      "###create test and training sets for your regressors and predictors\n",
      "predictor (y) is `booking_rate`, regressors (X) are everything else, except `prop_id`,`booking_rate`,`prop_type`,`neighborhood` and `number_of_bookings`<br>\n",
      "http://scikit-learn.org/stable/modules/generated/sklearn.cross_validation.train_test_split.html<br>\n",
      "http://pandas.pydata.org/pandas-docs/stable/basics.html#dropping-labels-from-an-axis"
     ]
    },
    {
     "cell_type": "code",
     "collapsed": false,
     "input": [
      "y = df.booking_rate.values\n",
      "X = df.drop(['prop_id','booking_rate','number_of_bookings', 'tenure_months'],axis=1).values\n",
      "\n",
      "X_train, X_test, y_train, y_test = train_test_split(X, y, test_size=0.2, random_state=9)"
     ],
     "language": "python",
     "metadata": {},
     "outputs": []
    },
    {
     "cell_type": "markdown",
     "metadata": {},
     "source": [
      "##Part 3 - Model `booking_rate`"
     ]
    },
    {
     "cell_type": "markdown",
     "metadata": {},
     "source": [
      "###Create a linear regression model of your listings"
     ]
    },
    {
     "cell_type": "code",
     "collapsed": false,
     "input": [
      "lr = LinearRegression()\n",
      "degree = 2\n",
      "est = make_pipeline(PolynomialFeatures(degree),LinearRegression())"
     ],
     "language": "python",
     "metadata": {},
     "outputs": []
    },
    {
     "cell_type": "markdown",
     "metadata": {},
     "source": [
      "###fit your model with your test sets"
     ]
    },
    {
     "cell_type": "code",
     "collapsed": false,
     "input": [
      "regr = est.fit(X_train,y_train)"
     ],
     "language": "python",
     "metadata": {},
     "outputs": []
    },
    {
     "cell_type": "code",
     "collapsed": false,
     "input": [
      "np.shape(y_test)"
     ],
     "language": "python",
     "metadata": {},
     "outputs": []
    },
    {
     "cell_type": "markdown",
     "metadata": {},
     "source": [
      "###report the score\n",
      "http://scikit-learn.org/stable/modules/generated/sklearn.linear_model.LinearRegression.html#sklearn.linear_model.LinearRegression.score\n"
     ]
    },
    {
     "cell_type": "code",
     "collapsed": false,
     "input": [
      "regr.score(X_test, y_test)"
     ],
     "language": "python",
     "metadata": {},
     "outputs": []
    },
    {
     "cell_type": "code",
     "collapsed": false,
     "input": [
      "test_predict = regr.predict(X_test)\n",
      "train_predict = regr.predict(X_train)\n",
      "fig, ax = plt.subplots(1,1)\n",
      "ax.scatter(train_predict, y_train, c='r')\n",
      "ax.scatter(test_predict, y_test)\n",
      "ax.set_xlabel('Predicted Booking Rate');\n",
      "ax.set_ylabel('Actual Booking Rate');"
     ],
     "language": "python",
     "metadata": {},
     "outputs": []
    },
    {
     "cell_type": "markdown",
     "metadata": {},
     "source": [
      "###Interpret the results of the above model:\n",
      "* What does the `score` method do?\n",
      "* What does this tell us about our model?"
     ]
    },
    {
     "cell_type": "markdown",
     "metadata": {},
     "source": [
      "Returns the coefficient of determination R^2 of the prediction.\n",
      "\n",
      "The coefficient R^2 is defined as (1 - u/v), where u is the regression sum of squares ((y_true - y_pred) ** 2).sum() and v is the residual sum of squares ((y_true - y_true.mean()) ** 2).sum(). Best possible score is 1.0, lower values are worse.\n",
      "\n",
      "R^2 shows how well the data fits the model"
     ]
    },
    {
     "cell_type": "markdown",
     "metadata": {},
     "source": [
      "##Optional - Iterate\n",
      "Create an alternative predictor (e.g. monthly revenue) and use the same modeling pattern in Part 3 to  "
     ]
    },
    {
     "cell_type": "code",
     "collapsed": false,
     "input": [
      "df['monthly_revenue'] = df.number_of_bookings*df.price/df.tenure_months"
     ],
     "language": "python",
     "metadata": {},
     "outputs": []
    },
    {
     "cell_type": "code",
     "collapsed": false,
     "input": [
      "y = df.monthly_revenue.values\n",
      "X = df.drop(['prop_id','booking_rate','number_of_bookings', 'tenure_months','monthly_revenue','price'],axis=1).values\n",
      "\n",
      "X_train, X_test, y_train, y_test = train_test_split(X, y, test_size=0.2)"
     ],
     "language": "python",
     "metadata": {},
     "outputs": []
    },
    {
     "cell_type": "code",
     "collapsed": false,
     "input": [
      "regr = est.fit(X_train, y_train)\n",
      "regr.score(X_test, y_test)"
     ],
     "language": "python",
     "metadata": {},
     "outputs": []
    },
    {
     "cell_type": "code",
     "collapsed": false,
     "input": [
      "test_predict = regr.predict(X_test)"
     ],
     "language": "python",
     "metadata": {},
     "outputs": []
    },
    {
     "cell_type": "code",
     "collapsed": false,
     "input": [
      "sum_sq_naive = np.sum((test_predict - y_test.mean())**2)\n",
      "sum_sq_naive"
     ],
     "language": "python",
     "metadata": {},
     "outputs": []
    },
    {
     "cell_type": "code",
     "collapsed": false,
     "input": [
      "test_predict = regr.predict(X_test)\n",
      "train_predict = regr.predict(X_train)\n",
      "fig, ax = plt.subplots(1,1)\n",
      "ax.scatter(train_predict, y_train, c='r')\n",
      "ax.scatter(test_predict, y_test)\n",
      "ax.set_xlabel('Predicted Monthly Revenue');\n",
      "ax.set_ylabel('Actual Monthly Revenue');\n"
     ],
     "language": "python",
     "metadata": {},
     "outputs": []
    }
   ],
   "metadata": {}
  }
 ]
}